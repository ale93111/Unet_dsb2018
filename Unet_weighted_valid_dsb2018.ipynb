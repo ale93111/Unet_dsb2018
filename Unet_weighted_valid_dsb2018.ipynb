{
  "nbformat": 4,
  "nbformat_minor": 0,
  "metadata": {
    "colab": {
      "name": "Unet_weighted_valid_dsb2018.ipynb",
      "version": "0.3.2",
      "provenance": [],
      "collapsed_sections": []
    },
    "kernelspec": {
      "name": "python3",
      "display_name": "Python 3"
    },
    "accelerator": "GPU"
  },
  "cells": [
    {
      "cell_type": "markdown",
      "metadata": {
        "id": "view-in-github",
        "colab_type": "text"
      },
      "source": [
        "[View in Colaboratory](https://colab.research.google.com/github/ale93111/Unet_dsb2018/blob/master/Unet_weighted_valid_dsb2018.ipynb)"
      ]
    },
    {
      "metadata": {
        "id": "4jyO_Z7kSmG4",
        "colab_type": "code",
        "colab": {
          "base_uri": "https://localhost:8080/",
          "height": 105
        },
        "outputId": "342bc89b-0c6f-4dc0-d6f1-da6b60981244"
      },
      "cell_type": "code",
      "source": [
        "!apt-get install -y -qq software-properties-common python-software-properties module-init-tools\n",
        "!add-apt-repository -y ppa:alessandro-strada/ppa 2>&1 > /dev/null\n",
        "!apt-get update -qq 2>&1 > /dev/null\n",
        "!apt-get -y install -qq google-drive-ocamlfuse fuse\n",
        "from google.colab import auth\n",
        "auth.authenticate_user()\n",
        "from oauth2client.client import GoogleCredentials\n",
        "creds = GoogleCredentials.get_application_default()\n",
        "import getpass\n",
        "!google-drive-ocamlfuse -headless -id={creds.client_id} -secret={creds.client_secret} < /dev/null 2>&1 | grep URL\n",
        "vcode = getpass.getpass()\n",
        "!echo {vcode} | google-drive-ocamlfuse -headless -id={creds.client_id} -secret={creds.client_secret}"
      ],
      "execution_count": 3,
      "outputs": [
        {
          "output_type": "stream",
          "text": [
            "Please, open the following URL in a web browser: https://accounts.google.com/o/oauth2/auth?client_id=32555940559.apps.googleusercontent.com&redirect_uri=urn%3Aietf%3Awg%3Aoauth%3A2.0%3Aoob&scope=https%3A%2F%2Fwww.googleapis.com%2Fauth%2Fdrive&response_type=code&access_type=offline&approval_prompt=force\r\n",
            "··········\n",
            "Please, open the following URL in a web browser: https://accounts.google.com/o/oauth2/auth?client_id=32555940559.apps.googleusercontent.com&redirect_uri=urn%3Aietf%3Awg%3Aoauth%3A2.0%3Aoob&scope=https%3A%2F%2Fwww.googleapis.com%2Fauth%2Fdrive&response_type=code&access_type=offline&approval_prompt=force\n",
            "Please enter the verification code: Access token retrieved correctly.\n"
          ],
          "name": "stdout"
        }
      ]
    },
    {
      "metadata": {
        "id": "b1hZOYGKSoqW",
        "colab_type": "code",
        "colab": {
          "base_uri": "https://localhost:8080/",
          "height": 34
        },
        "outputId": "2d5d3536-ca62-4523-8b46-c16394a33794"
      },
      "cell_type": "code",
      "source": [
        "!apt-get -qq install -y libsm6 libxext6 && pip install -q -U opencv-python\n",
        "!pwd"
      ],
      "execution_count": 1,
      "outputs": [
        {
          "output_type": "stream",
          "text": [
            "/content\r\n"
          ],
          "name": "stdout"
        }
      ]
    },
    {
      "metadata": {
        "id": "eKr1IR2kSqGi",
        "colab_type": "code",
        "colab": {}
      },
      "cell_type": "code",
      "source": [
        "#!fusermount -u drive\n",
        "!mkdir -p drive\n",
        "!google-drive-ocamlfuse drive\n",
        "import os\n",
        "os.chdir(\"drive/kaggle/Unet_dsb2018\")"
      ],
      "execution_count": 0,
      "outputs": []
    },
    {
      "metadata": {
        "id": "HvHexk_dSrwC",
        "colab_type": "code",
        "colab": {
          "base_uri": "https://localhost:8080/",
          "height": 867
        },
        "outputId": "827a169f-69a7-4df6-d3a7-f9cf734d2eee"
      },
      "cell_type": "code",
      "source": [
        "#!pip install --upgrade pip\n",
        "!pip install tqdm\n",
        "!pip install tensorflow\n",
        "!pip install keras\n",
        "!pip install imgaug"
      ],
      "execution_count": 5,
      "outputs": [
        {
          "output_type": "stream",
          "text": [
            "Collecting tqdm\n",
            "\u001b[?25l  Downloading https://files.pythonhosted.org/packages/c2/d4/bf1d99216672eef50392c009a8d0f282c4b643e4f764c962ff7b611ebce4/tqdm-4.23.1-py2.py3-none-any.whl (42kB)\n",
            "\u001b[K    100% |████████████████████████████████| 51kB 2.1MB/s \n",
            "\u001b[?25hInstalling collected packages: tqdm\n",
            "Successfully installed tqdm-4.23.1\n",
            "Requirement already satisfied: tensorflow in /usr/local/lib/python3.6/dist-packages (1.7.0)\n",
            "Requirement already satisfied: grpcio>=1.8.6 in /usr/local/lib/python3.6/dist-packages (from tensorflow) (1.11.0)\n",
            "Requirement already satisfied: wheel>=0.26 in /usr/local/lib/python3.6/dist-packages (from tensorflow) (0.31.0)\n",
            "Requirement already satisfied: protobuf>=3.4.0 in /usr/local/lib/python3.6/dist-packages (from tensorflow) (3.5.2.post1)\n",
            "Requirement already satisfied: astor>=0.6.0 in /usr/local/lib/python3.6/dist-packages (from tensorflow) (0.6.2)\n",
            "Requirement already satisfied: termcolor>=1.1.0 in /usr/local/lib/python3.6/dist-packages (from tensorflow) (1.1.0)\n",
            "Requirement already satisfied: numpy>=1.13.3 in /usr/local/lib/python3.6/dist-packages (from tensorflow) (1.14.3)\n",
            "Requirement already satisfied: absl-py>=0.1.6 in /usr/local/lib/python3.6/dist-packages (from tensorflow) (0.2.0)\n",
            "Requirement already satisfied: gast>=0.2.0 in /usr/local/lib/python3.6/dist-packages (from tensorflow) (0.2.0)\n",
            "Requirement already satisfied: tensorboard<1.8.0,>=1.7.0 in /usr/local/lib/python3.6/dist-packages (from tensorflow) (1.7.0)\n",
            "Requirement already satisfied: six>=1.10.0 in /usr/local/lib/python3.6/dist-packages (from tensorflow) (1.11.0)\n",
            "Requirement already satisfied: setuptools in /usr/local/lib/python3.6/dist-packages (from protobuf>=3.4.0->tensorflow) (39.1.0)\n",
            "Requirement already satisfied: werkzeug>=0.11.10 in /usr/local/lib/python3.6/dist-packages (from tensorboard<1.8.0,>=1.7.0->tensorflow) (0.14.1)\n",
            "Requirement already satisfied: markdown>=2.6.8 in /usr/local/lib/python3.6/dist-packages (from tensorboard<1.8.0,>=1.7.0->tensorflow) (2.6.11)\n",
            "Requirement already satisfied: html5lib==0.9999999 in /usr/local/lib/python3.6/dist-packages (from tensorboard<1.8.0,>=1.7.0->tensorflow) (0.9999999)\n",
            "Requirement already satisfied: bleach==1.5.0 in /usr/local/lib/python3.6/dist-packages (from tensorboard<1.8.0,>=1.7.0->tensorflow) (1.5.0)\n",
            "Requirement already satisfied: keras in /usr/local/lib/python3.6/dist-packages (2.1.6)\n",
            "Requirement already satisfied: numpy>=1.9.1 in /usr/local/lib/python3.6/dist-packages (from keras) (1.14.3)\n",
            "Requirement already satisfied: scipy>=0.14 in /usr/local/lib/python3.6/dist-packages (from keras) (0.19.1)\n",
            "Requirement already satisfied: six>=1.9.0 in /usr/local/lib/python3.6/dist-packages (from keras) (1.11.0)\n",
            "Requirement already satisfied: h5py in /usr/local/lib/python3.6/dist-packages (from keras) (2.7.1)\n",
            "Requirement already satisfied: pyyaml in /usr/local/lib/python3.6/dist-packages (from keras) (3.12)\n",
            "Collecting imgaug\n",
            "\u001b[?25l  Downloading https://files.pythonhosted.org/packages/d2/60/a06a48d85a7e9062f5870347a3e3e953da30b37928d43b380c949bca458a/imgaug-0.2.5.tar.gz (562kB)\n",
            "\u001b[K    100% |████████████████████████████████| 563kB 6.1MB/s \n",
            "\u001b[?25hRequirement already satisfied: scipy in /usr/local/lib/python3.6/dist-packages (from imgaug) (0.19.1)\n",
            "Requirement already satisfied: scikit-image>=0.11.0 in /usr/local/lib/python3.6/dist-packages (from imgaug) (0.13.1)\n",
            "Requirement already satisfied: numpy>=1.7.0 in /usr/local/lib/python3.6/dist-packages (from imgaug) (1.14.3)\n",
            "Requirement already satisfied: six in /usr/local/lib/python3.6/dist-packages (from imgaug) (1.11.0)\n",
            "Requirement already satisfied: matplotlib>=1.3.1 in /usr/local/lib/python3.6/dist-packages (from scikit-image>=0.11.0->imgaug) (2.1.2)\n",
            "Requirement already satisfied: networkx>=1.8 in /usr/local/lib/python3.6/dist-packages (from scikit-image>=0.11.0->imgaug) (2.1)\n",
            "Requirement already satisfied: pillow>=2.1.0 in /usr/local/lib/python3.6/dist-packages (from scikit-image>=0.11.0->imgaug) (4.0.0)\n",
            "Requirement already satisfied: PyWavelets>=0.4.0 in /usr/local/lib/python3.6/dist-packages (from scikit-image>=0.11.0->imgaug) (0.5.2)\n",
            "Requirement already satisfied: python-dateutil>=2.1 in /usr/local/lib/python3.6/dist-packages (from matplotlib>=1.3.1->scikit-image>=0.11.0->imgaug) (2.5.3)\n",
            "Requirement already satisfied: cycler>=0.10 in /usr/local/lib/python3.6/dist-packages (from matplotlib>=1.3.1->scikit-image>=0.11.0->imgaug) (0.10.0)\n",
            "Requirement already satisfied: pyparsing!=2.0.4,!=2.1.2,!=2.1.6,>=2.0.1 in /usr/local/lib/python3.6/dist-packages (from matplotlib>=1.3.1->scikit-image>=0.11.0->imgaug) (2.2.0)\n",
            "Requirement already satisfied: pytz in /usr/local/lib/python3.6/dist-packages (from matplotlib>=1.3.1->scikit-image>=0.11.0->imgaug) (2018.4)\n",
            "Requirement already satisfied: decorator>=4.1.0 in /usr/local/lib/python3.6/dist-packages (from networkx>=1.8->scikit-image>=0.11.0->imgaug) (4.3.0)\n",
            "Requirement already satisfied: olefile in /usr/local/lib/python3.6/dist-packages (from pillow>=2.1.0->scikit-image>=0.11.0->imgaug) (0.45.1)\n",
            "Building wheels for collected packages: imgaug\n",
            "  Running setup.py bdist_wheel for imgaug ... \u001b[?25l-\b \b\\\b \bdone\n",
            "\u001b[?25h  Stored in directory: /content/.cache/pip/wheels/31/48/c8/ca3345e8582a078de94243996e148377ef66fdb845557bae0b\n",
            "Successfully built imgaug\n",
            "Installing collected packages: imgaug\n",
            "Successfully installed imgaug-0.2.5\n"
          ],
          "name": "stdout"
        }
      ]
    },
    {
      "metadata": {
        "id": "iNa6A6mFUMHW",
        "colab_type": "code",
        "colab": {
          "base_uri": "https://localhost:8080/",
          "height": 34
        },
        "outputId": "d0811659-5e8b-43fa-ebc6-312f576d6746"
      },
      "cell_type": "code",
      "source": [
        "import os\n",
        "\n",
        "NAME = 'bowl'\n",
        "\n",
        "# Root directory of the project\n",
        "ROOT_DIR = os.getcwd()\n",
        "\n",
        "print(ROOT_DIR)\n",
        "\n",
        "# Directory to save logs and trained model\n",
        "MODEL_DIR = os.path.join(ROOT_DIR, \"logs\")\n",
        "\n",
        "#Dataset directory\n",
        "dataset_path = os.path.join(ROOT_DIR, \"RCNN_dataset_512_labels\")"
      ],
      "execution_count": 6,
      "outputs": [
        {
          "output_type": "stream",
          "text": [
            "/content/drive/kaggle/Unet_dsb2018\n"
          ],
          "name": "stdout"
        }
      ]
    },
    {
      "metadata": {
        "id": "87Jaf4Ues-IO",
        "colab_type": "code",
        "colab": {}
      },
      "cell_type": "code",
      "source": [
        "import numpy as np\n",
        "from functools import partial, update_wrapper\n",
        "\n",
        "#partial name fix\n",
        "def wrapped_partial(func, *args, **kwargs):\n",
        "    partial_func = partial(func, *args, **kwargs)\n",
        "    update_wrapper(partial_func, func)\n",
        "    return partial_func\n",
        "\n",
        "def pad2n(image,npad=32):\n",
        "    h, w = image.shape[:2]\n",
        "    if h % npad > 0:\n",
        "        max_h = h - (h % npad) + npad\n",
        "        top_pad = (max_h - h) // 2\n",
        "        bottom_pad = max_h - h - top_pad\n",
        "    else:\n",
        "        top_pad = bottom_pad = 0\n",
        "    # Width\n",
        "    if w % npad > 0:\n",
        "        max_w = w - (w % npad) + npad\n",
        "        left_pad = (max_w - w) // 2\n",
        "        right_pad = max_w - w - left_pad\n",
        "    else:\n",
        "        left_pad = right_pad = 0\n",
        "\n",
        "    padding = [(top_pad, bottom_pad), (left_pad, right_pad), (0, 0)]\n",
        "    image = np.pad(image, padding, mode='reflect')\n",
        "    window = (slice(top_pad, h + top_pad),slice(left_pad, w + left_pad))\n",
        "    \n",
        "    return image, window\n",
        "  \n",
        "def label_to_masks(labels):\n",
        "    h, w = labels.shape\n",
        "    n_msk = labels.max()\n",
        "    masks = np.empty((h,w,n_msk),dtype=np.bool)\n",
        "    for i in range(n_msk):\n",
        "        masks[:,:,i] = labels==i+1\n",
        "    return masks\n",
        "  \n",
        "def masks_to_label(msk):\n",
        "    h, w, _ = msk.shape\n",
        "    labels = np.zeros((h, w), dtype=np.uint16)\n",
        "    for index in range(0, msk.shape[-1]):\n",
        "        labels[msk[:,:,index] > 0] = index + 1\n",
        "    return labels"
      ],
      "execution_count": 0,
      "outputs": []
    },
    {
      "metadata": {
        "id": "PNlLqzO0RDwy",
        "colab_type": "code",
        "colab": {
          "base_uri": "https://localhost:8080/",
          "height": 34
        },
        "outputId": "b10c8004-5ef2-4437-fbf4-fa528aef7d94"
      },
      "cell_type": "code",
      "source": [
        "import tensorflow as tf\n",
        "#from tensorflow.python import keras\n",
        "#from tensorflow.python.keras import layers as KL\n",
        "#from tensorflow.python.keras import backend as K\n",
        "import keras\n",
        "import keras.backend as K\n",
        "import keras.layers as KL\n",
        "import keras.models as KM\n",
        "import keras.utils as KU\n",
        "import keras.losses as KLO\n",
        "from keras.optimizers import Adam, SGD\n",
        "\n",
        "# Define IoU metric\n",
        "def mean_iou(y_true, y_pred):\n",
        "    prec = []\n",
        "    for t in np.arange(0.5, 1.0, 0.05):\n",
        "        y_pred_ = tf.to_int32(y_pred > t)\n",
        "        score, up_opt = tf.metrics.mean_iou(y_true, y_pred_, 2, y_true)\n",
        "        K.get_session().run(tf.local_variables_initializer())\n",
        "        with tf.control_dependencies([up_opt]):\n",
        "            score = tf.identity(score)\n",
        "        prec.append(score)\n",
        "    return K.mean(K.stack(prec), axis=0) #AGGIUNTO AXIS=0\n",
        "\n",
        "def dice_coef(y_true, y_pred):\n",
        "    smooth = 1.\n",
        "    y_true_f = K.flatten(y_true)\n",
        "    y_pred_f = K.flatten(y_pred)\n",
        "    intersection = K.sum(y_true_f * y_pred_f)\n",
        "    return (2. * intersection + smooth) / (K.sum(y_true_f) + K.sum(y_pred_f) + smooth)\n",
        "\n",
        "def bce_dice_loss(y_true, y_pred):\n",
        "    return 0.5 * KLO.binary_crossentropy(y_true, y_pred) - dice_coef(y_true, y_pred)\n",
        "\n",
        "def weighted_loss(y_true,y_pred, weights):\n",
        "    _epsilon = 10e-8\n",
        "    y_pred = tf.clip_by_value(y_pred, _epsilon, 1. - _epsilon)\n",
        "    \n",
        "    #loss_map = K.binary_crossentropy(y_true, y_pred, from_logits=False) #change if softmax is present or not in the net\n",
        "    #weighted_loss = loss_map*weights#[:,:,:,np.newaxis]\n",
        "    #loss=K.mean(weighted_loss)\n",
        "\n",
        "    return - tf.reduce_sum(y_true * weights *  tf.log(y_pred) +\n",
        "                          (1 - y_true)  *  tf.log(1 - y_pred),\n",
        "                          len(y_pred.get_shape()) - 1)\n",
        "\n",
        "def Unet(img_size=None, GPU_COUNT=1, pad='same'):\n",
        "  \n",
        "    inputs         = KL.Input((img_size, img_size, 3))\n",
        "    \n",
        "    wgt_size = 228 if img_size is not None else None\n",
        "    weights_tensor = KL.Input((wgt_size, wgt_size, 1))\n",
        "    \n",
        "    s = KL.Lambda(lambda x: x/128.0 - 1.0)(inputs)\n",
        "    \n",
        "    if img_size is not None:\n",
        "        pad = 'valid'\n",
        "\n",
        "    #TODO: make more general\n",
        "    c1 = KL.Conv2D(32, (3, 3), kernel_initializer='he_normal', padding=pad)(s)\n",
        "    #print(\"c1 shape:\",c1.shape)\n",
        "    n1 = KL.BatchNormalization(axis=3)(c1)\n",
        "    a1 = KL.Activation(\"elu\")(n1)\n",
        "    c1 = KL.Dropout(0.2)(a1)\n",
        "    c1 = KL.Conv2D(32, (3, 3), kernel_initializer='he_normal', padding=pad)(c1)\n",
        "    #print(\"c1 shape:\",c1.shape)\n",
        "    n1 = KL.BatchNormalization(axis=3)(c1)\n",
        "    a1 = KL.Activation(\"elu\")(n1)\n",
        "    p1 = KL.MaxPooling2D((2, 2))(a1)\n",
        "\n",
        "    c2 = KL.Conv2D(64, (3, 3), kernel_initializer='he_normal', padding=pad)(p1)\n",
        "    #print(\"c2 shape:\",c2.shape)\n",
        "    n2 = KL.BatchNormalization(axis=3)(c2)\n",
        "    a2 = KL.Activation(\"elu\")(n2)\n",
        "    c2 = KL.Dropout(0.2)(a2)\n",
        "    c2 = KL.Conv2D(64, (3, 3), kernel_initializer='he_normal', padding=pad)(c2)\n",
        "    #print(\"c2 shape:\",c2.shape)\n",
        "    n2 = KL.BatchNormalization(axis=3)(c2)\n",
        "    a2 = KL.Activation(\"elu\")(n2)\n",
        "    p2 = KL.MaxPooling2D((2, 2))(a2)\n",
        "\n",
        "    c3 = KL.Conv2D(128, (3, 3), kernel_initializer='he_normal', padding=pad)(p2)\n",
        "    #print(\"c3 shape:\",c3.shape)\n",
        "    n3 = KL.BatchNormalization(axis=3)(c3)\n",
        "    a3 = KL.Activation(\"elu\")(n3)\n",
        "    c3 = KL.Dropout(0.3)(a3)\n",
        "    c3 = KL.Conv2D(128, (3, 3), kernel_initializer='he_normal', padding=pad)(c3)\n",
        "    #print(\"c3 shape:\",c3.shape)\n",
        "    n3 = KL.BatchNormalization(axis=3)(c3)\n",
        "    a3 = KL.Activation(\"elu\")(n3)\n",
        "    p3 = KL.MaxPooling2D((2, 2))(a3)\n",
        "\n",
        "    c4 = KL.Conv2D(256, (3, 3), kernel_initializer='he_normal', padding=pad)(p3)\n",
        "    #print(\"c4 shape:\",c4.shape)\n",
        "    n4 = KL.BatchNormalization(axis=3)(c4)\n",
        "    a4 = KL.Activation(\"elu\")(n4)\n",
        "    c4 = KL.Dropout(0.4)(a4)\n",
        "    c4 = KL.Conv2D(256, (3, 3), kernel_initializer='he_normal', padding=pad)(c4)\n",
        "    #print(\"c4 shape:\",c4.shape)\n",
        "    n4 = KL.BatchNormalization(axis=3)(c4)\n",
        "    a4 = KL.Activation(\"elu\")(n4)\n",
        "    p4 = KL.MaxPooling2D(pool_size=(2, 2))(a4)\n",
        "\n",
        "    c5 = KL.Conv2D(512, (3, 3), kernel_initializer='he_normal', padding=pad)(p4)\n",
        "    #print(\"c5 shape:\",c5.shape)\n",
        "    n5 = KL.BatchNormalization(axis=3)(c5)\n",
        "    a5 = KL.Activation(\"elu\")(n5)\n",
        "    c5 = KL.Dropout(0.4)(a5)\n",
        "    c5 = KL.Conv2D(512, (3, 3), kernel_initializer='he_normal', padding=pad)(c5)\n",
        "    #print(\"c5 shape:\",c5.shape)\n",
        "    n5 = KL.BatchNormalization(axis=3)(c5)\n",
        "    a5 = KL.Activation(\"elu\")(n5)\n",
        "\n",
        "    u6 = KL.Conv2DTranspose(256, (2, 2), strides=2, padding='valid')(a5)\n",
        "    #print(\"u6 shape:\",u6.shape )\n",
        "    if img_size is not None:\n",
        "        y1 = int(a4.shape[1] - u6._keras_shape[1]) // 2 \n",
        "        x1 = int(a4.shape[2] - u6._keras_shape[2]) // 2 \n",
        "        y2 = int(a4.shape[1] - u6._keras_shape[1]) - y1\n",
        "        x2 = int(a4.shape[2] - u6._keras_shape[2]) - x1\n",
        "        \n",
        "        a4 = KL.Cropping2D(cropping=((y1,y2),(x1,x2)))(a4)\n",
        "    #print(\"a4 shape:\",a4.shape)\n",
        "    u6 = KL.concatenate([u6, a4])\n",
        "    c6 = KL.Conv2D(256, (3, 3), kernel_initializer='he_normal', padding=pad)(u6)\n",
        "    n6 = KL.BatchNormalization(axis=3)(c6)\n",
        "    a6 = KL.Activation(\"elu\")(n6)\n",
        "    c6 = KL.Dropout(0.4)(a6)\n",
        "    c6 = KL.Conv2D(256, (3, 3), kernel_initializer='he_normal', padding=pad)(c6)\n",
        "    n6 = KL.BatchNormalization(axis=3)(c6)\n",
        "    a6 = KL.Activation(\"elu\")(n6)\n",
        "\n",
        "    u7 = KL.Conv2DTranspose(128, (2, 2), strides=2, padding='valid')(a6)\n",
        "    #print(\"u7 shape:\",u7.shape )\n",
        "    if img_size is not None:\n",
        "        y1 = int(a3.shape[1] - u7._keras_shape[1]) // 2 \n",
        "        x1 = int(a3.shape[2] - u7._keras_shape[2]) // 2 \n",
        "        y2 = int(a3.shape[1] - u7._keras_shape[1]) - y1\n",
        "        x2 = int(a3.shape[2] - u7._keras_shape[2]) - x1\n",
        "        \n",
        "        a3 = KL.Cropping2D(cropping=((y1,y2),(x1,x2)))(a3)\n",
        "    #print(\"a3 shape:\",a3.shape)\n",
        "    u7 = KL.concatenate([u7, a3])\n",
        "    c7 = KL.Conv2D(128, (3, 3), kernel_initializer='he_normal', padding=pad)(u7)\n",
        "    n7 = KL.BatchNormalization(axis=3)(c7)\n",
        "    a7 = KL.Activation(\"elu\")(n7)\n",
        "    c7 = KL.Dropout(0.4)(a7)\n",
        "    c7 = KL.Conv2D(128, (3, 3), kernel_initializer='he_normal', padding=pad)(c7)\n",
        "    n7 = KL.BatchNormalization(axis=3)(c7)\n",
        "    a7 = KL.Activation(\"elu\")(n7)\n",
        "\n",
        "    u8 = KL.Conv2DTranspose(64, (2, 2), strides=2, padding='valid')(a7)\n",
        "    #print(\"u8 shape:\",u8.shape )\n",
        "    if img_size is not None:\n",
        "        y1 = int(a2.shape[1] - u8._keras_shape[1]) // 2 \n",
        "        x1 = int(a2.shape[2] - u8._keras_shape[2]) // 2 \n",
        "        y2 = int(a2.shape[1] - u8._keras_shape[1]) - y1\n",
        "        x2 = int(a2.shape[2] - u8._keras_shape[2]) - x1\n",
        "        \n",
        "        a2 = KL.Cropping2D(cropping=((y1,y2),(x1,x2)))(a2)\n",
        "    #print(\"a2 shape:\",a2.shape)\n",
        "    u8 = KL.concatenate([u8, a2])\n",
        "    c8 = KL.Conv2D(64, (3, 3), kernel_initializer='he_normal', padding=pad)(u8)\n",
        "    n8 = KL.BatchNormalization(axis=3)(c8)\n",
        "    a8 = KL.Activation(\"elu\")(n8)\n",
        "    c8 = KL.Dropout(0.2)(a8)\n",
        "    c8 = KL.Conv2D(64, (3, 3), kernel_initializer='he_normal', padding=pad)(c8)\n",
        "    n8 = KL.BatchNormalization(axis=3)(c8)\n",
        "    a8 = KL.Activation(\"elu\")(n8)\n",
        "\n",
        "    u9 = KL.Conv2DTranspose(32, (2, 2), strides=2, padding='valid')(a8)\n",
        "    #print(\"u9 shape:\",u9.shape )\n",
        "    if img_size is not None:\n",
        "        y1 = int(a1.shape[1] - u9._keras_shape[1]) // 2 \n",
        "        x1 = int(a1.shape[2] - u9._keras_shape[2]) // 2 \n",
        "        y2 = int(a1.shape[1] - u9._keras_shape[1]) - y1\n",
        "        x2 = int(a1.shape[2] - u9._keras_shape[2]) - x1\n",
        "        \n",
        "        a1 = KL.Cropping2D(cropping=((y1,y2),(x1,x2)))(a1)\n",
        "    #print(\"a1 shape:\",a1.shape)\n",
        "    u9 = KL.concatenate([u9, a1], axis=3)\n",
        "    c9 = KL.Conv2D(32, (3, 3), kernel_initializer='he_normal', padding=pad)(u9)\n",
        "    n9 = KL.BatchNormalization(axis=3)(c9)\n",
        "    a9 = KL.Activation(\"elu\")(n9)\n",
        "    c9 = KL.Dropout(0.2)(a9)\n",
        "    c9 = KL.Conv2D(32, (3, 3), kernel_initializer='he_normal', padding=pad)(c9)\n",
        "    n9 = KL.BatchNormalization(axis=3)(c9)\n",
        "    a9 = KL.Activation(\"elu\")(n9)\n",
        "    #print(\"a9 shape:\",a9.shape)\n",
        "\n",
        "    outputs = KL.Conv2D(1, (1, 1), activation='sigmoid')(a9)\n",
        "    \n",
        "    model = KM.Model(inputs=[inputs,weights_tensor], outputs=[outputs])\n",
        "    \n",
        "    weighted_crossentropy = wrapped_partial(weighted_loss, weights=weights_tensor)\n",
        "    \n",
        "    model.compile(optimizer=Adam(lr=0.001,clipvalue=5), loss=weighted_crossentropy, metrics=[mean_iou])\n",
        "\n",
        "    return model"
      ],
      "execution_count": 8,
      "outputs": [
        {
          "output_type": "stream",
          "text": [
            "Using TensorFlow backend.\n"
          ],
          "name": "stderr"
        }
      ]
    },
    {
      "metadata": {
        "id": "NWW13t-KNB-A",
        "colab_type": "code",
        "colab": {
          "base_uri": "https://localhost:8080/",
          "height": 34
        },
        "outputId": "62f63680-5be9-4f38-b01f-42099c5f8101"
      },
      "cell_type": "code",
      "source": [
        "import cv2\n",
        "import glob\n",
        "import skimage.io\n",
        "import numpy as np\n",
        "from tqdm import tqdm\n",
        "\n",
        "#Find paths and load images and labels(=compressed masks)\n",
        "img_paths = sorted(glob.glob(os.path.join(dataset_path,\"*.png\")))\n",
        "msk_paths = sorted(glob.glob(os.path.join(dataset_path,\"*.npy\")))\n",
        "\n",
        "img_list = []\n",
        "lab_list = []\n",
        "for i,image_path in tqdm(enumerate(img_paths), total=len(img_paths)):\n",
        "    img_list.append(cv2.imread(img_paths[i]))\n",
        "    lab_list.append(np.load(msk_paths[i]))"
      ],
      "execution_count": 6,
      "outputs": [
        {
          "output_type": "stream",
          "text": [
            "100%|██████████| 979/979 [26:41<00:00,  1.64s/it]\n"
          ],
          "name": "stderr"
        }
      ]
    },
    {
      "metadata": {
        "id": "_7iJoNa4NOA6",
        "colab_type": "code",
        "colab": {
          "base_uri": "https://localhost:8080/",
          "height": 34
        },
        "outputId": "61864aa6-34fa-4ff5-c097-228bf792fa2d"
      },
      "cell_type": "code",
      "source": [
        "from scipy.ndimage.morphology import binary_erosion\n",
        "from scipy.ndimage.morphology import distance_transform_edt\n",
        "from tqdm import tqdm\n",
        "  \n",
        "def masks_to_gt(msk):\n",
        "    h, w, _ = msk.shape\n",
        "    gt = np.zeros((h, w), dtype=np.bool)\n",
        "    for index in range(0, msk.shape[-1]):\n",
        "        gt[msk[:,:,index] > 0] = True\n",
        "    return gt[:,:,np.newaxis]\n",
        "\n",
        "def get_weights(masks_in, w0=10, sigma=5):\n",
        "    \"\"\"masks_in shape: (w,h,n_masks)\"\"\"\n",
        "    \n",
        "    masks = np.transpose(masks_in,axes=(2,0,1))\n",
        "    merged_masks = np.squeeze(masks_to_gt(masks_in))\n",
        "    \n",
        "    distances = np.array([distance_transform_edt(m == 0) for m in masks])\n",
        "    shortest_dist = np.sort(distances, axis=0)\n",
        "    \n",
        "    # distance to the border of the nearest cell\n",
        "    d1 = shortest_dist[0]\n",
        "    # distance to the border of the second nearest cell\n",
        "    d2 = shortest_dist[1] if len(shortest_dist) > 1 else np.zeros(d1.shape)\n",
        "\n",
        "    weights = w0 * np.exp(-(d1 + d2) ** 2 / (2 * sigma ** 2)).astype(np.float32)\n",
        "    weights = 1 + (merged_masks == 0) * weights\n",
        "    return weights[..., np.newaxis]\n",
        "\n",
        "gt_list = []\n",
        "weight_list = []\n",
        "for i,label in tqdm(enumerate(lab_list), total=len(lab_list)):\n",
        "    #Convert to masks\n",
        "    masks = label_to_masks(label)\n",
        "    \n",
        "    #Mask erosion as preprocessing\n",
        "    for j in range(masks.shape[-1]):\n",
        "        masks[:,:,j] = binary_erosion(masks[:,:,j].astype(np.uint8), border_value=1, iterations=1)\n",
        "    masks = masks.astype(np.bool)\n",
        "    \n",
        "    #Get ground truths\n",
        "    gt_list.append(masks_to_gt(masks))\n",
        "    \n",
        "    #Compute weights\n",
        "    weight_list.append(get_weights(masks))"
      ],
      "execution_count": 7,
      "outputs": [
        {
          "output_type": "stream",
          "text": [
            "100%|██████████| 979/979 [31:49<00:00,  1.95s/it]\n"
          ],
          "name": "stderr"
        }
      ]
    },
    {
      "metadata": {
        "id": "ZlcVEhk-N1zY",
        "colab_type": "code",
        "colab": {}
      },
      "cell_type": "code",
      "source": [
        "import imgaug \n",
        "from imgaug import augmenters as iaa\n",
        "import random\n",
        "from random import shuffle\n",
        "from sklearn.model_selection import train_test_split\n",
        "\n",
        "def random_crop(image, mask, weights, crop_size = 256):\n",
        "    h, w = image.shape[:2]\n",
        "    y = random.randint(0, (h - crop_size))\n",
        "    x = random.randint(0, (w - crop_size))\n",
        "    img_crop =   image[y:y + crop_size, x:x + crop_size]\n",
        "    msk_crop =    mask[y:y + crop_size, x:x + crop_size]\n",
        "    wgt_crop = weights[y:y + crop_size, x:x + crop_size]\n",
        "    return img_crop, msk_crop, wgt_crop\n",
        "\n",
        "def data_generator(img_list, msk_list, wgt_list, batch_size=2, crop_size=256, pad_size=0, augmentation=None):\n",
        "    \n",
        "    batch_img = np.zeros((batch_size, crop_size+2*pad_size, crop_size+2*pad_size, 3))\n",
        "    batch_msk = np.zeros((batch_size, crop_size, crop_size, 1))\n",
        "    batch_wgt = np.zeros((batch_size, crop_size, crop_size, 1))\n",
        "    \n",
        "    image_index = -1\n",
        "    \n",
        "    while True:\n",
        "        for i in range(batch_size):\n",
        "            image_index = (image_index + 1) % len(img_list)\n",
        "            \n",
        "            img_crop, batch_msk[i], batch_wgt[i] = random_crop(img_list[image_index],\n",
        "                                                               msk_list[image_index],\n",
        "                                                               wgt_list[image_index], crop_size=crop_size)\n",
        "            \n",
        "            batch_img[i] = np.pad(img_crop, ((pad_size, pad_size), (pad_size, pad_size), (0,0)), mode='reflect')\n",
        "            #batch_img[i] = cv2.copyMakeBorder(img_crop,pad_size,pad_size,pad_size,pad_size,cv2.BORDER_REFLECT)\n",
        "        \n",
        "        \n",
        "        if augmentation:\n",
        "            aug_det = augmentation.to_deterministic()\n",
        "            batch_img = aug_det.augment_images(batch_img)\n",
        "            batch_msk = aug_det.augment_images(batch_msk)\n",
        "            batch_wgt = aug_det.augment_images(batch_wgt)\n",
        "\n",
        "        yield [batch_img, batch_wgt], batch_msk\n",
        "\n",
        "def val_data_generator(img_list, msk_list, wgt_list, batch_size=1, crop_size=256, pad_size=0, augmentation=None):\n",
        "    \n",
        "    batch_img = np.zeros((batch_size, crop_size+2*pad_size, crop_size+2*pad_size, 3))\n",
        "    batch_msk = np.zeros((batch_size, crop_size, crop_size, 1))\n",
        "    batch_wgt = np.zeros((batch_size, crop_size, crop_size, 1))\n",
        "    \n",
        "    image_index = -1\n",
        "    \n",
        "    while True:\n",
        "        for i in range(batch_size):\n",
        "            image_index = (image_index + 1) % len(img_list)\n",
        "            \n",
        "            img_crop, batch_msk[i], batch_wgt[i] = random_crop(img_list[image_index],\n",
        "                                                               msk_list[image_index],\n",
        "                                                               wgt_list[image_index], crop_size=crop_size)\n",
        "            \n",
        "            batch_img[i] = np.pad(img_crop, ((pad_size, pad_size), (pad_size, pad_size), (0,0)), mode='reflect')\n",
        "            #batch_img[i] = cv2.copyMakeBorder(img_crop,pad_size,pad_size,pad_size,pad_size,cv2.BORDER_REFLECT)\n",
        "\n",
        "        yield [batch_img, batch_wgt], batch_msk\n",
        "\n",
        "def shuffle_list(*ls):\n",
        "    l =list(zip(*ls))\n",
        "\n",
        "    shuffle(l)\n",
        "    return zip(*l)\n",
        "\n",
        "#Not used because stage2 images are too big to fit in GPU\n",
        "def predict_generator(test_list, batch_size=8):\n",
        "\n",
        "    image_index = -1\n",
        "    \n",
        "    while True:\n",
        "        image_index = (image_index + 1) % len(test_list)\n",
        "        \n",
        "        batch_img = np.zeros((batch_size,) + test_list[image_index].shape)\n",
        "        \n",
        "        batch_img[0] = test_list[image_index]\n",
        "        batch_img[1] = np.rot90(test_list[image_index], k=1)\n",
        "        batch_img[2] = np.rot90(test_list[image_index], k=2)\n",
        "        batch_img[3] = np.rot90(test_list[image_index], k=3)\n",
        "        batch_img[4] = np.fliplr(test_list[image_index])\n",
        "        batch_img[5] = np.flipud(test_list[image_index])\n",
        "        batch_img[6] = np.rot90(np.fliplr(test_list[image_index]), k=1)\n",
        "        batch_img[7] = np.rot90(np.flipud(test_list[image_index]), k=1)\n",
        "        \n",
        "        yield batch_img\n",
        " "
      ],
      "execution_count": 0,
      "outputs": []
    },
    {
      "metadata": {
        "id": "EoIjwzAVRNBS",
        "colab_type": "code",
        "colab": {}
      },
      "cell_type": "code",
      "source": [
        "batch_size = 16\n",
        "crop_size = 228\n",
        "pad_size = 96 #input = 228+2*96 = 420x420\n",
        "test_split = 0.1\n",
        "test_size = int(len(img_list)*test_split)\n",
        "train_size = len(img_list) - test_size\n",
        "\n",
        "augmentation = iaa.SomeOf((0, 2), [\n",
        "        iaa.CropAndPad(percent=(-0.15, 0.15), pad_mode=\"reflect\", keep_size=True, sample_independently=False),\n",
        "        iaa.Fliplr(0.5),\n",
        "        iaa.Flipud(0.5),\n",
        "        iaa.OneOf([iaa.Affine(rotate=90),\n",
        "                   iaa.Affine(rotate=180),\n",
        "                   iaa.Affine(rotate=270)\n",
        "        ])#,\n",
        "        #iaa.OneOf([iaa.Sequential([iaa.ChangeColorspace(from_colorspace=\"RGB\", to_colorspace=\"HSV\"),\n",
        "        #                           iaa.WithChannels(0, iaa.Add((0, 100))),\n",
        "        #                           iaa.ChangeColorspace(from_colorspace=\"HSV\", to_colorspace=\"RGB\")]),\n",
        "        #           iaa.Sequential([iaa.ChangeColorspace(from_colorspace=\"RGB\", to_colorspace=\"HSV\"),\n",
        "        #                           iaa.WithChannels(1, iaa.Add((0, 100))),\n",
        "        #                           iaa.ChangeColorspace(from_colorspace=\"HSV\", to_colorspace=\"RGB\")]),\n",
        "        #           iaa.Sequential([iaa.ChangeColorspace(from_colorspace=\"RGB\", to_colorspace=\"HSV\"),\n",
        "        #                           iaa.WithChannels(2, iaa.Add((0, 100))),\n",
        "        #                           iaa.ChangeColorspace(from_colorspace=\"HSV\", to_colorspace=\"RGB\")]),\n",
        "        #           iaa.WithChannels(0, iaa.Add((0, 100))),\n",
        "        #           iaa.WithChannels(1, iaa.Add((0, 100))),\n",
        "        #           iaa.WithChannels(2, iaa.Add((0, 100)))\n",
        "        #])\n",
        "        #imgaug.augmenters.Multiply((0.8, 1.5)),\n",
        "        #imgaug.augmenters.GaussianBlur(sigma=(0.0, 5.0))\n",
        "])\n",
        "\n",
        "\n",
        "#img_train, img_val, gt_train, gt_val = train_test_split(img_list, gt_list, test_size=0.1, random_state=7, shuffle=True)\n",
        "img_list, gt_list, weight_list = shuffle_list(img_list,gt_list,weight_list)\n",
        "\n",
        "weight_train = weight_list[:train_size]\n",
        "img_train    = img_list[:train_size]\n",
        "gt_train     = gt_list[:train_size]\n",
        "\n",
        "weight_val = weight_list[-test_size:]\n",
        "img_val    = img_list[-test_size:]\n",
        "gt_val     = gt_list[-test_size:]\n",
        "\n",
        "\n",
        "\n",
        "train_generator = data_generator(img_train,   gt_train, weight_train ,batch_size=batch_size, crop_size=crop_size, pad_size=pad_size, augmentation=augmentation)\n",
        "val_generator   = val_data_generator(img_val, gt_val, weight_val, batch_size=batch_size, crop_size=crop_size, pad_size=pad_size)"
      ],
      "execution_count": 0,
      "outputs": []
    },
    {
      "metadata": {
        "id": "_gLcm-OlRpCA",
        "colab_type": "code",
        "colab": {
          "base_uri": "https://localhost:8080/",
          "height": 331
        },
        "outputId": "84cb8eef-ca29-4d24-f4d0-2160e1e82744"
      },
      "cell_type": "code",
      "source": [
        "import matplotlib.pyplot as plt\n",
        "ix_ = np.random.randint(0, len(img_train))\n",
        "\n",
        "fig = plt.figure(figsize=(16,16))\n",
        "plt.subplot(1, 3, 1)\n",
        "plt.imshow(img_train[ix_])\n",
        "plt.subplot(1, 3, 2)\n",
        "plt.imshow(gt_train[ix_][...,0])\n",
        "plt.subplot(1, 3, 3)\n",
        "plt.imshow(weight_train[ix_][...,0])\n",
        "\n",
        "plt.show()\n",
        "\n",
        "print(weight_train[ix_][...,0].max(), weight_train[ix_][...,0].min(), weight_train[ix_][...,0].mean())"
      ],
      "execution_count": 100,
      "outputs": [
        {
          "output_type": "display_data",
          "data": {
            "image/png": "[encoded data removed]",
            "text/plain": [
              "<matplotlib.figure.Figure at 0x7fa8a8d8c6d8>"
            ]
          },
          "metadata": {
            "tags": []
          }
        },
        {
          "output_type": "stream",
          "text": [
            "9.899691 1.0 1.1520336\n"
          ],
          "name": "stdout"
        }
      ]
    },
    {
      "metadata": {
        "id": "UvW3uuhHUqC4",
        "colab_type": "code",
        "colab": {
          "base_uri": "https://localhost:8080/",
          "height": 2992
        },
        "outputId": "45f3e762-6a85-4719-c948-fe02bb3a5bc5"
      },
      "cell_type": "code",
      "source": [
        "import datetime\n",
        "from keras.optimizers import Adam, SGD\n",
        "\n",
        "now = datetime.datetime.now()\n",
        "LOG_DIR = os.path.join(MODEL_DIR, \"{}{:%Y%m%dT%H%M}\".format(NAME.lower(), now))\n",
        "checkpoint_path = os.path.join(LOG_DIR, \"U_net_{epoch:04d}.h5\")\n",
        "\n",
        "#Model\n",
        "model = Unet(img_size=420, pad='valid')#crop_size)\n",
        "model.summary()\n",
        "\n",
        "#model.compile(optimizer=Adam(lr=0.001), loss=bce_dice_loss, metrics=[mean_iou,KLO.binary_crossentropy])\n",
        "#model.compile(optimizer=Adam(lr=0.001,clipvalue=5), loss=KLO.binary_crossentropy, metrics=[mean_iou,bce_dice_loss])\n",
        "\n",
        "# Callbacks\n",
        "callbacks = [keras.callbacks.TensorBoard(log_dir=LOG_DIR, histogram_freq=0, write_graph=True, write_images=False),\n",
        "             keras.callbacks.ModelCheckpoint(checkpoint_path, verbose=0, period=5, save_weights_only=True)\n",
        "]"
      ],
      "execution_count": 10,
      "outputs": [
        {
          "output_type": "stream",
          "text": [
            "__________________________________________________________________________________________________\n",
            "Layer (type)                    Output Shape         Param #     Connected to                     \n",
            "==================================================================================================\n",
            "input_1 (InputLayer)            (None, 420, 420, 3)  0                                            \n",
            "__________________________________________________________________________________________________\n",
            "lambda_1 (Lambda)               (None, 420, 420, 3)  0           input_1[0][0]                    \n",
            "__________________________________________________________________________________________________\n",
            "conv2d_1 (Conv2D)               (None, 418, 418, 32) 896         lambda_1[0][0]                   \n",
            "__________________________________________________________________________________________________\n",
            "batch_normalization_1 (BatchNor (None, 418, 418, 32) 128         conv2d_1[0][0]                   \n",
            "__________________________________________________________________________________________________\n",
            "activation_1 (Activation)       (None, 418, 418, 32) 0           batch_normalization_1[0][0]      \n",
            "__________________________________________________________________________________________________\n",
            "dropout_1 (Dropout)             (None, 418, 418, 32) 0           activation_1[0][0]               \n",
            "__________________________________________________________________________________________________\n",
            "conv2d_2 (Conv2D)               (None, 416, 416, 32) 9248        dropout_1[0][0]                  \n",
            "__________________________________________________________________________________________________\n",
            "batch_normalization_2 (BatchNor (None, 416, 416, 32) 128         conv2d_2[0][0]                   \n",
            "__________________________________________________________________________________________________\n",
            "activation_2 (Activation)       (None, 416, 416, 32) 0           batch_normalization_2[0][0]      \n",
            "__________________________________________________________________________________________________\n",
            "max_pooling2d_1 (MaxPooling2D)  (None, 208, 208, 32) 0           activation_2[0][0]               \n",
            "__________________________________________________________________________________________________\n",
            "conv2d_3 (Conv2D)               (None, 206, 206, 64) 18496       max_pooling2d_1[0][0]            \n",
            "__________________________________________________________________________________________________\n",
            "batch_normalization_3 (BatchNor (None, 206, 206, 64) 256         conv2d_3[0][0]                   \n",
            "__________________________________________________________________________________________________\n",
            "activation_3 (Activation)       (None, 206, 206, 64) 0           batch_normalization_3[0][0]      \n",
            "__________________________________________________________________________________________________\n",
            "dropout_2 (Dropout)             (None, 206, 206, 64) 0           activation_3[0][0]               \n",
            "__________________________________________________________________________________________________\n",
            "conv2d_4 (Conv2D)               (None, 204, 204, 64) 36928       dropout_2[0][0]                  \n",
            "__________________________________________________________________________________________________\n",
            "batch_normalization_4 (BatchNor (None, 204, 204, 64) 256         conv2d_4[0][0]                   \n",
            "__________________________________________________________________________________________________\n",
            "activation_4 (Activation)       (None, 204, 204, 64) 0           batch_normalization_4[0][0]      \n",
            "__________________________________________________________________________________________________\n",
            "max_pooling2d_2 (MaxPooling2D)  (None, 102, 102, 64) 0           activation_4[0][0]               \n",
            "__________________________________________________________________________________________________\n",
            "conv2d_5 (Conv2D)               (None, 100, 100, 128 73856       max_pooling2d_2[0][0]            \n",
            "__________________________________________________________________________________________________\n",
            "batch_normalization_5 (BatchNor (None, 100, 100, 128 512         conv2d_5[0][0]                   \n",
            "__________________________________________________________________________________________________\n",
            "activation_5 (Activation)       (None, 100, 100, 128 0           batch_normalization_5[0][0]      \n",
            "__________________________________________________________________________________________________\n",
            "dropout_3 (Dropout)             (None, 100, 100, 128 0           activation_5[0][0]               \n",
            "__________________________________________________________________________________________________\n",
            "conv2d_6 (Conv2D)               (None, 98, 98, 128)  147584      dropout_3[0][0]                  \n",
            "__________________________________________________________________________________________________\n",
            "batch_normalization_6 (BatchNor (None, 98, 98, 128)  512         conv2d_6[0][0]                   \n",
            "__________________________________________________________________________________________________\n",
            "activation_6 (Activation)       (None, 98, 98, 128)  0           batch_normalization_6[0][0]      \n",
            "__________________________________________________________________________________________________\n",
            "max_pooling2d_3 (MaxPooling2D)  (None, 49, 49, 128)  0           activation_6[0][0]               \n",
            "__________________________________________________________________________________________________\n",
            "conv2d_7 (Conv2D)               (None, 47, 47, 256)  295168      max_pooling2d_3[0][0]            \n",
            "__________________________________________________________________________________________________\n",
            "batch_normalization_7 (BatchNor (None, 47, 47, 256)  1024        conv2d_7[0][0]                   \n",
            "__________________________________________________________________________________________________\n",
            "activation_7 (Activation)       (None, 47, 47, 256)  0           batch_normalization_7[0][0]      \n",
            "__________________________________________________________________________________________________\n",
            "dropout_4 (Dropout)             (None, 47, 47, 256)  0           activation_7[0][0]               \n",
            "__________________________________________________________________________________________________\n",
            "conv2d_8 (Conv2D)               (None, 45, 45, 256)  590080      dropout_4[0][0]                  \n",
            "__________________________________________________________________________________________________\n",
            "batch_normalization_8 (BatchNor (None, 45, 45, 256)  1024        conv2d_8[0][0]                   \n",
            "__________________________________________________________________________________________________\n",
            "activation_8 (Activation)       (None, 45, 45, 256)  0           batch_normalization_8[0][0]      \n",
            "__________________________________________________________________________________________________\n",
            "max_pooling2d_4 (MaxPooling2D)  (None, 22, 22, 256)  0           activation_8[0][0]               \n",
            "__________________________________________________________________________________________________\n",
            "conv2d_9 (Conv2D)               (None, 20, 20, 512)  1180160     max_pooling2d_4[0][0]            \n",
            "__________________________________________________________________________________________________\n",
            "batch_normalization_9 (BatchNor (None, 20, 20, 512)  2048        conv2d_9[0][0]                   \n",
            "__________________________________________________________________________________________________\n",
            "activation_9 (Activation)       (None, 20, 20, 512)  0           batch_normalization_9[0][0]      \n",
            "__________________________________________________________________________________________________\n",
            "dropout_5 (Dropout)             (None, 20, 20, 512)  0           activation_9[0][0]               \n",
            "__________________________________________________________________________________________________\n",
            "conv2d_10 (Conv2D)              (None, 18, 18, 512)  2359808     dropout_5[0][0]                  \n",
            "__________________________________________________________________________________________________\n",
            "batch_normalization_10 (BatchNo (None, 18, 18, 512)  2048        conv2d_10[0][0]                  \n",
            "__________________________________________________________________________________________________\n",
            "activation_10 (Activation)      (None, 18, 18, 512)  0           batch_normalization_10[0][0]     \n",
            "__________________________________________________________________________________________________\n",
            "conv2d_transpose_1 (Conv2DTrans (None, 36, 36, 256)  524544      activation_10[0][0]              \n",
            "__________________________________________________________________________________________________\n",
            "cropping2d_1 (Cropping2D)       (None, 36, 36, 256)  0           activation_8[0][0]               \n",
            "__________________________________________________________________________________________________\n",
            "concatenate_1 (Concatenate)     (None, 36, 36, 512)  0           conv2d_transpose_1[0][0]         \n",
            "                                                                 cropping2d_1[0][0]               \n",
            "__________________________________________________________________________________________________\n",
            "conv2d_11 (Conv2D)              (None, 34, 34, 256)  1179904     concatenate_1[0][0]              \n",
            "__________________________________________________________________________________________________\n",
            "batch_normalization_11 (BatchNo (None, 34, 34, 256)  1024        conv2d_11[0][0]                  \n",
            "__________________________________________________________________________________________________\n",
            "activation_11 (Activation)      (None, 34, 34, 256)  0           batch_normalization_11[0][0]     \n",
            "__________________________________________________________________________________________________\n",
            "dropout_6 (Dropout)             (None, 34, 34, 256)  0           activation_11[0][0]              \n",
            "__________________________________________________________________________________________________\n",
            "conv2d_12 (Conv2D)              (None, 32, 32, 256)  590080      dropout_6[0][0]                  \n",
            "__________________________________________________________________________________________________\n",
            "batch_normalization_12 (BatchNo (None, 32, 32, 256)  1024        conv2d_12[0][0]                  \n",
            "__________________________________________________________________________________________________\n",
            "activation_12 (Activation)      (None, 32, 32, 256)  0           batch_normalization_12[0][0]     \n",
            "__________________________________________________________________________________________________\n",
            "conv2d_transpose_2 (Conv2DTrans (None, 64, 64, 128)  131200      activation_12[0][0]              \n",
            "__________________________________________________________________________________________________\n",
            "cropping2d_2 (Cropping2D)       (None, 64, 64, 128)  0           activation_6[0][0]               \n",
            "__________________________________________________________________________________________________\n",
            "concatenate_2 (Concatenate)     (None, 64, 64, 256)  0           conv2d_transpose_2[0][0]         \n",
            "                                                                 cropping2d_2[0][0]               \n",
            "__________________________________________________________________________________________________\n",
            "conv2d_13 (Conv2D)              (None, 62, 62, 128)  295040      concatenate_2[0][0]              \n",
            "__________________________________________________________________________________________________\n",
            "batch_normalization_13 (BatchNo (None, 62, 62, 128)  512         conv2d_13[0][0]                  \n",
            "__________________________________________________________________________________________________\n",
            "activation_13 (Activation)      (None, 62, 62, 128)  0           batch_normalization_13[0][0]     \n",
            "__________________________________________________________________________________________________\n",
            "dropout_7 (Dropout)             (None, 62, 62, 128)  0           activation_13[0][0]              \n",
            "__________________________________________________________________________________________________\n",
            "conv2d_14 (Conv2D)              (None, 60, 60, 128)  147584      dropout_7[0][0]                  \n",
            "__________________________________________________________________________________________________\n",
            "batch_normalization_14 (BatchNo (None, 60, 60, 128)  512         conv2d_14[0][0]                  \n",
            "__________________________________________________________________________________________________\n",
            "activation_14 (Activation)      (None, 60, 60, 128)  0           batch_normalization_14[0][0]     \n",
            "__________________________________________________________________________________________________\n",
            "conv2d_transpose_3 (Conv2DTrans (None, 120, 120, 64) 32832       activation_14[0][0]              \n",
            "__________________________________________________________________________________________________\n",
            "cropping2d_3 (Cropping2D)       (None, 120, 120, 64) 0           activation_4[0][0]               \n",
            "__________________________________________________________________________________________________\n",
            "concatenate_3 (Concatenate)     (None, 120, 120, 128 0           conv2d_transpose_3[0][0]         \n",
            "                                                                 cropping2d_3[0][0]               \n",
            "__________________________________________________________________________________________________\n",
            "conv2d_15 (Conv2D)              (None, 118, 118, 64) 73792       concatenate_3[0][0]              \n",
            "__________________________________________________________________________________________________\n",
            "batch_normalization_15 (BatchNo (None, 118, 118, 64) 256         conv2d_15[0][0]                  \n",
            "__________________________________________________________________________________________________\n",
            "activation_15 (Activation)      (None, 118, 118, 64) 0           batch_normalization_15[0][0]     \n",
            "__________________________________________________________________________________________________\n",
            "dropout_8 (Dropout)             (None, 118, 118, 64) 0           activation_15[0][0]              \n",
            "__________________________________________________________________________________________________\n",
            "conv2d_16 (Conv2D)              (None, 116, 116, 64) 36928       dropout_8[0][0]                  \n",
            "__________________________________________________________________________________________________\n",
            "batch_normalization_16 (BatchNo (None, 116, 116, 64) 256         conv2d_16[0][0]                  \n",
            "__________________________________________________________________________________________________\n",
            "activation_16 (Activation)      (None, 116, 116, 64) 0           batch_normalization_16[0][0]     \n",
            "__________________________________________________________________________________________________\n",
            "conv2d_transpose_4 (Conv2DTrans (None, 232, 232, 32) 8224        activation_16[0][0]              \n",
            "__________________________________________________________________________________________________\n",
            "cropping2d_4 (Cropping2D)       (None, 232, 232, 32) 0           activation_2[0][0]               \n",
            "__________________________________________________________________________________________________\n",
            "concatenate_4 (Concatenate)     (None, 232, 232, 64) 0           conv2d_transpose_4[0][0]         \n",
            "                                                                 cropping2d_4[0][0]               \n",
            "__________________________________________________________________________________________________\n",
            "conv2d_17 (Conv2D)              (None, 230, 230, 32) 18464       concatenate_4[0][0]              \n",
            "__________________________________________________________________________________________________\n",
            "batch_normalization_17 (BatchNo (None, 230, 230, 32) 128         conv2d_17[0][0]                  \n",
            "__________________________________________________________________________________________________\n",
            "activation_17 (Activation)      (None, 230, 230, 32) 0           batch_normalization_17[0][0]     \n",
            "__________________________________________________________________________________________________\n",
            "dropout_9 (Dropout)             (None, 230, 230, 32) 0           activation_17[0][0]              \n",
            "__________________________________________________________________________________________________\n",
            "conv2d_18 (Conv2D)              (None, 228, 228, 32) 9248        dropout_9[0][0]                  \n",
            "__________________________________________________________________________________________________\n",
            "batch_normalization_18 (BatchNo (None, 228, 228, 32) 128         conv2d_18[0][0]                  \n",
            "__________________________________________________________________________________________________\n",
            "activation_18 (Activation)      (None, 228, 228, 32) 0           batch_normalization_18[0][0]     \n",
            "__________________________________________________________________________________________________\n",
            "conv2d_19 (Conv2D)              (None, 228, 228, 1)  33          activation_18[0][0]              \n",
            "==================================================================================================\n",
            "Total params: 7,771,873\n",
            "Trainable params: 7,765,985\n",
            "Non-trainable params: 5,888\n",
            "__________________________________________________________________________________________________\n"
          ],
          "name": "stdout"
        }
      ]
    },
    {
      "metadata": {
        "id": "EdiA8p5PTbB6",
        "colab_type": "code",
        "colab": {
          "base_uri": "https://localhost:8080/",
          "height": 13991
        },
        "outputId": "a5f37441-7cd7-408d-dabc-5c8fa414f79b"
      },
      "cell_type": "code",
      "source": [
        "model.fit_generator(train_generator, steps_per_epoch=len(img_train)/batch_size, epochs=600,\n",
        "                    validation_data=val_generator, validation_steps=len(img_val)/batch_size, initial_epoch=0, callbacks=callbacks)"
      ],
      "execution_count": 0,
      "outputs": [
        {
          "output_type": "stream",
          "text": [
            "Epoch 1/600\n",
            "56/55 [==============================] - 98s 2s/step - loss: 0.4386 - mean_iou: 0.2940 - val_loss: 1.1840 - val_mean_iou: 0.3261\n",
            "Epoch 2/600\n",
            "56/55 [==============================] - 86s 2s/step - loss: 0.2247 - mean_iou: 0.3231 - val_loss: 0.4009 - val_mean_iou: 0.3192\n",
            "Epoch 3/600\n",
            "56/55 [==============================] - 86s 2s/step - loss: 0.1924 - mean_iou: 0.3158 - val_loss: 1.5854 - val_mean_iou: 0.3174\n",
            "Epoch 4/600\n",
            "56/55 [==============================] - 86s 2s/step - loss: 0.1634 - mean_iou: 0.3188 - val_loss: 0.7519 - val_mean_iou: 0.3180\n",
            "Epoch 5/600\n",
            "44/55 [======================>.......] - ETA: 16s - loss: 0.1312 - mean_iou: 0.3174"
          ],
          "name": "stdout"
        },
        {
          "output_type": "stream",
          "text": [
            "56/55 [==============================] - 86s 2s/step - loss: 0.1360 - mean_iou: 0.3178 - val_loss: 0.3336 - val_mean_iou: 0.3178\n",
            "Epoch 6/600\n",
            "56/55 [==============================] - 86s 2s/step - loss: 0.1344 - mean_iou: 0.3181 - val_loss: 0.3291 - val_mean_iou: 0.3181\n",
            "Epoch 7/600\n",
            "56/55 [==============================] - 86s 2s/step - loss: 0.1340 - mean_iou: 0.3183 - val_loss: 0.3227 - val_mean_iou: 0.3182\n",
            "Epoch 8/600\n",
            "56/55 [==============================] - 86s 2s/step - loss: 0.1289 - mean_iou: 0.3185 - val_loss: 0.3279 - val_mean_iou: 0.3181\n",
            "Epoch 9/600\n",
            "55/55 [============================>.] - ETA: 0s - loss: 0.1258 - mean_iou: 0.3177"
          ],
          "name": "stdout"
        },
        {
          "output_type": "stream",
          "text": [
            "\b\b\b\b\b\b\b\b\b\b\b\b\b\b\b\b\b\b\b\b\b\b\b\b\b\b\b\b\b\b\b\b\b\b\b\b\b\b\b\b\b\b\b\b\b\b\b\b\b\b\b\b\b\b\b\b\b\b\b\b\b\b\b\b\b\b\b\b\b\b\b\b\b\b\b\b\b\b\b\b\b\b\r56/55 [==============================] - 86s 2s/step - loss: 0.1255 - mean_iou: 0.3177 - val_loss: 0.2912 - val_mean_iou: 0.3172\n",
            "Epoch 10/600\n",
            "56/55 [==============================] - 86s 2s/step - loss: 0.1233 - mean_iou: 0.3169 - val_loss: 0.3746 - val_mean_iou: 0.3167\n",
            "Epoch 11/600\n",
            "56/55 [==============================] - 87s 2s/step - loss: 0.1149 - mean_iou: 0.3162 - val_loss: 0.2916 - val_mean_iou: 0.3160\n",
            "Epoch 12/600\n",
            "56/55 [==============================] - 86s 2s/step - loss: 0.1096 - mean_iou: 0.3159 - val_loss: 0.3552 - val_mean_iou: 0.3163\n",
            "Epoch 13/600\n",
            "30/55 [===============>..............] - ETA: 36s - loss: 0.1035 - mean_iou: 0.3160"
          ],
          "name": "stdout"
        },
        {
          "output_type": "stream",
          "text": [
            "56/55 [==============================] - 86s 2s/step - loss: 0.1063 - mean_iou: 0.3165 - val_loss: 0.2920 - val_mean_iou: 0.3172\n",
            "Epoch 14/600\n",
            "56/55 [==============================] - 86s 2s/step - loss: 0.1033 - mean_iou: 0.3176 - val_loss: 0.2767 - val_mean_iou: 0.3183\n",
            "Epoch 15/600\n",
            "56/55 [==============================] - 86s 2s/step - loss: 0.1029 - mean_iou: 0.3189 - val_loss: 0.2345 - val_mean_iou: 0.3197\n",
            "Epoch 16/600\n",
            "56/55 [==============================] - 86s 2s/step - loss: 0.0986 - mean_iou: 0.3205 - val_loss: 0.2527 - val_mean_iou: 0.3211\n",
            "Epoch 17/600\n",
            "52/55 [===========================>..] - ETA: 4s - loss: 0.1033 - mean_iou: 0.3211"
          ],
          "name": "stdout"
        },
        {
          "output_type": "stream",
          "text": [
            "56/55 [==============================] - 86s 2s/step - loss: 0.1031 - mean_iou: 0.3212 - val_loss: 0.3323 - val_mean_iou: 0.3216\n",
            "Epoch 18/600\n",
            "56/55 [==============================] - 86s 2s/step - loss: 0.1024 - mean_iou: 0.3220 - val_loss: 8.8917 - val_mean_iou: 0.3227\n",
            "Epoch 19/600\n",
            "56/55 [==============================] - 86s 2s/step - loss: 0.1189 - mean_iou: 0.3229 - val_loss: 0.3636 - val_mean_iou: 0.3225\n",
            "Epoch 20/600\n",
            "56/55 [==============================] - 86s 2s/step - loss: 0.1007 - mean_iou: 0.3225 - val_loss: 0.3832 - val_mean_iou: 0.3228\n",
            "Epoch 21/600\n",
            "55/55 [============================>.] - ETA: 0s - loss: 0.0975 - mean_iou: 0.3229"
          ],
          "name": "stdout"
        },
        {
          "output_type": "stream",
          "text": [
            "\b\b\b\b\b\b\b\b\b\b\b\b\b\b\b\b\b\b\b\b\b\b\b\b\b\b\b\b\b\b\b\b\b\b\b\b\b\b\b\b\b\b\b\b\b\b\b\b\b\b\b\b\b\b\b\b\b\b\b\b\b\b\b\b\b\b\b\b\b\b\b\b\b\b\b\b\b\b\b\b\b\b\r56/55 [==============================] - 86s 2s/step - loss: 0.0970 - mean_iou: 0.3229 - val_loss: 0.3317 - val_mean_iou: 0.3234\n",
            "Epoch 22/600\n",
            "56/55 [==============================] - 86s 2s/step - loss: 0.0964 - mean_iou: 0.3236 - val_loss: 0.3015 - val_mean_iou: 0.3238\n",
            "Epoch 23/600\n",
            "56/55 [==============================] - 86s 2s/step - loss: 0.0932 - mean_iou: 0.3241 - val_loss: 0.2583 - val_mean_iou: 0.3246\n",
            "Epoch 24/600\n",
            "56/55 [==============================] - 86s 2s/step - loss: 0.0901 - mean_iou: 0.3251 - val_loss: 0.2916 - val_mean_iou: 0.3255\n",
            "Epoch 25/600\n",
            "30/55 [===============>..............] - ETA: 36s - loss: 0.0934 - mean_iou: 0.3255"
          ],
          "name": "stdout"
        },
        {
          "output_type": "stream",
          "text": [
            "56/55 [==============================] - 86s 2s/step - loss: 0.0903 - mean_iou: 0.3258 - val_loss: 0.2939 - val_mean_iou: 0.3261\n",
            "Epoch 26/600\n",
            "56/55 [==============================] - 86s 2s/step - loss: 0.0907 - mean_iou: 0.3262 - val_loss: 0.2980 - val_mean_iou: 0.3265\n",
            "Epoch 27/600\n",
            "56/55 [==============================] - 86s 2s/step - loss: 0.0926 - mean_iou: 0.3266 - val_loss: 0.5051 - val_mean_iou: 0.3269\n",
            "Epoch 28/600\n",
            "56/55 [==============================] - 86s 2s/step - loss: 0.0901 - mean_iou: 0.3274 - val_loss: 0.2460 - val_mean_iou: 0.3278\n",
            "Epoch 29/600\n",
            "52/55 [===========================>..] - ETA: 4s - loss: 0.0874 - mean_iou: 0.3282"
          ],
          "name": "stdout"
        },
        {
          "output_type": "stream",
          "text": [
            "56/55 [==============================] - 86s 2s/step - loss: 0.0867 - mean_iou: 0.3283 - val_loss: 0.3269 - val_mean_iou: 0.3287\n",
            "Epoch 30/600\n",
            "56/55 [==============================] - 86s 2s/step - loss: 0.0880 - mean_iou: 0.3290 - val_loss: 0.2740 - val_mean_iou: 0.3293\n",
            "Epoch 31/600\n",
            "56/55 [==============================] - 86s 2s/step - loss: 0.0861 - mean_iou: 0.3296 - val_loss: 0.2979 - val_mean_iou: 0.3300\n",
            "Epoch 32/600\n",
            "56/55 [==============================] - 86s 2s/step - loss: 0.0846 - mean_iou: 0.3303 - val_loss: 0.2965 - val_mean_iou: 0.3308\n",
            "Epoch 33/600\n",
            "55/55 [============================>.] - ETA: 0s - loss: 0.0827 - mean_iou: 0.3311"
          ],
          "name": "stdout"
        },
        {
          "output_type": "stream",
          "text": [
            "\b\b\b\b\b\b\b\b\b\b\b\b\b\b\b\b\b\b\b\b\b\b\b\b\b\b\b\b\b\b\b\b\b\b\b\b\b\b\b\b\b\b\b\b\b\b\b\b\b\b\b\b\b\b\b\b\b\b\b\b\b\b\b\b\b\b\b\b\b\b\b\b\b\b\b\b\b\b\b\b\b\b\r56/55 [==============================] - 86s 2s/step - loss: 0.0824 - mean_iou: 0.3311 - val_loss: 0.2956 - val_mean_iou: 0.3316\n",
            "Epoch 34/600\n",
            "56/55 [==============================] - 86s 2s/step - loss: 0.0838 - mean_iou: 0.3320 - val_loss: 0.3356 - val_mean_iou: 0.3323\n",
            "Epoch 35/600\n",
            "56/55 [==============================] - 86s 2s/step - loss: 0.0829 - mean_iou: 0.3325 - val_loss: 0.3288 - val_mean_iou: 0.3329\n",
            "Epoch 36/600\n",
            "56/55 [==============================] - 86s 2s/step - loss: 0.0815 - mean_iou: 0.3331 - val_loss: 0.4053 - val_mean_iou: 0.3335\n",
            "Epoch 37/600\n",
            "30/55 [===============>..............] - ETA: 36s - loss: 0.0887 - mean_iou: 0.3335"
          ],
          "name": "stdout"
        },
        {
          "output_type": "stream",
          "text": [
            "56/55 [==============================] - 86s 2s/step - loss: 0.0801 - mean_iou: 0.3337 - val_loss: 0.3666 - val_mean_iou: 0.3342\n",
            "Epoch 38/600\n",
            "56/55 [==============================] - 86s 2s/step - loss: 0.0817 - mean_iou: 0.3345 - val_loss: 0.3300 - val_mean_iou: 0.3349\n",
            "Epoch 39/600\n",
            "56/55 [==============================] - 86s 2s/step - loss: 0.0789 - mean_iou: 0.3353 - val_loss: 0.2518 - val_mean_iou: 0.3357\n",
            "Epoch 40/600\n",
            "56/55 [==============================] - 86s 2s/step - loss: 0.0797 - mean_iou: 0.3360 - val_loss: 0.2571 - val_mean_iou: 0.3365\n",
            "Epoch 41/600\n",
            "52/55 [===========================>..] - ETA: 4s - loss: 0.0792 - mean_iou: 0.3368"
          ],
          "name": "stdout"
        },
        {
          "output_type": "stream",
          "text": [
            "56/55 [==============================] - 86s 2s/step - loss: 0.0807 - mean_iou: 0.3368 - val_loss: 0.2621 - val_mean_iou: 0.3372\n",
            "Epoch 42/600\n",
            "56/55 [==============================] - 86s 2s/step - loss: 0.0789 - mean_iou: 0.3375 - val_loss: 0.1896 - val_mean_iou: 0.3379\n",
            "Epoch 43/600\n",
            "56/55 [==============================] - 86s 2s/step - loss: 0.0772 - mean_iou: 0.3383 - val_loss: 0.2925 - val_mean_iou: 0.3386\n",
            "Epoch 44/600\n",
            "56/55 [==============================] - 86s 2s/step - loss: 0.0764 - mean_iou: 0.3389 - val_loss: 0.2333 - val_mean_iou: 0.3393\n",
            "Epoch 45/600\n",
            "55/55 [============================>.] - ETA: 0s - loss: 0.0774 - mean_iou: 0.3396"
          ],
          "name": "stdout"
        },
        {
          "output_type": "stream",
          "text": [
            "\b\b\b\b\b\b\b\b\b\b\b\b\b\b\b\b\b\b\b\b\b\b\b\b\b\b\b\b\b\b\b\b\b\b\b\b\b\b\b\b\b\b\b\b\b\b\b\b\b\b\b\b\b\b\b\b\b\b\b\b\b\b\b\b\b\b\b\b\b\b\b\b\b\b\b\b\b\b\b\b\b\b\r56/55 [==============================] - 86s 2s/step - loss: 0.0774 - mean_iou: 0.3396 - val_loss: 0.2919 - val_mean_iou: 0.3400\n",
            "Epoch 46/600\n",
            "56/55 [==============================] - 86s 2s/step - loss: 0.0751 - mean_iou: 0.3403 - val_loss: 0.2959 - val_mean_iou: 0.3407\n",
            "Epoch 47/600\n",
            "56/55 [==============================] - 86s 2s/step - loss: 0.0768 - mean_iou: 0.3411 - val_loss: 0.3232 - val_mean_iou: 0.3414\n",
            "Epoch 48/600\n",
            "56/55 [==============================] - 86s 2s/step - loss: 0.0768 - mean_iou: 0.3416 - val_loss: 0.3126 - val_mean_iou: 0.3419\n",
            "Epoch 49/600\n",
            "30/55 [===============>..............] - ETA: 36s - loss: 0.0769 - mean_iou: 0.3420"
          ],
          "name": "stdout"
        },
        {
          "output_type": "stream",
          "text": [
            "56/55 [==============================] - 86s 2s/step - loss: 0.0766 - mean_iou: 0.3422 - val_loss: 0.3175 - val_mean_iou: 0.3425\n",
            "Epoch 50/600\n",
            "56/55 [==============================] - 86s 2s/step - loss: 0.0787 - mean_iou: 0.3427 - val_loss: 0.3196 - val_mean_iou: 0.3430\n",
            "Epoch 51/600\n",
            "56/55 [==============================] - 86s 2s/step - loss: 0.0778 - mean_iou: 0.3432 - val_loss: 0.3244 - val_mean_iou: 0.3436\n",
            "Epoch 52/600\n",
            "56/55 [==============================] - 86s 2s/step - loss: 0.0747 - mean_iou: 0.3438 - val_loss: 0.4380 - val_mean_iou: 0.3441\n",
            "Epoch 53/600\n",
            "52/55 [===========================>..] - ETA: 4s - loss: 0.0777 - mean_iou: 0.3442"
          ],
          "name": "stdout"
        },
        {
          "output_type": "stream",
          "text": [
            "56/55 [==============================] - 86s 2s/step - loss: 0.0767 - mean_iou: 0.3443 - val_loss: 0.4037 - val_mean_iou: 0.3445\n",
            "Epoch 54/600\n",
            "56/55 [==============================] - 86s 2s/step - loss: 0.0762 - mean_iou: 0.3447 - val_loss: 0.4400 - val_mean_iou: 0.3449\n",
            "Epoch 55/600\n",
            "56/55 [==============================] - 86s 2s/step - loss: 0.0742 - mean_iou: 0.3451 - val_loss: 0.3537 - val_mean_iou: 0.3454\n",
            "Epoch 56/600\n",
            "56/55 [==============================] - 86s 2s/step - loss: 0.0750 - mean_iou: 0.3457 - val_loss: 0.2801 - val_mean_iou: 0.3460\n",
            "Epoch 57/600\n",
            "55/55 [============================>.] - ETA: 0s - loss: 0.0752 - mean_iou: 0.3462"
          ],
          "name": "stdout"
        },
        {
          "output_type": "stream",
          "text": [
            "\b\b\b\b\b\b\b\b\b\b\b\b\b\b\b\b\b\b\b\b\b\b\b\b\b\b\b\b\b\b\b\b\b\b\b\b\b\b\b\b\b\b\b\b\b\b\b\b\b\b\b\b\b\b\b\b\b\b\b\b\b\b\b\b\b\b\b\b\b\b\b\b\b\b\b\b\b\b\b\b\b\b\r56/55 [==============================] - 86s 2s/step - loss: 0.0759 - mean_iou: 0.3462 - val_loss: 0.3259 - val_mean_iou: 0.3465\n",
            "Epoch 58/600\n",
            "56/55 [==============================] - 86s 2s/step - loss: 0.0763 - mean_iou: 0.3467 - val_loss: 0.2967 - val_mean_iou: 0.3469\n",
            "Epoch 59/600\n",
            "56/55 [==============================] - 86s 2s/step - loss: 0.0705 - mean_iou: 0.3472 - val_loss: 0.2549 - val_mean_iou: 0.3475\n",
            "Epoch 60/600\n",
            "56/55 [==============================] - 86s 2s/step - loss: 0.0726 - mean_iou: 0.3478 - val_loss: 0.4603 - val_mean_iou: 0.3480\n",
            "Epoch 61/600\n",
            "30/55 [===============>..............] - ETA: 36s - loss: 0.0668 - mean_iou: 0.3481"
          ],
          "name": "stdout"
        },
        {
          "output_type": "stream",
          "text": [
            "56/55 [==============================] - 86s 2s/step - loss: 0.0712 - mean_iou: 0.3483 - val_loss: 0.3755 - val_mean_iou: 0.3485\n",
            "Epoch 62/600\n",
            "56/55 [==============================] - 86s 2s/step - loss: 0.0701 - mean_iou: 0.3488 - val_loss: 0.3648 - val_mean_iou: 0.3490\n",
            "Epoch 63/600\n",
            "56/55 [==============================] - 85s 2s/step - loss: 0.0729 - mean_iou: 0.3493 - val_loss: 0.3684 - val_mean_iou: 0.3495\n",
            "Epoch 64/600\n",
            "56/55 [==============================] - 86s 2s/step - loss: 0.0720 - mean_iou: 0.3497 - val_loss: 0.3461 - val_mean_iou: 0.3500\n",
            "Epoch 65/600\n",
            "52/55 [===========================>..] - ETA: 4s - loss: 0.0730 - mean_iou: 0.3502"
          ],
          "name": "stdout"
        },
        {
          "output_type": "stream",
          "text": [
            "56/55 [==============================] - 86s 2s/step - loss: 0.0721 - mean_iou: 0.3502 - val_loss: 0.3166 - val_mean_iou: 0.3503\n",
            "Epoch 66/600\n",
            "56/55 [==============================] - 86s 2s/step - loss: 0.0713 - mean_iou: 0.3504 - val_loss: 0.3898 - val_mean_iou: 0.3506\n",
            "Epoch 67/600\n",
            "56/55 [==============================] - 86s 2s/step - loss: 0.0696 - mean_iou: 0.3507 - val_loss: 0.2919 - val_mean_iou: 0.3509\n",
            "Epoch 68/600\n",
            "56/55 [==============================] - 86s 2s/step - loss: 0.0700 - mean_iou: 0.3512 - val_loss: 0.3339 - val_mean_iou: 0.3514\n",
            "Epoch 69/600\n",
            "55/55 [============================>.] - ETA: 0s - loss: 0.0720 - mean_iou: 0.3516"
          ],
          "name": "stdout"
        },
        {
          "output_type": "stream",
          "text": [
            "\b\b\b\b\b\b\b\b\b\b\b\b\b\b\b\b\b\b\b\b\b\b\b\b\b\b\b\b\b\b\b\b\b\b\b\b\b\b\b\b\b\b\b\b\b\b\b\b\b\b\b\b\b\b\b\b\b\b\b\b\b\b\b\b\b\b\b\b\b\b\b\b\b\b\b\b\b\b\b\b\b\b\r56/55 [==============================] - 86s 2s/step - loss: 0.0719 - mean_iou: 0.3516 - val_loss: 0.3271 - val_mean_iou: 0.3518\n",
            "Epoch 70/600\n",
            "56/55 [==============================] - 86s 2s/step - loss: 0.0699 - mean_iou: 0.3519 - val_loss: 0.4369 - val_mean_iou: 0.3521\n",
            "Epoch 71/600\n",
            "56/55 [==============================] - 86s 2s/step - loss: 0.0691 - mean_iou: 0.3523 - val_loss: 0.3940 - val_mean_iou: 0.3525\n",
            "Epoch 72/600\n",
            "56/55 [==============================] - 86s 2s/step - loss: 0.0695 - mean_iou: 0.3527 - val_loss: 0.2559 - val_mean_iou: 0.3529\n",
            "Epoch 73/600\n",
            "30/55 [===============>..............] - ETA: 36s - loss: 0.0630 - mean_iou: 0.3530"
          ],
          "name": "stdout"
        },
        {
          "output_type": "stream",
          "text": [
            "56/55 [==============================] - 86s 2s/step - loss: 0.0688 - mean_iou: 0.3531 - val_loss: 0.2323 - val_mean_iou: 0.3533\n",
            "Epoch 74/600\n",
            "56/55 [==============================] - 86s 2s/step - loss: 0.0694 - mean_iou: 0.3535 - val_loss: 0.3523 - val_mean_iou: 0.3536\n",
            "Epoch 75/600\n",
            "56/55 [==============================] - 86s 2s/step - loss: 0.0686 - mean_iou: 0.3537 - val_loss: 0.3385 - val_mean_iou: 0.3539\n",
            "Epoch 76/600\n",
            "56/55 [==============================] - 87s 2s/step - loss: 0.0679 - mean_iou: 0.3541 - val_loss: 0.4161 - val_mean_iou: 0.3542\n",
            "Epoch 77/600\n",
            "52/55 [===========================>..] - ETA: 4s - loss: 0.0711 - mean_iou: 0.3544"
          ],
          "name": "stdout"
        },
        {
          "output_type": "stream",
          "text": [
            "56/55 [==============================] - 86s 2s/step - loss: 0.0697 - mean_iou: 0.3544 - val_loss: 0.3454 - val_mean_iou: 0.3546\n",
            "Epoch 78/600\n",
            "56/55 [==============================] - 86s 2s/step - loss: 0.0674 - mean_iou: 0.3547 - val_loss: 0.2889 - val_mean_iou: 0.3549\n",
            "Epoch 79/600\n",
            "56/55 [==============================] - 86s 2s/step - loss: 0.0706 - mean_iou: 0.3550 - val_loss: 0.2796 - val_mean_iou: 0.3551\n",
            "Epoch 80/600\n",
            "56/55 [==============================] - 87s 2s/step - loss: 0.0686 - mean_iou: 0.3553 - val_loss: 0.3793 - val_mean_iou: 0.3554\n",
            "Epoch 81/600\n",
            "55/55 [============================>.] - ETA: 0s - loss: 0.0770 - mean_iou: 0.3554"
          ],
          "name": "stdout"
        },
        {
          "output_type": "stream",
          "text": [
            "\b\b\b\b\b\b\b\b\b\b\b\b\b\b\b\b\b\b\b\b\b\b\b\b\b\b\b\b\b\b\b\b\b\b\b\b\b\b\b\b\b\b\b\b\b\b\b\b\b\b\b\b\b\b\b\b\b\b\b\b\b\b\b\b\b\b\b\b\b\b\b\b\b\b\b\b\b\b\b\b\b\b\r56/55 [==============================] - 86s 2s/step - loss: 0.0769 - mean_iou: 0.3554 - val_loss: 0.4871 - val_mean_iou: 0.3554\n",
            "Epoch 82/600\n",
            "56/55 [==============================] - 86s 2s/step - loss: 0.0750 - mean_iou: 0.3554 - val_loss: 0.2735 - val_mean_iou: 0.3555\n",
            "Epoch 83/600\n",
            "56/55 [==============================] - 86s 2s/step - loss: 0.0690 - mean_iou: 0.3556 - val_loss: 0.3427 - val_mean_iou: 0.3558\n",
            "Epoch 84/600\n",
            "56/55 [==============================] - 86s 2s/step - loss: 0.0673 - mean_iou: 0.3559 - val_loss: 0.3718 - val_mean_iou: 0.3561\n",
            "Epoch 85/600\n",
            "30/55 [===============>..............] - ETA: 36s - loss: 0.0672 - mean_iou: 0.3562"
          ],
          "name": "stdout"
        },
        {
          "output_type": "stream",
          "text": [
            "56/55 [==============================] - 86s 2s/step - loss: 0.0679 - mean_iou: 0.3562 - val_loss: 0.3320 - val_mean_iou: 0.3564\n",
            "Epoch 86/600\n",
            "56/55 [==============================] - 87s 2s/step - loss: 0.0679 - mean_iou: 0.3565 - val_loss: 0.3635 - val_mean_iou: 0.3567\n",
            "Epoch 87/600\n",
            "56/55 [==============================] - 86s 2s/step - loss: 0.0681 - mean_iou: 0.3568 - val_loss: 0.4349 - val_mean_iou: 0.3570\n",
            "Epoch 88/600\n",
            "56/55 [==============================] - 86s 2s/step - loss: 0.0655 - mean_iou: 0.3571 - val_loss: 0.4226 - val_mean_iou: 0.3573\n",
            "Epoch 89/600\n",
            "52/55 [===========================>..] - ETA: 4s - loss: 0.0684 - mean_iou: 0.3573"
          ],
          "name": "stdout"
        },
        {
          "output_type": "stream",
          "text": [
            "56/55 [==============================] - 86s 2s/step - loss: 0.0682 - mean_iou: 0.3573 - val_loss: 0.3927 - val_mean_iou: 0.3575\n",
            "Epoch 90/600\n",
            "56/55 [==============================] - 86s 2s/step - loss: 0.0674 - mean_iou: 0.3576 - val_loss: 0.3105 - val_mean_iou: 0.3578\n",
            "Epoch 91/600\n",
            "56/55 [==============================] - 86s 2s/step - loss: 0.0677 - mean_iou: 0.3579 - val_loss: 0.3985 - val_mean_iou: 0.3580\n",
            "Epoch 92/600\n",
            "56/55 [==============================] - 86s 2s/step - loss: 0.0659 - mean_iou: 0.3581 - val_loss: 0.3667 - val_mean_iou: 0.3583\n",
            "Epoch 93/600\n",
            "55/55 [============================>.] - ETA: 0s - loss: 0.0668 - mean_iou: 0.3584"
          ],
          "name": "stdout"
        },
        {
          "output_type": "stream",
          "text": [
            "\b\b\b\b\b\b\b\b\b\b\b\b\b\b\b\b\b\b\b\b\b\b\b\b\b\b\b\b\b\b\b\b\b\b\b\b\b\b\b\b\b\b\b\b\b\b\b\b\b\b\b\b\b\b\b\b\b\b\b\b\b\b\b\b\b\b\b\b\b\b\b\b\b\b\b\b\b\b\b\b\b\b\r56/55 [==============================] - 86s 2s/step - loss: 0.0667 - mean_iou: 0.3584 - val_loss: 0.2602 - val_mean_iou: 0.3586\n",
            "Epoch 94/600\n",
            "56/55 [==============================] - 86s 2s/step - loss: 0.0668 - mean_iou: 0.3587 - val_loss: 0.4075 - val_mean_iou: 0.3588\n",
            "Epoch 95/600\n",
            "56/55 [==============================] - 86s 2s/step - loss: 0.0688 - mean_iou: 0.3589 - val_loss: 0.3225 - val_mean_iou: 0.3591\n",
            "Epoch 96/600\n",
            "56/55 [==============================] - 86s 2s/step - loss: 0.0649 - mean_iou: 0.3592 - val_loss: 0.3190 - val_mean_iou: 0.3593\n",
            "Epoch 97/600\n",
            "30/55 [===============>..............] - ETA: 36s - loss: 0.0695 - mean_iou: 0.3594"
          ],
          "name": "stdout"
        },
        {
          "output_type": "stream",
          "text": [
            "56/55 [==============================] - 86s 2s/step - loss: 0.0656 - mean_iou: 0.3595 - val_loss: 0.3270 - val_mean_iou: 0.3596\n",
            "Epoch 98/600\n",
            "56/55 [==============================] - 86s 2s/step - loss: 0.0646 - mean_iou: 0.3597 - val_loss: 0.2820 - val_mean_iou: 0.3599\n",
            "Epoch 99/600\n",
            "56/55 [==============================] - 86s 2s/step - loss: 0.0653 - mean_iou: 0.3600 - val_loss: 0.2856 - val_mean_iou: 0.3601\n",
            "Epoch 100/600\n",
            "56/55 [==============================] - 86s 2s/step - loss: 0.0649 - mean_iou: 0.3602 - val_loss: 0.4452 - val_mean_iou: 0.3604\n",
            "Epoch 101/600\n",
            "52/55 [===========================>..] - ETA: 4s - loss: 0.0653 - mean_iou: 0.3604"
          ],
          "name": "stdout"
        },
        {
          "output_type": "stream",
          "text": [
            "56/55 [==============================] - 86s 2s/step - loss: 0.0651 - mean_iou: 0.3604 - val_loss: 0.4100 - val_mean_iou: 0.3606\n",
            "Epoch 102/600\n",
            "56/55 [==============================] - 86s 2s/step - loss: 0.0642 - mean_iou: 0.3607 - val_loss: 0.2722 - val_mean_iou: 0.3609\n",
            "Epoch 103/600\n",
            "56/55 [==============================] - 86s 2s/step - loss: 0.0685 - mean_iou: 0.3610 - val_loss: 0.4012 - val_mean_iou: 0.3611\n",
            "Epoch 104/600\n",
            "56/55 [==============================] - 86s 2s/step - loss: 0.0676 - mean_iou: 0.3612 - val_loss: 0.3278 - val_mean_iou: 0.3613\n",
            "Epoch 105/600\n",
            "54/55 [============================>.] - ETA: 1s - loss: 0.0669 - mean_iou: 0.3614"
          ],
          "name": "stdout"
        },
        {
          "output_type": "stream",
          "text": [
            "56/55 [==============================] - 86s 2s/step - loss: 0.0665 - mean_iou: 0.3614 - val_loss: 0.3662 - val_mean_iou: 0.3615\n",
            "Epoch 106/600\n",
            "56/55 [==============================] - 86s 2s/step - loss: 0.0661 - mean_iou: 0.3616 - val_loss: 0.2369 - val_mean_iou: 0.3617\n",
            "Epoch 107/600\n",
            "56/55 [==============================] - 86s 2s/step - loss: 0.0650 - mean_iou: 0.3618 - val_loss: 0.2967 - val_mean_iou: 0.3620\n",
            "Epoch 108/600\n",
            "56/55 [==============================] - 86s 2s/step - loss: 0.0639 - mean_iou: 0.3621 - val_loss: 0.2782 - val_mean_iou: 0.3622\n",
            "Epoch 109/600\n",
            "55/55 [============================>.] - ETA: 0s - loss: 0.0638 - mean_iou: 0.3623"
          ],
          "name": "stdout"
        },
        {
          "output_type": "stream",
          "text": [
            "\b\b\b\b\b\b\b\b\b\b\b\b\b\b\b\b\b\b\b\b\b\b\b\b\b\b\b\b\b\b\b\b\b\b\b\b\b\b\b\b\b\b\b\b\b\b\b\b\b\b\b\b\b\b\b\b\b\b\b\b\b\b\b\b\b\b\b\b\b\b\b\b\b\b\b\b\b\b\b\b\b\b\r56/55 [==============================] - 86s 2s/step - loss: 0.0636 - mean_iou: 0.3623 - val_loss: 0.3736 - val_mean_iou: 0.3624\n",
            "Epoch 110/600\n",
            "56/55 [==============================] - 86s 2s/step - loss: 0.0644 - mean_iou: 0.3626 - val_loss: 0.3721 - val_mean_iou: 0.3627\n",
            "Epoch 111/600\n",
            "56/55 [==============================] - 86s 2s/step - loss: 0.0632 - mean_iou: 0.3628 - val_loss: 0.3511 - val_mean_iou: 0.3629\n",
            "Epoch 112/600\n",
            "56/55 [==============================] - 86s 2s/step - loss: 0.0635 - mean_iou: 0.3630 - val_loss: 0.3186 - val_mean_iou: 0.3631\n",
            "Epoch 113/600\n",
            "29/55 [==============>...............] - ETA: 38s - loss: 0.0651 - mean_iou: 0.3631"
          ],
          "name": "stdout"
        },
        {
          "output_type": "stream",
          "text": [
            "56/55 [==============================] - 86s 2s/step - loss: 0.0650 - mean_iou: 0.3632 - val_loss: 0.2286 - val_mean_iou: 0.3633\n",
            "Epoch 114/600\n",
            "56/55 [==============================] - 86s 2s/step - loss: 0.0642 - mean_iou: 0.3634 - val_loss: 0.3285 - val_mean_iou: 0.3635\n",
            "Epoch 115/600\n",
            "56/55 [==============================] - 86s 2s/step - loss: 0.0646 - mean_iou: 0.3636 - val_loss: 0.3365 - val_mean_iou: 0.3637\n",
            "Epoch 116/600\n",
            "56/55 [==============================] - 86s 2s/step - loss: 0.0640 - mean_iou: 0.3638 - val_loss: 0.4488 - val_mean_iou: 0.3639\n",
            "Epoch 117/600\n",
            "51/55 [==========================>...] - ETA: 6s - loss: 0.0634 - mean_iou: 0.3640"
          ],
          "name": "stdout"
        },
        {
          "output_type": "stream",
          "text": [
            "56/55 [==============================] - 86s 2s/step - loss: 0.0627 - mean_iou: 0.3640 - val_loss: 0.3417 - val_mean_iou: 0.3641\n",
            "Epoch 118/600\n",
            "56/55 [==============================] - 86s 2s/step - loss: 0.0646 - mean_iou: 0.3642 - val_loss: 0.3925 - val_mean_iou: 0.3643\n",
            "Epoch 119/600\n",
            "56/55 [==============================] - 86s 2s/step - loss: 0.0617 - mean_iou: 0.3644 - val_loss: 0.3491 - val_mean_iou: 0.3645\n",
            "Epoch 120/600\n",
            "56/55 [==============================] - 86s 2s/step - loss: 0.0643 - mean_iou: 0.3646 - val_loss: 0.3856 - val_mean_iou: 0.3647\n",
            "Epoch 121/600\n",
            "54/55 [============================>.] - ETA: 1s - loss: 0.0624 - mean_iou: 0.3648"
          ],
          "name": "stdout"
        },
        {
          "output_type": "stream",
          "text": [
            "56/55 [==============================] - 86s 2s/step - loss: 0.0634 - mean_iou: 0.3648 - val_loss: 0.4124 - val_mean_iou: 0.3649\n",
            "Epoch 122/600\n",
            "56/55 [==============================] - 87s 2s/step - loss: 0.0634 - mean_iou: 0.3650 - val_loss: 0.4066 - val_mean_iou: 0.3651\n",
            "Epoch 123/600\n",
            "56/55 [==============================] - 86s 2s/step - loss: 0.0653 - mean_iou: 0.3652 - val_loss: 0.3278 - val_mean_iou: 0.3653\n",
            "Epoch 124/600\n",
            "56/55 [==============================] - 87s 2s/step - loss: 0.0638 - mean_iou: 0.3654 - val_loss: 0.3775 - val_mean_iou: 0.3655\n",
            "Epoch 125/600\n",
            "55/55 [============================>.] - ETA: 0s - loss: 0.0642 - mean_iou: 0.3656"
          ],
          "name": "stdout"
        },
        {
          "output_type": "stream",
          "text": [
            "\b\b\b\b\b\b\b\b\b\b\b\b\b\b\b\b\b\b\b\b\b\b\b\b\b\b\b\b\b\b\b\b\b\b\b\b\b\b\b\b\b\b\b\b\b\b\b\b\b\b\b\b\b\b\b\b\b\b\b\b\b\b\b\b\b\b\b\b\b\b\b\b\b\b\b\b\b\b\b\b\b\b\r56/55 [==============================] - 86s 2s/step - loss: 0.0636 - mean_iou: 0.3656 - val_loss: 0.3433 - val_mean_iou: 0.3657\n",
            "Epoch 126/600\n",
            "56/55 [==============================] - 86s 2s/step - loss: 0.0624 - mean_iou: 0.3658 - val_loss: 0.4671 - val_mean_iou: 0.3659\n",
            "Epoch 127/600\n",
            "56/55 [==============================] - 86s 2s/step - loss: 0.0615 - mean_iou: 0.3660 - val_loss: 0.3873 - val_mean_iou: 0.3661\n",
            "Epoch 128/600\n",
            "56/55 [==============================] - 86s 2s/step - loss: 0.0637 - mean_iou: 0.3662 - val_loss: 0.4336 - val_mean_iou: 0.3663\n",
            "Epoch 129/600\n",
            "29/55 [==============>...............] - ETA: 38s - loss: 0.0586 - mean_iou: 0.3663"
          ],
          "name": "stdout"
        },
        {
          "output_type": "stream",
          "text": [
            "56/55 [==============================] - 86s 2s/step - loss: 0.0636 - mean_iou: 0.3664 - val_loss: 0.3320 - val_mean_iou: 0.3665\n",
            "Epoch 130/600\n",
            "56/55 [==============================] - 86s 2s/step - loss: 0.0618 - mean_iou: 0.3665 - val_loss: 0.2622 - val_mean_iou: 0.3666\n",
            "Epoch 131/600\n",
            "56/55 [==============================] - 86s 2s/step - loss: 0.0621 - mean_iou: 0.3667 - val_loss: 0.3286 - val_mean_iou: 0.3669\n",
            "Epoch 132/600\n",
            "56/55 [==============================] - 86s 2s/step - loss: 0.0642 - mean_iou: 0.3669 - val_loss: 0.2751 - val_mean_iou: 0.3670\n",
            "Epoch 133/600\n",
            "51/55 [==========================>...] - ETA: 6s - loss: 0.0601 - mean_iou: 0.3671"
          ],
          "name": "stdout"
        },
        {
          "output_type": "stream",
          "text": [
            "56/55 [==============================] - 86s 2s/step - loss: 0.0609 - mean_iou: 0.3671 - val_loss: 0.3999 - val_mean_iou: 0.3672\n",
            "Epoch 134/600\n",
            "56/55 [==============================] - 86s 2s/step - loss: 0.0612 - mean_iou: 0.3673 - val_loss: 0.3259 - val_mean_iou: 0.3674\n",
            "Epoch 135/600\n",
            "56/55 [==============================] - 86s 2s/step - loss: 0.0606 - mean_iou: 0.3674 - val_loss: 0.3590 - val_mean_iou: 0.3675\n",
            "Epoch 136/600\n",
            "56/55 [==============================] - 86s 2s/step - loss: 0.0632 - mean_iou: 0.3676 - val_loss: 0.3184 - val_mean_iou: 0.3676\n",
            "Epoch 137/600\n",
            "54/55 [============================>.] - ETA: 1s - loss: 0.0608 - mean_iou: 0.3676"
          ],
          "name": "stdout"
        },
        {
          "output_type": "stream",
          "text": [
            "56/55 [==============================] - 86s 2s/step - loss: 0.0604 - mean_iou: 0.3677 - val_loss: 0.3428 - val_mean_iou: 0.3677\n",
            "Epoch 138/600\n",
            "56/55 [==============================] - 86s 2s/step - loss: 0.0611 - mean_iou: 0.3678 - val_loss: 0.3864 - val_mean_iou: 0.3679\n",
            "Epoch 139/600\n",
            "56/55 [==============================] - 87s 2s/step - loss: 0.0614 - mean_iou: 0.3680 - val_loss: 0.4012 - val_mean_iou: 0.3680\n",
            "Epoch 140/600\n",
            "56/55 [==============================] - 86s 2s/step - loss: 0.0632 - mean_iou: 0.3681 - val_loss: 0.3380 - val_mean_iou: 0.3682\n",
            "Epoch 141/600\n",
            "55/55 [============================>.] - ETA: 0s - loss: 0.0641 - mean_iou: 0.3682"
          ],
          "name": "stdout"
        },
        {
          "output_type": "stream",
          "text": [
            "\b\b\b\b\b\b\b\b\b\b\b\b\b\b\b\b\b\b\b\b\b\b\b\b\b\b\b\b\b\b\b\b\b\b\b\b\b\b\b\b\b\b\b\b\b\b\b\b\b\b\b\b\b\b\b\b\b\b\b\b\b\b\b\b\b\b\b\b\b\b\b\b\b\b\b\b\b\b\b\b\b\b\r56/55 [==============================] - 86s 2s/step - loss: 0.0638 - mean_iou: 0.3682 - val_loss: 0.3113 - val_mean_iou: 0.3683\n",
            "Epoch 142/600\n",
            "56/55 [==============================] - 86s 2s/step - loss: 0.0614 - mean_iou: 0.3684 - val_loss: 0.3597 - val_mean_iou: 0.3685\n",
            "Epoch 143/600\n",
            "56/55 [==============================] - 86s 2s/step - loss: 0.0627 - mean_iou: 0.3686 - val_loss: 0.2721 - val_mean_iou: 0.3686\n",
            "Epoch 144/600\n",
            "56/55 [==============================] - 86s 2s/step - loss: 0.0621 - mean_iou: 0.3687 - val_loss: 0.2607 - val_mean_iou: 0.3688\n",
            "Epoch 145/600\n",
            "29/55 [==============>...............] - ETA: 38s - loss: 0.0577 - mean_iou: 0.3688"
          ],
          "name": "stdout"
        },
        {
          "output_type": "stream",
          "text": [
            "56/55 [==============================] - 86s 2s/step - loss: 0.0595 - mean_iou: 0.3689 - val_loss: 0.2892 - val_mean_iou: 0.3690\n",
            "Epoch 146/600\n",
            "56/55 [==============================] - 86s 2s/step - loss: 0.0590 - mean_iou: 0.3691 - val_loss: 0.3698 - val_mean_iou: 0.3691\n",
            "Epoch 147/600\n",
            "56/55 [==============================] - 86s 2s/step - loss: 0.0605 - mean_iou: 0.3692 - val_loss: 0.3764 - val_mean_iou: 0.3693\n",
            "Epoch 148/600\n",
            "56/55 [==============================] - 86s 2s/step - loss: 0.0606 - mean_iou: 0.3694 - val_loss: 0.2380 - val_mean_iou: 0.3695\n",
            "Epoch 149/600\n",
            "51/55 [==========================>...] - ETA: 6s - loss: 0.0622 - mean_iou: 0.3696"
          ],
          "name": "stdout"
        },
        {
          "output_type": "stream",
          "text": [
            "56/55 [==============================] - 86s 2s/step - loss: 0.0607 - mean_iou: 0.3696 - val_loss: 0.3993 - val_mean_iou: 0.3696\n",
            "Epoch 150/600\n",
            "56/55 [==============================] - 87s 2s/step - loss: 0.0601 - mean_iou: 0.3697 - val_loss: 0.4164 - val_mean_iou: 0.3698\n",
            "Epoch 151/600\n",
            "56/55 [==============================] - 86s 2s/step - loss: 0.0596 - mean_iou: 0.3699 - val_loss: 0.3744 - val_mean_iou: 0.3700\n",
            "Epoch 152/600\n",
            "56/55 [==============================] - 86s 2s/step - loss: 0.0619 - mean_iou: 0.3700 - val_loss: 0.4425 - val_mean_iou: 0.3701\n",
            "Epoch 153/600\n",
            "54/55 [============================>.] - ETA: 1s - loss: 0.0617 - mean_iou: 0.3702"
          ],
          "name": "stdout"
        },
        {
          "output_type": "stream",
          "text": [
            "56/55 [==============================] - 86s 2s/step - loss: 0.0613 - mean_iou: 0.3702 - val_loss: 0.4141 - val_mean_iou: 0.3702\n",
            "Epoch 154/600\n",
            "56/55 [==============================] - 86s 2s/step - loss: 0.0611 - mean_iou: 0.3703 - val_loss: 0.4346 - val_mean_iou: 0.3704\n",
            "Epoch 155/600\n",
            "56/55 [==============================] - 86s 2s/step - loss: 0.0598 - mean_iou: 0.3704 - val_loss: 0.3435 - val_mean_iou: 0.3705\n",
            "Epoch 156/600\n",
            "56/55 [==============================] - 86s 2s/step - loss: 0.0594 - mean_iou: 0.3706 - val_loss: 0.3664 - val_mean_iou: 0.3706\n",
            "Epoch 157/600\n",
            "55/55 [============================>.] - ETA: 0s - loss: 0.0629 - mean_iou: 0.3707"
          ],
          "name": "stdout"
        },
        {
          "output_type": "stream",
          "text": [
            "\b\b\b\b\b\b\b\b\b\b\b\b\b\b\b\b\b\b\b\b\b\b\b\b\b\b\b\b\b\b\b\b\b\b\b\b\b\b\b\b\b\b\b\b\b\b\b\b\b\b\b\b\b\b\b\b\b\b\b\b\b\b\b\b\b\b\b\b\b\b\b\b\b\b\b\b\b\b\b\b\b\b\r56/55 [==============================] - 86s 2s/step - loss: 0.0632 - mean_iou: 0.3707 - val_loss: 0.5016 - val_mean_iou: 0.3708\n",
            "Epoch 158/600\n",
            "56/55 [==============================] - 86s 2s/step - loss: 0.0612 - mean_iou: 0.3708 - val_loss: 0.3851 - val_mean_iou: 0.3709\n",
            "Epoch 159/600\n",
            "56/55 [==============================] - 86s 2s/step - loss: 0.0595 - mean_iou: 0.3709 - val_loss: 0.2936 - val_mean_iou: 0.3710\n",
            "Epoch 160/600\n",
            "56/55 [==============================] - 86s 2s/step - loss: 0.0592 - mean_iou: 0.3711 - val_loss: 0.4365 - val_mean_iou: 0.3712\n",
            "Epoch 161/600\n",
            "29/55 [==============>...............] - ETA: 38s - loss: 0.0645 - mean_iou: 0.3712"
          ],
          "name": "stdout"
        },
        {
          "output_type": "stream",
          "text": [
            "56/55 [==============================] - 86s 2s/step - loss: 0.0593 - mean_iou: 0.3712 - val_loss: 0.3033 - val_mean_iou: 0.3713\n",
            "Epoch 162/600\n",
            "56/55 [==============================] - 86s 2s/step - loss: 0.0580 - mean_iou: 0.3713 - val_loss: 0.3913 - val_mean_iou: 0.3714\n",
            "Epoch 163/600\n",
            "56/55 [==============================] - 86s 2s/step - loss: 0.0592 - mean_iou: 0.3715 - val_loss: 0.4459 - val_mean_iou: 0.3716\n",
            "Epoch 164/600\n",
            "56/55 [==============================] - 86s 2s/step - loss: 0.0602 - mean_iou: 0.3716 - val_loss: 0.4865 - val_mean_iou: 0.3717\n",
            "Epoch 165/600\n",
            "51/55 [==========================>...] - ETA: 6s - loss: 0.0601 - mean_iou: 0.3717"
          ],
          "name": "stdout"
        },
        {
          "output_type": "stream",
          "text": [
            "56/55 [==============================] - 86s 2s/step - loss: 0.0606 - mean_iou: 0.3717 - val_loss: 0.3363 - val_mean_iou: 0.3718\n",
            "Epoch 166/600\n",
            "56/55 [==============================] - 86s 2s/step - loss: 0.0605 - mean_iou: 0.3718 - val_loss: 0.4463 - val_mean_iou: 0.3719\n",
            "Epoch 167/600\n",
            "56/55 [==============================] - 86s 2s/step - loss: 0.0611 - mean_iou: 0.3719 - val_loss: 0.3494 - val_mean_iou: 0.3720\n",
            "Epoch 168/600\n",
            "56/55 [==============================] - 86s 2s/step - loss: 0.0585 - mean_iou: 0.3720 - val_loss: 0.4336 - val_mean_iou: 0.3721\n",
            "Epoch 169/600\n",
            "54/55 [============================>.] - ETA: 1s - loss: 0.0606 - mean_iou: 0.3722"
          ],
          "name": "stdout"
        },
        {
          "output_type": "stream",
          "text": [
            "56/55 [==============================] - 86s 2s/step - loss: 0.0609 - mean_iou: 0.3722 - val_loss: 0.3597 - val_mean_iou: 0.3722\n",
            "Epoch 170/600\n",
            "56/55 [==============================] - 86s 2s/step - loss: 0.0588 - mean_iou: 0.3723 - val_loss: 0.3497 - val_mean_iou: 0.3724\n",
            "Epoch 171/600\n",
            "56/55 [==============================] - 86s 2s/step - loss: 0.0602 - mean_iou: 0.3724 - val_loss: 0.3602 - val_mean_iou: 0.3725\n",
            "Epoch 172/600\n",
            "56/55 [==============================] - 86s 2s/step - loss: 0.0609 - mean_iou: 0.3725 - val_loss: 0.2797 - val_mean_iou: 0.3726\n",
            "Epoch 173/600\n",
            "55/55 [============================>.] - ETA: 0s - loss: 0.0598 - mean_iou: 0.3726"
          ],
          "name": "stdout"
        },
        {
          "output_type": "stream",
          "text": [
            "\b\b\b\b\b\b\b\b\b\b\b\b\b\b\b\b\b\b\b\b\b\b\b\b\b\b\b\b\b\b\b\b\b\b\b\b\b\b\b\b\b\b\b\b\b\b\b\b\b\b\b\b\b\b\b\b\b\b\b\b\b\b\b\b\b\b\b\b\b\b\b\b\b\b\b\b\b\b\b\b\b\b\r56/55 [==============================] - 86s 2s/step - loss: 0.0598 - mean_iou: 0.3726 - val_loss: 0.4149 - val_mean_iou: 0.3727\n",
            "Epoch 174/600\n",
            "56/55 [==============================] - 86s 2s/step - loss: 0.0600 - mean_iou: 0.3727 - val_loss: 0.5214 - val_mean_iou: 0.3728\n",
            "Epoch 175/600\n",
            "56/55 [==============================] - 86s 2s/step - loss: 0.0585 - mean_iou: 0.3728 - val_loss: 0.3288 - val_mean_iou: 0.3729\n",
            "Epoch 176/600\n",
            "56/55 [==============================] - 86s 2s/step - loss: 0.0590 - mean_iou: 0.3730 - val_loss: 0.3997 - val_mean_iou: 0.3730\n",
            "Epoch 177/600\n",
            "29/55 [==============>...............] - ETA: 37s - loss: 0.0594 - mean_iou: 0.3730"
          ],
          "name": "stdout"
        },
        {
          "output_type": "stream",
          "text": [
            "56/55 [==============================] - 86s 2s/step - loss: 0.0578 - mean_iou: 0.3731 - val_loss: 0.4245 - val_mean_iou: 0.3731\n",
            "Epoch 178/600\n",
            "56/55 [==============================] - 86s 2s/step - loss: 0.0595 - mean_iou: 0.3732 - val_loss: 0.4311 - val_mean_iou: 0.3732\n",
            "Epoch 179/600\n",
            "56/55 [==============================] - 86s 2s/step - loss: 0.0584 - mean_iou: 0.3733 - val_loss: 0.4614 - val_mean_iou: 0.3733\n",
            "Epoch 180/600\n",
            "56/55 [==============================] - 86s 2s/step - loss: 0.0589 - mean_iou: 0.3734 - val_loss: 0.4001 - val_mean_iou: 0.3734\n",
            "Epoch 181/600\n",
            "51/55 [==========================>...] - ETA: 6s - loss: 0.0590 - mean_iou: 0.3735"
          ],
          "name": "stdout"
        },
        {
          "output_type": "stream",
          "text": [
            "56/55 [==============================] - 86s 2s/step - loss: 0.0593 - mean_iou: 0.3735 - val_loss: 0.3789 - val_mean_iou: 0.3735\n",
            "Epoch 182/600\n",
            "56/55 [==============================] - 86s 2s/step - loss: 0.0589 - mean_iou: 0.3736 - val_loss: 0.3765 - val_mean_iou: 0.3736\n",
            "Epoch 183/600\n",
            "56/55 [==============================] - 86s 2s/step - loss: 0.0596 - mean_iou: 0.3737 - val_loss: 0.4160 - val_mean_iou: 0.3737\n",
            "Epoch 184/600\n",
            "56/55 [==============================] - 86s 2s/step - loss: 0.0592 - mean_iou: 0.3738 - val_loss: 0.4174 - val_mean_iou: 0.3738\n",
            "Epoch 185/600\n",
            "54/55 [============================>.] - ETA: 1s - loss: 0.0586 - mean_iou: 0.3739"
          ],
          "name": "stdout"
        },
        {
          "output_type": "stream",
          "text": [
            "56/55 [==============================] - 86s 2s/step - loss: 0.0586 - mean_iou: 0.3739 - val_loss: 0.4010 - val_mean_iou: 0.3740\n",
            "Epoch 186/600\n",
            "56/55 [==============================] - 86s 2s/step - loss: 0.0586 - mean_iou: 0.3740 - val_loss: 0.4118 - val_mean_iou: 0.3741\n",
            "Epoch 187/600\n",
            "56/55 [==============================] - 86s 2s/step - loss: 0.0580 - mean_iou: 0.3741 - val_loss: 0.2964 - val_mean_iou: 0.3742\n",
            "Epoch 188/600\n",
            "56/55 [==============================] - 86s 2s/step - loss: 0.0579 - mean_iou: 0.3743 - val_loss: 0.3775 - val_mean_iou: 0.3743\n",
            "Epoch 189/600\n",
            "55/55 [============================>.] - ETA: 0s - loss: 0.0581 - mean_iou: 0.3744"
          ],
          "name": "stdout"
        },
        {
          "output_type": "stream",
          "text": [
            "\b\b\b\b\b\b\b\b\b\b\b\b\b\b\b\b\b\b\b\b\b\b\b\b\b\b\b\b\b\b\b\b\b\b\b\b\b\b\b\b\b\b\b\b\b\b\b\b\b\b\b\b\b\b\b\b\b\b\b\b\b\b\b\b\b\b\b\b\b\b\b\b\b\b\b\b\b\b\b\b\b\b\r56/55 [==============================] - 86s 2s/step - loss: 0.0578 - mean_iou: 0.3744 - val_loss: 0.4672 - val_mean_iou: 0.3744\n",
            "Epoch 190/600\n",
            "56/55 [==============================] - 86s 2s/step - loss: 0.0590 - mean_iou: 0.3745 - val_loss: 0.3965 - val_mean_iou: 0.3745\n",
            "Epoch 191/600\n",
            "56/55 [==============================] - 86s 2s/step - loss: 0.0583 - mean_iou: 0.3746 - val_loss: 0.4024 - val_mean_iou: 0.3746\n",
            "Epoch 192/600\n",
            "56/55 [==============================] - 86s 2s/step - loss: 0.0608 - mean_iou: 0.3747 - val_loss: 0.3184 - val_mean_iou: 0.3747\n",
            "Epoch 193/600\n",
            "29/55 [==============>...............] - ETA: 38s - loss: 0.0524 - mean_iou: 0.3748"
          ],
          "name": "stdout"
        },
        {
          "output_type": "stream",
          "text": [
            "56/55 [==============================] - 86s 2s/step - loss: 0.0576 - mean_iou: 0.3748 - val_loss: 0.4193 - val_mean_iou: 0.3748\n",
            "Epoch 194/600\n",
            "56/55 [==============================] - 86s 2s/step - loss: 0.0597 - mean_iou: 0.3749 - val_loss: 0.4112 - val_mean_iou: 0.3749\n",
            "Epoch 195/600\n",
            "56/55 [==============================] - 86s 2s/step - loss: 0.0587 - mean_iou: 0.3750 - val_loss: 0.4566 - val_mean_iou: 0.3750\n",
            "Epoch 196/600\n",
            "56/55 [==============================] - 86s 2s/step - loss: 0.0574 - mean_iou: 0.3751 - val_loss: 0.4571 - val_mean_iou: 0.3751\n",
            "Epoch 197/600\n",
            "51/55 [==========================>...] - ETA: 6s - loss: 0.0583 - mean_iou: 0.3752"
          ],
          "name": "stdout"
        },
        {
          "output_type": "stream",
          "text": [
            "56/55 [==============================] - 86s 2s/step - loss: 0.0586 - mean_iou: 0.3752 - val_loss: 0.3363 - val_mean_iou: 0.3752\n",
            "Epoch 198/600\n",
            "56/55 [==============================] - 86s 2s/step - loss: 0.0588 - mean_iou: 0.3753 - val_loss: 0.4424 - val_mean_iou: 0.3753\n",
            "Epoch 199/600\n",
            "56/55 [==============================] - 86s 2s/step - loss: 0.0586 - mean_iou: 0.3754 - val_loss: 0.2800 - val_mean_iou: 0.3754\n",
            "Epoch 200/600\n",
            "56/55 [==============================] - 86s 2s/step - loss: 0.0572 - mean_iou: 0.3755 - val_loss: 0.3969 - val_mean_iou: 0.3755\n",
            "Epoch 201/600\n",
            "54/55 [============================>.] - ETA: 1s - loss: 0.0561 - mean_iou: 0.3756"
          ],
          "name": "stdout"
        },
        {
          "output_type": "stream",
          "text": [
            "56/55 [==============================] - 86s 2s/step - loss: 0.0558 - mean_iou: 0.3756 - val_loss: 0.3705 - val_mean_iou: 0.3756\n",
            "Epoch 202/600\n",
            "56/55 [==============================] - 86s 2s/step - loss: 0.0564 - mean_iou: 0.3757 - val_loss: 0.4117 - val_mean_iou: 0.3758\n",
            "Epoch 203/600\n",
            "56/55 [==============================] - 86s 2s/step - loss: 0.0581 - mean_iou: 0.3758 - val_loss: 0.4398 - val_mean_iou: 0.3758\n",
            "Epoch 204/600\n",
            "56/55 [==============================] - 86s 2s/step - loss: 0.0594 - mean_iou: 0.3759 - val_loss: 0.3735 - val_mean_iou: 0.3759\n",
            "Epoch 205/600\n",
            "55/55 [============================>.] - ETA: 0s - loss: 0.0591 - mean_iou: 0.3759"
          ],
          "name": "stdout"
        },
        {
          "output_type": "stream",
          "text": [
            "\b\b\b\b\b\b\b\b\b\b\b\b\b\b\b\b\b\b\b\b\b\b\b\b\b\b\b\b\b\b\b\b\b\b\b\b\b\b\b\b\b\b\b\b\b\b\b\b\b\b\b\b\b\b\b\b\b\b\b\b\b\b\b\b\b\b\b\b\b\b\b\b\b\b\b\b\b\b\b\b\b\b\r56/55 [==============================] - 86s 2s/step - loss: 0.0587 - mean_iou: 0.3759 - val_loss: 0.3474 - val_mean_iou: 0.3760\n",
            "Epoch 206/600\n",
            "56/55 [==============================] - 86s 2s/step - loss: 0.0603 - mean_iou: 0.3760 - val_loss: 0.4205 - val_mean_iou: 0.3761\n",
            "Epoch 207/600\n",
            "56/55 [==============================] - 86s 2s/step - loss: 0.0605 - mean_iou: 0.3761 - val_loss: 0.3779 - val_mean_iou: 0.3762\n",
            "Epoch 208/600\n",
            "56/55 [==============================] - 86s 2s/step - loss: 0.0581 - mean_iou: 0.3762 - val_loss: 0.5074 - val_mean_iou: 0.3763\n",
            "Epoch 209/600\n",
            "29/55 [==============>...............] - ETA: 37s - loss: 0.0550 - mean_iou: 0.3763"
          ],
          "name": "stdout"
        },
        {
          "output_type": "stream",
          "text": [
            "56/55 [==============================] - 86s 2s/step - loss: 0.0573 - mean_iou: 0.3763 - val_loss: 0.4060 - val_mean_iou: 0.3763\n",
            "Epoch 210/600\n",
            "56/55 [==============================] - 86s 2s/step - loss: 0.0575 - mean_iou: 0.3764 - val_loss: 0.4025 - val_mean_iou: 0.3764\n",
            "Epoch 211/600\n",
            "56/55 [==============================] - 86s 2s/step - loss: 0.0575 - mean_iou: 0.3765 - val_loss: 0.3477 - val_mean_iou: 0.3765\n",
            "Epoch 212/600\n",
            "56/55 [==============================] - 86s 2s/step - loss: 0.0567 - mean_iou: 0.3766 - val_loss: 0.4148 - val_mean_iou: 0.3766\n",
            "Epoch 213/600\n",
            "51/55 [==========================>...] - ETA: 6s - loss: 0.0591 - mean_iou: 0.3767"
          ],
          "name": "stdout"
        },
        {
          "output_type": "stream",
          "text": [
            "56/55 [==============================] - 86s 2s/step - loss: 0.0583 - mean_iou: 0.3767 - val_loss: 0.3941 - val_mean_iou: 0.3767\n",
            "Epoch 214/600\n",
            "56/55 [==============================] - 86s 2s/step - loss: 0.0572 - mean_iou: 0.3768 - val_loss: 0.4507 - val_mean_iou: 0.3768\n",
            "Epoch 215/600\n",
            "56/55 [==============================] - 86s 2s/step - loss: 0.0573 - mean_iou: 0.3769 - val_loss: 0.4782 - val_mean_iou: 0.3769\n",
            "Epoch 216/600\n",
            "56/55 [==============================] - 86s 2s/step - loss: 0.0571 - mean_iou: 0.3769 - val_loss: 0.3694 - val_mean_iou: 0.3770\n",
            "Epoch 217/600\n",
            "54/55 [============================>.] - ETA: 1s - loss: 0.0567 - mean_iou: 0.3770"
          ],
          "name": "stdout"
        },
        {
          "output_type": "stream",
          "text": [
            "56/55 [==============================] - 86s 2s/step - loss: 0.0566 - mean_iou: 0.3770 - val_loss: 0.3320 - val_mean_iou: 0.3771\n",
            "Epoch 218/600\n",
            "56/55 [==============================] - 86s 2s/step - loss: 0.0577 - mean_iou: 0.3771 - val_loss: 0.3601 - val_mean_iou: 0.3772\n",
            "Epoch 219/600\n",
            "56/55 [==============================] - 86s 2s/step - loss: 0.0568 - mean_iou: 0.3772 - val_loss: 0.4679 - val_mean_iou: 0.3773\n",
            "Epoch 220/600\n",
            "56/55 [==============================] - 86s 2s/step - loss: 0.0570 - mean_iou: 0.3773 - val_loss: 0.5069 - val_mean_iou: 0.3774\n",
            "Epoch 221/600\n",
            "55/55 [============================>.] - ETA: 0s - loss: 0.0553 - mean_iou: 0.3774"
          ],
          "name": "stdout"
        },
        {
          "output_type": "stream",
          "text": [
            "\b\b\b\b\b\b\b\b\b\b\b\b\b\b\b\b\b\b\b\b\b\b\b\b\b\b\b\b\b\b\b\b\b\b\b\b\b\b\b\b\b\b\b\b\b\b\b\b\b\b\b\b\b\b\b\b\b\b\b\b\b\b\b\b\b\b\b\b\b\b\b\b\b\b\b\b\b\b\b\b\b\b\r56/55 [==============================] - 86s 2s/step - loss: 0.0553 - mean_iou: 0.3774 - val_loss: 0.4155 - val_mean_iou: 0.3774\n",
            "Epoch 222/600\n",
            "56/55 [==============================] - 86s 2s/step - loss: 0.0568 - mean_iou: 0.3775 - val_loss: 0.4558 - val_mean_iou: 0.3775\n",
            "Epoch 223/600\n",
            "56/55 [==============================] - 86s 2s/step - loss: 0.0581 - mean_iou: 0.3776 - val_loss: 0.3811 - val_mean_iou: 0.3776\n",
            "Epoch 224/600\n",
            "56/55 [==============================] - 86s 2s/step - loss: 0.0569 - mean_iou: 0.3776 - val_loss: 0.3822 - val_mean_iou: 0.3777\n",
            "Epoch 225/600\n",
            "29/55 [==============>...............] - ETA: 38s - loss: 0.0602 - mean_iou: 0.3777"
          ],
          "name": "stdout"
        },
        {
          "output_type": "stream",
          "text": [
            "56/55 [==============================] - 86s 2s/step - loss: 0.0557 - mean_iou: 0.3777 - val_loss: 0.5399 - val_mean_iou: 0.3778\n",
            "Epoch 226/600\n",
            "56/55 [==============================] - 86s 2s/step - loss: 0.0567 - mean_iou: 0.3778 - val_loss: 0.4596 - val_mean_iou: 0.3778\n",
            "Epoch 227/600\n",
            "56/55 [==============================] - 86s 2s/step - loss: 0.0578 - mean_iou: 0.3779 - val_loss: 0.3805 - val_mean_iou: 0.3779\n",
            "Epoch 228/600\n",
            "56/55 [==============================] - 87s 2s/step - loss: 0.0565 - mean_iou: 0.3780 - val_loss: 0.4932 - val_mean_iou: 0.3780\n",
            "Epoch 229/600\n",
            "51/55 [==========================>...] - ETA: 6s - loss: 0.0553 - mean_iou: 0.3781"
          ],
          "name": "stdout"
        },
        {
          "output_type": "stream",
          "text": [
            "56/55 [==============================] - 86s 2s/step - loss: 0.0556 - mean_iou: 0.3781 - val_loss: 0.4108 - val_mean_iou: 0.3781\n",
            "Epoch 230/600\n",
            "56/55 [==============================] - 86s 2s/step - loss: 0.0569 - mean_iou: 0.3782 - val_loss: 0.6062 - val_mean_iou: 0.3782\n",
            "Epoch 231/600\n",
            "56/55 [==============================] - 86s 2s/step - loss: 0.0573 - mean_iou: 0.3782 - val_loss: 0.4666 - val_mean_iou: 0.3783\n",
            "Epoch 232/600\n",
            "56/55 [==============================] - 86s 2s/step - loss: 0.0592 - mean_iou: 0.3783 - val_loss: 0.3241 - val_mean_iou: 0.3783\n",
            "Epoch 233/600\n",
            "54/55 [============================>.] - ETA: 1s - loss: 0.0552 - mean_iou: 0.3784"
          ],
          "name": "stdout"
        },
        {
          "output_type": "stream",
          "text": [
            "56/55 [==============================] - 86s 2s/step - loss: 0.0555 - mean_iou: 0.3784 - val_loss: 0.4569 - val_mean_iou: 0.3785\n",
            "Epoch 234/600\n",
            "56/55 [==============================] - 86s 2s/step - loss: 0.0560 - mean_iou: 0.3785 - val_loss: 0.3925 - val_mean_iou: 0.3785\n",
            "Epoch 235/600\n",
            "56/55 [==============================] - 87s 2s/step - loss: 0.0562 - mean_iou: 0.3786 - val_loss: 0.4694 - val_mean_iou: 0.3786\n",
            "Epoch 236/600\n",
            "56/55 [==============================] - 86s 2s/step - loss: 0.0560 - mean_iou: 0.3787 - val_loss: 0.4658 - val_mean_iou: 0.3787\n",
            "Epoch 237/600\n",
            "55/55 [============================>.] - ETA: 0s - loss: 0.0572 - mean_iou: 0.3787"
          ],
          "name": "stdout"
        },
        {
          "output_type": "stream",
          "text": [
            "\b\b\b\b\b\b\b\b\b\b\b\b\b\b\b\b\b\b\b\b\b\b\b\b\b\b\b\b\b\b\b\b\b\b\b\b\b\b\b\b\b\b\b\b\b\b\b\b\b\b\b\b\b\b\b\b\b\b\b\b\b\b\b\b\b\b\b\b\b\b\b\b\b\b\b\b\b\b\b\b\b\b\r56/55 [==============================] - 86s 2s/step - loss: 0.0573 - mean_iou: 0.3787 - val_loss: 0.5065 - val_mean_iou: 0.3788\n",
            "Epoch 238/600\n",
            "56/55 [==============================] - 87s 2s/step - loss: 0.0578 - mean_iou: 0.3788 - val_loss: 0.5057 - val_mean_iou: 0.3788\n",
            "Epoch 239/600\n",
            "56/55 [==============================] - 86s 2s/step - loss: 0.0562 - mean_iou: 0.3789 - val_loss: 0.5071 - val_mean_iou: 0.3789\n",
            "Epoch 240/600\n",
            "56/55 [==============================] - 86s 2s/step - loss: 0.0565 - mean_iou: 0.3789 - val_loss: 0.3663 - val_mean_iou: 0.3790\n",
            "Epoch 241/600\n",
            "29/55 [==============>...............] - ETA: 38s - loss: 0.0552 - mean_iou: 0.3790"
          ],
          "name": "stdout"
        },
        {
          "output_type": "stream",
          "text": [
            "56/55 [==============================] - 86s 2s/step - loss: 0.0554 - mean_iou: 0.3790 - val_loss: 0.4700 - val_mean_iou: 0.3791\n",
            "Epoch 242/600\n",
            "56/55 [==============================] - 86s 2s/step - loss: 0.0561 - mean_iou: 0.3791 - val_loss: 0.5227 - val_mean_iou: 0.3791\n",
            "Epoch 243/600\n",
            "56/55 [==============================] - 86s 2s/step - loss: 0.0559 - mean_iou: 0.3791 - val_loss: 0.3615 - val_mean_iou: 0.3792\n",
            "Epoch 244/600\n",
            "56/55 [==============================] - 86s 2s/step - loss: 0.0561 - mean_iou: 0.3792 - val_loss: 0.3513 - val_mean_iou: 0.3793\n",
            "Epoch 245/600\n",
            "51/55 [==========================>...] - ETA: 6s - loss: 0.0555 - mean_iou: 0.3793"
          ],
          "name": "stdout"
        },
        {
          "output_type": "stream",
          "text": [
            "56/55 [==============================] - 86s 2s/step - loss: 0.0561 - mean_iou: 0.3793 - val_loss: 0.5076 - val_mean_iou: 0.3794\n",
            "Epoch 246/600\n",
            "56/55 [==============================] - 87s 2s/step - loss: 0.0563 - mean_iou: 0.3794 - val_loss: 0.4815 - val_mean_iou: 0.3794\n",
            "Epoch 247/600\n",
            "56/55 [==============================] - 86s 2s/step - loss: 0.0559 - mean_iou: 0.3795 - val_loss: 0.4662 - val_mean_iou: 0.3795\n",
            "Epoch 248/600\n",
            "56/55 [==============================] - 86s 2s/step - loss: 0.0555 - mean_iou: 0.3795 - val_loss: 0.5283 - val_mean_iou: 0.3796\n",
            "Epoch 249/600\n",
            "54/55 [============================>.] - ETA: 1s - loss: 0.0556 - mean_iou: 0.3796"
          ],
          "name": "stdout"
        },
        {
          "output_type": "stream",
          "text": [
            "56/55 [==============================] - 86s 2s/step - loss: 0.0560 - mean_iou: 0.3796 - val_loss: 0.3335 - val_mean_iou: 0.3796\n",
            "Epoch 250/600\n",
            "56/55 [==============================] - 86s 2s/step - loss: 0.0570 - mean_iou: 0.3797 - val_loss: 0.3721 - val_mean_iou: 0.3797\n",
            "Epoch 251/600\n",
            "56/55 [==============================] - 86s 2s/step - loss: 0.0551 - mean_iou: 0.3798 - val_loss: 0.3896 - val_mean_iou: 0.3798\n",
            "Epoch 252/600\n",
            "56/55 [==============================] - 86s 2s/step - loss: 0.0556 - mean_iou: 0.3798 - val_loss: 0.4886 - val_mean_iou: 0.3799\n",
            "Epoch 253/600\n",
            "55/55 [============================>.] - ETA: 0s - loss: 0.0556 - mean_iou: 0.3799"
          ],
          "name": "stdout"
        },
        {
          "output_type": "stream",
          "text": [
            "\b\b\b\b\b\b\b\b\b\b\b\b\b\b\b\b\b\b\b\b\b\b\b\b\b\b\b\b\b\b\b\b\b\b\b\b\b\b\b\b\b\b\b\b\b\b\b\b\b\b\b\b\b\b\b\b\b\b\b\b\b\b\b\b\b\b\b\b\b\b\b\b\b\b\b\b\b\b\b\b\b\b\r56/55 [==============================] - 86s 2s/step - loss: 0.0555 - mean_iou: 0.3799 - val_loss: 0.5334 - val_mean_iou: 0.3800\n",
            "Epoch 254/600\n",
            "56/55 [==============================] - 86s 2s/step - loss: 0.0565 - mean_iou: 0.3800 - val_loss: 0.4646 - val_mean_iou: 0.3800\n",
            "Epoch 255/600\n",
            "56/55 [==============================] - 86s 2s/step - loss: 0.0551 - mean_iou: 0.3801 - val_loss: 0.4895 - val_mean_iou: 0.3801\n",
            "Epoch 256/600\n",
            "56/55 [==============================] - 86s 2s/step - loss: 0.0559 - mean_iou: 0.3801 - val_loss: 0.4134 - val_mean_iou: 0.3802\n",
            "Epoch 257/600\n",
            "29/55 [==============>...............] - ETA: 38s - loss: 0.0480 - mean_iou: 0.3802"
          ],
          "name": "stdout"
        },
        {
          "output_type": "stream",
          "text": [
            "56/55 [==============================] - 86s 2s/step - loss: 0.0543 - mean_iou: 0.3802 - val_loss: 0.4391 - val_mean_iou: 0.3802\n",
            "Epoch 258/600\n",
            "56/55 [==============================] - 86s 2s/step - loss: 0.0567 - mean_iou: 0.3803 - val_loss: 0.4396 - val_mean_iou: 0.3803\n",
            "Epoch 259/600\n",
            "56/55 [==============================] - 86s 2s/step - loss: 0.0546 - mean_iou: 0.3803 - val_loss: 0.4314 - val_mean_iou: 0.3804\n",
            "Epoch 260/600\n",
            "56/55 [==============================] - 86s 2s/step - loss: 0.0552 - mean_iou: 0.3804 - val_loss: 0.5677 - val_mean_iou: 0.3805\n",
            "Epoch 261/600\n",
            "51/55 [==========================>...] - ETA: 6s - loss: 0.0570 - mean_iou: 0.3805"
          ],
          "name": "stdout"
        },
        {
          "output_type": "stream",
          "text": [
            "56/55 [==============================] - 86s 2s/step - loss: 0.0568 - mean_iou: 0.3805 - val_loss: 0.4198 - val_mean_iou: 0.3805\n",
            "Epoch 262/600\n",
            "56/55 [==============================] - 86s 2s/step - loss: 0.0550 - mean_iou: 0.3805 - val_loss: 0.4239 - val_mean_iou: 0.3806\n",
            "Epoch 263/600\n",
            "56/55 [==============================] - 86s 2s/step - loss: 0.0540 - mean_iou: 0.3806 - val_loss: 0.4629 - val_mean_iou: 0.3807\n",
            "Epoch 264/600\n",
            "56/55 [==============================] - 86s 2s/step - loss: 0.0540 - mean_iou: 0.3807 - val_loss: 0.5107 - val_mean_iou: 0.3807\n",
            "Epoch 265/600\n",
            "54/55 [============================>.] - ETA: 1s - loss: 0.0549 - mean_iou: 0.3807"
          ],
          "name": "stdout"
        },
        {
          "output_type": "stream",
          "text": [
            "56/55 [==============================] - 86s 2s/step - loss: 0.0544 - mean_iou: 0.3807 - val_loss: 0.4623 - val_mean_iou: 0.3808\n",
            "Epoch 266/600\n",
            "56/55 [==============================] - 86s 2s/step - loss: 0.0547 - mean_iou: 0.3808 - val_loss: 0.4107 - val_mean_iou: 0.3808\n",
            "Epoch 267/600\n",
            "56/55 [==============================] - 86s 2s/step - loss: 0.0549 - mean_iou: 0.3809 - val_loss: 0.3884 - val_mean_iou: 0.3809\n",
            "Epoch 268/600\n",
            "56/55 [==============================] - 86s 2s/step - loss: 0.0539 - mean_iou: 0.3809 - val_loss: 0.4326 - val_mean_iou: 0.3810\n",
            "Epoch 269/600\n",
            "55/55 [============================>.] - ETA: 0s - loss: 0.0559 - mean_iou: 0.3810"
          ],
          "name": "stdout"
        },
        {
          "output_type": "stream",
          "text": [
            "\b\b\b\b\b\b\b\b\b\b\b\b\b\b\b\b\b\b\b\b\b\b\b\b\b\b\b\b\b\b\b\b\b\b\b\b\b\b\b\b\b\b\b\b\b\b\b\b\b\b\b\b\b\b\b\b\b\b\b\b\b\b\b\b\b\b\b\b\b\b\b\b\b\b\b\b\b\b\b\b\b\b\r56/55 [==============================] - 86s 2s/step - loss: 0.0565 - mean_iou: 0.3810 - val_loss: 0.3195 - val_mean_iou: 0.3810\n",
            "Epoch 270/600\n",
            "56/55 [==============================] - 86s 2s/step - loss: 0.0537 - mean_iou: 0.3811 - val_loss: 0.5452 - val_mean_iou: 0.3811\n",
            "Epoch 271/600\n",
            "56/55 [==============================] - 86s 2s/step - loss: 0.0542 - mean_iou: 0.3811 - val_loss: 0.4090 - val_mean_iou: 0.3812\n",
            "Epoch 272/600\n",
            "56/55 [==============================] - 86s 2s/step - loss: 0.0547 - mean_iou: 0.3812 - val_loss: 0.3079 - val_mean_iou: 0.3812\n",
            "Epoch 273/600\n",
            "29/55 [==============>...............] - ETA: 38s - loss: 0.0541 - mean_iou: 0.3813"
          ],
          "name": "stdout"
        },
        {
          "output_type": "stream",
          "text": [
            "56/55 [==============================] - 86s 2s/step - loss: 0.0558 - mean_iou: 0.3813 - val_loss: 0.3271 - val_mean_iou: 0.3813\n",
            "Epoch 274/600\n",
            "56/55 [==============================] - 86s 2s/step - loss: 0.0546 - mean_iou: 0.3813 - val_loss: 0.4336 - val_mean_iou: 0.3814\n",
            "Epoch 275/600\n",
            "56/55 [==============================] - 86s 2s/step - loss: 0.0539 - mean_iou: 0.3814 - val_loss: 0.4755 - val_mean_iou: 0.3814\n",
            "Epoch 276/600\n",
            "56/55 [==============================] - 86s 2s/step - loss: 0.0549 - mean_iou: 0.3815 - val_loss: 0.3673 - val_mean_iou: 0.3815\n",
            "Epoch 277/600\n",
            "51/55 [==========================>...] - ETA: 6s - loss: 0.0566 - mean_iou: 0.3815"
          ],
          "name": "stdout"
        },
        {
          "output_type": "stream",
          "text": [
            "56/55 [==============================] - 86s 2s/step - loss: 0.0555 - mean_iou: 0.3815 - val_loss: 0.5280 - val_mean_iou: 0.3816\n",
            "Epoch 278/600\n",
            "56/55 [==============================] - 86s 2s/step - loss: 0.0556 - mean_iou: 0.3816 - val_loss: 0.4337 - val_mean_iou: 0.3816\n",
            "Epoch 279/600\n",
            "56/55 [==============================] - 86s 2s/step - loss: 0.0550 - mean_iou: 0.3816 - val_loss: 0.3391 - val_mean_iou: 0.3817\n",
            "Epoch 280/600\n",
            "56/55 [==============================] - 86s 2s/step - loss: 0.0548 - mean_iou: 0.3817 - val_loss: 0.4788 - val_mean_iou: 0.3818\n",
            "Epoch 281/600\n",
            "54/55 [============================>.] - ETA: 1s - loss: 0.0544 - mean_iou: 0.3818"
          ],
          "name": "stdout"
        },
        {
          "output_type": "stream",
          "text": [
            "56/55 [==============================] - 86s 2s/step - loss: 0.0542 - mean_iou: 0.3818 - val_loss: 0.5867 - val_mean_iou: 0.3818\n",
            "Epoch 282/600\n",
            "56/55 [==============================] - 86s 2s/step - loss: 0.0544 - mean_iou: 0.3818 - val_loss: 0.4620 - val_mean_iou: 0.3819\n",
            "Epoch 283/600\n",
            "56/55 [==============================] - 86s 2s/step - loss: 0.0538 - mean_iou: 0.3819 - val_loss: 0.3963 - val_mean_iou: 0.3819\n",
            "Epoch 284/600\n",
            "56/55 [==============================] - 86s 2s/step - loss: 0.0539 - mean_iou: 0.3820 - val_loss: 0.3714 - val_mean_iou: 0.3820\n",
            "Epoch 285/600\n",
            "55/55 [============================>.] - ETA: 0s - loss: 0.0533 - mean_iou: 0.3820"
          ],
          "name": "stdout"
        },
        {
          "output_type": "stream",
          "text": [
            "\b\b\b\b\b\b\b\b\b\b\b\b\b\b\b\b\b\b\b\b\b\b\b\b\b\b\b\b\b\b\b\b\b\b\b\b\b\b\b\b\b\b\b\b\b\b\b\b\b\b\b\b\b\b\b\b\b\b\b\b\b\b\b\b\b\b\b\b\b\b\b\b\b\b\b\b\b\b\b\b\b\b\r56/55 [==============================] - 86s 2s/step - loss: 0.0533 - mean_iou: 0.3820 - val_loss: 0.3438 - val_mean_iou: 0.3821\n",
            "Epoch 286/600\n",
            "56/55 [==============================] - 86s 2s/step - loss: 0.0547 - mean_iou: 0.3821 - val_loss: 0.4773 - val_mean_iou: 0.3822\n",
            "Epoch 287/600\n",
            "56/55 [==============================] - 86s 2s/step - loss: 0.0542 - mean_iou: 0.3822 - val_loss: 0.4522 - val_mean_iou: 0.3822\n",
            "Epoch 288/600\n",
            "56/55 [==============================] - 87s 2s/step - loss: 0.0532 - mean_iou: 0.3822 - val_loss: 0.4798 - val_mean_iou: 0.3823\n",
            "Epoch 289/600\n",
            "29/55 [==============>...............] - ETA: 38s - loss: 0.0599 - mean_iou: 0.3823"
          ],
          "name": "stdout"
        },
        {
          "output_type": "stream",
          "text": [
            "56/55 [==============================] - 86s 2s/step - loss: 0.0549 - mean_iou: 0.3823 - val_loss: 0.4296 - val_mean_iou: 0.3823\n",
            "Epoch 290/600\n",
            "56/55 [==============================] - 86s 2s/step - loss: 0.0552 - mean_iou: 0.3824 - val_loss: 0.4039 - val_mean_iou: 0.3824\n",
            "Epoch 291/600\n",
            "56/55 [==============================] - 86s 2s/step - loss: 0.0552 - mean_iou: 0.3824 - val_loss: 0.4268 - val_mean_iou: 0.3825\n",
            "Epoch 292/600\n",
            "56/55 [==============================] - 86s 2s/step - loss: 0.0551 - mean_iou: 0.3825 - val_loss: 0.5211 - val_mean_iou: 0.3825\n",
            "Epoch 293/600\n",
            "51/55 [==========================>...] - ETA: 6s - loss: 0.0541 - mean_iou: 0.3826"
          ],
          "name": "stdout"
        },
        {
          "output_type": "stream",
          "text": [
            "56/55 [==============================] - 86s 2s/step - loss: 0.0544 - mean_iou: 0.3826 - val_loss: 0.3255 - val_mean_iou: 0.3826\n",
            "Epoch 294/600\n",
            "56/55 [==============================] - 86s 2s/step - loss: 0.0534 - mean_iou: 0.3826 - val_loss: 0.5163 - val_mean_iou: 0.3827\n",
            "Epoch 295/600\n",
            "56/55 [==============================] - 86s 2s/step - loss: 0.0551 - mean_iou: 0.3827 - val_loss: 0.4004 - val_mean_iou: 0.3827\n",
            "Epoch 296/600\n",
            "56/55 [==============================] - 86s 2s/step - loss: 0.0526 - mean_iou: 0.3827 - val_loss: 0.4641 - val_mean_iou: 0.3828\n",
            "Epoch 297/600\n",
            "54/55 [============================>.] - ETA: 1s - loss: 0.0537 - mean_iou: 0.3828"
          ],
          "name": "stdout"
        },
        {
          "output_type": "stream",
          "text": [
            "56/55 [==============================] - 86s 2s/step - loss: 0.0540 - mean_iou: 0.3828 - val_loss: 0.4779 - val_mean_iou: 0.3828\n",
            "Epoch 298/600\n",
            "56/55 [==============================] - 86s 2s/step - loss: 0.0543 - mean_iou: 0.3829 - val_loss: 0.4745 - val_mean_iou: 0.3829\n",
            "Epoch 299/600\n",
            "56/55 [==============================] - 86s 2s/step - loss: 0.0538 - mean_iou: 0.3829 - val_loss: 0.4160 - val_mean_iou: 0.3830\n",
            "Epoch 300/600\n",
            "56/55 [==============================] - 86s 2s/step - loss: 0.0538 - mean_iou: 0.3830 - val_loss: 0.5324 - val_mean_iou: 0.3830\n",
            "Epoch 301/600\n",
            "55/55 [============================>.] - ETA: 0s - loss: 0.0537 - mean_iou: 0.3831"
          ],
          "name": "stdout"
        },
        {
          "output_type": "stream",
          "text": [
            "\b\b\b\b\b\b\b\b\b\b\b\b\b\b\b\b\b\b\b\b\b\b\b\b\b\b\b\b\b\b\b\b\b\b\b\b\b\b\b\b\b\b\b\b\b\b\b\b\b\b\b\b\b\b\b\b\b\b\b\b\b\b\b\b\b\b\b\b\b\b\b\b\b\b\b\b\b\b\b\b\b\b\r56/55 [==============================] - 86s 2s/step - loss: 0.0538 - mean_iou: 0.3831 - val_loss: 0.3710 - val_mean_iou: 0.3831\n",
            "Epoch 302/600\n",
            "56/55 [==============================] - 86s 2s/step - loss: 0.0528 - mean_iou: 0.3831 - val_loss: 0.4146 - val_mean_iou: 0.3832\n",
            "Epoch 303/600\n",
            "56/55 [==============================] - 86s 2s/step - loss: 0.0537 - mean_iou: 0.3832 - val_loss: 0.4215 - val_mean_iou: 0.3832\n",
            "Epoch 304/600\n",
            "56/55 [==============================] - 86s 2s/step - loss: 0.0530 - mean_iou: 0.3833 - val_loss: 0.4502 - val_mean_iou: 0.3833\n",
            "Epoch 305/600\n",
            "29/55 [==============>...............] - ETA: 38s - loss: 0.0536 - mean_iou: 0.3833"
          ],
          "name": "stdout"
        },
        {
          "output_type": "stream",
          "text": [
            "56/55 [==============================] - 86s 2s/step - loss: 0.0532 - mean_iou: 0.3833 - val_loss: 0.3831 - val_mean_iou: 0.3833\n",
            "Epoch 306/600\n",
            "56/55 [==============================] - 86s 2s/step - loss: 0.0534 - mean_iou: 0.3834 - val_loss: 0.3897 - val_mean_iou: 0.3834\n",
            "Epoch 307/600\n",
            "56/55 [==============================] - 86s 2s/step - loss: 0.0542 - mean_iou: 0.3835 - val_loss: 0.4779 - val_mean_iou: 0.3835\n",
            "Epoch 308/600\n",
            "56/55 [==============================] - 86s 2s/step - loss: 0.0542 - mean_iou: 0.3835 - val_loss: 0.4368 - val_mean_iou: 0.3835\n",
            "Epoch 309/600\n",
            "51/55 [==========================>...] - ETA: 6s - loss: 0.0538 - mean_iou: 0.3836"
          ],
          "name": "stdout"
        },
        {
          "output_type": "stream",
          "text": [
            "56/55 [==============================] - 86s 2s/step - loss: 0.0553 - mean_iou: 0.3836 - val_loss: 0.4582 - val_mean_iou: 0.3836\n",
            "Epoch 310/600\n",
            "56/55 [==============================] - 86s 2s/step - loss: 0.0544 - mean_iou: 0.3836 - val_loss: 0.5383 - val_mean_iou: 0.3837\n",
            "Epoch 311/600\n",
            "56/55 [==============================] - 86s 2s/step - loss: 0.0540 - mean_iou: 0.3837 - val_loss: 0.5672 - val_mean_iou: 0.3837\n",
            "Epoch 312/600\n",
            "56/55 [==============================] - 86s 2s/step - loss: 0.0535 - mean_iou: 0.3837 - val_loss: 0.4628 - val_mean_iou: 0.3838\n",
            "Epoch 313/600\n",
            "54/55 [============================>.] - ETA: 1s - loss: 0.0530 - mean_iou: 0.3838"
          ],
          "name": "stdout"
        },
        {
          "output_type": "stream",
          "text": [
            "56/55 [==============================] - 86s 2s/step - loss: 0.0533 - mean_iou: 0.3838 - val_loss: 0.3909 - val_mean_iou: 0.3838\n",
            "Epoch 314/600\n",
            "56/55 [==============================] - 86s 2s/step - loss: 0.0516 - mean_iou: 0.3839 - val_loss: 0.3870 - val_mean_iou: 0.3839\n",
            "Epoch 315/600\n",
            "56/55 [==============================] - 86s 2s/step - loss: 0.0532 - mean_iou: 0.3839 - val_loss: 0.3797 - val_mean_iou: 0.3840\n",
            "Epoch 316/600\n",
            "56/55 [==============================] - 86s 2s/step - loss: 0.0525 - mean_iou: 0.3840 - val_loss: 0.4498 - val_mean_iou: 0.3840\n",
            "Epoch 317/600\n",
            "55/55 [============================>.] - ETA: 0s - loss: 0.0541 - mean_iou: 0.3841"
          ],
          "name": "stdout"
        },
        {
          "output_type": "stream",
          "text": [
            "\b\b\b\b\b\b\b\b\b\b\b\b\b\b\b\b\b\b\b\b\b\b\b\b\b\b\b\b\b\b\b\b\b\b\b\b\b\b\b\b\b\b\b\b\b\b\b\b\b\b\b\b\b\b\b\b\b\b\b\b\b\b\b\b\b\b\b\b\b\b\b\b\b\b\b\b\b\b\b\b\b\b\r56/55 [==============================] - 86s 2s/step - loss: 0.0543 - mean_iou: 0.3841 - val_loss: 0.4429 - val_mean_iou: 0.3841\n",
            "Epoch 318/600\n",
            "56/55 [==============================] - 86s 2s/step - loss: 0.0539 - mean_iou: 0.3841 - val_loss: 0.4744 - val_mean_iou: 0.3841\n",
            "Epoch 319/600\n",
            "56/55 [==============================] - 86s 2s/step - loss: 0.0540 - mean_iou: 0.3842 - val_loss: 0.4996 - val_mean_iou: 0.3842\n",
            "Epoch 320/600\n",
            "56/55 [==============================] - 86s 2s/step - loss: 0.0520 - mean_iou: 0.3842 - val_loss: 0.5391 - val_mean_iou: 0.3843\n",
            "Epoch 321/600\n",
            "29/55 [==============>...............] - ETA: 38s - loss: 0.0489 - mean_iou: 0.3843"
          ],
          "name": "stdout"
        },
        {
          "output_type": "stream",
          "text": [
            "56/55 [==============================] - 86s 2s/step - loss: 0.0521 - mean_iou: 0.3843 - val_loss: 0.5679 - val_mean_iou: 0.3843\n",
            "Epoch 322/600\n",
            "56/55 [==============================] - 86s 2s/step - loss: 0.0520 - mean_iou: 0.3843 - val_loss: 0.4767 - val_mean_iou: 0.3844\n",
            "Epoch 323/600\n",
            "56/55 [==============================] - 86s 2s/step - loss: 0.0528 - mean_iou: 0.3844 - val_loss: 0.4764 - val_mean_iou: 0.3844\n",
            "Epoch 324/600\n",
            "56/55 [==============================] - 86s 2s/step - loss: 0.0534 - mean_iou: 0.3844 - val_loss: 0.4112 - val_mean_iou: 0.3844\n",
            "Epoch 325/600\n",
            "51/55 [==========================>...] - ETA: 6s - loss: 0.0531 - mean_iou: 0.3845"
          ],
          "name": "stdout"
        },
        {
          "output_type": "stream",
          "text": [
            "56/55 [==============================] - 86s 2s/step - loss: 0.0528 - mean_iou: 0.3845 - val_loss: 0.4676 - val_mean_iou: 0.3845\n",
            "Epoch 326/600\n",
            "56/55 [==============================] - 86s 2s/step - loss: 0.0534 - mean_iou: 0.3845 - val_loss: 0.4356 - val_mean_iou: 0.3845\n",
            "Epoch 327/600\n",
            "56/55 [==============================] - 86s 2s/step - loss: 0.0520 - mean_iou: 0.3846 - val_loss: 0.4518 - val_mean_iou: 0.3846\n",
            "Epoch 328/600\n",
            "56/55 [==============================] - 86s 2s/step - loss: 0.0525 - mean_iou: 0.3846 - val_loss: 0.4882 - val_mean_iou: 0.3847\n",
            "Epoch 329/600\n",
            "54/55 [============================>.] - ETA: 1s - loss: 0.0527 - mean_iou: 0.3847"
          ],
          "name": "stdout"
        },
        {
          "output_type": "stream",
          "text": [
            "56/55 [==============================] - 86s 2s/step - loss: 0.0523 - mean_iou: 0.3847 - val_loss: 0.4716 - val_mean_iou: 0.3847\n",
            "Epoch 330/600\n",
            "56/55 [==============================] - 86s 2s/step - loss: 0.0528 - mean_iou: 0.3847 - val_loss: 0.3151 - val_mean_iou: 0.3848\n",
            "Epoch 331/600\n",
            "56/55 [==============================] - 86s 2s/step - loss: 0.0519 - mean_iou: 0.3848 - val_loss: 0.4927 - val_mean_iou: 0.3848\n",
            "Epoch 332/600\n",
            "56/55 [==============================] - 86s 2s/step - loss: 0.0538 - mean_iou: 0.3849 - val_loss: 0.4562 - val_mean_iou: 0.3849\n",
            "Epoch 333/600\n",
            "55/55 [============================>.] - ETA: 0s - loss: 0.0525 - mean_iou: 0.3849"
          ],
          "name": "stdout"
        },
        {
          "output_type": "stream",
          "text": [
            "\b\b\b\b\b\b\b\b\b\b\b\b\b\b\b\b\b\b\b\b\b\b\b\b\b\b\b\b\b\b\b\b\b\b\b\b\b\b\b\b\b\b\b\b\b\b\b\b\b\b\b\b\b\b\b\b\b\b\b\b\b\b\b\b\b\b\b\b\b\b\b\b\b\b\b\b\b\b\b\b\b\b\r56/55 [==============================] - 86s 2s/step - loss: 0.0524 - mean_iou: 0.3849 - val_loss: 0.3533 - val_mean_iou: 0.3849\n",
            "Epoch 334/600\n",
            "56/55 [==============================] - 86s 2s/step - loss: 0.0526 - mean_iou: 0.3850 - val_loss: 0.3524 - val_mean_iou: 0.3850\n",
            "Epoch 335/600\n",
            "56/55 [==============================] - 86s 2s/step - loss: 0.0521 - mean_iou: 0.3850 - val_loss: 0.3990 - val_mean_iou: 0.3850\n",
            "Epoch 336/600\n",
            "56/55 [==============================] - 86s 2s/step - loss: 0.0521 - mean_iou: 0.3851 - val_loss: 0.3888 - val_mean_iou: 0.3851\n",
            "Epoch 337/600\n",
            "29/55 [==============>...............] - ETA: 38s - loss: 0.0519 - mean_iou: 0.3851"
          ],
          "name": "stdout"
        },
        {
          "output_type": "stream",
          "text": [
            "56/55 [==============================] - 86s 2s/step - loss: 0.0520 - mean_iou: 0.3851 - val_loss: 0.4700 - val_mean_iou: 0.3852\n",
            "Epoch 338/600\n",
            "56/55 [==============================] - 86s 2s/step - loss: 0.0527 - mean_iou: 0.3852 - val_loss: 0.5572 - val_mean_iou: 0.3852\n",
            "Epoch 339/600\n",
            "56/55 [==============================] - 86s 2s/step - loss: 0.0534 - mean_iou: 0.3852 - val_loss: 0.3838 - val_mean_iou: 0.3853\n",
            "Epoch 340/600\n",
            "56/55 [==============================] - 86s 2s/step - loss: 0.0514 - mean_iou: 0.3853 - val_loss: 0.4716 - val_mean_iou: 0.3853\n",
            "Epoch 341/600\n",
            "51/55 [==========================>...] - ETA: 6s - loss: 0.0541 - mean_iou: 0.3853"
          ],
          "name": "stdout"
        },
        {
          "output_type": "stream",
          "text": [
            "56/55 [==============================] - 86s 2s/step - loss: 0.0535 - mean_iou: 0.3853 - val_loss: 0.4079 - val_mean_iou: 0.3854\n",
            "Epoch 342/600\n",
            "56/55 [==============================] - 86s 2s/step - loss: 0.0516 - mean_iou: 0.3854 - val_loss: 0.3541 - val_mean_iou: 0.3854\n",
            "Epoch 343/600\n",
            "56/55 [==============================] - 86s 2s/step - loss: 0.0524 - mean_iou: 0.3855 - val_loss: 0.3325 - val_mean_iou: 0.3855\n",
            "Epoch 344/600\n",
            "56/55 [==============================] - 87s 2s/step - loss: 0.0509 - mean_iou: 0.3855 - val_loss: 0.4302 - val_mean_iou: 0.3856\n",
            "Epoch 345/600\n",
            "54/55 [============================>.] - ETA: 1s - loss: 0.0518 - mean_iou: 0.3856"
          ],
          "name": "stdout"
        },
        {
          "output_type": "stream",
          "text": [
            "56/55 [==============================] - 86s 2s/step - loss: 0.0513 - mean_iou: 0.3856 - val_loss: 0.5052 - val_mean_iou: 0.3856\n",
            "Epoch 346/600\n",
            "56/55 [==============================] - 86s 2s/step - loss: 0.0527 - mean_iou: 0.3856 - val_loss: 0.4252 - val_mean_iou: 0.3857\n",
            "Epoch 347/600\n",
            "56/55 [==============================] - 86s 2s/step - loss: 0.0528 - mean_iou: 0.3857 - val_loss: 0.4588 - val_mean_iou: 0.3857\n",
            "Epoch 348/600\n",
            "56/55 [==============================] - 86s 2s/step - loss: 0.0519 - mean_iou: 0.3857 - val_loss: 0.4940 - val_mean_iou: 0.3858\n",
            "Epoch 349/600\n",
            "55/55 [============================>.] - ETA: 0s - loss: 0.0523 - mean_iou: 0.3858"
          ],
          "name": "stdout"
        },
        {
          "output_type": "stream",
          "text": [
            "\b\b\b\b\b\b\b\b\b\b\b\b\b\b\b\b\b\b\b\b\b\b\b\b\b\b\b\b\b\b\b\b\b\b\b\b\b\b\b\b\b\b\b\b\b\b\b\b\b\b\b\b\b\b\b\b\b\b\b\b\b\b\b\b\b\b\b\b\b\b\b\b\b\b\b\b\b\b\b\b\b\b\r56/55 [==============================] - 87s 2s/step - loss: 0.0520 - mean_iou: 0.3858 - val_loss: 0.4950 - val_mean_iou: 0.3858\n",
            "Epoch 350/600\n",
            "56/55 [==============================] - 86s 2s/step - loss: 0.0516 - mean_iou: 0.3858 - val_loss: 0.3653 - val_mean_iou: 0.3859\n",
            "Epoch 351/600\n",
            "56/55 [==============================] - 86s 2s/step - loss: 0.0518 - mean_iou: 0.3859 - val_loss: 0.4906 - val_mean_iou: 0.3859\n",
            "Epoch 352/600\n",
            "56/55 [==============================] - 86s 2s/step - loss: 0.0508 - mean_iou: 0.3859 - val_loss: 0.3342 - val_mean_iou: 0.3860\n",
            "Epoch 353/600\n",
            "29/55 [==============>...............] - ETA: 38s - loss: 0.0571 - mean_iou: 0.3860"
          ],
          "name": "stdout"
        },
        {
          "output_type": "stream",
          "text": [
            "56/55 [==============================] - 86s 2s/step - loss: 0.0523 - mean_iou: 0.3860 - val_loss: 0.3174 - val_mean_iou: 0.3860\n",
            "Epoch 354/600\n",
            "56/55 [==============================] - 86s 2s/step - loss: 0.0529 - mean_iou: 0.3861 - val_loss: 0.4617 - val_mean_iou: 0.3861\n",
            "Epoch 355/600\n",
            "56/55 [==============================] - 86s 2s/step - loss: 0.0525 - mean_iou: 0.3861 - val_loss: 0.4844 - val_mean_iou: 0.3861\n",
            "Epoch 356/600\n",
            "56/55 [==============================] - 87s 2s/step - loss: 0.0525 - mean_iou: 0.3862 - val_loss: 0.3445 - val_mean_iou: 0.3862\n",
            "Epoch 357/600\n",
            "51/55 [==========================>...] - ETA: 6s - loss: 0.0519 - mean_iou: 0.3862"
          ],
          "name": "stdout"
        },
        {
          "output_type": "stream",
          "text": [
            "56/55 [==============================] - 86s 2s/step - loss: 0.0530 - mean_iou: 0.3862 - val_loss: 0.4929 - val_mean_iou: 0.3862\n",
            "Epoch 358/600\n",
            "56/55 [==============================] - 86s 2s/step - loss: 0.0525 - mean_iou: 0.3863 - val_loss: 0.4585 - val_mean_iou: 0.3863\n",
            "Epoch 359/600\n",
            "56/55 [==============================] - 86s 2s/step - loss: 0.0525 - mean_iou: 0.3863 - val_loss: 0.3979 - val_mean_iou: 0.3863\n",
            "Epoch 360/600\n",
            "56/55 [==============================] - 86s 2s/step - loss: 0.0528 - mean_iou: 0.3863 - val_loss: 0.3853 - val_mean_iou: 0.3864\n",
            "Epoch 361/600\n",
            "54/55 [============================>.] - ETA: 1s - loss: 0.0522 - mean_iou: 0.3864"
          ],
          "name": "stdout"
        },
        {
          "output_type": "stream",
          "text": [
            "56/55 [==============================] - 86s 2s/step - loss: 0.0526 - mean_iou: 0.3864 - val_loss: 0.5041 - val_mean_iou: 0.3864\n",
            "Epoch 362/600\n",
            "56/55 [==============================] - 86s 2s/step - loss: 0.0518 - mean_iou: 0.3864 - val_loss: 0.5303 - val_mean_iou: 0.3865\n",
            "Epoch 363/600\n",
            "56/55 [==============================] - 86s 2s/step - loss: 0.0507 - mean_iou: 0.3865 - val_loss: 0.5071 - val_mean_iou: 0.3865\n",
            "Epoch 364/600\n",
            "56/55 [==============================] - 86s 2s/step - loss: 0.0511 - mean_iou: 0.3865 - val_loss: 0.3548 - val_mean_iou: 0.3866\n",
            "Epoch 365/600\n",
            "55/55 [============================>.] - ETA: 0s - loss: 0.0520 - mean_iou: 0.3866"
          ],
          "name": "stdout"
        },
        {
          "output_type": "stream",
          "text": [
            "\b\b\b\b\b\b\b\b\b\b\b\b\b\b\b\b\b\b\b\b\b\b\b\b\b\b\b\b\b\b\b\b\b\b\b\b\b\b\b\b\b\b\b\b\b\b\b\b\b\b\b\b\b\b\b\b\b\b\b\b\b\b\b\b\b\b\b\b\b\b\b\b\b\b\b\b\b\b\b\b\b\b\r56/55 [==============================] - 86s 2s/step - loss: 0.0519 - mean_iou: 0.3866 - val_loss: 0.4203 - val_mean_iou: 0.3866\n",
            "Epoch 366/600\n",
            "56/55 [==============================] - 86s 2s/step - loss: 0.0523 - mean_iou: 0.3866 - val_loss: 0.3876 - val_mean_iou: 0.3866\n",
            "Epoch 367/600\n",
            "56/55 [==============================] - 86s 2s/step - loss: 0.0513 - mean_iou: 0.3867 - val_loss: 0.4894 - val_mean_iou: 0.3867\n",
            "Epoch 368/600\n",
            "56/55 [==============================] - 86s 2s/step - loss: 0.0517 - mean_iou: 0.3867 - val_loss: 0.6440 - val_mean_iou: 0.3867\n",
            "Epoch 369/600\n",
            "29/55 [==============>...............] - ETA: 38s - loss: 0.0516 - mean_iou: 0.3867"
          ],
          "name": "stdout"
        },
        {
          "output_type": "stream",
          "text": [
            "56/55 [==============================] - 86s 2s/step - loss: 0.0518 - mean_iou: 0.3868 - val_loss: 0.4183 - val_mean_iou: 0.3868\n",
            "Epoch 370/600\n",
            "56/55 [==============================] - 86s 2s/step - loss: 0.0515 - mean_iou: 0.3868 - val_loss: 0.3344 - val_mean_iou: 0.3868\n",
            "Epoch 371/600\n",
            "56/55 [==============================] - 86s 2s/step - loss: 0.0518 - mean_iou: 0.3869 - val_loss: 0.5012 - val_mean_iou: 0.3869\n",
            "Epoch 372/600\n",
            "56/55 [==============================] - 86s 2s/step - loss: 0.0515 - mean_iou: 0.3869 - val_loss: 0.4764 - val_mean_iou: 0.3869\n",
            "Epoch 373/600\n",
            "51/55 [==========================>...] - ETA: 6s - loss: 0.0509 - mean_iou: 0.3870"
          ],
          "name": "stdout"
        },
        {
          "output_type": "stream",
          "text": [
            "56/55 [==============================] - 86s 2s/step - loss: 0.0522 - mean_iou: 0.3870 - val_loss: 0.4113 - val_mean_iou: 0.3870\n",
            "Epoch 374/600\n",
            "56/55 [==============================] - 86s 2s/step - loss: 0.0501 - mean_iou: 0.3870 - val_loss: 0.4395 - val_mean_iou: 0.3870\n",
            "Epoch 375/600\n",
            "56/55 [==============================] - 86s 2s/step - loss: 0.0527 - mean_iou: 0.3870 - val_loss: 0.3752 - val_mean_iou: 0.3871\n",
            "Epoch 376/600\n",
            "56/55 [==============================] - 86s 2s/step - loss: 0.0520 - mean_iou: 0.3871 - val_loss: 0.4273 - val_mean_iou: 0.3871\n",
            "Epoch 377/600\n",
            "54/55 [============================>.] - ETA: 1s - loss: 0.0504 - mean_iou: 0.3872"
          ],
          "name": "stdout"
        },
        {
          "output_type": "stream",
          "text": [
            "56/55 [==============================] - 86s 2s/step - loss: 0.0503 - mean_iou: 0.3872 - val_loss: 0.5058 - val_mean_iou: 0.3872\n",
            "Epoch 378/600\n",
            "56/55 [==============================] - 86s 2s/step - loss: 0.0522 - mean_iou: 0.3872 - val_loss: 0.4828 - val_mean_iou: 0.3872\n",
            "Epoch 379/600\n",
            "56/55 [==============================] - 86s 2s/step - loss: 0.0512 - mean_iou: 0.3872 - val_loss: 0.5010 - val_mean_iou: 0.3873\n",
            "Epoch 380/600\n",
            "56/55 [==============================] - 86s 2s/step - loss: 0.0521 - mean_iou: 0.3873 - val_loss: 0.5132 - val_mean_iou: 0.3873\n",
            "Epoch 381/600\n",
            "55/55 [============================>.] - ETA: 0s - loss: 0.0504 - mean_iou: 0.3873"
          ],
          "name": "stdout"
        },
        {
          "output_type": "stream",
          "text": [
            "\b\b\b\b\b\b\b\b\b\b\b\b\b\b\b\b\b\b\b\b\b\b\b\b\b\b\b\b\b\b\b\b\b\b\b\b\b\b\b\b\b\b\b\b\b\b\b\b\b\b\b\b\b\b\b\b\b\b\b\b\b\b\b\b\b\b\b\b\b\b\b\b\b\b\b\b\b\b\b\b\b\b\r56/55 [==============================] - 86s 2s/step - loss: 0.0510 - mean_iou: 0.3873 - val_loss: 0.3653 - val_mean_iou: 0.3874\n",
            "Epoch 382/600\n",
            "56/55 [==============================] - 86s 2s/step - loss: 0.0506 - mean_iou: 0.3874 - val_loss: 0.4262 - val_mean_iou: 0.3874\n",
            "Epoch 383/600\n",
            "56/55 [==============================] - 86s 2s/step - loss: 0.0507 - mean_iou: 0.3874 - val_loss: 0.4782 - val_mean_iou: 0.3875\n",
            "Epoch 384/600\n",
            "56/55 [==============================] - 86s 2s/step - loss: 0.0515 - mean_iou: 0.3875 - val_loss: 0.4582 - val_mean_iou: 0.3875\n",
            "Epoch 385/600\n",
            "29/55 [==============>...............] - ETA: 38s - loss: 0.0485 - mean_iou: 0.3875"
          ],
          "name": "stdout"
        },
        {
          "output_type": "stream",
          "text": [
            "56/55 [==============================] - 86s 2s/step - loss: 0.0511 - mean_iou: 0.3875 - val_loss: 0.5437 - val_mean_iou: 0.3876\n",
            "Epoch 386/600\n",
            "56/55 [==============================] - 86s 2s/step - loss: 0.0501 - mean_iou: 0.3876 - val_loss: 0.4846 - val_mean_iou: 0.3876\n",
            "Epoch 387/600\n",
            "56/55 [==============================] - 86s 2s/step - loss: 0.0510 - mean_iou: 0.3876 - val_loss: 0.4468 - val_mean_iou: 0.3876\n",
            "Epoch 388/600\n",
            "56/55 [==============================] - 86s 2s/step - loss: 0.0511 - mean_iou: 0.3877 - val_loss: 0.6100 - val_mean_iou: 0.3877\n",
            "Epoch 389/600\n",
            "51/55 [==========================>...] - ETA: 6s - loss: 0.0502 - mean_iou: 0.3877"
          ],
          "name": "stdout"
        },
        {
          "output_type": "stream",
          "text": [
            "56/55 [==============================] - 86s 2s/step - loss: 0.0507 - mean_iou: 0.3877 - val_loss: 0.4886 - val_mean_iou: 0.3877\n",
            "Epoch 390/600\n",
            "56/55 [==============================] - 86s 2s/step - loss: 0.0503 - mean_iou: 0.3878 - val_loss: 0.3494 - val_mean_iou: 0.3878\n",
            "Epoch 391/600\n",
            "56/55 [==============================] - 86s 2s/step - loss: 0.0503 - mean_iou: 0.3878 - val_loss: 0.5660 - val_mean_iou: 0.3878\n",
            "Epoch 392/600\n",
            "56/55 [==============================] - 86s 2s/step - loss: 0.0501 - mean_iou: 0.3878 - val_loss: 0.4551 - val_mean_iou: 0.3879\n",
            "Epoch 393/600\n",
            "54/55 [============================>.] - ETA: 1s - loss: 0.0511 - mean_iou: 0.3879"
          ],
          "name": "stdout"
        },
        {
          "output_type": "stream",
          "text": [
            "56/55 [==============================] - 86s 2s/step - loss: 0.0509 - mean_iou: 0.3879 - val_loss: 0.4785 - val_mean_iou: 0.3879\n",
            "Epoch 394/600\n",
            "56/55 [==============================] - 86s 2s/step - loss: 0.0496 - mean_iou: 0.3879 - val_loss: 0.4637 - val_mean_iou: 0.3880\n",
            "Epoch 395/600\n",
            "56/55 [==============================] - 86s 2s/step - loss: 0.0510 - mean_iou: 0.3880 - val_loss: 0.5181 - val_mean_iou: 0.3880\n",
            "Epoch 396/600\n",
            "56/55 [==============================] - 86s 2s/step - loss: 0.0501 - mean_iou: 0.3880 - val_loss: 0.3927 - val_mean_iou: 0.3880\n",
            "Epoch 397/600\n",
            "55/55 [============================>.] - ETA: 0s - loss: 0.0516 - mean_iou: 0.3881"
          ],
          "name": "stdout"
        },
        {
          "output_type": "stream",
          "text": [
            "\b\b\b\b\b\b\b\b\b\b\b\b\b\b\b\b\b\b\b\b\b\b\b\b\b\b\b\b\b\b\b\b\b\b\b\b\b\b\b\b\b\b\b\b\b\b\b\b\b\b\b\b\b\b\b\b\b\b\b\b\b\b\b\b\b\b\b\b\b\b\b\b\b\b\b\b\b\b\b\b\b\b\r56/55 [==============================] - 86s 2s/step - loss: 0.0513 - mean_iou: 0.3881 - val_loss: 0.4427 - val_mean_iou: 0.3881\n",
            "Epoch 398/600\n",
            "56/55 [==============================] - 86s 2s/step - loss: 0.0502 - mean_iou: 0.3881 - val_loss: 0.4371 - val_mean_iou: 0.3881\n",
            "Epoch 399/600\n",
            "56/55 [==============================] - 86s 2s/step - loss: 0.0496 - mean_iou: 0.3882 - val_loss: 0.4650 - val_mean_iou: 0.3882\n",
            "Epoch 400/600\n",
            "56/55 [==============================] - 86s 2s/step - loss: 0.0513 - mean_iou: 0.3882 - val_loss: 0.4799 - val_mean_iou: 0.3882\n",
            "Epoch 401/600\n",
            "29/55 [==============>...............] - ETA: 38s - loss: 0.0519 - mean_iou: 0.3882"
          ],
          "name": "stdout"
        },
        {
          "output_type": "stream",
          "text": [
            "56/55 [==============================] - 86s 2s/step - loss: 0.0517 - mean_iou: 0.3883 - val_loss: 0.4866 - val_mean_iou: 0.3883\n",
            "Epoch 402/600\n",
            "56/55 [==============================] - 86s 2s/step - loss: 0.0491 - mean_iou: 0.3883 - val_loss: 0.4223 - val_mean_iou: 0.3883\n",
            "Epoch 403/600\n",
            "56/55 [==============================] - 86s 2s/step - loss: 0.0502 - mean_iou: 0.3883 - val_loss: 0.5203 - val_mean_iou: 0.3884\n",
            "Epoch 404/600\n",
            "56/55 [==============================] - 86s 2s/step - loss: 0.0489 - mean_iou: 0.3884 - val_loss: 0.4118 - val_mean_iou: 0.3884\n",
            "Epoch 405/600\n",
            "51/55 [==========================>...] - ETA: 6s - loss: 0.0496 - mean_iou: 0.3884"
          ],
          "name": "stdout"
        },
        {
          "output_type": "stream",
          "text": [
            "56/55 [==============================] - 86s 2s/step - loss: 0.0492 - mean_iou: 0.3884 - val_loss: 0.4261 - val_mean_iou: 0.3885\n",
            "Epoch 406/600\n",
            "56/55 [==============================] - 86s 2s/step - loss: 0.0518 - mean_iou: 0.3885 - val_loss: 0.4964 - val_mean_iou: 0.3885\n",
            "Epoch 407/600\n",
            "56/55 [==============================] - 86s 2s/step - loss: 0.0495 - mean_iou: 0.3885 - val_loss: 0.5097 - val_mean_iou: 0.3886\n",
            "Epoch 408/600\n",
            "56/55 [==============================] - 86s 2s/step - loss: 0.0483 - mean_iou: 0.3886 - val_loss: 0.4974 - val_mean_iou: 0.3886\n",
            "Epoch 409/600\n",
            "54/55 [============================>.] - ETA: 1s - loss: 0.0499 - mean_iou: 0.3886"
          ],
          "name": "stdout"
        },
        {
          "output_type": "stream",
          "text": [
            "56/55 [==============================] - 86s 2s/step - loss: 0.0496 - mean_iou: 0.3886 - val_loss: 0.5365 - val_mean_iou: 0.3886\n",
            "Epoch 410/600\n",
            "56/55 [==============================] - 86s 2s/step - loss: 0.0497 - mean_iou: 0.3887 - val_loss: 0.4170 - val_mean_iou: 0.3887\n",
            "Epoch 411/600\n",
            "43/55 [======================>.......] - ETA: 17s - loss: 0.0522 - mean_iou: 0.3887"
          ],
          "name": "stdout"
        }
      ]
    },
    {
      "metadata": {
        "id": "FLI-YIU1Dv1e",
        "colab_type": "code",
        "colab": {
          "base_uri": "https://localhost:8080/",
          "height": 51
        },
        "outputId": "bfcb6723-5508-4116-afb2-3b3a91cabb7d"
      },
      "cell_type": "code",
      "source": [
        "import cv2\n",
        "import pandas as pd\n",
        "import numpy as np\n",
        "from tqdm import tqdm\n",
        "  \n",
        "def rleToMask(rleString,height,width):\n",
        "    rows,cols = height,width\n",
        "    rleNumbers = [int(numstring) for numstring in rleString.split(' ')]\n",
        "    rlePairs = np.array(rleNumbers).reshape(-1,2)\n",
        "    img = np.zeros(rows*cols,dtype=np.uint8)\n",
        "    for index,length in rlePairs:\n",
        "        index -= 1\n",
        "        img[index:index+length] = 255\n",
        "    img = img.reshape(cols,rows)\n",
        "    img = img.T\n",
        "    return img\n",
        "\n",
        "TEST_DIR = \"../DSB2018/stage1_test/\"\n",
        "\n",
        "test_ids = next(os.walk(TEST_DIR))[1]\n",
        "\n",
        "print(test_ids[:3])\n",
        "\n",
        "images_path = TEST_DIR + \"{}/images/{}.png\"\n",
        "\n",
        "test_df = pd.read_csv('stage1_solution.csv')\n",
        "\n",
        "test_list = []\n",
        "test_gt = []\n",
        "for i,id_ in tqdm(enumerate(test_ids), total=len(test_ids)):\n",
        "    \n",
        "    image_path = images_path.format(id_,id_)\n",
        "    image = cv2.imread(image_path)\n",
        "    \n",
        "    df_id = test_df.loc[test_df['ImageId'] == id_]#['EncodedPixels']\n",
        "    \n",
        "    masks = np.zeros(image.shape[:2]+(len(df_id),), dtype=np.uint8)\n",
        "    for j in range(len(df_id)):\n",
        "        rle = df_id.iloc[j]\n",
        "        masks[:,:,j] = rleToMask(rle['EncodedPixels'], rle['Height'], rle['Width'])\n",
        "    masks = masks.astype(np.bool)\n",
        "    \n",
        "    test_list.append(image)\n",
        "    test_gt.append(masks)\n",
        "\n",
        "    \n",
        "#for i,test_image in tqdm(enumerate(test_list), total=len(test_list)):\n",
        "#    if not (test_image[:,:,0]==test_image[:,:,1]).all(): #not gray img\n",
        "#            temp = 255 - (cv2.cvtColor(test_image, cv2.COLOR_BGR2GRAY)) #convert to gray 1 channel + invert\n",
        "#            test_list[i] = cv2.cvtColor(temp,cv2.COLOR_GRAY2BGR) #grayscale 3 channels"
      ],
      "execution_count": 10,
      "outputs": [
        {
          "output_type": "stream",
          "text": [
            "['1ef68e93964c2d9230100c1347c328f6385a7bc027879dc3d4c055e6fe80cb3c', '912a679e4b9b1d1a75170254fd675b8c24b664d80ad7ea7e460241a23535a406', 'df40099c6306ca1f47fcc8a62e2fa39486d4e223177afdc51b2ad189691802d8']\n"
          ],
          "name": "stdout"
        },
        {
          "output_type": "stream",
          "text": [
            "100%|██████████| 65/65 [01:28<00:00,  1.36s/it]\n"
          ],
          "name": "stderr"
        }
      ]
    },
    {
      "metadata": {
        "id": "GI45lUcaEQJ2",
        "colab_type": "code",
        "colab": {
          "base_uri": "https://localhost:8080/",
          "height": 204
        },
        "outputId": "c2353855-acb7-44cc-f8ba-d0a1bfabeac4"
      },
      "cell_type": "code",
      "source": [
        "shapes = [img.shape for img in test_list]\n",
        "a,b=np.unique(shapes, axis=0, return_counts=True)\n",
        "list(zip(a,b))"
      ],
      "execution_count": 82,
      "outputs": [
        {
          "output_type": "execute_result",
          "data": {
            "text/plain": [
              "[(array([256, 256,   3]), 24),\n",
              " (array([260, 347,   3]), 4),\n",
              " (array([390, 239,   3]), 1),\n",
              " (array([512, 640,   3]), 8),\n",
              " (array([512, 680,   3]), 8),\n",
              " (array([519, 161,   3]), 2),\n",
              " (array([519, 162,   3]), 2),\n",
              " (array([519, 253,   3]), 4),\n",
              " (array([520, 348,   3]), 4),\n",
              " (array([520, 696,   3]), 4),\n",
              " (array([524, 348,   3]), 4)]"
            ]
          },
          "metadata": {
            "tags": []
          },
          "execution_count": 82
        }
      ]
    },
    {
      "metadata": {
        "id": "wKePl4P2Uj_G",
        "colab_type": "code",
        "colab": {}
      },
      "cell_type": "code",
      "source": [
        "import skimage.transform\n",
        "from sliding_window import getIndexForPatches\n",
        "\n",
        "def predict_sw(image, model, cutoff=0.5, window_size=228, overlap=0.5):\n",
        "        \n",
        "    if window_size is None:\n",
        "        weight = np.ones(image.shape[:2]+(1,),dtype=np.float32)\n",
        "        res = model.predict([image[np.newaxis], weight[np.newaxis]], verbose=0) #newaxis for batch size=1\n",
        "        return np.squeeze(res)>cutoff\n",
        "    \n",
        "    h,w = image.shape[:2]\n",
        "    pad_size = 96\n",
        "    weight = np.ones((window_size,window_size,1),dtype=np.float32)\n",
        "    \n",
        "    resized=False\n",
        "    if image.shape[0]<window_size or image.shape[1]<window_size:\n",
        "        scale = max(1, window_size / min(h, w))\n",
        "        #print(\"1\",image.shape,flush=True)\n",
        "        image = cv2.resize(image, (round(w * scale), round(h * scale)))\n",
        "        #print(\"2\",image.shape,flush=True)\n",
        "        resized=True\n",
        "    \n",
        "    #print(image.shape,flush=True)\n",
        "    h2,w2 = image.shape[:2]\n",
        "    windows = getIndexForPatches(w2, h2, window_size, overlap)\n",
        "    \n",
        "    outputs = []\n",
        "    for window in windows:\n",
        "        img = image[window]\n",
        "            \n",
        "        img_padded = np.pad(img, ((pad_size, pad_size), (pad_size, pad_size), (0,0)), mode='reflect')\n",
        "        \n",
        "        res = model.predict([img_padded[np.newaxis], weight[np.newaxis]], verbose=0) #newaxis for batch size=1\n",
        "        res = res[0]#np.squeeze(res)\n",
        "        \n",
        "        outputs.append(res)\n",
        "        \n",
        "    # merge multiple results\n",
        "    merged_output = np.zeros((image.shape[0], image.shape[1], 1), dtype=np.float32)\n",
        "    for window, output in zip(windows, outputs):\n",
        "        merged_output[window] = np.maximum(output, merged_output[window])\n",
        "    #merged_output = merged_output.reshape((image.shape[0], image.shape[1]))\n",
        "\n",
        "    if resized:\n",
        "        #print(\"3\",merged_output.shape,flush=True)\n",
        "        merged_output = cv2.resize(merged_output, (w, h))\n",
        "        #print(\"4\",merged_output.shape,flush=True)\n",
        "    \n",
        "    return np.squeeze(merged_output)>cutoff\n",
        "\n",
        "#print(test_list[1].shape)\n",
        "#import matplotlib.pyplot as plt\n",
        "#print(predict_sw(test_list[1],model).shape)\n",
        "#plt.imshow(predict_sw(test_list[1],model))"
      ],
      "execution_count": 0,
      "outputs": []
    },
    {
      "metadata": {
        "id": "dg_lDXKNET-m",
        "colab_type": "code",
        "colab": {}
      },
      "cell_type": "code",
      "source": [
        "from skimage.morphology import label\n",
        "from scipy.ndimage.morphology import binary_dilation\n",
        "\n",
        "\n",
        "def tta_predict(image, model, cutoff):\n",
        "    \n",
        "    tta_n=8\n",
        "    voting_threshold = 5\n",
        "    \n",
        "    batch_tta = []\n",
        " \n",
        "    #Do augmentations\n",
        "    batch_tta.append(image)\n",
        "    batch_tta.append(np.rot90(image, k=1))\n",
        "    batch_tta.append(np.rot90(image, k=2))\n",
        "    batch_tta.append(np.rot90(image, k=3))\n",
        "    batch_tta.append(np.fliplr(image))\n",
        "    batch_tta.append(np.flipud(image))\n",
        "    batch_tta.append(np.rot90(np.fliplr(image), k=1))\n",
        "    batch_tta.append(np.rot90(np.flipud(image), k=1))\n",
        "\n",
        "    #In case image is too big for memory\n",
        "    res_predict = []\n",
        "    for tta_img in batch_tta:\n",
        "        #tta_weight = np.ones(tta_img.shape[:2]+(1,),dtype=np.float32)\n",
        "        #res_predict.append(np.squeeze(model.predict([tta_img[np.newaxis], tta_weight[np.newaxis]], verbose=0))>cutoff)\n",
        "        res_predict.append(predict_sw(tta_img, model, cutoff=cutoff))\n",
        "    #print(res_predict[0].shape, res_predict[0].dtype, res_predict[0].max(), res_predict[0].min())\n",
        "    res_predict = [res_pred.astype(np.bool) for res_pred in res_predict]\n",
        "    res_predict = [res_pred.astype(np.uint8) for res_pred in res_predict]\n",
        "    \n",
        "    #Undo augmentations\n",
        "    res_predict[0] = res_predict[0]\n",
        "    res_predict[1] = np.rot90(res_predict[1], k=-1)\n",
        "    res_predict[2] = np.rot90(res_predict[2], k=-2)\n",
        "    res_predict[3] = np.rot90(res_predict[3], k=-3)\n",
        "    res_predict[4] = np.fliplr(res_predict[4])\n",
        "    res_predict[5] = np.flipud(res_predict[5])\n",
        "    res_predict[6] = np.rot90(np.fliplr(res_predict[6]), k=1)\n",
        "    res_predict[7] = np.rot90(np.flipud(res_predict[7]), k=1)\n",
        "    \n",
        "    res_predict = np.array(res_predict, dtype=np.uint8)\n",
        "    #Voting\n",
        "    tta_sum = np.sum(res_predict,axis=0)\n",
        "    tta_sum = tta_sum>voting_threshold\n",
        "    \n",
        "    return tta_sum\n",
        "\n",
        "def get_predictions(test_list, model, cutoff=0.5, tta=True, pad=16, dilation=True):\n",
        "    \n",
        "    test_predictions = []\n",
        "    for i,image_test in tqdm(enumerate(test_list), total=len(test_list)):\n",
        "        image = image_test\n",
        "        \n",
        "        #Padding64 to avoid max pool errors in unet\n",
        "        if pad:\n",
        "            image, window = pad2n(image, pad)\n",
        "        \n",
        "        if tta:\n",
        "            raw_pred = tta_predict(image, model, cutoff)\n",
        "        else:\n",
        "            weight = np.ones(image.shape[:2]+(1,),dtype=np.float32)\n",
        "            \n",
        "            image  = image[np.newaxis]\n",
        "            weight = weight[np.newaxis]\n",
        "\n",
        "            #Predict\n",
        "            raw_pred = model.predict([image, weight], verbose=0)\n",
        "\n",
        "            #Squeeze before remove padding \n",
        "            raw_pred = np.squeeze(raw_pred)\n",
        "        \n",
        "        raw_pred = raw_pred[window]\n",
        "        \n",
        "        \n",
        "        #Label and thresholding\n",
        "        pred = label(raw_pred > cutoff)\n",
        "        \n",
        "        #Mask conversion\n",
        "        masks = label_to_masks(pred)\n",
        "        \n",
        "        #Mask dilation as post processing\n",
        "        if dilation:\n",
        "            for j in range(masks.shape[-1]):\n",
        "                masks[:,:,j] = binary_dilation(masks[:,:,j].astype(np.uint8), iterations=2)\n",
        "        masks = masks.astype(np.bool)\n",
        "\n",
        "        test_predictions.append(masks)\n",
        "        \n",
        "    return test_predictions\n",
        "\n",
        "def find_last(NAME, model_dir):\n",
        "    \"\"\"Finds the last checkpoint file of the last trained model in the\n",
        "    model directory.\n",
        "    Returns:\n",
        "        log_dir: The directory where events and weights are saved\n",
        "        checkpoint_path: the path to the last checkpoint file\n",
        "    \"\"\"\n",
        "    # Get directory names. Each directory corresponds to a model\n",
        "    dir_names = next(os.walk(model_dir))[1]\n",
        "    key = NAME.lower()\n",
        "    dir_names = filter(lambda f: f.startswith(key), dir_names)\n",
        "    dir_names = sorted(dir_names)\n",
        "    if not dir_names:\n",
        "        return None, None\n",
        "    # Pick last directory\n",
        "    dir_name = os.path.join(model_dir, dir_names[-1])\n",
        "    # Find the last checkpoint\n",
        "    checkpoints = next(os.walk(dir_name))[2]\n",
        "    checkpoints = filter(lambda f: f.startswith(\"U_net\"), checkpoints)\n",
        "    checkpoints = sorted(checkpoints)\n",
        "    if not checkpoints:\n",
        "        return dir_name, None\n",
        "    checkpoint = os.path.join(dir_name, checkpoints[-1])\n",
        "    return dir_name, checkpoint"
      ],
      "execution_count": 0,
      "outputs": []
    },
    {
      "metadata": {
        "id": "UWz-A2LzOblO",
        "colab_type": "code",
        "colab": {
          "base_uri": "https://localhost:8080/",
          "height": 34
        },
        "outputId": "0c66a167-5727-4717-bef9-ee6855a3f3b3"
      },
      "cell_type": "code",
      "source": [
        "#Model\n",
        "model = Unet(420)\n",
        "\n",
        "Unet_path = find_last(NAME, MODEL_DIR)[1]\n",
        "print(Unet_path)\n",
        "\n",
        "#model.load_weights(Unet_path)\n",
        "model.load_weights('/content/drive/kaggle/Unet_dsb2018/logs/bowl20180501T1822/U_net_0080.h5')\n"
      ],
      "execution_count": 13,
      "outputs": [
        {
          "output_type": "stream",
          "text": [
            "/content/drive/kaggle/Unet_dsb2018/logs/bowl20180502T0046/U_net_0410.h5\n"
          ],
          "name": "stdout"
        }
      ]
    },
    {
      "metadata": {
        "id": "kj9HYNGiEYTA",
        "colab_type": "code",
        "colab": {
          "base_uri": "https://localhost:8080/",
          "height": 34
        },
        "outputId": "5e77afd9-97ed-4a69-9325-c6b9c099348a"
      },
      "cell_type": "code",
      "source": [
        "#Evaluation\n",
        "test_predictions = get_predictions(test_list, model,tta=True, pad=64)"
      ],
      "execution_count": 14,
      "outputs": [
        {
          "output_type": "stream",
          "text": [
            "100%|██████████| 65/65 [06:50<00:00,  6.31s/it]\n"
          ],
          "name": "stderr"
        }
      ]
    },
    {
      "metadata": {
        "id": "4AgwnzfFSsEH",
        "colab_type": "code",
        "colab": {
          "base_uri": "https://localhost:8080/",
          "height": 775
        },
        "outputId": "6a00e7c0-9dce-4975-86cc-8151a40d37a7"
      },
      "cell_type": "code",
      "source": [
        "import matplotlib.pyplot as plt\n",
        "import random\n",
        "\n",
        "def random_color_img(label):\n",
        "    image = np.zeros(label.shape + (3,), dtype=np.uint8)\n",
        "    for i in range(1,label.max()):\n",
        "        r = random.randint(0, 255)\n",
        "        g = random.randint(0, 255)\n",
        "        b = random.randint(0, 255)\n",
        "        color = np.array([r,g,b])\n",
        "        image[label==i] = color\n",
        "    \n",
        "    return image\n",
        "        \n",
        "    \n",
        "\n",
        "ix_ = np.random.randint(0, len(test_list))\n",
        "print(ix_)\n",
        "fig = plt.figure(figsize=(21,21))\n",
        "plt.subplot(1, 3, 1)\n",
        "plt.imshow(test_list[ix_])\n",
        "plt.subplot(1, 3, 2)\n",
        "plt.imshow(random_color_img(masks_to_label(test_predictions[ix_])))\n",
        "\n",
        "plt.show()"
      ],
      "execution_count": 20,
      "outputs": [
        {
          "output_type": "stream",
          "text": [
            "10\n"
          ],
          "name": "stdout"
        },
        {
          "output_type": "display_data",
          "data": {
            "image/png": "[encoded data removed]",
            "text/plain": [
              "<matplotlib.figure.Figure at 0x7f97b1516ac8>"
            ]
          },
          "metadata": {
            "tags": []
          }
        }
      ]
    },
    {
      "metadata": {
        "id": "2iz_1tUsc81e",
        "colab_type": "code",
        "colab": {}
      },
      "cell_type": "code",
      "source": [
        "#Rewriting the mIOU function to account for correct number of ground truth mask\n",
        "def iou_metric(y_true_in, y_pred_in, print_table=False):\n",
        "    labels = masks_to_label(y_true_in)\n",
        "    y_pred = masks_to_label(y_pred_in)\n",
        "    \n",
        "    true_objects = len(np.unique(labels))\n",
        "    pred_objects = len(np.unique(y_pred))\n",
        "\n",
        "    intersection = np.histogram2d(labels.flatten(), y_pred.flatten(), bins=(true_objects, pred_objects))[0]\n",
        "\n",
        "    # Compute areas (needed for finding the union between all objects)\n",
        "    area_true = np.histogram(labels, bins = true_objects)[0]\n",
        "    area_pred = np.histogram(y_pred, bins = pred_objects)[0]\n",
        "    area_true = np.expand_dims(area_true, -1)\n",
        "    area_pred = np.expand_dims(area_pred, 0)\n",
        "\n",
        "    # Compute union\n",
        "    union = area_true + area_pred - intersection\n",
        "\n",
        "    # Exclude background from the analysis\n",
        "    intersection = intersection[1:,1:]\n",
        "    union = union[1:,1:]\n",
        "    union[union == 0] = 1e-9\n",
        "\n",
        "    # Compute the intersection over union\n",
        "    iou = intersection / union\n",
        "\n",
        "    # Precision helper function\n",
        "    def precision_at(threshold, iou):\n",
        "        matches = iou > threshold\n",
        "        true_positives = np.sum(matches, axis=1) == 1   # Correct objects\n",
        "        false_positives = np.sum(matches, axis=0) == 0  # Missed objects\n",
        "        false_negatives = np.sum(matches, axis=1) == 0  # Extra objects\n",
        "        tp, fp, fn = np.sum(true_positives), np.sum(false_positives), np.sum(false_negatives)\n",
        "        return tp, fp, fn\n",
        "\n",
        "    # Loop over IoU thresholds\n",
        "    prec = []\n",
        "    if print_table:\n",
        "        print(\"Thresh\\tTP\\tFP\\tFN\\tPrec.\")\n",
        "    for t in np.arange(0.5, 1.0, 0.05):\n",
        "        tp, fp, fn = precision_at(t, iou)\n",
        "        if (tp + fp + fn) > 0:\n",
        "            p = tp / (tp + fp + fn)\n",
        "        else:\n",
        "            p = 0\n",
        "        if print_table:\n",
        "            print(\"{:1.3f}\\t{}\\t{}\\t{}\\t{:1.3f}\".format(t, tp, fp, fn, p))\n",
        "        prec.append(p)\n",
        "    \n",
        "    if print_table:\n",
        "        print(\"AP\\t-\\t-\\t-\\t{:1.3f}\".format(np.mean(prec)))\n",
        "    return np.mean(prec)\n",
        "\n",
        "def iou_metric_batch(y_true_in, y_pred_in):\n",
        "    batch_size = len(y_true_in)\n",
        "    metric = []\n",
        "    for batch in range(batch_size):\n",
        "        #print(y_true_in[batch].shape, y_pred_in[batch].shape)\n",
        "        value = iou_metric(y_true_in[batch], y_pred_in[batch])\n",
        "        metric.append(value)\n",
        "#     return np.array(np.mean(metric), dtype=np.float32)\n",
        "    return metric\n"
      ],
      "execution_count": 0,
      "outputs": []
    },
    {
      "metadata": {
        "id": "dAxNHpqmdAfk",
        "colab_type": "code",
        "colab": {
          "base_uri": "https://localhost:8080/",
          "height": 34
        },
        "outputId": "5203fef4-fe21-4ee3-b72c-43533d428fb7"
      },
      "cell_type": "code",
      "source": [
        "mIOU = np.array(iou_metric_batch(test_gt, test_predictions))\n",
        "print('The mean IOU is {}'.format(np.mean(mIOU)))"
      ],
      "execution_count": 17,
      "outputs": [
        {
          "output_type": "stream",
          "text": [
            "The mean IOU is 0.33602256600168284\n"
          ],
          "name": "stdout"
        }
      ]
    },
    {
      "metadata": {
        "id": "_8LSmqqPhNS6",
        "colab_type": "code",
        "colab": {
          "base_uri": "https://localhost:8080/",
          "height": 283
        },
        "outputId": "55e9255c-8fa5-41d0-a6d5-339c1e6efe9c"
      },
      "cell_type": "code",
      "source": [
        "import matplotlib.pyplot as plt\n",
        "image = test_list[10]\n",
        "\n",
        "res_tta = tta_predict(image, model,0.5)\n",
        "print(res_tta.shape, res_tta.dtype, res_tta.max(), res_tta.min())\n",
        "simage = image[np.newaxis]\n",
        "#Predict\n",
        "raw_pred = model.predict(simage, verbose=0) \n",
        "raw_pred = np.squeeze(raw_pred)\n",
        "\n",
        "fig = plt.figure(figsize=(12,12))\n",
        "plt.subplot(131)\n",
        "plt.imshow(image)\n",
        "plt.subplot(132)\n",
        "plt.imshow(res_tta)\n",
        "plt.subplot(133)\n",
        "plt.imshow(raw_pred)\n",
        "plt.show()"
      ],
      "execution_count": 0,
      "outputs": [
        {
          "output_type": "stream",
          "text": [
            "(256, 256) bool True False\n",
            "(256, 256) bool True False\n"
          ],
          "name": "stdout"
        },
        {
          "output_type": "display_data",
          "data": {
            "image/png": "[encoded data removed]",
            "text/plain": [
              "<matplotlib.figure.Figure at 0x7f9c8eb7d7f0>"
            ]
          },
          "metadata": {
            "tags": []
          }
        }
      ]
    }
  ]
}