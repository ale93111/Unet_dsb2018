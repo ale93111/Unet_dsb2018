{
  "nbformat": 4,
  "nbformat_minor": 0,
  "metadata": {
    "colab": {
      "name": "Unet_weighted_dsb2018.ipynb",
      "version": "0.3.2",
      "provenance": [],
      "collapsed_sections": []
    },
    "kernelspec": {
      "name": "python3",
      "display_name": "Python 3"
    },
    "accelerator": "GPU"
  },
  "cells": [
    {
      "cell_type": "markdown",
      "metadata": {
        "id": "view-in-github",
        "colab_type": "text"
      },
      "source": [
        "[View in Colaboratory](https://colab.research.google.com/github/ale93111/Unet_dsb2018/blob/master/Unet_weighted_dsb2018.ipynb)"
      ]
    },
    {
      "metadata": {
        "id": "4jyO_Z7kSmG4",
        "colab_type": "code",
        "colab": {
          "base_uri": "https://localhost:8080/",
          "height": 105
        },
        "outputId": "33bec8db-880f-4f3f-9540-e164a2a6d572"
      },
      "cell_type": "code",
      "source": [
        "!apt-get install -y -qq software-properties-common python-software-properties module-init-tools\n",
        "!add-apt-repository -y ppa:alessandro-strada/ppa 2>&1 > /dev/null\n",
        "!apt-get update -qq 2>&1 > /dev/null\n",
        "!apt-get -y install -qq google-drive-ocamlfuse fuse\n",
        "from google.colab import auth\n",
        "auth.authenticate_user()\n",
        "from oauth2client.client import GoogleCredentials\n",
        "creds = GoogleCredentials.get_application_default()\n",
        "import getpass\n",
        "!google-drive-ocamlfuse -headless -id={creds.client_id} -secret={creds.client_secret} < /dev/null 2>&1 | grep URL\n",
        "vcode = getpass.getpass()\n",
        "!echo {vcode} | google-drive-ocamlfuse -headless -id={creds.client_id} -secret={creds.client_secret}"
      ],
      "execution_count": 2,
      "outputs": [
        {
          "output_type": "stream",
          "text": [
            "Please, open the following URL in a web browser: https://accounts.google.com/o/oauth2/auth?client_id=32555940559.apps.googleusercontent.com&redirect_uri=urn%3Aietf%3Awg%3Aoauth%3A2.0%3Aoob&scope=https%3A%2F%2Fwww.googleapis.com%2Fauth%2Fdrive&response_type=code&access_type=offline&approval_prompt=force\r\n",
            "··········\n",
            "Please, open the following URL in a web browser: https://accounts.google.com/o/oauth2/auth?client_id=32555940559.apps.googleusercontent.com&redirect_uri=urn%3Aietf%3Awg%3Aoauth%3A2.0%3Aoob&scope=https%3A%2F%2Fwww.googleapis.com%2Fauth%2Fdrive&response_type=code&access_type=offline&approval_prompt=force\n",
            "Please enter the verification code: Access token retrieved correctly.\n"
          ],
          "name": "stdout"
        }
      ]
    },
    {
      "metadata": {
        "id": "b1hZOYGKSoqW",
        "colab_type": "code",
        "colab": {
          "base_uri": "https://localhost:8080/",
          "height": 34
        },
        "outputId": "fe83fcd7-0aa4-4038-81ff-252ab508c524"
      },
      "cell_type": "code",
      "source": [
        "!apt-get -qq install -y libsm6 libxext6 && pip install -q -U opencv-python\n",
        "!pwd"
      ],
      "execution_count": 3,
      "outputs": [
        {
          "output_type": "stream",
          "text": [
            "/content\r\n"
          ],
          "name": "stdout"
        }
      ]
    },
    {
      "metadata": {
        "id": "eKr1IR2kSqGi",
        "colab_type": "code",
        "colab": {}
      },
      "cell_type": "code",
      "source": [
        "#!fusermount -u drive\n",
        "!mkdir -p drive\n",
        "!google-drive-ocamlfuse drive\n",
        "import os\n",
        "os.chdir(\"drive/kaggle/Unet_dsb2018\")"
      ],
      "execution_count": 0,
      "outputs": []
    },
    {
      "metadata": {
        "id": "HvHexk_dSrwC",
        "colab_type": "code",
        "colab": {
          "base_uri": "https://localhost:8080/",
          "height": 595
        },
        "outputId": "065154ef-a243-4c40-ee23-f7cbbfb69912"
      },
      "cell_type": "code",
      "source": [
        "#!pip install --upgrade pip\n",
        "!pip install tqdm\n",
        "!pip install keras\n",
        "!pip install imgaug"
      ],
      "execution_count": 5,
      "outputs": [
        {
          "output_type": "stream",
          "text": [
            "Collecting tqdm\n",
            "\u001b[?25l  Downloading https://files.pythonhosted.org/packages/c2/d4/bf1d99216672eef50392c009a8d0f282c4b643e4f764c962ff7b611ebce4/tqdm-4.23.1-py2.py3-none-any.whl (42kB)\n",
            "\u001b[K    100% |████████████████████████████████| 51kB 3.6MB/s \n",
            "\u001b[?25hInstalling collected packages: tqdm\n",
            "Successfully installed tqdm-4.23.1\n",
            "Requirement already satisfied: keras in /usr/local/lib/python3.6/dist-packages (2.1.6)\n",
            "Requirement already satisfied: numpy>=1.9.1 in /usr/local/lib/python3.6/dist-packages (from keras) (1.14.3)\n",
            "Requirement already satisfied: pyyaml in /usr/local/lib/python3.6/dist-packages (from keras) (3.12)\n",
            "Requirement already satisfied: six>=1.9.0 in /usr/local/lib/python3.6/dist-packages (from keras) (1.11.0)\n",
            "Requirement already satisfied: h5py in /usr/local/lib/python3.6/dist-packages (from keras) (2.7.1)\n",
            "Requirement already satisfied: scipy>=0.14 in /usr/local/lib/python3.6/dist-packages (from keras) (0.19.1)\n",
            "Collecting imgaug\n",
            "\u001b[?25l  Downloading https://files.pythonhosted.org/packages/d2/60/a06a48d85a7e9062f5870347a3e3e953da30b37928d43b380c949bca458a/imgaug-0.2.5.tar.gz (562kB)\n",
            "\u001b[K    100% |████████████████████████████████| 563kB 7.1MB/s \n",
            "\u001b[?25hRequirement already satisfied: scipy in /usr/local/lib/python3.6/dist-packages (from imgaug) (0.19.1)\n",
            "Requirement already satisfied: scikit-image>=0.11.0 in /usr/local/lib/python3.6/dist-packages (from imgaug) (0.13.1)\n",
            "Requirement already satisfied: numpy>=1.7.0 in /usr/local/lib/python3.6/dist-packages (from imgaug) (1.14.3)\n",
            "Requirement already satisfied: six in /usr/local/lib/python3.6/dist-packages (from imgaug) (1.11.0)\n",
            "Requirement already satisfied: PyWavelets>=0.4.0 in /usr/local/lib/python3.6/dist-packages (from scikit-image>=0.11.0->imgaug) (0.5.2)\n",
            "Requirement already satisfied: pillow>=2.1.0 in /usr/local/lib/python3.6/dist-packages (from scikit-image>=0.11.0->imgaug) (4.0.0)\n",
            "Requirement already satisfied: matplotlib>=1.3.1 in /usr/local/lib/python3.6/dist-packages (from scikit-image>=0.11.0->imgaug) (2.1.2)\n",
            "Requirement already satisfied: networkx>=1.8 in /usr/local/lib/python3.6/dist-packages (from scikit-image>=0.11.0->imgaug) (2.1)\n",
            "Requirement already satisfied: olefile in /usr/local/lib/python3.6/dist-packages (from pillow>=2.1.0->scikit-image>=0.11.0->imgaug) (0.45.1)\n",
            "Requirement already satisfied: python-dateutil>=2.1 in /usr/local/lib/python3.6/dist-packages (from matplotlib>=1.3.1->scikit-image>=0.11.0->imgaug) (2.5.3)\n",
            "Requirement already satisfied: pytz in /usr/local/lib/python3.6/dist-packages (from matplotlib>=1.3.1->scikit-image>=0.11.0->imgaug) (2018.4)\n",
            "Requirement already satisfied: pyparsing!=2.0.4,!=2.1.2,!=2.1.6,>=2.0.1 in /usr/local/lib/python3.6/dist-packages (from matplotlib>=1.3.1->scikit-image>=0.11.0->imgaug) (2.2.0)\n",
            "Requirement already satisfied: cycler>=0.10 in /usr/local/lib/python3.6/dist-packages (from matplotlib>=1.3.1->scikit-image>=0.11.0->imgaug) (0.10.0)\n",
            "Requirement already satisfied: decorator>=4.1.0 in /usr/local/lib/python3.6/dist-packages (from networkx>=1.8->scikit-image>=0.11.0->imgaug) (4.3.0)\n",
            "Building wheels for collected packages: imgaug\n",
            "  Running setup.py bdist_wheel for imgaug ... \u001b[?25l-\b \b\\\b \bdone\n",
            "\u001b[?25h  Stored in directory: /content/.cache/pip/wheels/31/48/c8/ca3345e8582a078de94243996e148377ef66fdb845557bae0b\n",
            "Successfully built imgaug\n",
            "Installing collected packages: imgaug\n",
            "Successfully installed imgaug-0.2.5\n"
          ],
          "name": "stdout"
        }
      ]
    },
    {
      "metadata": {
        "id": "iNa6A6mFUMHW",
        "colab_type": "code",
        "colab": {
          "base_uri": "https://localhost:8080/",
          "height": 34
        },
        "outputId": "ba7d5d41-2a10-418c-b679-832de26f849d"
      },
      "cell_type": "code",
      "source": [
        "import os\n",
        "\n",
        "NAME = 'bowl'\n",
        "\n",
        "# Root directory of the project\n",
        "ROOT_DIR = os.getcwd()\n",
        "\n",
        "print(ROOT_DIR)\n",
        "\n",
        "# Directory to save logs and trained model\n",
        "MODEL_DIR = os.path.join(ROOT_DIR, \"logs\")\n",
        "\n",
        "#Dataset directory\n",
        "dataset_path = os.path.join(ROOT_DIR, \"RCNN_dataset_512_labels\")"
      ],
      "execution_count": 6,
      "outputs": [
        {
          "output_type": "stream",
          "text": [
            "/content/drive/kaggle/Unet_dsb2018\n"
          ],
          "name": "stdout"
        }
      ]
    },
    {
      "metadata": {
        "id": "87Jaf4Ues-IO",
        "colab_type": "code",
        "colab": {}
      },
      "cell_type": "code",
      "source": [
        "import numpy as np\n",
        "from functools import partial, update_wrapper\n",
        "\n",
        "#partial name fix\n",
        "def wrapped_partial(func, *args, **kwargs):\n",
        "    partial_func = partial(func, *args, **kwargs)\n",
        "    update_wrapper(partial_func, func)\n",
        "    return partial_func\n",
        "\n",
        "def pad2n(image,npad=32):\n",
        "    h, w = image.shape[:2]\n",
        "    if h % npad > 0:\n",
        "        max_h = h - (h % npad) + npad\n",
        "        top_pad = (max_h - h) // 2\n",
        "        bottom_pad = max_h - h - top_pad\n",
        "    else:\n",
        "        top_pad = bottom_pad = 0\n",
        "    # Width\n",
        "    if w % npad > 0:\n",
        "        max_w = w - (w % npad) + npad\n",
        "        left_pad = (max_w - w) // 2\n",
        "        right_pad = max_w - w - left_pad\n",
        "    else:\n",
        "        left_pad = right_pad = 0\n",
        "\n",
        "    padding = [(top_pad, bottom_pad), (left_pad, right_pad), (0, 0)]\n",
        "    image = np.pad(image, padding, mode='reflect')\n",
        "    window = (slice(top_pad, h + top_pad),slice(left_pad, w + left_pad))\n",
        "    \n",
        "    return image, window\n",
        "  \n",
        "def label_to_masks(labels):\n",
        "    h, w = labels.shape\n",
        "    n_msk = labels.max()\n",
        "    masks = np.empty((h,w,n_msk),dtype=np.bool)\n",
        "    for i in range(n_msk):\n",
        "        masks[:,:,i] = labels==i+1\n",
        "    return masks\n",
        "  \n",
        "def masks_to_label(msk):\n",
        "    h, w, _ = msk.shape\n",
        "    labels = np.zeros((h, w), dtype=np.uint16)\n",
        "    for index in range(0, msk.shape[-1]):\n",
        "        labels[msk[:,:,index] > 0] = index + 1\n",
        "    return labels"
      ],
      "execution_count": 0,
      "outputs": []
    },
    {
      "metadata": {
        "id": "PNlLqzO0RDwy",
        "colab_type": "code",
        "colab": {
          "base_uri": "https://localhost:8080/",
          "height": 34
        },
        "outputId": "8d1c0c73-6c84-4b5a-a706-ab151b1c0338"
      },
      "cell_type": "code",
      "source": [
        "import tensorflow as tf\n",
        "import keras\n",
        "import keras.backend as K\n",
        "import keras.layers as KL\n",
        "import keras.models as KM\n",
        "import keras.utils as KU\n",
        "import keras.losses as KLO\n",
        "from keras.optimizers import Adam, SGD\n",
        "\n",
        "# Define IoU metric\n",
        "def mean_iou(y_true, y_pred):\n",
        "    prec = []\n",
        "    for t in np.arange(0.5, 1.0, 0.05):\n",
        "        y_pred_ = tf.to_int32(y_pred > t)\n",
        "        score, up_opt = tf.metrics.mean_iou(y_true, y_pred_, 2, y_true)\n",
        "        K.get_session().run(tf.local_variables_initializer())\n",
        "        with tf.control_dependencies([up_opt]):\n",
        "            score = tf.identity(score)\n",
        "        prec.append(score)\n",
        "    return K.mean(K.stack(prec), axis=0) #AGGIUNTO AXIS=0\n",
        "\n",
        "def dice_coef(y_true, y_pred):\n",
        "    smooth = 1.\n",
        "    y_true_f = K.flatten(y_true)\n",
        "    y_pred_f = K.flatten(y_pred)\n",
        "    intersection = K.sum(y_true_f * y_pred_f)\n",
        "    return (2. * intersection + smooth) / (K.sum(y_true_f) + K.sum(y_pred_f) + smooth)\n",
        "\n",
        "def bce_dice_loss(y_true, y_pred):\n",
        "    return 0.5 * KLO.binary_crossentropy(y_true, y_pred) - dice_coef(y_true, y_pred)\n",
        "\n",
        "def weighted_loss(y_true,y_pred, weights):\n",
        "    _epsilon = 10e-8\n",
        "    y_pred = tf.clip_by_value(y_pred, _epsilon, 1. - _epsilon)\n",
        "    \n",
        "    #loss_map = K.binary_crossentropy(y_true, y_pred, from_logits=False) #change if softmax is present or not in the net\n",
        "    #weighted_loss = loss_map*weights#[:,:,:,np.newaxis]\n",
        "    #loss=K.mean(weighted_loss)\n",
        "\n",
        "    return - tf.reduce_sum(y_true * weights *  tf.log(y_pred) +\n",
        "                          (1 - y_true)  *  tf.log(1 - y_pred),\n",
        "                          len(y_pred.get_shape()) - 1)\n",
        "\n",
        "def Unet(img_size=None, GPU_COUNT=1):\n",
        "  \n",
        "    inputs         = KL.Input((img_size, img_size, 3))\n",
        "    weights_tensor = KL.Input((img_size, img_size, 1))\n",
        "    \n",
        "    s = KL.Lambda(lambda x: x/128.0 - 1.0)(inputs)\n",
        "\n",
        "    #TODO: make more general\n",
        "    c1 = KL.Conv2D(32, (3, 3), kernel_initializer='he_normal', padding='same')(s)\n",
        "    n1 = KL.BatchNormalization(axis=3)(c1)\n",
        "    a1 = KL.Activation(\"elu\")(n1)\n",
        "    c1 = KL.Dropout(0.2)(a1)\n",
        "    c1 = KL.Conv2D(32, (3, 3), kernel_initializer='he_normal', padding='same')(c1)\n",
        "    n1 = KL.BatchNormalization(axis=3)(c1)\n",
        "    a1 = KL.Activation(\"elu\")(n1)\n",
        "    p1 = KL.MaxPooling2D((2, 2))(a1)\n",
        "\n",
        "    c2 = KL.Conv2D(64, (3, 3), kernel_initializer='he_normal', padding='same')(p1)\n",
        "    n2 = KL.BatchNormalization(axis=3)(c2)\n",
        "    a2 = KL.Activation(\"elu\")(n2)\n",
        "    c2 = KL.Dropout(0.2)(a2)\n",
        "    c2 = KL.Conv2D(64, (3, 3), kernel_initializer='he_normal', padding='same')(c2)\n",
        "    n2 = KL.BatchNormalization(axis=3)(c2)\n",
        "    a2 = KL.Activation(\"elu\")(n2)\n",
        "    p2 = KL.MaxPooling2D((2, 2))(a2)\n",
        "\n",
        "    c3 = KL.Conv2D(128, (3, 3), kernel_initializer='he_normal', padding='same')(p2)\n",
        "    n3 = KL.BatchNormalization(axis=3)(c3)\n",
        "    a3 = KL.Activation(\"elu\")(n3)\n",
        "    c3 = KL.Dropout(0.3)(a3)\n",
        "    c3 = KL.Conv2D(128, (3, 3), kernel_initializer='he_normal', padding='same')(c3)\n",
        "    n3 = KL.BatchNormalization(axis=3)(c3)\n",
        "    a3 = KL.Activation(\"elu\")(n3)\n",
        "    p3 = KL.MaxPooling2D((2, 2))(a3)\n",
        "\n",
        "    c4 = KL.Conv2D(256, (3, 3), kernel_initializer='he_normal', padding='same')(p3)\n",
        "    n4 = KL.BatchNormalization(axis=3)(c4)\n",
        "    a4 = KL.Activation(\"elu\")(n4)\n",
        "    c4 = KL.Dropout(0.4)(a4)\n",
        "    c4 = KL.Conv2D(256, (3, 3), kernel_initializer='he_normal', padding='same')(c4)\n",
        "    n4 = KL.BatchNormalization(axis=3)(c4)\n",
        "    a4 = KL.Activation(\"elu\")(n4)\n",
        "    p4 = KL.MaxPooling2D(pool_size=(2, 2))(a4)\n",
        "\n",
        "    c5 = KL.Conv2D(512, (3, 3), kernel_initializer='he_normal', padding='same')(p4)\n",
        "    n5 = KL.BatchNormalization(axis=3)(c5)\n",
        "    a5 = KL.Activation(\"elu\")(n5)\n",
        "    c5 = KL.Dropout(0.4)(a5)\n",
        "    c5 = KL.Conv2D(512, (3, 3), kernel_initializer='he_normal', padding='same')(c5)\n",
        "    n5 = KL.BatchNormalization(axis=3)(c5)\n",
        "    a5 = KL.Activation(\"elu\")(n5)\n",
        "\n",
        "    u6 = KL.Conv2DTranspose(256, (2, 2), strides=(2, 2), padding='same')(a5)\n",
        "    u6 = KL.concatenate([u6, a4])\n",
        "    c6 = KL.Conv2D(256, (3, 3), kernel_initializer='he_normal', padding='same')(u6)\n",
        "    n6 = KL.BatchNormalization(axis=3)(c6)\n",
        "    a6 = KL.Activation(\"elu\")(n6)\n",
        "    c6 = KL.Dropout(0.4)(a6)\n",
        "    c6 = KL.Conv2D(256, (3, 3), kernel_initializer='he_normal', padding='same')(c6)\n",
        "    n6 = KL.BatchNormalization(axis=3)(c6)\n",
        "    a6 = KL.Activation(\"elu\")(n6)\n",
        "\n",
        "    u7 = KL.Conv2DTranspose(128, (2, 2), strides=(2, 2), padding='same')(a6)\n",
        "    u7 = KL.concatenate([u7, a3])\n",
        "    c7 = KL.Conv2D(128, (3, 3), kernel_initializer='he_normal', padding='same')(u7)\n",
        "    n7 = KL.BatchNormalization(axis=3)(c7)\n",
        "    a7 = KL.Activation(\"elu\")(n7)\n",
        "    c7 = KL.Dropout(0.4)(a7)\n",
        "    c7 = KL.Conv2D(128, (3, 3), kernel_initializer='he_normal', padding='same')(c7)\n",
        "    n7 = KL.BatchNormalization(axis=3)(c7)\n",
        "    a7 = KL.Activation(\"elu\")(n7)\n",
        "\n",
        "    u8 = KL.Conv2DTranspose(64, (2, 2), strides=(2, 2), padding='same')(a7)\n",
        "    u8 = KL.concatenate([u8, a2])\n",
        "    c8 = KL.Conv2D(64, (3, 3), kernel_initializer='he_normal', padding='same')(u8)\n",
        "    n8 = KL.BatchNormalization(axis=3)(c8)\n",
        "    a8 = KL.Activation(\"elu\")(n8)\n",
        "    c8 = KL.Dropout(0.2)(a8)\n",
        "    c8 = KL.Conv2D(64, (3, 3), kernel_initializer='he_normal', padding='same')(c8)\n",
        "    n8 = KL.BatchNormalization(axis=3)(c8)\n",
        "    a8 = KL.Activation(\"elu\")(n8)\n",
        "\n",
        "    u9 = KL.Conv2DTranspose(32, (2, 2), strides=(2, 2), padding='same')(a8)\n",
        "    u9 = KL.concatenate([u9, a1], axis=3)\n",
        "    c9 = KL.Conv2D(32, (3, 3), kernel_initializer='he_normal', padding='same')(u9)\n",
        "    n9 = KL.BatchNormalization(axis=3)(c9)\n",
        "    a9 = KL.Activation(\"elu\")(n9)\n",
        "    c9 = KL.Dropout(0.2)(a9)\n",
        "    c9 = KL.Conv2D(32, (3, 3), kernel_initializer='he_normal', padding='same')(c9)\n",
        "    n9 = KL.BatchNormalization(axis=3)(c9)\n",
        "    a9 = KL.Activation(\"elu\")(n9)\n",
        "\n",
        "    outputs = KL.Conv2D(1, (1, 1), activation='sigmoid')(a9)\n",
        "    \n",
        "    model = KM.Model(inputs=[inputs,weights_tensor], outputs=[outputs])\n",
        "    \n",
        "    weighted_crossentropy = wrapped_partial(weighted_loss, weights=weights_tensor)\n",
        "    \n",
        "    model.compile(optimizer=Adam(lr=0.001,clipvalue=5), loss=weighted_crossentropy)\n",
        "\n",
        "    return model"
      ],
      "execution_count": 8,
      "outputs": [
        {
          "output_type": "stream",
          "text": [
            "Using TensorFlow backend.\n"
          ],
          "name": "stderr"
        }
      ]
    },
    {
      "metadata": {
        "id": "NWW13t-KNB-A",
        "colab_type": "code",
        "colab": {
          "base_uri": "https://localhost:8080/",
          "height": 34
        },
        "outputId": "7c626b0b-c3c8-4224-add6-aeff1ce1f807"
      },
      "cell_type": "code",
      "source": [
        "import cv2\n",
        "import glob\n",
        "import skimage.io\n",
        "import numpy as np\n",
        "from tqdm import tqdm\n",
        "\n",
        "#Find paths and load images and labels(=compressed masks)\n",
        "img_paths = sorted(glob.glob(os.path.join(dataset_path,\"*.png\")))\n",
        "msk_paths = sorted(glob.glob(os.path.join(dataset_path,\"*.npy\")))\n",
        "\n",
        "img_list = []\n",
        "lab_list = []\n",
        "for i,image_path in tqdm(enumerate(img_paths), total=len(img_paths)):\n",
        "    img_list.append(cv2.imread(img_paths[i]))\n",
        "    lab_list.append(np.load(msk_paths[i]))"
      ],
      "execution_count": 8,
      "outputs": [
        {
          "output_type": "stream",
          "text": [
            "100%|██████████| 979/979 [19:59<00:00,  1.22s/it]\n"
          ],
          "name": "stderr"
        }
      ]
    },
    {
      "metadata": {
        "id": "_7iJoNa4NOA6",
        "colab_type": "code",
        "colab": {
          "base_uri": "https://localhost:8080/",
          "height": 34
        },
        "outputId": "16c464e0-3f5b-48cf-8b32-fa57c0c5a95f"
      },
      "cell_type": "code",
      "source": [
        "from scipy.ndimage.morphology import binary_erosion\n",
        "from scipy.ndimage.morphology import distance_transform_edt\n",
        "from tqdm import tqdm\n",
        "  \n",
        "def masks_to_gt(msk):\n",
        "    h, w, _ = msk.shape\n",
        "    gt = np.zeros((h, w), dtype=np.bool)\n",
        "    for index in range(0, msk.shape[-1]):\n",
        "        gt[msk[:,:,index] > 0] = True\n",
        "    return gt[:,:,np.newaxis]\n",
        "\n",
        "def get_weights(masks_in, w0=10, sigma=5):\n",
        "    \"\"\"masks_in shape: (w,h,n_masks)\"\"\"\n",
        "    \n",
        "    masks = np.transpose(masks_in,axes=(2,0,1))\n",
        "    merged_masks = np.squeeze(masks_to_gt(masks_in))\n",
        "    \n",
        "    distances = np.array([distance_transform_edt(m == 0) for m in masks])\n",
        "    shortest_dist = np.sort(distances, axis=0)\n",
        "    \n",
        "    # distance to the border of the nearest cell\n",
        "    d1 = shortest_dist[0]\n",
        "    # distance to the border of the second nearest cell\n",
        "    d2 = shortest_dist[1] if len(shortest_dist) > 1 else np.zeros(d1.shape)\n",
        "\n",
        "    weights = w0 * np.exp(-(d1 + d2) ** 2 / (2 * sigma ** 2)).astype(np.float32)\n",
        "    weights = 1 + (merged_masks == 0) * weights\n",
        "    return weights[..., np.newaxis]\n",
        "\n",
        "gt_list = []\n",
        "weight_list = []\n",
        "for i,label in tqdm(enumerate(lab_list), total=len(lab_list)):\n",
        "    #Convert to masks\n",
        "    masks = label_to_masks(label)\n",
        "    \n",
        "    #Mask erosion as preprocessing\n",
        "    for j in range(masks.shape[-1]):\n",
        "        masks[:,:,j] = binary_erosion(masks[:,:,j].astype(np.uint8), border_value=1, iterations=1)\n",
        "    masks = masks.astype(np.bool)\n",
        "    \n",
        "    #Get ground truths\n",
        "    gt_list.append(masks_to_gt(masks))\n",
        "    \n",
        "    #Compute weights\n",
        "    weight_list.append(get_weights(masks))"
      ],
      "execution_count": 9,
      "outputs": [
        {
          "output_type": "stream",
          "text": [
            "100%|██████████| 979/979 [30:57<00:00,  1.90s/it]\n"
          ],
          "name": "stderr"
        }
      ]
    },
    {
      "metadata": {
        "id": "ZlcVEhk-N1zY",
        "colab_type": "code",
        "colab": {}
      },
      "cell_type": "code",
      "source": [
        "import imgaug \n",
        "from imgaug import augmenters as iaa\n",
        "import random\n",
        "from random import shuffle\n",
        "from sklearn.model_selection import train_test_split\n",
        "\n",
        "def random_crop(image, mask, weights, crop_size = 256):\n",
        "    h, w = image.shape[:2]\n",
        "    y = random.randint(0, (h - crop_size))\n",
        "    x = random.randint(0, (w - crop_size))\n",
        "    img_crop =   image[y:y + crop_size, x:x + crop_size]\n",
        "    msk_crop =    mask[y:y + crop_size, x:x + crop_size]\n",
        "    wgt_crop = weights[y:y + crop_size, x:x + crop_size]\n",
        "    return img_crop, msk_crop, wgt_crop\n",
        "\n",
        "def data_generator(img_list, msk_list, wgt_list, batch_size=2, crop_size=256, augmentation=None):\n",
        "    \n",
        "    batch_img = np.zeros((batch_size, crop_size, crop_size, 3))\n",
        "    batch_msk = np.zeros((batch_size, crop_size, crop_size, 1))\n",
        "    batch_wgt = np.zeros((batch_size, crop_size, crop_size, 1))\n",
        "    \n",
        "    image_index = -1\n",
        "    \n",
        "    while True:\n",
        "        for i in range(batch_size):\n",
        "            image_index = (image_index + 1) % len(img_list)\n",
        "            \n",
        "            batch_img[i], batch_msk[i], batch_wgt[i] = random_crop(img_list[image_index],\n",
        "                                                                   msk_list[image_index],\n",
        "                                                                   wgt_list[image_index])\n",
        "        \n",
        "        if augmentation:\n",
        "            aug_det = augmentation.to_deterministic()\n",
        "            batch_img = aug_det.augment_images(batch_img)\n",
        "            batch_msk = aug_det.augment_images(batch_msk)\n",
        "            batch_wgt = aug_det.augment_images(batch_wgt)\n",
        "\n",
        "        yield [batch_img, batch_wgt], batch_msk\n",
        "\n",
        "def val_data_generator(img_list, msk_list, wgt_list, batch_size=1, augmentation=None):\n",
        "    \n",
        "    image_index = -1\n",
        "  \n",
        "    while True:\n",
        "        image_index = (image_index + 1) % len(img_list)\n",
        "        \n",
        "        image,   _ = pad2n(img_list[image_index])\n",
        "        mask,    _ = pad2n(msk_list[image_index])\n",
        "        weight,  _ = pad2n(wgt_list[image_index])\n",
        "\n",
        "        yield [image[np.newaxis], weight[np.newaxis]], mask[np.newaxis]\n",
        "\n",
        "def shuffle_list(*ls):\n",
        "    l =list(zip(*ls))\n",
        "\n",
        "    shuffle(l)\n",
        "    return zip(*l)\n",
        "\n",
        "#Not used because stage2 images are too big to fit in GPU\n",
        "def predict_generator(test_list, batch_size=8):\n",
        "\n",
        "    image_index = -1\n",
        "    \n",
        "    while True:\n",
        "        image_index = (image_index + 1) % len(test_list)\n",
        "        \n",
        "        batch_img = np.zeros((batch_size,) + test_list[image_index].shape)\n",
        "        \n",
        "        batch_img[0] = test_list[image_index]\n",
        "        batch_img[1] = np.rot90(test_list[image_index], k=1)\n",
        "        batch_img[2] = np.rot90(test_list[image_index], k=2)\n",
        "        batch_img[3] = np.rot90(test_list[image_index], k=3)\n",
        "        batch_img[4] = np.fliplr(test_list[image_index])\n",
        "        batch_img[5] = np.flipud(test_list[image_index])\n",
        "        batch_img[6] = np.rot90(np.fliplr(test_list[image_index]), k=1)\n",
        "        batch_img[7] = np.rot90(np.flipud(test_list[image_index]), k=1)\n",
        "        \n",
        "        yield batch_img\n",
        " "
      ],
      "execution_count": 0,
      "outputs": []
    },
    {
      "metadata": {
        "id": "EoIjwzAVRNBS",
        "colab_type": "code",
        "colab": {}
      },
      "cell_type": "code",
      "source": [
        "batch_size = 16\n",
        "crop_size = 256\n",
        "test_split = 0.1\n",
        "test_size = int(len(img_list)*test_split)\n",
        "train_size = len(img_list) - test_size\n",
        "\n",
        "augmentation = iaa.SomeOf((0, 2), [\n",
        "        iaa.CropAndPad(percent=(-0.15, 0.15), pad_mode=\"reflect\", keep_size=True, sample_independently=False),\n",
        "        iaa.Fliplr(0.5),\n",
        "        iaa.Flipud(0.5),\n",
        "        iaa.OneOf([iaa.Affine(rotate=90),\n",
        "                   iaa.Affine(rotate=180),\n",
        "                   iaa.Affine(rotate=270)\n",
        "        ]),\n",
        "        iaa.OneOf([iaa.Sequential([iaa.ChangeColorspace(from_colorspace=\"RGB\", to_colorspace=\"HSV\"),\n",
        "                                   iaa.WithChannels(0, iaa.Add((0, 100))),\n",
        "                                   iaa.ChangeColorspace(from_colorspace=\"HSV\", to_colorspace=\"RGB\")]),\n",
        "                   iaa.Sequential([iaa.ChangeColorspace(from_colorspace=\"RGB\", to_colorspace=\"HSV\"),\n",
        "                                   iaa.WithChannels(1, iaa.Add((0, 100))),\n",
        "                                   iaa.ChangeColorspace(from_colorspace=\"HSV\", to_colorspace=\"RGB\")]),\n",
        "                   iaa.Sequential([iaa.ChangeColorspace(from_colorspace=\"RGB\", to_colorspace=\"HSV\"),\n",
        "                                   iaa.WithChannels(2, iaa.Add((0, 100))),\n",
        "                                   iaa.ChangeColorspace(from_colorspace=\"HSV\", to_colorspace=\"RGB\")]),\n",
        "                   iaa.WithChannels(0, iaa.Add((0, 100))),\n",
        "                   iaa.WithChannels(1, iaa.Add((0, 100))),\n",
        "                   iaa.WithChannels(2, iaa.Add((0, 100)))\n",
        "        ])\n",
        "        #imgaug.augmenters.Multiply((0.8, 1.5)),\n",
        "        #imgaug.augmenters.GaussianBlur(sigma=(0.0, 5.0))\n",
        "])\n",
        "\n",
        "\n",
        "#img_train, img_val, gt_train, gt_val = train_test_split(img_list, gt_list, test_size=0.1, random_state=7, shuffle=True)\n",
        "img_list, gt_list, weight_list = shuffle_list(img_list,gt_list,weight_list)\n",
        "\n",
        "weight_train = weight_list[:train_size]\n",
        "img_train    = img_list[:train_size]\n",
        "gt_train     = gt_list[:train_size]\n",
        "\n",
        "weight_val = weight_list[-test_size:]\n",
        "img_val    = img_list[-test_size:]\n",
        "gt_val     = gt_list[-test_size:]\n",
        "\n",
        "\n",
        "\n",
        "train_generator = data_generator(img_train,   gt_train, weight_train ,batch_size=batch_size, crop_size=crop_size, augmentation=augmentation)\n",
        "val_generator   = val_data_generator(img_val, gt_val, weight_val, batch_size=1)"
      ],
      "execution_count": 0,
      "outputs": []
    },
    {
      "metadata": {
        "id": "_gLcm-OlRpCA",
        "colab_type": "code",
        "colab": {
          "base_uri": "https://localhost:8080/",
          "height": 331
        },
        "outputId": "5b900f55-71a1-411f-97f0-5401a822b767"
      },
      "cell_type": "code",
      "source": [
        "import matplotlib.pyplot as plt\n",
        "ix_ = np.random.randint(0, len(img_train))\n",
        "\n",
        "fig = plt.figure(figsize=(16,16))\n",
        "plt.subplot(1, 3, 1)\n",
        "plt.imshow(img_train[ix_])\n",
        "plt.subplot(1, 3, 2)\n",
        "plt.imshow(gt_train[ix_][...,0])\n",
        "plt.subplot(1, 3, 3)\n",
        "plt.imshow(weight_train[ix_][...,0])\n",
        "\n",
        "plt.show()\n",
        "\n",
        "print(weight_train[ix_][...,0].max(), weight_train[ix_][...,0].min(), weight_train[ix_][...,0].mean())"
      ],
      "execution_count": 24,
      "outputs": [
        {
          "output_type": "display_data",
          "data": {
            "image/png": "[encoded data removed]",
            "text/plain": [
              "<matplotlib.figure.Figure at 0x7ff53f14dcc0>"
            ]
          },
          "metadata": {
            "tags": []
          }
        },
        {
          "output_type": "stream",
          "text": [
            "9.899691 1.0 1.1051632\n"
          ],
          "name": "stdout"
        }
      ]
    },
    {
      "metadata": {
        "id": "UvW3uuhHUqC4",
        "colab_type": "code",
        "colab": {
          "base_uri": "https://localhost:8080/",
          "height": 3434
        },
        "outputId": "52a50d49-e80f-4412-d6c2-c62d65ae0898"
      },
      "cell_type": "code",
      "source": [
        "import datetime\n",
        "from keras.optimizers import Adam, SGD\n",
        "\n",
        "now = datetime.datetime.now()\n",
        "LOG_DIR = os.path.join(MODEL_DIR, \"{}{:%Y%m%dT%H%M}\".format(NAME.lower(), now))\n",
        "checkpoint_path = os.path.join(LOG_DIR, \"U_net_{epoch:04d}.h5\")\n",
        "\n",
        "#Model\n",
        "model = Unet(None)#crop_size)\n",
        "#model.summary()\n",
        "\n",
        "#model.compile(optimizer=Adam(lr=0.001), loss=bce_dice_loss, metrics=[mean_iou,KLO.binary_crossentropy])\n",
        "#model.compile(optimizer=Adam(lr=0.001,clipvalue=5), loss=KLO.binary_crossentropy, metrics=[mean_iou,bce_dice_loss])\n",
        "\n",
        "# Callbacks\n",
        "callbacks = [keras.callbacks.TensorBoard(log_dir=LOG_DIR, histogram_freq=0, write_graph=True, write_images=False),\n",
        "             keras.callbacks.ModelCheckpoint(checkpoint_path, verbose=0, save_weights_only=True)\n",
        "]\n",
        "\n",
        "model.fit_generator(train_generator, steps_per_epoch=len(img_train)/batch_size, epochs=100,\n",
        "                    validation_data=val_generator, validation_steps=len(img_val), initial_epoch=0, callbacks=callbacks)"
      ],
      "execution_count": 27,
      "outputs": [
        {
          "output_type": "stream",
          "text": [
            "Epoch 1/100\n",
            "56/55 [==============================] - 72s 1s/step - loss: 0.3926 - val_loss: 0.3087\n",
            "Epoch 2/100\n",
            "56/55 [==============================] - 61s 1s/step - loss: 0.2062 - val_loss: 0.5888\n",
            "Epoch 3/100\n",
            "56/55 [==============================] - 61s 1s/step - loss: 0.1768 - val_loss: 0.3088\n",
            "Epoch 4/100\n",
            "56/55 [==============================] - 61s 1s/step - loss: 0.1427 - val_loss: 1.1184\n",
            "Epoch 5/100\n",
            "56/55 [==============================] - 61s 1s/step - loss: 0.1300 - val_loss: 0.1618\n",
            "Epoch 6/100\n",
            "37/55 [===================>..........] - ETA: 16s - loss: 0.1201"
          ],
          "name": "stdout"
        },
        {
          "output_type": "stream",
          "text": [
            "56/55 [==============================] - 61s 1s/step - loss: 0.1218 - val_loss: 0.2887\n",
            "Epoch 7/100\n",
            "56/55 [==============================] - 61s 1s/step - loss: 0.1247 - val_loss: 4.2788\n",
            "Epoch 8/100\n",
            "56/55 [==============================] - 61s 1s/step - loss: 0.1244 - val_loss: 0.2331\n",
            "Epoch 9/100\n",
            "56/55 [==============================] - 62s 1s/step - loss: 0.1148 - val_loss: 0.1082\n",
            "Epoch 10/100\n",
            "56/55 [==============================] - 61s 1s/step - loss: 0.1104 - val_loss: 0.1956\n",
            "Epoch 11/100\n",
            "48/55 [=========================>....] - ETA: 6s - loss: 0.1022"
          ],
          "name": "stdout"
        },
        {
          "output_type": "stream",
          "text": [
            "56/55 [==============================] - 62s 1s/step - loss: 0.1043 - val_loss: 0.1180\n",
            "Epoch 12/100\n",
            "56/55 [==============================] - 62s 1s/step - loss: 0.1017 - val_loss: 0.1538\n",
            "Epoch 13/100\n",
            "56/55 [==============================] - 62s 1s/step - loss: 0.1008 - val_loss: 0.1827\n",
            "Epoch 14/100\n",
            "56/55 [==============================] - 62s 1s/step - loss: 0.0989 - val_loss: 0.2242\n",
            "Epoch 15/100\n",
            "56/55 [==============================] - 61s 1s/step - loss: 0.0947 - val_loss: 0.1199\n",
            "Epoch 16/100\n",
            "48/55 [=========================>....] - ETA: 6s - loss: 0.0939"
          ],
          "name": "stdout"
        },
        {
          "output_type": "stream",
          "text": [
            "56/55 [==============================] - 62s 1s/step - loss: 0.0949 - val_loss: 0.1840\n",
            "Epoch 17/100\n",
            "56/55 [==============================] - 62s 1s/step - loss: 0.0927 - val_loss: 0.1720\n",
            "Epoch 18/100\n",
            "56/55 [==============================] - 61s 1s/step - loss: 0.0926 - val_loss: 0.1494\n",
            "Epoch 19/100\n",
            "56/55 [==============================] - 62s 1s/step - loss: 0.0855 - val_loss: 0.1219\n",
            "Epoch 20/100\n",
            "56/55 [==============================] - 62s 1s/step - loss: 0.0858 - val_loss: 0.0957\n",
            "Epoch 21/100\n",
            "48/55 [=========================>....] - ETA: 6s - loss: 0.0854"
          ],
          "name": "stdout"
        },
        {
          "output_type": "stream",
          "text": [
            "56/55 [==============================] - 62s 1s/step - loss: 0.0841 - val_loss: 0.0785\n",
            "Epoch 22/100\n",
            "56/55 [==============================] - 62s 1s/step - loss: 0.0851 - val_loss: 0.1444\n",
            "Epoch 23/100\n",
            "56/55 [==============================] - 62s 1s/step - loss: 0.0823 - val_loss: 0.0910\n",
            "Epoch 24/100\n",
            "56/55 [==============================] - 61s 1s/step - loss: 0.0813 - val_loss: 0.0845\n",
            "Epoch 25/100\n",
            "56/55 [==============================] - 61s 1s/step - loss: 0.0822 - val_loss: 0.0779\n",
            "Epoch 26/100\n",
            "48/55 [=========================>....] - ETA: 6s - loss: 0.0849"
          ],
          "name": "stdout"
        },
        {
          "output_type": "stream",
          "text": [
            "56/55 [==============================] - 62s 1s/step - loss: 0.0843 - val_loss: 0.0944\n",
            "Epoch 27/100\n",
            "56/55 [==============================] - 61s 1s/step - loss: 0.0784 - val_loss: 0.0800\n",
            "Epoch 28/100\n",
            "56/55 [==============================] - 62s 1s/step - loss: 0.0799 - val_loss: 0.0765\n",
            "Epoch 29/100\n",
            "56/55 [==============================] - 61s 1s/step - loss: 0.0749 - val_loss: 0.0719\n",
            "Epoch 30/100\n",
            "56/55 [==============================] - 61s 1s/step - loss: 0.0778 - val_loss: 0.0893\n",
            "Epoch 31/100\n",
            "48/55 [=========================>....] - ETA: 6s - loss: 0.0750"
          ],
          "name": "stdout"
        },
        {
          "output_type": "stream",
          "text": [
            "56/55 [==============================] - 62s 1s/step - loss: 0.0759 - val_loss: 0.0738\n",
            "Epoch 32/100\n",
            "56/55 [==============================] - 62s 1s/step - loss: 0.0769 - val_loss: 0.0785\n",
            "Epoch 33/100\n",
            "56/55 [==============================] - 62s 1s/step - loss: 0.0757 - val_loss: 0.0990\n",
            "Epoch 34/100\n",
            "56/55 [==============================] - 62s 1s/step - loss: 0.0749 - val_loss: 0.0786\n",
            "Epoch 35/100\n",
            "56/55 [==============================] - 61s 1s/step - loss: 0.0747 - val_loss: 0.0860\n",
            "Epoch 36/100\n",
            "48/55 [=========================>....] - ETA: 6s - loss: 0.0713"
          ],
          "name": "stdout"
        },
        {
          "output_type": "stream",
          "text": [
            "56/55 [==============================] - 62s 1s/step - loss: 0.0728 - val_loss: 0.0743\n",
            "Epoch 37/100\n",
            "56/55 [==============================] - 61s 1s/step - loss: 0.0730 - val_loss: 0.0836\n",
            "Epoch 38/100\n",
            "56/55 [==============================] - 61s 1s/step - loss: 0.0787 - val_loss: 0.1888\n",
            "Epoch 39/100\n",
            "56/55 [==============================] - 61s 1s/step - loss: 0.0751 - val_loss: 0.0711\n",
            "Epoch 40/100\n",
            "56/55 [==============================] - 62s 1s/step - loss: 0.0751 - val_loss: 0.0766\n",
            "Epoch 41/100\n",
            "48/55 [=========================>....] - ETA: 6s - loss: 0.0737"
          ],
          "name": "stdout"
        },
        {
          "output_type": "stream",
          "text": [
            "56/55 [==============================] - 61s 1s/step - loss: 0.0735 - val_loss: 0.0721\n",
            "Epoch 42/100\n",
            "56/55 [==============================] - 62s 1s/step - loss: 0.0711 - val_loss: 0.0781\n",
            "Epoch 43/100\n",
            "56/55 [==============================] - 62s 1s/step - loss: 0.0727 - val_loss: 0.1210\n",
            "Epoch 44/100\n",
            "56/55 [==============================] - 62s 1s/step - loss: 0.0702 - val_loss: 0.0670\n",
            "Epoch 45/100\n",
            "56/55 [==============================] - 62s 1s/step - loss: 0.0703 - val_loss: 0.0700\n",
            "Epoch 46/100\n",
            "48/55 [=========================>....] - ETA: 6s - loss: 0.0713"
          ],
          "name": "stdout"
        },
        {
          "output_type": "stream",
          "text": [
            "56/55 [==============================] - 61s 1s/step - loss: 0.0700 - val_loss: 0.0719\n",
            "Epoch 47/100\n",
            "56/55 [==============================] - 62s 1s/step - loss: 0.0690 - val_loss: 0.0737\n",
            "Epoch 48/100\n",
            "56/55 [==============================] - 62s 1s/step - loss: 0.0708 - val_loss: 0.0716\n",
            "Epoch 49/100\n",
            "56/55 [==============================] - 62s 1s/step - loss: 0.0701 - val_loss: 0.0769\n",
            "Epoch 50/100\n",
            "56/55 [==============================] - 62s 1s/step - loss: 0.0677 - val_loss: 0.0847\n",
            "Epoch 51/100\n",
            "48/55 [=========================>....] - ETA: 6s - loss: 0.0704"
          ],
          "name": "stdout"
        },
        {
          "output_type": "stream",
          "text": [
            "56/55 [==============================] - 62s 1s/step - loss: 0.0694 - val_loss: 0.0642\n",
            "Epoch 52/100\n",
            "56/55 [==============================] - 62s 1s/step - loss: 0.0682 - val_loss: 0.0654\n",
            "Epoch 53/100\n",
            "56/55 [==============================] - 62s 1s/step - loss: 0.0668 - val_loss: 0.0668\n",
            "Epoch 54/100\n",
            "56/55 [==============================] - 61s 1s/step - loss: 0.0664 - val_loss: 0.0689\n",
            "Epoch 55/100\n",
            "56/55 [==============================] - 61s 1s/step - loss: 0.0701 - val_loss: 0.0761\n",
            "Epoch 56/100\n",
            "48/55 [=========================>....] - ETA: 6s - loss: 0.0692"
          ],
          "name": "stdout"
        },
        {
          "output_type": "stream",
          "text": [
            "56/55 [==============================] - 62s 1s/step - loss: 0.0684 - val_loss: 0.0658\n",
            "Epoch 57/100\n",
            "56/55 [==============================] - 61s 1s/step - loss: 0.0680 - val_loss: 0.0695\n",
            "Epoch 58/100\n",
            "56/55 [==============================] - 62s 1s/step - loss: 0.0676 - val_loss: 0.0722\n",
            "Epoch 59/100\n",
            "56/55 [==============================] - 62s 1s/step - loss: 0.0653 - val_loss: 0.0630\n",
            "Epoch 60/100\n",
            "56/55 [==============================] - 62s 1s/step - loss: 0.0642 - val_loss: 0.0630\n",
            "Epoch 61/100\n",
            "48/55 [=========================>....] - ETA: 6s - loss: 0.0653"
          ],
          "name": "stdout"
        },
        {
          "output_type": "stream",
          "text": [
            "56/55 [==============================] - 61s 1s/step - loss: 0.0643 - val_loss: 0.0668\n",
            "Epoch 62/100\n",
            "56/55 [==============================] - 62s 1s/step - loss: 0.0652 - val_loss: 0.0824\n",
            "Epoch 63/100\n",
            "56/55 [==============================] - 62s 1s/step - loss: 0.0665 - val_loss: 0.0685\n",
            "Epoch 64/100\n",
            "56/55 [==============================] - 62s 1s/step - loss: 0.0683 - val_loss: 0.0671\n",
            "Epoch 65/100\n",
            "56/55 [==============================] - 62s 1s/step - loss: 0.0675 - val_loss: 0.0664\n",
            "Epoch 66/100\n",
            "48/55 [=========================>....] - ETA: 6s - loss: 0.0638"
          ],
          "name": "stdout"
        },
        {
          "output_type": "stream",
          "text": [
            "56/55 [==============================] - 62s 1s/step - loss: 0.0639 - val_loss: 0.0674\n",
            "Epoch 67/100\n",
            "56/55 [==============================] - 62s 1s/step - loss: 0.0645 - val_loss: 0.0627\n",
            "Epoch 68/100\n",
            "56/55 [==============================] - 61s 1s/step - loss: 0.0641 - val_loss: 0.0631\n",
            "Epoch 69/100\n",
            "56/55 [==============================] - 61s 1s/step - loss: 0.0632 - val_loss: 0.0654\n",
            "Epoch 70/100\n",
            "56/55 [==============================] - 62s 1s/step - loss: 0.0673 - val_loss: 0.0787\n",
            "Epoch 71/100\n",
            "48/55 [=========================>....] - ETA: 6s - loss: 0.0629"
          ],
          "name": "stdout"
        },
        {
          "output_type": "stream",
          "text": [
            "56/55 [==============================] - 62s 1s/step - loss: 0.0650 - val_loss: 0.0661\n",
            "Epoch 72/100\n",
            "56/55 [==============================] - 62s 1s/step - loss: 0.0641 - val_loss: 0.0662\n",
            "Epoch 73/100\n",
            "56/55 [==============================] - 61s 1s/step - loss: 0.0647 - val_loss: 0.0792\n",
            "Epoch 74/100\n",
            "56/55 [==============================] - 62s 1s/step - loss: 0.0648 - val_loss: 0.0657\n",
            "Epoch 75/100\n",
            "56/55 [==============================] - 62s 1s/step - loss: 0.0632 - val_loss: 0.0658\n",
            "Epoch 76/100\n",
            "48/55 [=========================>....] - ETA: 6s - loss: 0.0636"
          ],
          "name": "stdout"
        },
        {
          "output_type": "stream",
          "text": [
            "56/55 [==============================] - 62s 1s/step - loss: 0.0646 - val_loss: 0.0632\n",
            "Epoch 77/100\n",
            "56/55 [==============================] - 62s 1s/step - loss: 0.0665 - val_loss: 0.0839\n",
            "Epoch 78/100\n",
            "56/55 [==============================] - 62s 1s/step - loss: 0.0651 - val_loss: 0.0788\n",
            "Epoch 79/100\n",
            "56/55 [==============================] - 62s 1s/step - loss: 0.0635 - val_loss: 0.0822\n",
            "Epoch 80/100\n",
            "56/55 [==============================] - 62s 1s/step - loss: 0.0641 - val_loss: 0.0983\n",
            "Epoch 81/100\n",
            "48/55 [=========================>....] - ETA: 6s - loss: 0.0643"
          ],
          "name": "stdout"
        },
        {
          "output_type": "stream",
          "text": [
            "56/55 [==============================] - 62s 1s/step - loss: 0.0627 - val_loss: 0.0970\n",
            "Epoch 82/100\n",
            "56/55 [==============================] - 62s 1s/step - loss: 0.0640 - val_loss: 0.0734\n",
            "Epoch 83/100\n",
            "56/55 [==============================] - 62s 1s/step - loss: 0.0637 - val_loss: 0.0710\n",
            "Epoch 84/100\n",
            "56/55 [==============================] - 62s 1s/step - loss: 0.0612 - val_loss: 0.0695\n",
            "Epoch 85/100\n",
            "56/55 [==============================] - 62s 1s/step - loss: 0.0633 - val_loss: 0.0675\n",
            "Epoch 86/100\n",
            "48/55 [=========================>....] - ETA: 6s - loss: 0.0647"
          ],
          "name": "stdout"
        },
        {
          "output_type": "stream",
          "text": [
            "56/55 [==============================] - 62s 1s/step - loss: 0.0646 - val_loss: 0.2233\n",
            "Epoch 87/100\n",
            "56/55 [==============================] - 62s 1s/step - loss: 0.0659 - val_loss: 0.0721\n",
            "Epoch 88/100\n",
            "56/55 [==============================] - 62s 1s/step - loss: 0.0613 - val_loss: 0.0635\n",
            "Epoch 89/100\n",
            "56/55 [==============================] - 62s 1s/step - loss: 0.0632 - val_loss: 0.0655\n",
            "Epoch 90/100\n",
            "56/55 [==============================] - 62s 1s/step - loss: 0.0635 - val_loss: 0.0615\n",
            "Epoch 91/100\n",
            "48/55 [=========================>....] - ETA: 6s - loss: 0.0640"
          ],
          "name": "stdout"
        },
        {
          "output_type": "stream",
          "text": [
            "56/55 [==============================] - 62s 1s/step - loss: 0.0649 - val_loss: 0.1094\n",
            "Epoch 92/100\n",
            "56/55 [==============================] - 62s 1s/step - loss: 0.0614 - val_loss: 0.0634\n",
            "Epoch 93/100\n",
            "56/55 [==============================] - 62s 1s/step - loss: 0.0626 - val_loss: 0.0843\n",
            "Epoch 94/100\n",
            "56/55 [==============================] - 62s 1s/step - loss: 0.0617 - val_loss: 0.0599\n",
            "Epoch 95/100\n",
            "56/55 [==============================] - 62s 1s/step - loss: 0.0621 - val_loss: 0.0612\n",
            "Epoch 96/100\n",
            "48/55 [=========================>....] - ETA: 6s - loss: 0.0593"
          ],
          "name": "stdout"
        },
        {
          "output_type": "stream",
          "text": [
            "56/55 [==============================] - 62s 1s/step - loss: 0.0606 - val_loss: 0.0625\n",
            "Epoch 97/100\n",
            "56/55 [==============================] - 62s 1s/step - loss: 0.0605 - val_loss: 0.0661\n",
            "Epoch 98/100\n",
            "56/55 [==============================] - 62s 1s/step - loss: 0.0615 - val_loss: 0.0622\n",
            "Epoch 99/100\n",
            "56/55 [==============================] - 62s 1s/step - loss: 0.0611 - val_loss: 0.0655\n",
            "Epoch 100/100\n",
            "56/55 [==============================] - 61s 1s/step - loss: 0.0593 - val_loss: 0.0609\n"
          ],
          "name": "stdout"
        },
        {
          "output_type": "execute_result",
          "data": {
            "text/plain": [
              "<keras.callbacks.History at 0x7ff537ae15c0>"
            ]
          },
          "metadata": {
            "tags": []
          },
          "execution_count": 27
        }
      ]
    },
    {
      "metadata": {
        "id": "EdiA8p5PTbB6",
        "colab_type": "code",
        "colab": {
          "base_uri": "https://localhost:8080/",
          "height": 17034
        },
        "outputId": "9f37deb7-3790-4745-d930-3f68a9f5f39a"
      },
      "cell_type": "code",
      "source": [
        "model.fit_generator(train_generator, steps_per_epoch=len(img_train)/batch_size, epochs=600,\n",
        "                    validation_data=val_generator, validation_steps=len(img_val)/batch_size, initial_epoch=100, callbacks=callbacks)"
      ],
      "execution_count": 59,
      "outputs": [
        {
          "output_type": "stream",
          "text": [
            "Epoch 101/600\n",
            "56/55 [==============================] - 55s 986ms/step - loss: 0.0617 - val_loss: 0.0411\n",
            "Epoch 102/600\n",
            "56/55 [==============================] - 51s 919ms/step - loss: 0.0606 - val_loss: 0.0401\n",
            "Epoch 103/600\n",
            "56/55 [==============================] - 52s 927ms/step - loss: 0.0630 - val_loss: 0.1325\n",
            "Epoch 104/600\n",
            "56/55 [==============================] - 52s 920ms/step - loss: 0.0627 - val_loss: 0.0183\n",
            "Epoch 105/600\n",
            "56/55 [==============================] - 52s 925ms/step - loss: 0.0601 - val_loss: 0.0689\n",
            "Epoch 106/600\n",
            "30/55 [===============>..............] - ETA: 22s - loss: 0.0610"
          ],
          "name": "stdout"
        },
        {
          "output_type": "stream",
          "text": [
            "56/55 [==============================] - 52s 924ms/step - loss: 0.0606 - val_loss: 0.0625\n",
            "Epoch 107/600\n",
            "56/55 [==============================] - 52s 927ms/step - loss: 0.0605 - val_loss: 0.0440\n",
            "Epoch 108/600\n",
            "56/55 [==============================] - 52s 922ms/step - loss: 0.0592 - val_loss: 0.0298\n",
            "Epoch 109/600\n",
            "56/55 [==============================] - 52s 926ms/step - loss: 0.0585 - val_loss: 0.0659\n",
            "Epoch 110/600\n",
            "56/55 [==============================] - 52s 923ms/step - loss: 0.0595 - val_loss: 0.0414\n",
            "Epoch 111/600\n",
            "41/55 [=====================>........] - ETA: 12s - loss: 0.0635"
          ],
          "name": "stdout"
        },
        {
          "output_type": "stream",
          "text": [
            "56/55 [==============================] - 52s 927ms/step - loss: 0.0622 - val_loss: 0.1059\n",
            "Epoch 112/600\n",
            "56/55 [==============================] - 52s 925ms/step - loss: 0.0607 - val_loss: 0.0750\n",
            "Epoch 113/600\n",
            "56/55 [==============================] - 52s 928ms/step - loss: 0.0598 - val_loss: 0.0790\n",
            "Epoch 114/600\n",
            "56/55 [==============================] - 52s 921ms/step - loss: 0.0615 - val_loss: 0.0253\n",
            "Epoch 115/600\n",
            "56/55 [==============================] - 52s 922ms/step - loss: 0.0594 - val_loss: 0.0814\n",
            "Epoch 116/600\n",
            "42/55 [=====================>........] - ETA: 11s - loss: 0.0596"
          ],
          "name": "stdout"
        },
        {
          "output_type": "stream",
          "text": [
            "56/55 [==============================] - 52s 926ms/step - loss: 0.0589 - val_loss: 0.0718\n",
            "Epoch 117/600\n",
            "56/55 [==============================] - 52s 926ms/step - loss: 0.0573 - val_loss: 0.1160\n",
            "Epoch 118/600\n",
            "56/55 [==============================] - 52s 925ms/step - loss: 0.0577 - val_loss: 0.0268\n",
            "Epoch 119/600\n",
            "56/55 [==============================] - 52s 921ms/step - loss: 0.0585 - val_loss: 0.0653\n",
            "Epoch 120/600\n",
            "56/55 [==============================] - 52s 924ms/step - loss: 0.0616 - val_loss: 0.1024\n",
            "Epoch 121/600\n",
            "42/55 [=====================>........] - ETA: 11s - loss: 0.0572"
          ],
          "name": "stdout"
        },
        {
          "output_type": "stream",
          "text": [
            "56/55 [==============================] - 51s 920ms/step - loss: 0.0580 - val_loss: 0.0258\n",
            "Epoch 122/600\n",
            "56/55 [==============================] - 52s 923ms/step - loss: 0.0594 - val_loss: 0.0868\n",
            "Epoch 123/600\n",
            "56/55 [==============================] - 52s 928ms/step - loss: 0.0587 - val_loss: 0.0802\n",
            "Epoch 124/600\n",
            "56/55 [==============================] - 52s 922ms/step - loss: 0.0583 - val_loss: 0.0289\n",
            "Epoch 125/600\n",
            "56/55 [==============================] - 52s 924ms/step - loss: 0.0574 - val_loss: 0.0443\n",
            "Epoch 126/600\n",
            "42/55 [=====================>........] - ETA: 11s - loss: 0.0567"
          ],
          "name": "stdout"
        },
        {
          "output_type": "stream",
          "text": [
            "56/55 [==============================] - 52s 929ms/step - loss: 0.0579 - val_loss: 0.0938\n",
            "Epoch 127/600\n",
            "56/55 [==============================] - 52s 923ms/step - loss: 0.0570 - val_loss: 0.0321\n",
            "Epoch 128/600\n",
            "56/55 [==============================] - 52s 930ms/step - loss: 0.0580 - val_loss: 0.0768\n",
            "Epoch 129/600\n",
            "56/55 [==============================] - 52s 928ms/step - loss: 0.0588 - val_loss: 0.0903\n",
            "Epoch 130/600\n",
            "56/55 [==============================] - 52s 928ms/step - loss: 0.0573 - val_loss: 0.0385\n",
            "Epoch 131/600\n",
            "42/55 [=====================>........] - ETA: 12s - loss: 0.0558"
          ],
          "name": "stdout"
        },
        {
          "output_type": "stream",
          "text": [
            "56/55 [==============================] - 52s 928ms/step - loss: 0.0566 - val_loss: 0.0353\n",
            "Epoch 132/600\n",
            "56/55 [==============================] - 52s 929ms/step - loss: 0.0573 - val_loss: 0.0842\n",
            "Epoch 133/600\n",
            "56/55 [==============================] - 52s 927ms/step - loss: 0.0568 - val_loss: 0.0494\n",
            "Epoch 134/600\n",
            "56/55 [==============================] - 52s 926ms/step - loss: 0.0562 - val_loss: 0.1034\n",
            "Epoch 135/600\n",
            "56/55 [==============================] - 52s 927ms/step - loss: 0.0569 - val_loss: 0.0759\n",
            "Epoch 136/600\n",
            "42/55 [=====================>........] - ETA: 11s - loss: 0.0571"
          ],
          "name": "stdout"
        },
        {
          "output_type": "stream",
          "text": [
            "56/55 [==============================] - 52s 923ms/step - loss: 0.0567 - val_loss: 0.0694\n",
            "Epoch 137/600\n",
            "56/55 [==============================] - 52s 926ms/step - loss: 0.0570 - val_loss: 0.0788\n",
            "Epoch 138/600\n",
            "56/55 [==============================] - 52s 920ms/step - loss: 0.0567 - val_loss: 0.0567\n",
            "Epoch 139/600\n",
            "56/55 [==============================] - 52s 925ms/step - loss: 0.0546 - val_loss: 0.0601\n",
            "Epoch 140/600\n",
            "56/55 [==============================] - 52s 924ms/step - loss: 0.0553 - val_loss: 0.0719\n",
            "Epoch 141/600\n",
            "42/55 [=====================>........] - ETA: 12s - loss: 0.0589"
          ],
          "name": "stdout"
        },
        {
          "output_type": "stream",
          "text": [
            "56/55 [==============================] - 52s 928ms/step - loss: 0.0574 - val_loss: 0.0373\n",
            "Epoch 142/600\n",
            "56/55 [==============================] - 52s 921ms/step - loss: 0.0564 - val_loss: 0.0365\n",
            "Epoch 143/600\n",
            "56/55 [==============================] - 52s 926ms/step - loss: 0.0564 - val_loss: 0.0702\n",
            "Epoch 144/600\n",
            "56/55 [==============================] - 51s 918ms/step - loss: 0.0568 - val_loss: 0.0330\n",
            "Epoch 145/600\n",
            "56/55 [==============================] - 52s 927ms/step - loss: 0.0562 - val_loss: 0.0708\n",
            "Epoch 146/600\n",
            "42/55 [=====================>........] - ETA: 11s - loss: 0.0567"
          ],
          "name": "stdout"
        },
        {
          "output_type": "stream",
          "text": [
            "56/55 [==============================] - 52s 925ms/step - loss: 0.0569 - val_loss: 0.0802\n",
            "Epoch 147/600\n",
            "56/55 [==============================] - 52s 925ms/step - loss: 0.0545 - val_loss: 0.0313\n",
            "Epoch 148/600\n",
            "56/55 [==============================] - 52s 924ms/step - loss: 0.0570 - val_loss: 0.0362\n",
            "Epoch 149/600\n",
            "56/55 [==============================] - 52s 926ms/step - loss: 0.0562 - val_loss: 0.0530\n",
            "Epoch 150/600\n",
            "56/55 [==============================] - 52s 926ms/step - loss: 0.0558 - val_loss: 0.0470\n",
            "Epoch 151/600\n",
            "42/55 [=====================>........] - ETA: 11s - loss: 0.0550"
          ],
          "name": "stdout"
        },
        {
          "output_type": "stream",
          "text": [
            "56/55 [==============================] - 52s 929ms/step - loss: 0.0558 - val_loss: 0.1100\n",
            "Epoch 152/600\n",
            "56/55 [==============================] - 52s 926ms/step - loss: 0.0561 - val_loss: 0.0770\n",
            "Epoch 153/600\n",
            "56/55 [==============================] - 52s 925ms/step - loss: 0.0577 - val_loss: 0.0603\n",
            "Epoch 154/600\n",
            "56/55 [==============================] - 52s 920ms/step - loss: 0.0558 - val_loss: 0.0797\n",
            "Epoch 155/600\n",
            "56/55 [==============================] - 52s 921ms/step - loss: 0.0550 - val_loss: 0.0573\n",
            "Epoch 156/600\n",
            "42/55 [=====================>........] - ETA: 11s - loss: 0.0551"
          ],
          "name": "stdout"
        },
        {
          "output_type": "stream",
          "text": [
            "56/55 [==============================] - 52s 924ms/step - loss: 0.0567 - val_loss: 0.0716\n",
            "Epoch 157/600\n",
            "56/55 [==============================] - 52s 924ms/step - loss: 0.0539 - val_loss: 0.0580\n",
            "Epoch 158/600\n",
            "56/55 [==============================] - 52s 928ms/step - loss: 0.0556 - val_loss: 0.0361\n",
            "Epoch 159/600\n",
            "56/55 [==============================] - 52s 920ms/step - loss: 0.0544 - val_loss: 0.0444\n",
            "Epoch 160/600\n",
            "56/55 [==============================] - 52s 924ms/step - loss: 0.0545 - val_loss: 0.1210\n",
            "Epoch 161/600\n",
            "42/55 [=====================>........] - ETA: 11s - loss: 0.0547"
          ],
          "name": "stdout"
        },
        {
          "output_type": "stream",
          "text": [
            "56/55 [==============================] - 52s 920ms/step - loss: 0.0543 - val_loss: 0.0241\n",
            "Epoch 162/600\n",
            "56/55 [==============================] - 52s 925ms/step - loss: 0.0542 - val_loss: 0.0858\n",
            "Epoch 163/600\n",
            "56/55 [==============================] - 52s 926ms/step - loss: 0.0560 - val_loss: 0.0749\n",
            "Epoch 164/600\n",
            "56/55 [==============================] - 52s 925ms/step - loss: 0.0547 - val_loss: 0.0364\n",
            "Epoch 165/600\n",
            "56/55 [==============================] - 52s 926ms/step - loss: 0.0541 - val_loss: 0.0417\n",
            "Epoch 166/600\n",
            "42/55 [=====================>........] - ETA: 11s - loss: 0.0558"
          ],
          "name": "stdout"
        },
        {
          "output_type": "stream",
          "text": [
            "56/55 [==============================] - 52s 929ms/step - loss: 0.0552 - val_loss: 0.0806\n",
            "Epoch 167/600\n",
            "56/55 [==============================] - 52s 924ms/step - loss: 0.0548 - val_loss: 0.0324\n",
            "Epoch 168/600\n",
            "56/55 [==============================] - 52s 924ms/step - loss: 0.0546 - val_loss: 0.1126\n",
            "Epoch 169/600\n",
            "56/55 [==============================] - 52s 926ms/step - loss: 0.0545 - val_loss: 0.0963\n",
            "Epoch 170/600\n",
            "56/55 [==============================] - 52s 926ms/step - loss: 0.0551 - val_loss: 0.0518\n",
            "Epoch 171/600\n",
            "42/55 [=====================>........] - ETA: 11s - loss: 0.0555"
          ],
          "name": "stdout"
        },
        {
          "output_type": "stream",
          "text": [
            "56/55 [==============================] - 51s 919ms/step - loss: 0.0543 - val_loss: 0.0280\n",
            "Epoch 172/600\n",
            "56/55 [==============================] - 52s 922ms/step - loss: 0.0554 - val_loss: 0.0899\n",
            "Epoch 173/600\n",
            "56/55 [==============================] - 52s 922ms/step - loss: 0.0548 - val_loss: 0.0463\n",
            "Epoch 174/600\n",
            "56/55 [==============================] - 52s 925ms/step - loss: 0.0551 - val_loss: 0.1051\n",
            "Epoch 175/600\n",
            "56/55 [==============================] - 52s 926ms/step - loss: 0.0549 - val_loss: 0.0456\n",
            "Epoch 176/600\n",
            "42/55 [=====================>........] - ETA: 11s - loss: 0.0545"
          ],
          "name": "stdout"
        },
        {
          "output_type": "stream",
          "text": [
            "56/55 [==============================] - 52s 924ms/step - loss: 0.0537 - val_loss: 0.0579\n",
            "Epoch 177/600\n",
            "56/55 [==============================] - 52s 924ms/step - loss: 0.0547 - val_loss: 0.0799\n",
            "Epoch 178/600\n",
            "56/55 [==============================] - 52s 920ms/step - loss: 0.0538 - val_loss: 0.0327\n",
            "Epoch 179/600\n",
            "56/55 [==============================] - 52s 925ms/step - loss: 0.0537 - val_loss: 0.0699\n",
            "Epoch 180/600\n",
            "56/55 [==============================] - 52s 928ms/step - loss: 0.0539 - val_loss: 0.0666\n",
            "Epoch 181/600\n",
            "42/55 [=====================>........] - ETA: 11s - loss: 0.0527"
          ],
          "name": "stdout"
        },
        {
          "output_type": "stream",
          "text": [
            "56/55 [==============================] - 52s 924ms/step - loss: 0.0527 - val_loss: 0.0264\n",
            "Epoch 182/600\n",
            "56/55 [==============================] - 52s 923ms/step - loss: 0.0541 - val_loss: 0.0293\n",
            "Epoch 183/600\n",
            "56/55 [==============================] - 52s 927ms/step - loss: 0.0537 - val_loss: 0.0651\n",
            "Epoch 184/600\n",
            "56/55 [==============================] - 52s 921ms/step - loss: 0.0532 - val_loss: 0.0306\n",
            "Epoch 185/600\n",
            "56/55 [==============================] - 52s 925ms/step - loss: 0.0533 - val_loss: 0.0461\n",
            "Epoch 186/600\n",
            "42/55 [=====================>........] - ETA: 11s - loss: 0.0516"
          ],
          "name": "stdout"
        },
        {
          "output_type": "stream",
          "text": [
            "56/55 [==============================] - 52s 927ms/step - loss: 0.0538 - val_loss: 0.0722\n",
            "Epoch 187/600\n",
            "56/55 [==============================] - 52s 925ms/step - loss: 0.0530 - val_loss: 0.0372\n",
            "Epoch 188/600\n",
            "56/55 [==============================] - 52s 928ms/step - loss: 0.0534 - val_loss: 0.0402\n",
            "Epoch 189/600\n",
            "56/55 [==============================] - 52s 929ms/step - loss: 0.0535 - val_loss: 0.0762\n",
            "Epoch 190/600\n",
            "56/55 [==============================] - 52s 925ms/step - loss: 0.0541 - val_loss: 0.0516\n",
            "Epoch 191/600\n",
            "42/55 [=====================>........] - ETA: 11s - loss: 0.0514"
          ],
          "name": "stdout"
        },
        {
          "output_type": "stream",
          "text": [
            "56/55 [==============================] - 52s 927ms/step - loss: 0.0526 - val_loss: 0.0971\n",
            "Epoch 192/600\n",
            "56/55 [==============================] - 52s 932ms/step - loss: 0.0519 - val_loss: 0.0764\n",
            "Epoch 193/600\n",
            "56/55 [==============================] - 52s 928ms/step - loss: 0.0529 - val_loss: 0.0652\n",
            "Epoch 194/600\n",
            "56/55 [==============================] - 52s 928ms/step - loss: 0.0522 - val_loss: 0.0706\n",
            "Epoch 195/600\n",
            "56/55 [==============================] - 52s 922ms/step - loss: 0.0524 - val_loss: 0.0748\n",
            "Epoch 196/600\n",
            "42/55 [=====================>........] - ETA: 11s - loss: 0.0539"
          ],
          "name": "stdout"
        },
        {
          "output_type": "stream",
          "text": [
            "56/55 [==============================] - 52s 925ms/step - loss: 0.0534 - val_loss: 0.0778\n",
            "Epoch 197/600\n",
            "56/55 [==============================] - 52s 925ms/step - loss: 0.0538 - val_loss: 0.0808\n",
            "Epoch 198/600\n",
            "56/55 [==============================] - 52s 926ms/step - loss: 0.0541 - val_loss: 0.0455\n",
            "Epoch 199/600\n",
            "56/55 [==============================] - 52s 923ms/step - loss: 0.0530 - val_loss: 0.0354\n",
            "Epoch 200/600\n",
            "56/55 [==============================] - 52s 926ms/step - loss: 0.0525 - val_loss: 0.1132\n",
            "Epoch 201/600\n",
            "42/55 [=====================>........] - ETA: 11s - loss: 0.0545"
          ],
          "name": "stdout"
        },
        {
          "output_type": "stream",
          "text": [
            "56/55 [==============================] - 52s 923ms/step - loss: 0.0526 - val_loss: 0.0194\n",
            "Epoch 202/600\n",
            "56/55 [==============================] - 52s 928ms/step - loss: 0.0529 - val_loss: 0.0549\n",
            "Epoch 203/600\n",
            "56/55 [==============================] - 52s 926ms/step - loss: 0.0533 - val_loss: 0.0675\n",
            "Epoch 204/600\n",
            "56/55 [==============================] - 52s 926ms/step - loss: 0.0535 - val_loss: 0.0323\n",
            "Epoch 205/600\n",
            "56/55 [==============================] - 52s 925ms/step - loss: 0.0522 - val_loss: 0.0295\n",
            "Epoch 206/600\n",
            "42/55 [=====================>........] - ETA: 11s - loss: 0.0528"
          ],
          "name": "stdout"
        },
        {
          "output_type": "stream",
          "text": [
            "56/55 [==============================] - 52s 930ms/step - loss: 0.0522 - val_loss: 0.0717\n",
            "Epoch 207/600\n",
            "56/55 [==============================] - 52s 924ms/step - loss: 0.0520 - val_loss: 0.0392\n",
            "Epoch 208/600\n",
            "56/55 [==============================] - 52s 929ms/step - loss: 0.0527 - val_loss: 0.0900\n",
            "Epoch 209/600\n",
            "56/55 [==============================] - 52s 925ms/step - loss: 0.0540 - val_loss: 0.0647\n",
            "Epoch 210/600\n",
            "56/55 [==============================] - 52s 929ms/step - loss: 0.0530 - val_loss: 0.0698\n",
            "Epoch 211/600\n",
            "42/55 [=====================>........] - ETA: 11s - loss: 0.0511"
          ],
          "name": "stdout"
        },
        {
          "output_type": "stream",
          "text": [
            "56/55 [==============================] - 52s 921ms/step - loss: 0.0523 - val_loss: 0.0259\n",
            "Epoch 212/600\n",
            "56/55 [==============================] - 52s 927ms/step - loss: 0.0510 - val_loss: 0.0709\n",
            "Epoch 213/600\n",
            "56/55 [==============================] - 52s 929ms/step - loss: 0.0529 - val_loss: 0.0854\n",
            "Epoch 214/600\n",
            "56/55 [==============================] - 52s 926ms/step - loss: 0.0548 - val_loss: 0.1081\n",
            "Epoch 215/600\n",
            "56/55 [==============================] - 52s 926ms/step - loss: 0.0532 - val_loss: 0.0270\n",
            "Epoch 216/600\n",
            "42/55 [=====================>........] - ETA: 11s - loss: 0.0501"
          ],
          "name": "stdout"
        },
        {
          "output_type": "stream",
          "text": [
            "56/55 [==============================] - 52s 924ms/step - loss: 0.0519 - val_loss: 0.0570\n",
            "Epoch 217/600\n",
            "56/55 [==============================] - 52s 926ms/step - loss: 0.0521 - val_loss: 0.0920\n",
            "Epoch 218/600\n",
            "56/55 [==============================] - 52s 921ms/step - loss: 0.0521 - val_loss: 0.0203\n",
            "Epoch 219/600\n",
            "56/55 [==============================] - 52s 928ms/step - loss: 0.0518 - val_loss: 0.0900\n",
            "Epoch 220/600\n",
            "56/55 [==============================] - 52s 929ms/step - loss: 0.0515 - val_loss: 0.0704\n",
            "Epoch 221/600\n",
            "42/55 [=====================>........] - ETA: 11s - loss: 0.0508"
          ],
          "name": "stdout"
        },
        {
          "output_type": "stream",
          "text": [
            "56/55 [==============================] - 52s 926ms/step - loss: 0.0515 - val_loss: 0.0225\n",
            "Epoch 222/600\n",
            "56/55 [==============================] - 52s 926ms/step - loss: 0.0513 - val_loss: 0.0445\n",
            "Epoch 223/600\n",
            "56/55 [==============================] - 52s 928ms/step - loss: 0.0502 - val_loss: 0.0816\n",
            "Epoch 224/600\n",
            "56/55 [==============================] - 52s 922ms/step - loss: 0.0508 - val_loss: 0.0521\n",
            "Epoch 225/600\n",
            "56/55 [==============================] - 52s 929ms/step - loss: 0.0505 - val_loss: 0.0716\n",
            "Epoch 226/600\n",
            "42/55 [=====================>........] - ETA: 11s - loss: 0.0516"
          ],
          "name": "stdout"
        },
        {
          "output_type": "stream",
          "text": [
            "56/55 [==============================] - 52s 926ms/step - loss: 0.0510 - val_loss: 0.0827\n",
            "Epoch 227/600\n",
            "56/55 [==============================] - 52s 925ms/step - loss: 0.0508 - val_loss: 0.0409\n",
            "Epoch 228/600\n",
            "56/55 [==============================] - 52s 920ms/step - loss: 0.0514 - val_loss: 0.0378\n",
            "Epoch 229/600\n",
            "56/55 [==============================] - 52s 925ms/step - loss: 0.0518 - val_loss: 0.0769\n",
            "Epoch 230/600\n",
            "56/55 [==============================] - 52s 923ms/step - loss: 0.0511 - val_loss: 0.0398\n",
            "Epoch 231/600\n",
            "42/55 [=====================>........] - ETA: 11s - loss: 0.0513"
          ],
          "name": "stdout"
        },
        {
          "output_type": "stream",
          "text": [
            "56/55 [==============================] - 52s 923ms/step - loss: 0.0513 - val_loss: 0.1128\n",
            "Epoch 232/600\n",
            "56/55 [==============================] - 52s 929ms/step - loss: 0.0535 - val_loss: 0.0569\n",
            "Epoch 233/600\n",
            "56/55 [==============================] - 52s 926ms/step - loss: 0.0518 - val_loss: 0.0590\n",
            "Epoch 234/600\n",
            "56/55 [==============================] - 52s 927ms/step - loss: 0.0500 - val_loss: 0.0564\n",
            "Epoch 235/600\n",
            "56/55 [==============================] - 52s 921ms/step - loss: 0.0506 - val_loss: 0.0475\n",
            "Epoch 236/600\n",
            "42/55 [=====================>........] - ETA: 11s - loss: 0.0513"
          ],
          "name": "stdout"
        },
        {
          "output_type": "stream",
          "text": [
            "56/55 [==============================] - 52s 926ms/step - loss: 0.0502 - val_loss: 0.0706\n",
            "Epoch 237/600\n",
            "56/55 [==============================] - 52s 924ms/step - loss: 0.0499 - val_loss: 0.0709\n",
            "Epoch 238/600\n",
            "56/55 [==============================] - 52s 925ms/step - loss: 0.0505 - val_loss: 0.0354\n",
            "Epoch 239/600\n",
            "56/55 [==============================] - 52s 922ms/step - loss: 0.0500 - val_loss: 0.0333\n",
            "Epoch 240/600\n",
            "56/55 [==============================] - 52s 930ms/step - loss: 0.0513 - val_loss: 0.0645\n",
            "Epoch 241/600\n",
            "42/55 [=====================>........] - ETA: 12s - loss: 0.0520"
          ],
          "name": "stdout"
        },
        {
          "output_type": "stream",
          "text": [
            "56/55 [==============================] - 52s 924ms/step - loss: 0.0514 - val_loss: 0.0387\n",
            "Epoch 242/600\n",
            "56/55 [==============================] - 52s 928ms/step - loss: 0.0503 - val_loss: 0.0610\n",
            "Epoch 243/600\n",
            "56/55 [==============================] - 52s 926ms/step - loss: 0.0509 - val_loss: 0.0679\n",
            "Epoch 244/600\n",
            "56/55 [==============================] - 52s 924ms/step - loss: 0.0503 - val_loss: 0.0251\n",
            "Epoch 245/600\n",
            "56/55 [==============================] - 52s 923ms/step - loss: 0.0514 - val_loss: 0.0353\n",
            "Epoch 246/600\n",
            "42/55 [=====================>........] - ETA: 11s - loss: 0.0505"
          ],
          "name": "stdout"
        },
        {
          "output_type": "stream",
          "text": [
            "56/55 [==============================] - 52s 927ms/step - loss: 0.0506 - val_loss: 0.0510\n",
            "Epoch 247/600\n",
            "56/55 [==============================] - 52s 923ms/step - loss: 0.0507 - val_loss: 0.0499\n",
            "Epoch 248/600\n",
            "56/55 [==============================] - 52s 929ms/step - loss: 0.0504 - val_loss: 0.0955\n",
            "Epoch 249/600\n",
            "56/55 [==============================] - 52s 928ms/step - loss: 0.0508 - val_loss: 0.0682\n",
            "Epoch 250/600\n",
            "56/55 [==============================] - 52s 926ms/step - loss: 0.0495 - val_loss: 0.0577\n",
            "Epoch 251/600\n",
            "42/55 [=====================>........] - ETA: 11s - loss: 0.0480"
          ],
          "name": "stdout"
        },
        {
          "output_type": "stream",
          "text": [
            "56/55 [==============================] - 52s 922ms/step - loss: 0.0489 - val_loss: 0.0681\n",
            "Epoch 252/600\n",
            "56/55 [==============================] - 52s 921ms/step - loss: 0.0503 - val_loss: 0.0578\n",
            "Epoch 253/600\n",
            "56/55 [==============================] - 52s 924ms/step - loss: 0.0489 - val_loss: 0.0858\n",
            "Epoch 254/600\n",
            "56/55 [==============================] - 52s 922ms/step - loss: 0.0504 - val_loss: 0.0649\n",
            "Epoch 255/600\n",
            "56/55 [==============================] - 52s 924ms/step - loss: 0.0504 - val_loss: 0.0399\n",
            "Epoch 256/600\n",
            "42/55 [=====================>........] - ETA: 11s - loss: 0.0478"
          ],
          "name": "stdout"
        },
        {
          "output_type": "stream",
          "text": [
            "56/55 [==============================] - 52s 920ms/step - loss: 0.0483 - val_loss: 0.0430\n",
            "Epoch 257/600\n",
            "56/55 [==============================] - 52s 925ms/step - loss: 0.0484 - val_loss: 0.1099\n",
            "Epoch 258/600\n",
            "56/55 [==============================] - 52s 920ms/step - loss: 0.0488 - val_loss: 0.0183\n",
            "Epoch 259/600\n",
            "56/55 [==============================] - 52s 927ms/step - loss: 0.0493 - val_loss: 0.0901\n",
            "Epoch 260/600\n",
            "56/55 [==============================] - 52s 923ms/step - loss: 0.0496 - val_loss: 0.0665\n",
            "Epoch 261/600\n",
            "42/55 [=====================>........] - ETA: 11s - loss: 0.0484"
          ],
          "name": "stdout"
        },
        {
          "output_type": "stream",
          "text": [
            "56/55 [==============================] - 52s 924ms/step - loss: 0.0482 - val_loss: 0.0310\n",
            "Epoch 262/600\n",
            "56/55 [==============================] - 52s 924ms/step - loss: 0.0492 - val_loss: 0.0370\n",
            "Epoch 263/600\n",
            "56/55 [==============================] - 52s 927ms/step - loss: 0.0488 - val_loss: 0.0787\n",
            "Epoch 264/600\n",
            "56/55 [==============================] - 52s 926ms/step - loss: 0.0499 - val_loss: 0.0299\n",
            "Epoch 265/600\n",
            "56/55 [==============================] - 52s 929ms/step - loss: 0.0499 - val_loss: 0.1025\n",
            "Epoch 266/600\n",
            "42/55 [=====================>........] - ETA: 11s - loss: 0.0510"
          ],
          "name": "stdout"
        },
        {
          "output_type": "stream",
          "text": [
            "56/55 [==============================] - 52s 928ms/step - loss: 0.0492 - val_loss: 0.0804\n",
            "Epoch 267/600\n",
            "56/55 [==============================] - 52s 927ms/step - loss: 0.0492 - val_loss: 0.0513\n",
            "Epoch 268/600\n",
            "56/55 [==============================] - 52s 921ms/step - loss: 0.0499 - val_loss: 0.0292\n",
            "Epoch 269/600\n",
            "56/55 [==============================] - 52s 926ms/step - loss: 0.0472 - val_loss: 0.0891\n",
            "Epoch 270/600\n",
            "56/55 [==============================] - 52s 927ms/step - loss: 0.0493 - val_loss: 0.0482\n",
            "Epoch 271/600\n",
            "42/55 [=====================>........] - ETA: 11s - loss: 0.0489"
          ],
          "name": "stdout"
        },
        {
          "output_type": "stream",
          "text": [
            "56/55 [==============================] - 52s 924ms/step - loss: 0.0486 - val_loss: 0.1005\n",
            "Epoch 272/600\n",
            "56/55 [==============================] - 52s 926ms/step - loss: 0.0493 - val_loss: 0.0417\n",
            "Epoch 273/600\n",
            "56/55 [==============================] - 52s 928ms/step - loss: 0.0495 - val_loss: 0.0496\n",
            "Epoch 274/600\n",
            "56/55 [==============================] - 52s 926ms/step - loss: 0.0484 - val_loss: 0.0764\n",
            "Epoch 275/600\n",
            "56/55 [==============================] - 51s 917ms/step - loss: 0.0480 - val_loss: 0.0238\n",
            "Epoch 276/600\n",
            "42/55 [=====================>........] - ETA: 11s - loss: 0.0489"
          ],
          "name": "stdout"
        },
        {
          "output_type": "stream",
          "text": [
            "56/55 [==============================] - 52s 921ms/step - loss: 0.0501 - val_loss: 0.0853\n",
            "Epoch 277/600\n",
            "56/55 [==============================] - 52s 924ms/step - loss: 0.0485 - val_loss: 0.0736\n",
            "Epoch 278/600\n",
            "56/55 [==============================] - 52s 920ms/step - loss: 0.0493 - val_loss: 0.0275\n",
            "Epoch 279/600\n",
            "56/55 [==============================] - 52s 921ms/step - loss: 0.0477 - val_loss: 0.0295\n",
            "Epoch 280/600\n",
            "56/55 [==============================] - 52s 924ms/step - loss: 0.0493 - val_loss: 0.0813\n",
            "Epoch 281/600\n",
            "42/55 [=====================>........] - ETA: 11s - loss: 0.0468"
          ],
          "name": "stdout"
        },
        {
          "output_type": "stream",
          "text": [
            "56/55 [==============================] - 52s 921ms/step - loss: 0.0475 - val_loss: 0.0364\n",
            "Epoch 282/600\n",
            "56/55 [==============================] - 52s 926ms/step - loss: 0.0490 - val_loss: 0.0533\n",
            "Epoch 283/600\n",
            "56/55 [==============================] - 52s 925ms/step - loss: 0.0483 - val_loss: 0.0767\n",
            "Epoch 284/600\n",
            "56/55 [==============================] - 52s 927ms/step - loss: 0.0489 - val_loss: 0.0364\n",
            "Epoch 285/600\n",
            "56/55 [==============================] - 52s 922ms/step - loss: 0.0477 - val_loss: 0.0403\n",
            "Epoch 286/600\n",
            "42/55 [=====================>........] - ETA: 11s - loss: 0.0482"
          ],
          "name": "stdout"
        },
        {
          "output_type": "stream",
          "text": [
            "56/55 [==============================] - 52s 928ms/step - loss: 0.0479 - val_loss: 0.0753\n",
            "Epoch 287/600\n",
            "56/55 [==============================] - 52s 924ms/step - loss: 0.0481 - val_loss: 0.0702\n",
            "Epoch 288/600\n",
            "56/55 [==============================] - 52s 925ms/step - loss: 0.0480 - val_loss: 0.1124\n",
            "Epoch 289/600\n",
            "56/55 [==============================] - 52s 927ms/step - loss: 0.0482 - val_loss: 0.0719\n",
            "Epoch 290/600\n",
            "56/55 [==============================] - 52s 926ms/step - loss: 0.0474 - val_loss: 0.0670\n",
            "Epoch 291/600\n",
            "42/55 [=====================>........] - ETA: 11s - loss: 0.0485"
          ],
          "name": "stdout"
        },
        {
          "output_type": "stream",
          "text": [
            "56/55 [==============================] - 52s 924ms/step - loss: 0.0477 - val_loss: 0.0646\n",
            "Epoch 292/600\n",
            "56/55 [==============================] - 52s 920ms/step - loss: 0.0487 - val_loss: 0.2021\n",
            "Epoch 293/600\n",
            "56/55 [==============================] - 52s 925ms/step - loss: 0.0485 - val_loss: 0.0706\n",
            "Epoch 294/600\n",
            "56/55 [==============================] - 52s 924ms/step - loss: 0.0473 - val_loss: 0.0881\n",
            "Epoch 295/600\n",
            "56/55 [==============================] - 52s 923ms/step - loss: 0.0491 - val_loss: 0.0387\n",
            "Epoch 296/600\n",
            "42/55 [=====================>........] - ETA: 11s - loss: 0.0488"
          ],
          "name": "stdout"
        },
        {
          "output_type": "stream",
          "text": [
            "56/55 [==============================] - 52s 924ms/step - loss: 0.0475 - val_loss: 0.0304\n",
            "Epoch 297/600\n",
            "56/55 [==============================] - 52s 927ms/step - loss: 0.0466 - val_loss: 0.0975\n",
            "Epoch 298/600\n",
            "56/55 [==============================] - 52s 921ms/step - loss: 0.0472 - val_loss: 0.0176\n",
            "Epoch 299/600\n",
            "56/55 [==============================] - 52s 926ms/step - loss: 0.0475 - val_loss: 0.0577\n",
            "Epoch 300/600\n",
            "56/55 [==============================] - 52s 926ms/step - loss: 0.0479 - val_loss: 0.0531\n",
            "Epoch 301/600\n",
            "42/55 [=====================>........] - ETA: 11s - loss: 0.0487"
          ],
          "name": "stdout"
        },
        {
          "output_type": "stream",
          "text": [
            "56/55 [==============================] - 52s 925ms/step - loss: 0.0475 - val_loss: 0.0309\n",
            "Epoch 302/600\n",
            "56/55 [==============================] - 52s 924ms/step - loss: 0.0467 - val_loss: 0.0338\n",
            "Epoch 303/600\n",
            "56/55 [==============================] - 52s 925ms/step - loss: 0.0469 - val_loss: 0.0753\n",
            "Epoch 304/600\n",
            "56/55 [==============================] - 52s 927ms/step - loss: 0.0474 - val_loss: 0.0404\n",
            "Epoch 305/600\n",
            "56/55 [==============================] - 52s 925ms/step - loss: 0.0487 - val_loss: 0.0846\n",
            "Epoch 306/600\n",
            "42/55 [=====================>........] - ETA: 11s - loss: 0.0485"
          ],
          "name": "stdout"
        },
        {
          "output_type": "stream",
          "text": [
            "56/55 [==============================] - 52s 925ms/step - loss: 0.0481 - val_loss: 0.0620\n",
            "Epoch 307/600\n",
            "56/55 [==============================] - 52s 924ms/step - loss: 0.0471 - val_loss: 0.0627\n",
            "Epoch 308/600\n",
            "56/55 [==============================] - 52s 923ms/step - loss: 0.0469 - val_loss: 0.0240\n",
            "Epoch 309/600\n",
            "56/55 [==============================] - 52s 925ms/step - loss: 0.0483 - val_loss: 0.0744\n",
            "Epoch 310/600\n",
            "56/55 [==============================] - 52s 926ms/step - loss: 0.0472 - val_loss: 0.0736\n",
            "Epoch 311/600\n",
            "42/55 [=====================>........] - ETA: 11s - loss: 0.0474"
          ],
          "name": "stdout"
        },
        {
          "output_type": "stream",
          "text": [
            "56/55 [==============================] - 52s 923ms/step - loss: 0.0484 - val_loss: 0.1054\n",
            "Epoch 312/600\n",
            "56/55 [==============================] - 52s 921ms/step - loss: 0.0477 - val_loss: 0.0259\n",
            "Epoch 313/600\n",
            "56/55 [==============================] - 51s 919ms/step - loss: 0.0469 - val_loss: 0.0581\n",
            "Epoch 314/600\n",
            "56/55 [==============================] - 52s 925ms/step - loss: 0.0466 - val_loss: 0.0943\n",
            "Epoch 315/600\n",
            "56/55 [==============================] - 51s 919ms/step - loss: 0.0476 - val_loss: 0.0256\n",
            "Epoch 316/600\n",
            "42/55 [=====================>........] - ETA: 11s - loss: 0.0459"
          ],
          "name": "stdout"
        },
        {
          "output_type": "stream",
          "text": [
            "56/55 [==============================] - 52s 926ms/step - loss: 0.0475 - val_loss: 0.0837\n",
            "Epoch 317/600\n",
            "56/55 [==============================] - 52s 927ms/step - loss: 0.0479 - val_loss: 0.0792\n",
            "Epoch 318/600\n",
            "56/55 [==============================] - 52s 925ms/step - loss: 0.0460 - val_loss: 0.0207\n",
            "Epoch 319/600\n",
            "56/55 [==============================] - 52s 926ms/step - loss: 0.0456 - val_loss: 0.0391\n",
            "Epoch 320/600\n",
            "56/55 [==============================] - 52s 925ms/step - loss: 0.0472 - val_loss: 0.0944\n",
            "Epoch 321/600\n",
            "42/55 [=====================>........] - ETA: 11s - loss: 0.0479"
          ],
          "name": "stdout"
        },
        {
          "output_type": "stream",
          "text": [
            "56/55 [==============================] - 52s 922ms/step - loss: 0.0481 - val_loss: 0.0383\n",
            "Epoch 322/600\n",
            "56/55 [==============================] - 52s 926ms/step - loss: 0.0465 - val_loss: 0.0797\n",
            "Epoch 323/600\n",
            "56/55 [==============================] - 52s 925ms/step - loss: 0.0467 - val_loss: 0.0793\n",
            "Epoch 324/600\n",
            "56/55 [==============================] - 52s 927ms/step - loss: 0.0470 - val_loss: 0.0358\n",
            "Epoch 325/600\n",
            "56/55 [==============================] - 52s 927ms/step - loss: 0.0458 - val_loss: 0.0349\n",
            "Epoch 326/600\n",
            "42/55 [=====================>........] - ETA: 11s - loss: 0.0463"
          ],
          "name": "stdout"
        },
        {
          "output_type": "stream",
          "text": [
            "56/55 [==============================] - 52s 926ms/step - loss: 0.0459 - val_loss: 0.0817\n",
            "Epoch 327/600\n",
            "56/55 [==============================] - 52s 928ms/step - loss: 0.0463 - val_loss: 0.0369\n",
            "Epoch 328/600\n",
            "56/55 [==============================] - 52s 927ms/step - loss: 0.0461 - val_loss: 0.1087\n",
            "Epoch 329/600\n",
            "56/55 [==============================] - 52s 928ms/step - loss: 0.0458 - val_loss: 0.0612\n",
            "Epoch 330/600\n",
            "56/55 [==============================] - 52s 923ms/step - loss: 0.0468 - val_loss: 0.0627\n",
            "Epoch 331/600\n",
            "42/55 [=====================>........] - ETA: 11s - loss: 0.0475"
          ],
          "name": "stdout"
        },
        {
          "output_type": "stream",
          "text": [
            "56/55 [==============================] - 52s 924ms/step - loss: 0.0463 - val_loss: 0.0682\n",
            "Epoch 332/600\n",
            "56/55 [==============================] - 52s 920ms/step - loss: 0.0467 - val_loss: 0.0512\n",
            "Epoch 333/600\n",
            "56/55 [==============================] - 52s 924ms/step - loss: 0.0467 - val_loss: 0.0673\n",
            "Epoch 334/600\n",
            "56/55 [==============================] - 52s 926ms/step - loss: 0.0457 - val_loss: 0.0719\n",
            "Epoch 335/600\n",
            "56/55 [==============================] - 52s 925ms/step - loss: 0.0470 - val_loss: 0.0346\n",
            "Epoch 336/600\n",
            "42/55 [=====================>........] - ETA: 11s - loss: 0.0454"
          ],
          "name": "stdout"
        },
        {
          "output_type": "stream",
          "text": [
            "56/55 [==============================] - 52s 924ms/step - loss: 0.0467 - val_loss: 0.0291\n",
            "Epoch 337/600\n",
            "56/55 [==============================] - 52s 929ms/step - loss: 0.0469 - val_loss: 0.0708\n",
            "Epoch 338/600\n",
            "56/55 [==============================] - 51s 919ms/step - loss: 0.0449 - val_loss: 0.0368\n",
            "Epoch 339/600\n",
            "56/55 [==============================] - 52s 926ms/step - loss: 0.0458 - val_loss: 0.0619\n",
            "Epoch 340/600\n",
            "56/55 [==============================] - 52s 926ms/step - loss: 0.0460 - val_loss: 0.0753\n",
            "Epoch 341/600\n",
            "42/55 [=====================>........] - ETA: 11s - loss: 0.0443"
          ],
          "name": "stdout"
        },
        {
          "output_type": "stream",
          "text": [
            "56/55 [==============================] - 52s 921ms/step - loss: 0.0452 - val_loss: 0.0255\n",
            "Epoch 342/600\n",
            "56/55 [==============================] - 52s 921ms/step - loss: 0.0462 - val_loss: 0.0403\n",
            "Epoch 343/600\n",
            "56/55 [==============================] - 52s 927ms/step - loss: 0.0465 - val_loss: 0.0542\n",
            "Epoch 344/600\n",
            "56/55 [==============================] - 52s 925ms/step - loss: 0.0460 - val_loss: 0.0689\n",
            "Epoch 345/600\n",
            "56/55 [==============================] - 52s 927ms/step - loss: 0.0464 - val_loss: 0.0978\n",
            "Epoch 346/600\n",
            "42/55 [=====================>........] - ETA: 11s - loss: 0.0459"
          ],
          "name": "stdout"
        },
        {
          "output_type": "stream",
          "text": [
            "56/55 [==============================] - 52s 927ms/step - loss: 0.0466 - val_loss: 0.0695\n",
            "Epoch 347/600\n",
            "56/55 [==============================] - 52s 923ms/step - loss: 0.0455 - val_loss: 0.0577\n",
            "Epoch 348/600\n",
            "56/55 [==============================] - 52s 923ms/step - loss: 0.0453 - val_loss: 0.0653\n",
            "Epoch 349/600\n",
            "56/55 [==============================] - 52s 921ms/step - loss: 0.0466 - val_loss: 0.0640\n",
            "Epoch 350/600\n",
            "56/55 [==============================] - 52s 925ms/step - loss: 0.0447 - val_loss: 0.0712\n",
            "Epoch 351/600\n",
            "42/55 [=====================>........] - ETA: 11s - loss: 0.0450"
          ],
          "name": "stdout"
        },
        {
          "output_type": "stream",
          "text": [
            "56/55 [==============================] - 52s 927ms/step - loss: 0.0447 - val_loss: 0.0662\n",
            "Epoch 352/600\n",
            "56/55 [==============================] - 52s 927ms/step - loss: 0.0456 - val_loss: 0.0342\n",
            "Epoch 353/600\n",
            "56/55 [==============================] - 52s 921ms/step - loss: 0.0454 - val_loss: 0.0408\n",
            "Epoch 354/600\n",
            "56/55 [==============================] - 52s 926ms/step - loss: 0.0451 - val_loss: 0.1111\n",
            "Epoch 355/600\n",
            "56/55 [==============================] - 52s 920ms/step - loss: 0.0464 - val_loss: 0.0167\n",
            "Epoch 356/600\n",
            "42/55 [=====================>........] - ETA: 11s - loss: 0.0453"
          ],
          "name": "stdout"
        },
        {
          "output_type": "stream",
          "text": [
            "56/55 [==============================] - 52s 928ms/step - loss: 0.0447 - val_loss: 0.0855\n",
            "Epoch 357/600\n",
            "56/55 [==============================] - 52s 925ms/step - loss: 0.0473 - val_loss: 0.0775\n",
            "Epoch 358/600\n",
            "56/55 [==============================] - 52s 924ms/step - loss: 0.0464 - val_loss: 0.0310\n",
            "Epoch 359/600\n",
            "56/55 [==============================] - 52s 925ms/step - loss: 0.0447 - val_loss: 0.0380\n",
            "Epoch 360/600\n",
            "56/55 [==============================] - 52s 927ms/step - loss: 0.0457 - val_loss: 0.0818\n",
            "Epoch 361/600\n",
            "42/55 [=====================>........] - ETA: 11s - loss: 0.0481"
          ],
          "name": "stdout"
        },
        {
          "output_type": "stream",
          "text": [
            "56/55 [==============================] - 51s 919ms/step - loss: 0.0475 - val_loss: 0.0342\n",
            "Epoch 362/600\n",
            "56/55 [==============================] - 52s 923ms/step - loss: 0.0460 - val_loss: 0.1021\n",
            "Epoch 363/600\n",
            "56/55 [==============================] - 52s 924ms/step - loss: 0.0463 - val_loss: 0.0807\n",
            "Epoch 364/600\n",
            "56/55 [==============================] - 52s 924ms/step - loss: 0.0442 - val_loss: 0.0471\n",
            "Epoch 365/600\n",
            "56/55 [==============================] - 51s 917ms/step - loss: 0.0449 - val_loss: 0.0309\n",
            "Epoch 366/600\n",
            "42/55 [=====================>........] - ETA: 11s - loss: 0.0462"
          ],
          "name": "stdout"
        },
        {
          "output_type": "stream",
          "text": [
            "56/55 [==============================] - 52s 921ms/step - loss: 0.0454 - val_loss: 0.0835\n",
            "Epoch 367/600\n",
            "56/55 [==============================] - 52s 923ms/step - loss: 0.0456 - val_loss: 0.0712\n",
            "Epoch 368/600\n",
            "56/55 [==============================] - 52s 927ms/step - loss: 0.0441 - val_loss: 0.1151\n",
            "Epoch 369/600\n",
            "56/55 [==============================] - 52s 926ms/step - loss: 0.0458 - val_loss: 0.0427\n",
            "Epoch 370/600\n",
            "56/55 [==============================] - 52s 925ms/step - loss: 0.0453 - val_loss: 0.0472\n",
            "Epoch 371/600\n",
            "42/55 [=====================>........] - ETA: 11s - loss: 0.0466"
          ],
          "name": "stdout"
        },
        {
          "output_type": "stream",
          "text": [
            "56/55 [==============================] - 52s 926ms/step - loss: 0.0456 - val_loss: 0.0715\n",
            "Epoch 372/600\n",
            "56/55 [==============================] - 52s 920ms/step - loss: 0.0451 - val_loss: 0.0226\n",
            "Epoch 373/600\n",
            "56/55 [==============================] - 52s 926ms/step - loss: 0.0438 - val_loss: 0.0795\n",
            "Epoch 374/600\n",
            "56/55 [==============================] - 52s 927ms/step - loss: 0.0450 - val_loss: 0.0695\n",
            "Epoch 375/600\n",
            "56/55 [==============================] - 52s 924ms/step - loss: 0.0450 - val_loss: 0.0271\n",
            "Epoch 376/600\n",
            "42/55 [=====================>........] - ETA: 11s - loss: 0.0430"
          ],
          "name": "stdout"
        },
        {
          "output_type": "stream",
          "text": [
            "56/55 [==============================] - 52s 924ms/step - loss: 0.0445 - val_loss: 0.0265\n",
            "Epoch 377/600\n",
            "56/55 [==============================] - 52s 928ms/step - loss: 0.0454 - val_loss: 0.0664\n",
            "Epoch 378/600\n",
            "56/55 [==============================] - 51s 919ms/step - loss: 0.0442 - val_loss: 0.0373\n",
            "Epoch 379/600\n",
            "56/55 [==============================] - 52s 928ms/step - loss: 0.0440 - val_loss: 0.0540\n",
            "Epoch 380/600\n",
            "56/55 [==============================] - 52s 926ms/step - loss: 0.0447 - val_loss: 0.0744\n",
            "Epoch 381/600\n",
            "42/55 [=====================>........] - ETA: 11s - loss: 0.0435"
          ],
          "name": "stdout"
        },
        {
          "output_type": "stream",
          "text": [
            "56/55 [==============================] - 52s 925ms/step - loss: 0.0449 - val_loss: 0.0343\n",
            "Epoch 382/600\n",
            "56/55 [==============================] - 52s 923ms/step - loss: 0.0443 - val_loss: 0.0316\n",
            "Epoch 383/600\n",
            "56/55 [==============================] - 52s 924ms/step - loss: 0.0438 - val_loss: 0.0774\n",
            "Epoch 384/600\n",
            "56/55 [==============================] - 52s 925ms/step - loss: 0.0438 - val_loss: 0.0431\n",
            "Epoch 385/600\n",
            "56/55 [==============================] - 52s 925ms/step - loss: 0.0446 - val_loss: 0.1000\n",
            "Epoch 386/600\n",
            "42/55 [=====================>........] - ETA: 11s - loss: 0.0450"
          ],
          "name": "stdout"
        },
        {
          "output_type": "stream",
          "text": [
            "56/55 [==============================] - 52s 931ms/step - loss: 0.0447 - val_loss: 0.0701\n",
            "Epoch 387/600\n",
            "56/55 [==============================] - 52s 931ms/step - loss: 0.0445 - val_loss: 0.0612\n",
            "Epoch 388/600\n",
            "56/55 [==============================] - 52s 924ms/step - loss: 0.0444 - val_loss: 0.0720\n",
            "Epoch 389/600\n",
            "56/55 [==============================] - 52s 920ms/step - loss: 0.0439 - val_loss: 0.0488\n",
            "Epoch 390/600\n",
            "56/55 [==============================] - 52s 924ms/step - loss: 0.0438 - val_loss: 0.0718\n",
            "Epoch 391/600\n",
            "42/55 [=====================>........] - ETA: 11s - loss: 0.0455"
          ],
          "name": "stdout"
        },
        {
          "output_type": "stream",
          "text": [
            "56/55 [==============================] - 52s 926ms/step - loss: 0.0438 - val_loss: 0.0766\n",
            "Epoch 392/600\n",
            "56/55 [==============================] - 52s 926ms/step - loss: 0.0447 - val_loss: 0.0437\n",
            "Epoch 393/600\n",
            "56/55 [==============================] - 52s 923ms/step - loss: 0.0439 - val_loss: 0.0311\n",
            "Epoch 394/600\n",
            "56/55 [==============================] - 52s 929ms/step - loss: 0.0442 - val_loss: 0.1072\n",
            "Epoch 395/600\n",
            "56/55 [==============================] - 52s 922ms/step - loss: 0.0451 - val_loss: 0.0180\n",
            "Epoch 396/600\n",
            "42/55 [=====================>........] - ETA: 11s - loss: 0.0450"
          ],
          "name": "stdout"
        },
        {
          "output_type": "stream",
          "text": [
            "56/55 [==============================] - 52s 928ms/step - loss: 0.0441 - val_loss: 0.0603\n",
            "Epoch 397/600\n",
            "56/55 [==============================] - 52s 923ms/step - loss: 0.0428 - val_loss: 0.0511\n",
            "Epoch 398/600\n",
            "56/55 [==============================] - 52s 923ms/step - loss: 0.0441 - val_loss: 0.0359\n",
            "Epoch 399/600\n",
            "56/55 [==============================] - 52s 923ms/step - loss: 0.0441 - val_loss: 0.0428\n",
            "Epoch 400/600\n",
            "56/55 [==============================] - 52s 928ms/step - loss: 0.0445 - val_loss: 0.0726\n",
            "Epoch 401/600\n",
            "42/55 [=====================>........] - ETA: 11s - loss: 0.0433"
          ],
          "name": "stdout"
        },
        {
          "output_type": "stream",
          "text": [
            "56/55 [==============================] - 52s 923ms/step - loss: 0.0441 - val_loss: 0.0599\n",
            "Epoch 402/600\n",
            "56/55 [==============================] - 52s 930ms/step - loss: 0.0447 - val_loss: 0.0957\n",
            "Epoch 403/600\n",
            "56/55 [==============================] - 52s 926ms/step - loss: 0.0445 - val_loss: 0.0652\n",
            "Epoch 404/600\n",
            "56/55 [==============================] - 52s 927ms/step - loss: 0.0448 - val_loss: 0.0626\n",
            "Epoch 405/600\n",
            "56/55 [==============================] - 52s 922ms/step - loss: 0.0436 - val_loss: 0.0246\n",
            "Epoch 406/600\n",
            "42/55 [=====================>........] - ETA: 11s - loss: 0.0427"
          ],
          "name": "stdout"
        },
        {
          "output_type": "stream",
          "text": [
            "56/55 [==============================] - 52s 923ms/step - loss: 0.0438 - val_loss: 0.0688\n",
            "Epoch 407/600\n",
            "56/55 [==============================] - 52s 928ms/step - loss: 0.0436 - val_loss: 0.0781\n",
            "Epoch 408/600\n",
            "56/55 [==============================] - 52s 926ms/step - loss: 0.0432 - val_loss: 0.1035\n",
            "Epoch 409/600\n",
            "56/55 [==============================] - 52s 925ms/step - loss: 0.0428 - val_loss: 0.0262\n",
            "Epoch 410/600\n",
            "56/55 [==============================] - 52s 925ms/step - loss: 0.0446 - val_loss: 0.0565\n",
            "Epoch 411/600\n",
            "42/55 [=====================>........] - ETA: 11s - loss: 0.0445"
          ],
          "name": "stdout"
        },
        {
          "output_type": "stream",
          "text": [
            "56/55 [==============================] - 52s 927ms/step - loss: 0.0443 - val_loss: 0.0899\n",
            "Epoch 412/600\n",
            "56/55 [==============================] - 52s 921ms/step - loss: 0.0436 - val_loss: 0.0209\n",
            "Epoch 413/600\n",
            "56/55 [==============================] - 52s 928ms/step - loss: 0.0435 - val_loss: 0.1052\n",
            "Epoch 414/600\n",
            "56/55 [==============================] - 52s 928ms/step - loss: 0.0430 - val_loss: 0.0722\n",
            "Epoch 415/600\n",
            "56/55 [==============================] - 52s 922ms/step - loss: 0.0430 - val_loss: 0.0230\n",
            "Epoch 416/600\n",
            "42/55 [=====================>........] - ETA: 11s - loss: 0.0440"
          ],
          "name": "stdout"
        },
        {
          "output_type": "stream",
          "text": [
            "56/55 [==============================] - 52s 926ms/step - loss: 0.0435 - val_loss: 0.0382\n",
            "Epoch 417/600\n",
            "56/55 [==============================] - 52s 930ms/step - loss: 0.0434 - val_loss: 0.0811\n",
            "Epoch 418/600\n",
            "56/55 [==============================] - 52s 922ms/step - loss: 0.0443 - val_loss: 0.0501\n",
            "Epoch 419/600\n",
            "56/55 [==============================] - 52s 927ms/step - loss: 0.0445 - val_loss: 0.0779\n",
            "Epoch 420/600\n",
            "56/55 [==============================] - 52s 925ms/step - loss: 0.0439 - val_loss: 0.0785\n",
            "Epoch 421/600\n",
            "42/55 [=====================>........] - ETA: 11s - loss: 0.0444"
          ],
          "name": "stdout"
        },
        {
          "output_type": "stream",
          "text": [
            "56/55 [==============================] - 52s 927ms/step - loss: 0.0430 - val_loss: 0.0351\n",
            "Epoch 422/600\n",
            "56/55 [==============================] - 52s 923ms/step - loss: 0.0428 - val_loss: 0.0371\n",
            "Epoch 423/600\n",
            "56/55 [==============================] - 52s 929ms/step - loss: 0.0438 - val_loss: 0.0865\n",
            "Epoch 424/600\n",
            "56/55 [==============================] - 52s 927ms/step - loss: 0.0434 - val_loss: 0.0374\n",
            "Epoch 425/600\n",
            "56/55 [==============================] - 52s 925ms/step - loss: 0.0435 - val_loss: 0.1078\n",
            "Epoch 426/600\n",
            "42/55 [=====================>........] - ETA: 11s - loss: 0.0439"
          ],
          "name": "stdout"
        },
        {
          "output_type": "stream",
          "text": [
            "56/55 [==============================] - 52s 929ms/step - loss: 0.0427 - val_loss: 0.0571\n",
            "Epoch 427/600\n",
            "56/55 [==============================] - 52s 925ms/step - loss: 0.0439 - val_loss: 0.0561\n",
            "Epoch 428/600\n",
            "56/55 [==============================] - 52s 927ms/step - loss: 0.0428 - val_loss: 0.0600\n",
            "Epoch 429/600\n",
            "56/55 [==============================] - 52s 924ms/step - loss: 0.0427 - val_loss: 0.0485\n",
            "Epoch 430/600\n",
            "56/55 [==============================] - 52s 925ms/step - loss: 0.0433 - val_loss: 0.0650\n",
            "Epoch 431/600\n",
            "42/55 [=====================>........] - ETA: 11s - loss: 0.0437"
          ],
          "name": "stdout"
        },
        {
          "output_type": "stream",
          "text": [
            "56/55 [==============================] - 52s 927ms/step - loss: 0.0430 - val_loss: 0.0741\n",
            "Epoch 432/600\n",
            "56/55 [==============================] - 52s 926ms/step - loss: 0.0429 - val_loss: 0.0347\n",
            "Epoch 433/600\n",
            "56/55 [==============================] - 52s 921ms/step - loss: 0.0430 - val_loss: 0.0306\n",
            "Epoch 434/600\n",
            "56/55 [==============================] - 52s 924ms/step - loss: 0.0427 - val_loss: 0.0624\n",
            "Epoch 435/600\n",
            "56/55 [==============================] - 52s 922ms/step - loss: 0.0436 - val_loss: 0.0444\n",
            "Epoch 436/600\n",
            "42/55 [=====================>........] - ETA: 11s - loss: 0.0421"
          ],
          "name": "stdout"
        },
        {
          "output_type": "stream",
          "text": [
            "56/55 [==============================] - 52s 929ms/step - loss: 0.0424 - val_loss: 0.0585\n",
            "Epoch 437/600\n",
            "56/55 [==============================] - 52s 928ms/step - loss: 0.0429 - val_loss: 0.0744\n",
            "Epoch 438/600\n",
            "56/55 [==============================] - 52s 925ms/step - loss: 0.0434 - val_loss: 0.0254\n",
            "Epoch 439/600\n",
            "56/55 [==============================] - 52s 923ms/step - loss: 0.0427 - val_loss: 0.0419\n",
            "Epoch 440/600\n",
            "56/55 [==============================] - 52s 923ms/step - loss: 0.0434 - val_loss: 0.0513\n",
            "Epoch 441/600\n",
            "42/55 [=====================>........] - ETA: 11s - loss: 0.0412"
          ],
          "name": "stdout"
        },
        {
          "output_type": "stream",
          "text": [
            "56/55 [==============================] - 52s 924ms/step - loss: 0.0421 - val_loss: 0.0543\n",
            "Epoch 442/600\n",
            "56/55 [==============================] - 52s 932ms/step - loss: 0.0421 - val_loss: 0.1018\n",
            "Epoch 443/600\n",
            "56/55 [==============================] - 52s 929ms/step - loss: 0.0426 - val_loss: 0.0662\n",
            "Epoch 444/600\n",
            "56/55 [==============================] - 52s 930ms/step - loss: 0.0423 - val_loss: 0.0562\n",
            "Epoch 445/600\n",
            "56/55 [==============================] - 52s 926ms/step - loss: 0.0420 - val_loss: 0.0652\n",
            "Epoch 446/600\n",
            "42/55 [=====================>........] - ETA: 11s - loss: 0.0418"
          ],
          "name": "stdout"
        },
        {
          "output_type": "stream",
          "text": [
            "56/55 [==============================] - 52s 921ms/step - loss: 0.0428 - val_loss: 0.0592\n",
            "Epoch 447/600\n",
            "56/55 [==============================] - 52s 925ms/step - loss: 0.0420 - val_loss: 0.0736\n",
            "Epoch 448/600\n",
            "56/55 [==============================] - 52s 925ms/step - loss: 0.0423 - val_loss: 0.0634\n",
            "Epoch 449/600\n",
            "56/55 [==============================] - 52s 925ms/step - loss: 0.0435 - val_loss: 0.0359\n",
            "Epoch 450/600\n",
            "56/55 [==============================] - 52s 920ms/step - loss: 0.0418 - val_loss: 0.0412\n",
            "Epoch 451/600\n",
            "42/55 [=====================>........] - ETA: 11s - loss: 0.0437"
          ],
          "name": "stdout"
        },
        {
          "output_type": "stream",
          "text": [
            "56/55 [==============================] - 52s 926ms/step - loss: 0.0434 - val_loss: 0.1167\n",
            "Epoch 452/600\n",
            "56/55 [==============================] - 51s 919ms/step - loss: 0.0421 - val_loss: 0.0170\n",
            "Epoch 453/600\n",
            "56/55 [==============================] - 52s 929ms/step - loss: 0.0430 - val_loss: 0.0844\n",
            "Epoch 454/600\n",
            "56/55 [==============================] - 52s 925ms/step - loss: 0.0430 - val_loss: 0.0744\n",
            "Epoch 455/600\n",
            "56/55 [==============================] - 52s 924ms/step - loss: 0.0420 - val_loss: 0.0299\n",
            "Epoch 456/600\n",
            "42/55 [=====================>........] - ETA: 11s - loss: 0.0436"
          ],
          "name": "stdout"
        },
        {
          "output_type": "stream",
          "text": [
            "56/55 [==============================] - 52s 925ms/step - loss: 0.0423 - val_loss: 0.0369\n",
            "Epoch 457/600\n",
            "56/55 [==============================] - 52s 929ms/step - loss: 0.0427 - val_loss: 0.0909\n",
            "Epoch 458/600\n",
            "56/55 [==============================] - 52s 924ms/step - loss: 0.0419 - val_loss: 0.0409\n",
            "Epoch 459/600\n",
            "56/55 [==============================] - 52s 925ms/step - loss: 0.0435 - val_loss: 0.1084\n",
            "Epoch 460/600\n",
            "56/55 [==============================] - 52s 925ms/step - loss: 0.0414 - val_loss: 0.0801\n",
            "Epoch 461/600\n",
            "42/55 [=====================>........] - ETA: 11s - loss: 0.0421"
          ],
          "name": "stdout"
        },
        {
          "output_type": "stream",
          "text": [
            "56/55 [==============================] - 52s 929ms/step - loss: 0.0423 - val_loss: 0.0461\n",
            "Epoch 462/600\n",
            "56/55 [==============================] - 52s 926ms/step - loss: 0.0419 - val_loss: 0.0277\n",
            "Epoch 463/600\n",
            "56/55 [==============================] - 52s 923ms/step - loss: 0.0417 - val_loss: 0.0826\n",
            "Epoch 464/600\n",
            "56/55 [==============================] - 52s 926ms/step - loss: 0.0417 - val_loss: 0.0508\n",
            "Epoch 465/600\n",
            "56/55 [==============================] - 52s 926ms/step - loss: 0.0441 - val_loss: 0.1100\n",
            "Epoch 466/600\n",
            "42/55 [=====================>........] - ETA: 11s - loss: 0.0428"
          ],
          "name": "stdout"
        },
        {
          "output_type": "stream",
          "text": [
            "56/55 [==============================] - 52s 925ms/step - loss: 0.0431 - val_loss: 0.0423\n",
            "Epoch 467/600\n",
            "56/55 [==============================] - 52s 923ms/step - loss: 0.0425 - val_loss: 0.0459\n",
            "Epoch 468/600\n",
            "56/55 [==============================] - 52s 927ms/step - loss: 0.0419 - val_loss: 0.0684\n",
            "Epoch 469/600\n",
            "56/55 [==============================] - 52s 924ms/step - loss: 0.0418 - val_loss: 0.0277\n",
            "Epoch 470/600\n",
            "56/55 [==============================] - 52s 928ms/step - loss: 0.0420 - val_loss: 0.0937\n",
            "Epoch 471/600\n",
            "42/55 [=====================>........] - ETA: 11s - loss: 0.0410"
          ],
          "name": "stdout"
        },
        {
          "output_type": "stream",
          "text": [
            "56/55 [==============================] - 52s 925ms/step - loss: 0.0421 - val_loss: 0.0729\n",
            "Epoch 472/600\n",
            "56/55 [==============================] - 52s 923ms/step - loss: 0.0421 - val_loss: 0.0301\n",
            "Epoch 473/600\n",
            "56/55 [==============================] - 52s 925ms/step - loss: 0.0431 - val_loss: 0.0285\n",
            "Epoch 474/600\n",
            "56/55 [==============================] - 52s 927ms/step - loss: 0.0417 - val_loss: 0.0717\n",
            "Epoch 475/600\n",
            "56/55 [==============================] - 52s 921ms/step - loss: 0.0428 - val_loss: 0.0435\n",
            "Epoch 476/600\n",
            "42/55 [=====================>........] - ETA: 12s - loss: 0.0414"
          ],
          "name": "stdout"
        },
        {
          "output_type": "stream",
          "text": [
            "56/55 [==============================] - 52s 931ms/step - loss: 0.0415 - val_loss: 0.0627\n",
            "Epoch 477/600\n",
            "56/55 [==============================] - 52s 927ms/step - loss: 0.0418 - val_loss: 0.0718\n",
            "Epoch 478/600\n",
            "56/55 [==============================] - 52s 925ms/step - loss: 0.0411 - val_loss: 0.0328\n",
            "Epoch 479/600\n",
            "56/55 [==============================] - 52s 925ms/step - loss: 0.0430 - val_loss: 0.0453\n",
            "Epoch 480/600\n",
            "56/55 [==============================] - 52s 925ms/step - loss: 0.0422 - val_loss: 0.0783\n",
            "Epoch 481/600\n",
            "42/55 [=====================>........] - ETA: 12s - loss: 0.0426"
          ],
          "name": "stdout"
        },
        {
          "output_type": "stream",
          "text": [
            "56/55 [==============================] - 52s 927ms/step - loss: 0.0420 - val_loss: 0.0571\n",
            "Epoch 482/600\n",
            "56/55 [==============================] - 52s 929ms/step - loss: 0.0414 - val_loss: 0.1062\n",
            "Epoch 483/600\n",
            "56/55 [==============================] - 52s 931ms/step - loss: 0.0420 - val_loss: 0.0723\n",
            "Epoch 484/600\n",
            "56/55 [==============================] - 52s 926ms/step - loss: 0.0417 - val_loss: 0.0601\n",
            "Epoch 485/600\n",
            "56/55 [==============================] - 52s 926ms/step - loss: 0.0419 - val_loss: 0.0627\n",
            "Epoch 486/600\n",
            "42/55 [=====================>........] - ETA: 11s - loss: 0.0432"
          ],
          "name": "stdout"
        },
        {
          "output_type": "stream",
          "text": [
            "56/55 [==============================] - 52s 921ms/step - loss: 0.0421 - val_loss: 0.0501\n",
            "Epoch 487/600\n",
            "56/55 [==============================] - 52s 926ms/step - loss: 0.0424 - val_loss: 0.0782\n",
            "Epoch 488/600\n",
            "56/55 [==============================] - 52s 927ms/step - loss: 0.0420 - val_loss: 0.0703\n",
            "Epoch 489/600\n",
            "56/55 [==============================] - 52s 930ms/step - loss: 0.0408 - val_loss: 0.0409\n",
            "Epoch 490/600\n",
            "56/55 [==============================] - 52s 925ms/step - loss: 0.0418 - val_loss: 0.0272\n",
            "Epoch 491/600\n",
            "42/55 [=====================>........] - ETA: 11s - loss: 0.0428"
          ],
          "name": "stdout"
        },
        {
          "output_type": "stream",
          "text": [
            "56/55 [==============================] - 52s 928ms/step - loss: 0.0418 - val_loss: 0.1035\n",
            "Epoch 492/600\n",
            "56/55 [==============================] - 52s 921ms/step - loss: 0.0411 - val_loss: 0.0180\n",
            "Epoch 493/600\n",
            "56/55 [==============================] - 52s 931ms/step - loss: 0.0416 - val_loss: 0.0862\n",
            "Epoch 494/600\n",
            "56/55 [==============================] - 52s 927ms/step - loss: 0.0411 - val_loss: 0.0481\n",
            "Epoch 495/600\n",
            "56/55 [==============================] - 52s 926ms/step - loss: 0.0418 - val_loss: 0.0321\n",
            "Epoch 496/600\n",
            "42/55 [=====================>........] - ETA: 11s - loss: 0.0414"
          ],
          "name": "stdout"
        },
        {
          "output_type": "stream",
          "text": [
            "56/55 [==============================] - 52s 924ms/step - loss: 0.0412 - val_loss: 0.0266\n",
            "Epoch 497/600\n",
            "56/55 [==============================] - 52s 932ms/step - loss: 0.0408 - val_loss: 0.0723\n",
            "Epoch 498/600\n",
            "56/55 [==============================] - 52s 925ms/step - loss: 0.0413 - val_loss: 0.0542\n",
            "Epoch 499/600\n",
            "56/55 [==============================] - 52s 929ms/step - loss: 0.0417 - val_loss: 0.0927\n",
            "Epoch 500/600\n",
            "56/55 [==============================] - 52s 929ms/step - loss: 0.0412 - val_loss: 0.0608\n",
            "Epoch 501/600\n",
            "42/55 [=====================>........] - ETA: 11s - loss: 0.0405"
          ],
          "name": "stdout"
        },
        {
          "output_type": "stream",
          "text": [
            "56/55 [==============================] - 52s 930ms/step - loss: 0.0415 - val_loss: 0.0618\n",
            "Epoch 502/600\n",
            "56/55 [==============================] - 52s 926ms/step - loss: 0.0410 - val_loss: 0.0230\n",
            "Epoch 503/600\n",
            "56/55 [==============================] - 52s 924ms/step - loss: 0.0403 - val_loss: 0.0685\n",
            "Epoch 504/600\n",
            "56/55 [==============================] - 52s 926ms/step - loss: 0.0412 - val_loss: 0.0711\n",
            "Epoch 505/600\n",
            "56/55 [==============================] - 52s 926ms/step - loss: 0.0410 - val_loss: 0.1126\n",
            "Epoch 506/600\n",
            "42/55 [=====================>........] - ETA: 11s - loss: 0.0396"
          ],
          "name": "stdout"
        },
        {
          "output_type": "stream",
          "text": [
            "56/55 [==============================] - 52s 925ms/step - loss: 0.0405 - val_loss: 0.0253\n",
            "Epoch 507/600\n",
            "56/55 [==============================] - 52s 924ms/step - loss: 0.0406 - val_loss: 0.0539\n",
            "Epoch 508/600\n",
            "56/55 [==============================] - 52s 924ms/step - loss: 0.0412 - val_loss: 0.0903\n",
            "Epoch 509/600\n",
            "56/55 [==============================] - 52s 922ms/step - loss: 0.0413 - val_loss: 0.0209\n",
            "Epoch 510/600\n",
            "56/55 [==============================] - 52s 928ms/step - loss: 0.0408 - val_loss: 0.0698\n",
            "Epoch 511/600\n",
            "42/55 [=====================>........] - ETA: 11s - loss: 0.0415"
          ],
          "name": "stdout"
        },
        {
          "output_type": "stream",
          "text": [
            "56/55 [==============================] - 52s 927ms/step - loss: 0.0414 - val_loss: 0.0789\n",
            "Epoch 512/600\n",
            "56/55 [==============================] - 52s 927ms/step - loss: 0.0398 - val_loss: 0.0205\n",
            "Epoch 513/600\n",
            "56/55 [==============================] - 52s 925ms/step - loss: 0.0409 - val_loss: 0.0332\n",
            "Epoch 514/600\n",
            "56/55 [==============================] - 52s 929ms/step - loss: 0.0406 - val_loss: 0.0900\n",
            "Epoch 515/600\n",
            "56/55 [==============================] - 52s 925ms/step - loss: 0.0401 - val_loss: 0.0355\n",
            "Epoch 516/600\n",
            "42/55 [=====================>........] - ETA: 11s - loss: 0.0419"
          ],
          "name": "stdout"
        },
        {
          "output_type": "stream",
          "text": [
            "56/55 [==============================] - 52s 929ms/step - loss: 0.0407 - val_loss: 0.0767\n",
            "Epoch 517/600\n",
            "56/55 [==============================] - 52s 926ms/step - loss: 0.0410 - val_loss: 0.0798\n",
            "Epoch 518/600\n",
            "56/55 [==============================] - 52s 928ms/step - loss: 0.0404 - val_loss: 0.0345\n",
            "Epoch 519/600\n",
            "56/55 [==============================] - 52s 924ms/step - loss: 0.0404 - val_loss: 0.0340\n",
            "Epoch 520/600\n",
            "56/55 [==============================] - 52s 927ms/step - loss: 0.0407 - val_loss: 0.0772\n",
            "Epoch 521/600\n",
            "42/55 [=====================>........] - ETA: 11s - loss: 0.0409"
          ],
          "name": "stdout"
        },
        {
          "output_type": "stream",
          "text": [
            "56/55 [==============================] - 52s 928ms/step - loss: 0.0403 - val_loss: 0.0411\n",
            "Epoch 522/600\n",
            "56/55 [==============================] - 52s 925ms/step - loss: 0.0408 - val_loss: 0.1141\n",
            "Epoch 523/600\n",
            "56/55 [==============================] - 52s 929ms/step - loss: 0.0405 - val_loss: 0.0567\n",
            "Epoch 524/600\n",
            "56/55 [==============================] - 52s 927ms/step - loss: 0.0413 - val_loss: 0.0586\n",
            "Epoch 525/600\n",
            "56/55 [==============================] - 52s 925ms/step - loss: 0.0413 - val_loss: 0.0655\n",
            "Epoch 526/600\n",
            "42/55 [=====================>........] - ETA: 11s - loss: 0.0411"
          ],
          "name": "stdout"
        },
        {
          "output_type": "stream",
          "text": [
            "56/55 [==============================] - 52s 920ms/step - loss: 0.0417 - val_loss: 0.0510\n",
            "Epoch 527/600\n",
            "56/55 [==============================] - 52s 926ms/step - loss: 0.0409 - val_loss: 0.0684\n",
            "Epoch 528/600\n",
            "56/55 [==============================] - 52s 926ms/step - loss: 0.0409 - val_loss: 0.0694\n",
            "Epoch 529/600\n",
            "56/55 [==============================] - 52s 927ms/step - loss: 0.0412 - val_loss: 0.0351\n",
            "Epoch 530/600\n",
            "56/55 [==============================] - 52s 924ms/step - loss: 0.0408 - val_loss: 0.0281\n",
            "Epoch 531/600\n",
            "42/55 [=====================>........] - ETA: 11s - loss: 0.0388"
          ],
          "name": "stdout"
        },
        {
          "output_type": "stream",
          "text": [
            "56/55 [==============================] - 52s 929ms/step - loss: 0.0400 - val_loss: 0.0671\n",
            "Epoch 532/600\n",
            "56/55 [==============================] - 52s 925ms/step - loss: 0.0400 - val_loss: 0.0541\n",
            "Epoch 533/600\n",
            "56/55 [==============================] - 52s 929ms/step - loss: 0.0403 - val_loss: 0.0595\n",
            "Epoch 534/600\n",
            "56/55 [==============================] - 52s 925ms/step - loss: 0.0402 - val_loss: 0.0704\n",
            "Epoch 535/600\n",
            "56/55 [==============================] - 52s 929ms/step - loss: 0.0396 - val_loss: 0.0260\n",
            "Epoch 536/600\n",
            "42/55 [=====================>........] - ETA: 11s - loss: 0.0395"
          ],
          "name": "stdout"
        },
        {
          "output_type": "stream",
          "text": [
            "56/55 [==============================] - 52s 924ms/step - loss: 0.0403 - val_loss: 0.0462\n",
            "Epoch 537/600\n",
            "56/55 [==============================] - 52s 927ms/step - loss: 0.0406 - val_loss: 0.0529\n",
            "Epoch 538/600\n",
            "56/55 [==============================] - 52s 924ms/step - loss: 0.0401 - val_loss: 0.0754\n",
            "Epoch 539/600\n",
            "56/55 [==============================] - 52s 930ms/step - loss: 0.0402 - val_loss: 0.1008\n",
            "Epoch 540/600\n",
            "56/55 [==============================] - 52s 929ms/step - loss: 0.0395 - val_loss: 0.0667\n",
            "Epoch 541/600\n",
            "42/55 [=====================>........] - ETA: 11s - loss: 0.0404"
          ],
          "name": "stdout"
        },
        {
          "output_type": "stream",
          "text": [
            "56/55 [==============================] - 52s 926ms/step - loss: 0.0400 - val_loss: 0.0585\n",
            "Epoch 542/600\n",
            "56/55 [==============================] - 52s 925ms/step - loss: 0.0400 - val_loss: 0.0641\n",
            "Epoch 543/600\n",
            "56/55 [==============================] - 52s 924ms/step - loss: 0.0400 - val_loss: 0.0600\n",
            "Epoch 544/600\n",
            "56/55 [==============================] - 52s 927ms/step - loss: 0.0399 - val_loss: 0.0844\n",
            "Epoch 545/600\n",
            "56/55 [==============================] - 52s 926ms/step - loss: 0.0409 - val_loss: 0.0636\n",
            "Epoch 546/600\n",
            "42/55 [=====================>........] - ETA: 11s - loss: 0.0403"
          ],
          "name": "stdout"
        },
        {
          "output_type": "stream",
          "text": [
            "56/55 [==============================] - 52s 923ms/step - loss: 0.0396 - val_loss: 0.0359\n",
            "Epoch 547/600\n",
            "56/55 [==============================] - 52s 923ms/step - loss: 0.0404 - val_loss: 0.0408\n",
            "Epoch 548/600\n",
            "56/55 [==============================] - 52s 927ms/step - loss: 0.0402 - val_loss: 0.0968\n",
            "Epoch 549/600\n",
            "56/55 [==============================] - 52s 921ms/step - loss: 0.0402 - val_loss: 0.0167\n",
            "Epoch 550/600\n",
            "56/55 [==============================] - 52s 926ms/step - loss: 0.0398 - val_loss: 0.1020\n",
            "Epoch 551/600\n",
            "42/55 [=====================>........] - ETA: 11s - loss: 0.0397"
          ],
          "name": "stdout"
        },
        {
          "output_type": "stream",
          "text": [
            "56/55 [==============================] - 52s 926ms/step - loss: 0.0388 - val_loss: 0.0748\n",
            "Epoch 552/600\n",
            "56/55 [==============================] - 52s 924ms/step - loss: 0.0384 - val_loss: 0.0520\n",
            "Epoch 553/600\n",
            "56/55 [==============================] - 52s 923ms/step - loss: 0.0403 - val_loss: 0.0439\n",
            "Epoch 554/600\n",
            "56/55 [==============================] - 52s 928ms/step - loss: 0.0401 - val_loss: 0.0835\n",
            "Epoch 555/600\n",
            "56/55 [==============================] - 52s 923ms/step - loss: 0.0395 - val_loss: 0.0531\n",
            "Epoch 556/600\n",
            "42/55 [=====================>........] - ETA: 11s - loss: 0.0408"
          ],
          "name": "stdout"
        },
        {
          "output_type": "stream",
          "text": [
            "56/55 [==============================] - 52s 928ms/step - loss: 0.0402 - val_loss: 0.1032\n",
            "Epoch 557/600\n",
            "56/55 [==============================] - 52s 927ms/step - loss: 0.0402 - val_loss: 0.0794\n",
            "Epoch 558/600\n",
            "56/55 [==============================] - 52s 927ms/step - loss: 0.0402 - val_loss: 0.0471\n",
            "Epoch 559/600\n",
            "56/55 [==============================] - 52s 922ms/step - loss: 0.0389 - val_loss: 0.0394\n",
            "Epoch 560/600\n",
            "56/55 [==============================] - 52s 925ms/step - loss: 0.0401 - val_loss: 0.0846\n",
            "Epoch 561/600\n",
            "42/55 [=====================>........] - ETA: 11s - loss: 0.0410"
          ],
          "name": "stdout"
        },
        {
          "output_type": "stream",
          "text": [
            "56/55 [==============================] - 52s 925ms/step - loss: 0.0409 - val_loss: 0.0387\n",
            "Epoch 562/600\n",
            "56/55 [==============================] - 52s 927ms/step - loss: 0.0400 - val_loss: 0.1251\n",
            "Epoch 563/600\n",
            "56/55 [==============================] - 52s 925ms/step - loss: 0.0402 - val_loss: 0.0405\n",
            "Epoch 564/600\n",
            "56/55 [==============================] - 52s 927ms/step - loss: 0.0406 - val_loss: 0.0461\n",
            "Epoch 565/600\n",
            "56/55 [==============================] - 52s 925ms/step - loss: 0.0405 - val_loss: 0.0741\n",
            "Epoch 566/600\n",
            "42/55 [=====================>........] - ETA: 11s - loss: 0.0376"
          ],
          "name": "stdout"
        },
        {
          "output_type": "stream",
          "text": [
            "56/55 [==============================] - 51s 920ms/step - loss: 0.0392 - val_loss: 0.0216\n",
            "Epoch 567/600\n",
            "56/55 [==============================] - 52s 926ms/step - loss: 0.0399 - val_loss: 0.0812\n",
            "Epoch 568/600\n",
            "56/55 [==============================] - 52s 928ms/step - loss: 0.0400 - val_loss: 0.0816\n",
            "Epoch 569/600\n",
            "56/55 [==============================] - 52s 924ms/step - loss: 0.0397 - val_loss: 0.0238\n",
            "Epoch 570/600\n",
            "56/55 [==============================] - 52s 926ms/step - loss: 0.0387 - val_loss: 0.0294\n",
            "Epoch 571/600\n",
            "42/55 [=====================>........] - ETA: 11s - loss: 0.0405"
          ],
          "name": "stdout"
        },
        {
          "output_type": "stream",
          "text": [
            "56/55 [==============================] - 52s 928ms/step - loss: 0.0407 - val_loss: 0.0625\n",
            "Epoch 572/600\n",
            "56/55 [==============================] - 52s 922ms/step - loss: 0.0392 - val_loss: 0.0305\n",
            "Epoch 573/600\n",
            "56/55 [==============================] - 52s 930ms/step - loss: 0.0395 - val_loss: 0.0432\n",
            "Epoch 574/600\n",
            "56/55 [==============================] - 52s 926ms/step - loss: 0.0397 - val_loss: 0.0728\n",
            "Epoch 575/600\n",
            "56/55 [==============================] - 52s 927ms/step - loss: 0.0398 - val_loss: 0.0316\n",
            "Epoch 576/600\n",
            "42/55 [=====================>........] - ETA: 11s - loss: 0.0396"
          ],
          "name": "stdout"
        },
        {
          "output_type": "stream",
          "text": [
            "56/55 [==============================] - 52s 923ms/step - loss: 0.0394 - val_loss: 0.0404\n",
            "Epoch 577/600\n",
            "56/55 [==============================] - 52s 926ms/step - loss: 0.0392 - val_loss: 0.0832\n",
            "Epoch 578/600\n",
            "56/55 [==============================] - 52s 925ms/step - loss: 0.0396 - val_loss: 0.0581\n",
            "Epoch 579/600\n",
            "56/55 [==============================] - 52s 928ms/step - loss: 0.0391 - val_loss: 0.1090\n",
            "Epoch 580/600\n",
            "56/55 [==============================] - 52s 931ms/step - loss: 0.0387 - val_loss: 0.0769\n",
            "Epoch 581/600\n",
            "42/55 [=====================>........] - ETA: 11s - loss: 0.0405"
          ],
          "name": "stdout"
        },
        {
          "output_type": "stream",
          "text": [
            "56/55 [==============================] - 52s 928ms/step - loss: 0.0393 - val_loss: 0.0578\n",
            "Epoch 582/600\n",
            "56/55 [==============================] - 52s 926ms/step - loss: 0.0394 - val_loss: 0.0820\n",
            "Epoch 583/600\n",
            "56/55 [==============================] - 52s 923ms/step - loss: 0.0395 - val_loss: 0.0589\n",
            "Epoch 584/600\n",
            "56/55 [==============================] - 52s 927ms/step - loss: 0.0392 - val_loss: 0.0732\n",
            "Epoch 585/600\n",
            "56/55 [==============================] - 52s 928ms/step - loss: 0.0387 - val_loss: 0.0779\n",
            "Epoch 586/600\n",
            "42/55 [=====================>........] - ETA: 11s - loss: 0.0399"
          ],
          "name": "stdout"
        },
        {
          "output_type": "stream",
          "text": [
            "56/55 [==============================] - 52s 926ms/step - loss: 0.0392 - val_loss: 0.0420\n",
            "Epoch 587/600\n",
            "56/55 [==============================] - 52s 923ms/step - loss: 0.0391 - val_loss: 0.0313\n",
            "Epoch 588/600\n",
            "56/55 [==============================] - 52s 931ms/step - loss: 0.0390 - val_loss: 0.1077\n",
            "Epoch 589/600\n",
            "56/55 [==============================] - 52s 922ms/step - loss: 0.0388 - val_loss: 0.0185\n",
            "Epoch 590/600\n",
            "56/55 [==============================] - 52s 930ms/step - loss: 0.0394 - val_loss: 0.0656\n",
            "Epoch 591/600\n",
            "42/55 [=====================>........] - ETA: 11s - loss: 0.0386"
          ],
          "name": "stdout"
        },
        {
          "output_type": "stream",
          "text": [
            "56/55 [==============================] - 52s 928ms/step - loss: 0.0394 - val_loss: 0.0491\n",
            "Epoch 592/600\n",
            "56/55 [==============================] - 52s 929ms/step - loss: 0.0383 - val_loss: 0.0384\n",
            "Epoch 593/600\n",
            "56/55 [==============================] - 52s 926ms/step - loss: 0.0397 - val_loss: 0.0387\n",
            "Epoch 594/600\n",
            "56/55 [==============================] - 52s 934ms/step - loss: 0.0389 - val_loss: 0.0710\n",
            "Epoch 595/600\n",
            "56/55 [==============================] - 52s 926ms/step - loss: 0.0388 - val_loss: 0.0536\n",
            "Epoch 596/600\n",
            "42/55 [=====================>........] - ETA: 11s - loss: 0.0384"
          ],
          "name": "stdout"
        },
        {
          "output_type": "stream",
          "text": [
            "56/55 [==============================] - 52s 930ms/step - loss: 0.0390 - val_loss: 0.1079\n",
            "Epoch 597/600\n",
            "56/55 [==============================] - 52s 927ms/step - loss: 0.0388 - val_loss: 0.0653\n",
            "Epoch 598/600\n",
            "56/55 [==============================] - 52s 928ms/step - loss: 0.0393 - val_loss: 0.0658\n",
            "Epoch 599/600\n",
            "56/55 [==============================] - 51s 918ms/step - loss: 0.0389 - val_loss: 0.0238\n",
            "Epoch 600/600\n",
            "56/55 [==============================] - 52s 922ms/step - loss: 0.0388 - val_loss: 0.0764\n"
          ],
          "name": "stdout"
        },
        {
          "output_type": "execute_result",
          "data": {
            "text/plain": [
              "<keras.callbacks.History at 0x7ff5292a47f0>"
            ]
          },
          "metadata": {
            "tags": []
          },
          "execution_count": 59
        }
      ]
    },
    {
      "metadata": {
        "id": "FLI-YIU1Dv1e",
        "colab_type": "code",
        "colab": {
          "base_uri": "https://localhost:8080/",
          "height": 51
        },
        "outputId": "1444d1df-929e-4aa2-8e49-798a6e1fd6d7"
      },
      "cell_type": "code",
      "source": [
        "import cv2\n",
        "import pandas as pd\n",
        "import numpy as np\n",
        "from tqdm import tqdm\n",
        "  \n",
        "def rleToMask(rleString,height,width):\n",
        "    rows,cols = height,width\n",
        "    rleNumbers = [int(numstring) for numstring in rleString.split(' ')]\n",
        "    rlePairs = np.array(rleNumbers).reshape(-1,2)\n",
        "    img = np.zeros(rows*cols,dtype=np.uint8)\n",
        "    for index,length in rlePairs:\n",
        "        index -= 1\n",
        "        img[index:index+length] = 255\n",
        "    img = img.reshape(cols,rows)\n",
        "    img = img.T\n",
        "    return img\n",
        "\n",
        "TEST_DIR = \"../DSB2018/stage1_test/\"\n",
        "\n",
        "test_ids = next(os.walk(TEST_DIR))[1]\n",
        "\n",
        "print(test_ids[:3])\n",
        "\n",
        "images_path = TEST_DIR + \"{}/images/{}.png\"\n",
        "\n",
        "test_df = pd.read_csv('stage1_solution.csv')\n",
        "\n",
        "test_list = []\n",
        "test_gt = []\n",
        "for i,id_ in tqdm(enumerate(test_ids), total=len(test_ids)):\n",
        "    \n",
        "    image_path = images_path.format(id_,id_)\n",
        "    image = cv2.imread(image_path)\n",
        "    \n",
        "    df_id = test_df.loc[test_df['ImageId'] == id_]#['EncodedPixels']\n",
        "    \n",
        "    masks = np.zeros(image.shape[:2]+(len(df_id),), dtype=np.uint8)\n",
        "    for j in range(len(df_id)):\n",
        "        rle = df_id.iloc[j]\n",
        "        masks[:,:,j] = rleToMask(rle['EncodedPixels'], rle['Height'], rle['Width'])\n",
        "    masks = masks.astype(np.bool)\n",
        "    \n",
        "    test_list.append(image)\n",
        "    test_gt.append(masks)\n",
        "\n",
        "    \n",
        "#for i,test_image in tqdm(enumerate(test_list), total=len(test_list)):\n",
        "#    if not (test_image[:,:,0]==test_image[:,:,1]).all(): #not gray img\n",
        "#            temp = 255 - (cv2.cvtColor(test_image, cv2.COLOR_BGR2GRAY)) #convert to gray 1 channel + invert\n",
        "#            test_list[i] = cv2.cvtColor(temp,cv2.COLOR_GRAY2BGR) #grayscale 3 channels"
      ],
      "execution_count": 9,
      "outputs": [
        {
          "output_type": "stream",
          "text": [
            "['1ef68e93964c2d9230100c1347c328f6385a7bc027879dc3d4c055e6fe80cb3c', '912a679e4b9b1d1a75170254fd675b8c24b664d80ad7ea7e460241a23535a406', 'df40099c6306ca1f47fcc8a62e2fa39486d4e223177afdc51b2ad189691802d8']\n"
          ],
          "name": "stdout"
        },
        {
          "output_type": "stream",
          "text": [
            "100%|██████████| 65/65 [01:45<00:00,  1.63s/it]\n"
          ],
          "name": "stderr"
        }
      ]
    },
    {
      "metadata": {
        "id": "GI45lUcaEQJ2",
        "colab_type": "code",
        "colab": {
          "base_uri": "https://localhost:8080/",
          "height": 208
        },
        "outputId": "88d48af5-650d-411e-f2d4-6f39f0003e7f"
      },
      "cell_type": "code",
      "source": [
        "shapes = [img.shape for img in test_list]\n",
        "a,b=np.unique(shapes, axis=0, return_counts=True)\n",
        "list(zip(a,b))"
      ],
      "execution_count": 0,
      "outputs": [
        {
          "output_type": "execute_result",
          "data": {
            "text/plain": [
              "[(array([256, 256,   3]), 24),\n",
              " (array([260, 347,   3]), 4),\n",
              " (array([390, 239,   3]), 1),\n",
              " (array([512, 640,   3]), 8),\n",
              " (array([512, 680,   3]), 8),\n",
              " (array([519, 161,   3]), 2),\n",
              " (array([519, 162,   3]), 2),\n",
              " (array([519, 253,   3]), 4),\n",
              " (array([520, 348,   3]), 4),\n",
              " (array([520, 696,   3]), 4),\n",
              " (array([524, 348,   3]), 4)]"
            ]
          },
          "metadata": {
            "tags": []
          },
          "execution_count": 7
        }
      ]
    },
    {
      "metadata": {
        "id": "dg_lDXKNET-m",
        "colab_type": "code",
        "colab": {}
      },
      "cell_type": "code",
      "source": [
        "from skimage.morphology import label\n",
        "from scipy.ndimage.morphology import binary_dilation\n",
        "\n",
        "def tta_predict(image, model, cutoff):\n",
        "    \n",
        "    tta_n=8\n",
        "    voting_threshold = 5\n",
        "    \n",
        "    batch_tta = []\n",
        " \n",
        "    #Do augmentations\n",
        "    batch_tta.append(image)\n",
        "    batch_tta.append(np.rot90(image, k=1))\n",
        "    batch_tta.append(np.rot90(image, k=2))\n",
        "    batch_tta.append(np.rot90(image, k=3))\n",
        "    batch_tta.append(np.fliplr(image))\n",
        "    batch_tta.append(np.flipud(image))\n",
        "    batch_tta.append(np.rot90(np.fliplr(image), k=1))\n",
        "    batch_tta.append(np.rot90(np.flipud(image), k=1))\n",
        "\n",
        "    #In case image is too big for memory\n",
        "    res_predict = []\n",
        "    for tta_img in batch_tta:\n",
        "        tta_weight = np.ones(tta_img.shape[:2]+(1,),dtype=np.float32)\n",
        "        res_predict.append(np.squeeze(model.predict([tta_img[np.newaxis], tta_weight[np.newaxis]], verbose=0))>cutoff)\n",
        "    #print(res_predict[0].shape, res_predict[0].dtype, res_predict[0].max(), res_predict[0].min())\n",
        "    res_predict = [res_pred.astype(np.bool) for res_pred in res_predict]\n",
        "    res_predict = [res_pred.astype(np.uint8) for res_pred in res_predict]\n",
        "    \n",
        "    #Undo augmentations\n",
        "    res_predict[0] = res_predict[0]\n",
        "    res_predict[1] = np.rot90(res_predict[1], k=-1)\n",
        "    res_predict[2] = np.rot90(res_predict[2], k=-2)\n",
        "    res_predict[3] = np.rot90(res_predict[3], k=-3)\n",
        "    res_predict[4] = np.fliplr(res_predict[4])\n",
        "    res_predict[5] = np.flipud(res_predict[5])\n",
        "    res_predict[6] = np.rot90(np.fliplr(res_predict[6]), k=1)\n",
        "    res_predict[7] = np.rot90(np.flipud(res_predict[7]), k=1)\n",
        "    \n",
        "    res_predict = np.array(res_predict, dtype=np.uint8)\n",
        "    #Voting\n",
        "    tta_sum = np.sum(res_predict,axis=0)\n",
        "    tta_sum = tta_sum>voting_threshold\n",
        "    \n",
        "    return tta_sum\n",
        "\n",
        "def get_predictions(test_list, model, cutoff=0.5, tta=True, pad=16, dilation=True):\n",
        "    \n",
        "    test_predictions = []\n",
        "    for i,image_test in tqdm(enumerate(test_list), total=len(test_list)):\n",
        "        image = image_test\n",
        "        \n",
        "        #Padding64 to avoid max pool errors in unet\n",
        "        if pad:\n",
        "            image, window = pad2n(image, pad)\n",
        "        \n",
        "        if tta:\n",
        "            raw_pred = tta_predict(image, model, cutoff)\n",
        "        else:\n",
        "            weight = np.ones(image.shape[:2]+(1,),dtype=np.float32)\n",
        "            \n",
        "            image  = image[np.newaxis]\n",
        "            weight = weight[np.newaxis]\n",
        "\n",
        "            #Predict\n",
        "            raw_pred = model.predict([image, weight], verbose=0)\n",
        "\n",
        "            #Squeeze before remove padding \n",
        "            raw_pred = np.squeeze(raw_pred)\n",
        "        \n",
        "        raw_pred = raw_pred[window]\n",
        "        \n",
        "        \n",
        "        #Label and thresholding\n",
        "        pred = label(raw_pred > cutoff)\n",
        "        \n",
        "        #Mask conversion\n",
        "        masks = label_to_masks(pred)\n",
        "        \n",
        "        #Mask dilation as post processing\n",
        "        if dilation:\n",
        "            for j in range(masks.shape[-1]):\n",
        "                masks[:,:,j] = binary_dilation(masks[:,:,j].astype(np.uint8), iterations=2)\n",
        "        masks = masks.astype(np.bool)\n",
        "\n",
        "        test_predictions.append(masks)\n",
        "        \n",
        "    return test_predictions\n",
        "\n",
        "def find_last(NAME, model_dir):\n",
        "    \"\"\"Finds the last checkpoint file of the last trained model in the\n",
        "    model directory.\n",
        "    Returns:\n",
        "        log_dir: The directory where events and weights are saved\n",
        "        checkpoint_path: the path to the last checkpoint file\n",
        "    \"\"\"\n",
        "    # Get directory names. Each directory corresponds to a model\n",
        "    dir_names = next(os.walk(model_dir))[1]\n",
        "    key = NAME.lower()\n",
        "    dir_names = filter(lambda f: f.startswith(key), dir_names)\n",
        "    dir_names = sorted(dir_names)\n",
        "    if not dir_names:\n",
        "        return None, None\n",
        "    # Pick last directory\n",
        "    dir_name = os.path.join(model_dir, dir_names[-1])\n",
        "    # Find the last checkpoint\n",
        "    checkpoints = next(os.walk(dir_name))[2]\n",
        "    checkpoints = filter(lambda f: f.startswith(\"U_net\"), checkpoints)\n",
        "    checkpoints = sorted(checkpoints)\n",
        "    if not checkpoints:\n",
        "        return dir_name, None\n",
        "    checkpoint = os.path.join(dir_name, checkpoints[-1])\n",
        "    return dir_name, checkpoint"
      ],
      "execution_count": 0,
      "outputs": []
    },
    {
      "metadata": {
        "id": "UWz-A2LzOblO",
        "colab_type": "code",
        "colab": {
          "base_uri": "https://localhost:8080/",
          "height": 34
        },
        "outputId": "f0a952ec-75eb-4467-ed31-19cacb1ca86f"
      },
      "cell_type": "code",
      "source": [
        "#Model\n",
        "model = Unet(None)\n",
        "\n",
        "Unet_path = find_last(NAME, MODEL_DIR)[1]\n",
        "print(Unet_path)\n",
        "\n",
        "model.load_weights(Unet_path)\n",
        "#model.load_weights('/content/drive/kaggle/Unet_dsb2018/logs/bowl20180430T2133/U_net_0104.h5')\n"
      ],
      "execution_count": 27,
      "outputs": [
        {
          "output_type": "stream",
          "text": [
            "/content/drive/kaggle/Unet_dsb2018/logs/bowl20180430T2133/U_net_0476.h5\n"
          ],
          "name": "stdout"
        }
      ]
    },
    {
      "metadata": {
        "id": "kj9HYNGiEYTA",
        "colab_type": "code",
        "colab": {
          "base_uri": "https://localhost:8080/",
          "height": 34
        },
        "outputId": "67da2e27-18ac-4987-f567-ac7f3c2e73f6"
      },
      "cell_type": "code",
      "source": [
        "#Evaluation\n",
        "test_predictions = get_predictions(test_list, model,tta=True, pad=64)"
      ],
      "execution_count": 28,
      "outputs": [
        {
          "output_type": "stream",
          "text": [
            "100%|██████████| 65/65 [01:12<00:00,  1.11s/it]\n"
          ],
          "name": "stderr"
        }
      ]
    },
    {
      "metadata": {
        "id": "4AgwnzfFSsEH",
        "colab_type": "code",
        "colab": {
          "base_uri": "https://localhost:8080/",
          "height": 396
        },
        "outputId": "9c5523ff-e5d5-4a0c-dcda-2133549e29fb"
      },
      "cell_type": "code",
      "source": [
        "import matplotlib.pyplot as plt\n",
        "import random\n",
        "\n",
        "def random_color_img(label):\n",
        "    image = np.zeros(label.shape + (3,), dtype=np.uint8)\n",
        "    for i in range(1,label.max()):\n",
        "        r = random.randint(0, 255)\n",
        "        g = random.randint(0, 255)\n",
        "        b = random.randint(0, 255)\n",
        "        color = np.array([r,g,b])\n",
        "        image[label==i] = color\n",
        "    \n",
        "    return image\n",
        "        \n",
        "    \n",
        "\n",
        "ix_ = np.random.randint(0, len(test_list))\n",
        "\n",
        "fig = plt.figure(figsize=(21,21))\n",
        "plt.subplot(1, 3, 1)\n",
        "plt.imshow(test_list[ix_])\n",
        "plt.subplot(1, 3, 2)\n",
        "plt.imshow(random_color_img(masks_to_label(test_predictions[ix_])))\n",
        "\n",
        "plt.show()"
      ],
      "execution_count": 43,
      "outputs": [
        {
          "output_type": "display_data",
          "data": {
            "image/png": "[encoded data removed]",
            "text/plain": [
              "<matplotlib.figure.Figure at 0x7f493da5a160>"
            ]
          },
          "metadata": {
            "tags": []
          }
        }
      ]
    },
    {
      "metadata": {
        "id": "2iz_1tUsc81e",
        "colab_type": "code",
        "colab": {}
      },
      "cell_type": "code",
      "source": [
        "#Rewriting the mIOU function to account for correct number of ground truth mask\n",
        "def iou_metric(y_true_in, y_pred_in, print_table=False):\n",
        "    labels = masks_to_label(y_true_in)\n",
        "    y_pred = masks_to_label(y_pred_in)\n",
        "    \n",
        "    true_objects = len(np.unique(labels))\n",
        "    pred_objects = len(np.unique(y_pred))\n",
        "\n",
        "    intersection = np.histogram2d(labels.flatten(), y_pred.flatten(), bins=(true_objects, pred_objects))[0]\n",
        "\n",
        "    # Compute areas (needed for finding the union between all objects)\n",
        "    area_true = np.histogram(labels, bins = true_objects)[0]\n",
        "    area_pred = np.histogram(y_pred, bins = pred_objects)[0]\n",
        "    area_true = np.expand_dims(area_true, -1)\n",
        "    area_pred = np.expand_dims(area_pred, 0)\n",
        "\n",
        "    # Compute union\n",
        "    union = area_true + area_pred - intersection\n",
        "\n",
        "    # Exclude background from the analysis\n",
        "    intersection = intersection[1:,1:]\n",
        "    union = union[1:,1:]\n",
        "    union[union == 0] = 1e-9\n",
        "\n",
        "    # Compute the intersection over union\n",
        "    iou = intersection / union\n",
        "\n",
        "    # Precision helper function\n",
        "    def precision_at(threshold, iou):\n",
        "        matches = iou > threshold\n",
        "        true_positives = np.sum(matches, axis=1) == 1   # Correct objects\n",
        "        false_positives = np.sum(matches, axis=0) == 0  # Missed objects\n",
        "        false_negatives = np.sum(matches, axis=1) == 0  # Extra objects\n",
        "        tp, fp, fn = np.sum(true_positives), np.sum(false_positives), np.sum(false_negatives)\n",
        "        return tp, fp, fn\n",
        "\n",
        "    # Loop over IoU thresholds\n",
        "    prec = []\n",
        "    if print_table:\n",
        "        print(\"Thresh\\tTP\\tFP\\tFN\\tPrec.\")\n",
        "    for t in np.arange(0.5, 1.0, 0.05):\n",
        "        tp, fp, fn = precision_at(t, iou)\n",
        "        if (tp + fp + fn) > 0:\n",
        "            p = tp / (tp + fp + fn)\n",
        "        else:\n",
        "            p = 0\n",
        "        if print_table:\n",
        "            print(\"{:1.3f}\\t{}\\t{}\\t{}\\t{:1.3f}\".format(t, tp, fp, fn, p))\n",
        "        prec.append(p)\n",
        "    \n",
        "    if print_table:\n",
        "        print(\"AP\\t-\\t-\\t-\\t{:1.3f}\".format(np.mean(prec)))\n",
        "    return np.mean(prec)\n",
        "\n",
        "def iou_metric_batch(y_true_in, y_pred_in):\n",
        "    batch_size = len(y_true_in)\n",
        "    metric = []\n",
        "    for batch in range(batch_size):\n",
        "        value = iou_metric(y_true_in[batch], y_pred_in[batch])\n",
        "        metric.append(value)\n",
        "#     return np.array(np.mean(metric), dtype=np.float32)\n",
        "    return metric\n"
      ],
      "execution_count": 0,
      "outputs": []
    },
    {
      "metadata": {
        "id": "dAxNHpqmdAfk",
        "colab_type": "code",
        "colab": {
          "base_uri": "https://localhost:8080/",
          "height": 34
        },
        "outputId": "e20c3ed7-0c6d-4e73-93ff-84bb9a89f785"
      },
      "cell_type": "code",
      "source": [
        "mIOU = np.array(iou_metric_batch(test_gt, test_predictions))\n",
        "print('The mean IOU is {}'.format(np.mean(mIOU)))"
      ],
      "execution_count": 31,
      "outputs": [
        {
          "output_type": "stream",
          "text": [
            "The mean IOU is 0.4328420561208963\n"
          ],
          "name": "stdout"
        }
      ]
    },
    {
      "metadata": {
        "id": "_8LSmqqPhNS6",
        "colab_type": "code",
        "colab": {
          "base_uri": "https://localhost:8080/",
          "height": 283
        },
        "outputId": "55e9255c-8fa5-41d0-a6d5-339c1e6efe9c"
      },
      "cell_type": "code",
      "source": [
        "import matplotlib.pyplot as plt\n",
        "image = test_list[10]\n",
        "\n",
        "res_tta = tta_predict(image, model,0.5)\n",
        "print(res_tta.shape, res_tta.dtype, res_tta.max(), res_tta.min())\n",
        "simage = image[np.newaxis]\n",
        "#Predict\n",
        "raw_pred = model.predict(simage, verbose=0) \n",
        "raw_pred = np.squeeze(raw_pred)\n",
        "\n",
        "fig = plt.figure(figsize=(12,12))\n",
        "plt.subplot(131)\n",
        "plt.imshow(image)\n",
        "plt.subplot(132)\n",
        "plt.imshow(res_tta)\n",
        "plt.subplot(133)\n",
        "plt.imshow(raw_pred)\n",
        "plt.show()"
      ],
      "execution_count": 0,
      "outputs": [
        {
          "output_type": "stream",
          "text": [
            "(256, 256) bool True False\n",
            "(256, 256) bool True False\n"
          ],
          "name": "stdout"
        },
        {
          "output_type": "display_data",
          "data": {
            "image/png": "[encoded data removed]",
            "text/plain": [
              "<matplotlib.figure.Figure at 0x7f9c8eb7d7f0>"
            ]
          },
          "metadata": {
            "tags": []
          }
        }
      ]
    }
  ]
}