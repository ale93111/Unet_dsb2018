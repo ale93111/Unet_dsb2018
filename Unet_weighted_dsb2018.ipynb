{
  "nbformat": 4,
  "nbformat_minor": 0,
  "metadata": {
    "colab": {
      "name": "Unet_weighted_dsb2018.ipynb",
      "version": "0.3.2",
      "provenance": [],
      "collapsed_sections": []
    },
    "kernelspec": {
      "name": "python3",
      "display_name": "Python 3"
    },
    "accelerator": "GPU"
  },
  "cells": [
    {
      "cell_type": "markdown",
      "metadata": {
        "id": "view-in-github",
        "colab_type": "text"
      },
      "source": [
        "[View in Colaboratory](https://colab.research.google.com/github/ale93111/Unet_dsb2018/blob/master/Unet_weighted_dsb2018.ipynb)"
      ]
    },
    {
      "metadata": {
        "id": "4jyO_Z7kSmG4",
        "colab_type": "code",
        "colab": {
          "base_uri": "https://localhost:8080/",
          "height": 105
        },
        "outputId": "a00a529b-a224-4f96-eceb-c0b21be1990b"
      },
      "cell_type": "code",
      "source": [
        "!apt-get install -y -qq software-properties-common python-software-properties module-init-tools\n",
        "!add-apt-repository -y ppa:alessandro-strada/ppa 2>&1 > /dev/null\n",
        "!apt-get update -qq 2>&1 > /dev/null\n",
        "!apt-get -y install -qq google-drive-ocamlfuse fuse\n",
        "from google.colab import auth\n",
        "auth.authenticate_user()\n",
        "from oauth2client.client import GoogleCredentials\n",
        "creds = GoogleCredentials.get_application_default()\n",
        "import getpass\n",
        "!google-drive-ocamlfuse -headless -id={creds.client_id} -secret={creds.client_secret} < /dev/null 2>&1 | grep URL\n",
        "vcode = getpass.getpass()\n",
        "!echo {vcode} | google-drive-ocamlfuse -headless -id={creds.client_id} -secret={creds.client_secret}"
      ],
      "execution_count": 1,
      "outputs": [
        {
          "output_type": "stream",
          "text": [
            "Please, open the following URL in a web browser: https://accounts.google.com/o/oauth2/auth?client_id=32555940559.apps.googleusercontent.com&redirect_uri=urn%3Aietf%3Awg%3Aoauth%3A2.0%3Aoob&scope=https%3A%2F%2Fwww.googleapis.com%2Fauth%2Fdrive&response_type=code&access_type=offline&approval_prompt=force\r\n",
            "··········\n",
            "Please, open the following URL in a web browser: https://accounts.google.com/o/oauth2/auth?client_id=32555940559.apps.googleusercontent.com&redirect_uri=urn%3Aietf%3Awg%3Aoauth%3A2.0%3Aoob&scope=https%3A%2F%2Fwww.googleapis.com%2Fauth%2Fdrive&response_type=code&access_type=offline&approval_prompt=force\n",
            "Please enter the verification code: Access token retrieved correctly.\n"
          ],
          "name": "stdout"
        }
      ]
    },
    {
      "metadata": {
        "id": "b1hZOYGKSoqW",
        "colab_type": "code",
        "colab": {
          "base_uri": "https://localhost:8080/",
          "height": 34
        },
        "outputId": "5dfc70af-982a-4c4b-ad26-7a2a3e53d8b0"
      },
      "cell_type": "code",
      "source": [
        "!apt-get -qq install -y libsm6 libxext6 && pip install -q -U opencv-python\n",
        "!pwd"
      ],
      "execution_count": 2,
      "outputs": [
        {
          "output_type": "stream",
          "text": [
            "/content\r\n"
          ],
          "name": "stdout"
        }
      ]
    },
    {
      "metadata": {
        "id": "eKr1IR2kSqGi",
        "colab_type": "code",
        "colab": {}
      },
      "cell_type": "code",
      "source": [
        "#!fusermount -u drive\n",
        "!mkdir -p drive\n",
        "!google-drive-ocamlfuse drive\n",
        "import os\n",
        "os.chdir(\"drive/kaggle/Unet_dsb2018\")"
      ],
      "execution_count": 0,
      "outputs": []
    },
    {
      "metadata": {
        "id": "HvHexk_dSrwC",
        "colab_type": "code",
        "colab": {
          "base_uri": "https://localhost:8080/",
          "height": 595
        },
        "outputId": "1a65913e-a502-43dc-82fb-366beb94d7a4"
      },
      "cell_type": "code",
      "source": [
        "#!pip install --upgrade pip\n",
        "!pip install tqdm\n",
        "!pip install keras\n",
        "!pip install imgaug"
      ],
      "execution_count": 4,
      "outputs": [
        {
          "output_type": "stream",
          "text": [
            "Collecting tqdm\n",
            "\u001b[?25l  Downloading https://files.pythonhosted.org/packages/c2/d4/bf1d99216672eef50392c009a8d0f282c4b643e4f764c962ff7b611ebce4/tqdm-4.23.1-py2.py3-none-any.whl (42kB)\n",
            "\u001b[K    100% |████████████████████████████████| 51kB 2.0MB/s \n",
            "\u001b[?25hInstalling collected packages: tqdm\n",
            "Successfully installed tqdm-4.23.1\n",
            "Requirement already satisfied: keras in /usr/local/lib/python3.6/dist-packages (2.1.6)\n",
            "Requirement already satisfied: scipy>=0.14 in /usr/local/lib/python3.6/dist-packages (from keras) (0.19.1)\n",
            "Requirement already satisfied: pyyaml in /usr/local/lib/python3.6/dist-packages (from keras) (3.12)\n",
            "Requirement already satisfied: six>=1.9.0 in /usr/local/lib/python3.6/dist-packages (from keras) (1.11.0)\n",
            "Requirement already satisfied: numpy>=1.9.1 in /usr/local/lib/python3.6/dist-packages (from keras) (1.14.3)\n",
            "Requirement already satisfied: h5py in /usr/local/lib/python3.6/dist-packages (from keras) (2.7.1)\n",
            "Collecting imgaug\n",
            "\u001b[?25l  Downloading https://files.pythonhosted.org/packages/d2/60/a06a48d85a7e9062f5870347a3e3e953da30b37928d43b380c949bca458a/imgaug-0.2.5.tar.gz (562kB)\n",
            "\u001b[K    100% |████████████████████████████████| 563kB 5.0MB/s \n",
            "\u001b[?25hRequirement already satisfied: scipy in /usr/local/lib/python3.6/dist-packages (from imgaug) (0.19.1)\n",
            "Requirement already satisfied: scikit-image>=0.11.0 in /usr/local/lib/python3.6/dist-packages (from imgaug) (0.13.1)\n",
            "Requirement already satisfied: numpy>=1.7.0 in /usr/local/lib/python3.6/dist-packages (from imgaug) (1.14.3)\n",
            "Requirement already satisfied: six in /usr/local/lib/python3.6/dist-packages (from imgaug) (1.11.0)\n",
            "Requirement already satisfied: PyWavelets>=0.4.0 in /usr/local/lib/python3.6/dist-packages (from scikit-image>=0.11.0->imgaug) (0.5.2)\n",
            "Requirement already satisfied: matplotlib>=1.3.1 in /usr/local/lib/python3.6/dist-packages (from scikit-image>=0.11.0->imgaug) (2.1.2)\n",
            "Requirement already satisfied: networkx>=1.8 in /usr/local/lib/python3.6/dist-packages (from scikit-image>=0.11.0->imgaug) (2.1)\n",
            "Requirement already satisfied: pillow>=2.1.0 in /usr/local/lib/python3.6/dist-packages (from scikit-image>=0.11.0->imgaug) (4.0.0)\n",
            "Requirement already satisfied: cycler>=0.10 in /usr/local/lib/python3.6/dist-packages (from matplotlib>=1.3.1->scikit-image>=0.11.0->imgaug) (0.10.0)\n",
            "Requirement already satisfied: pyparsing!=2.0.4,!=2.1.2,!=2.1.6,>=2.0.1 in /usr/local/lib/python3.6/dist-packages (from matplotlib>=1.3.1->scikit-image>=0.11.0->imgaug) (2.2.0)\n",
            "Requirement already satisfied: pytz in /usr/local/lib/python3.6/dist-packages (from matplotlib>=1.3.1->scikit-image>=0.11.0->imgaug) (2018.4)\n",
            "Requirement already satisfied: python-dateutil>=2.1 in /usr/local/lib/python3.6/dist-packages (from matplotlib>=1.3.1->scikit-image>=0.11.0->imgaug) (2.5.3)\n",
            "Requirement already satisfied: decorator>=4.1.0 in /usr/local/lib/python3.6/dist-packages (from networkx>=1.8->scikit-image>=0.11.0->imgaug) (4.3.0)\n",
            "Requirement already satisfied: olefile in /usr/local/lib/python3.6/dist-packages (from pillow>=2.1.0->scikit-image>=0.11.0->imgaug) (0.45.1)\n",
            "Building wheels for collected packages: imgaug\n",
            "  Running setup.py bdist_wheel for imgaug ... \u001b[?25l-\b \b\\\b \bdone\n",
            "\u001b[?25h  Stored in directory: /content/.cache/pip/wheels/31/48/c8/ca3345e8582a078de94243996e148377ef66fdb845557bae0b\n",
            "Successfully built imgaug\n",
            "Installing collected packages: imgaug\n",
            "Successfully installed imgaug-0.2.5\n"
          ],
          "name": "stdout"
        }
      ]
    },
    {
      "metadata": {
        "id": "iNa6A6mFUMHW",
        "colab_type": "code",
        "colab": {
          "base_uri": "https://localhost:8080/",
          "height": 34
        },
        "outputId": "9beb7ed1-aada-40da-a90f-0ae88ca27374"
      },
      "cell_type": "code",
      "source": [
        "import os\n",
        "\n",
        "NAME = 'bowl'\n",
        "\n",
        "# Root directory of the project\n",
        "ROOT_DIR = os.getcwd()\n",
        "\n",
        "print(ROOT_DIR)\n",
        "\n",
        "# Directory to save logs and trained model\n",
        "MODEL_DIR = os.path.join(ROOT_DIR, \"logs\")\n",
        "\n",
        "#Dataset directory\n",
        "dataset_path = os.path.join(ROOT_DIR, \"RCNN_dataset_512_labels\")"
      ],
      "execution_count": 5,
      "outputs": [
        {
          "output_type": "stream",
          "text": [
            "/content/drive/kaggle/Unet_dsb2018\n"
          ],
          "name": "stdout"
        }
      ]
    },
    {
      "metadata": {
        "id": "87Jaf4Ues-IO",
        "colab_type": "code",
        "colab": {}
      },
      "cell_type": "code",
      "source": [
        "import numpy as np\n",
        "from functools import partial, update_wrapper\n",
        "\n",
        "#partial name fix\n",
        "def wrapped_partial(func, *args, **kwargs):\n",
        "    partial_func = partial(func, *args, **kwargs)\n",
        "    update_wrapper(partial_func, func)\n",
        "    return partial_func\n",
        "\n",
        "def pad2n(image,npad=32):\n",
        "    h, w = image.shape[:2]\n",
        "    if h % npad > 0:\n",
        "        max_h = h - (h % npad) + npad\n",
        "        top_pad = (max_h - h) // 2\n",
        "        bottom_pad = max_h - h - top_pad\n",
        "    else:\n",
        "        top_pad = bottom_pad = 0\n",
        "    # Width\n",
        "    if w % npad > 0:\n",
        "        max_w = w - (w % npad) + npad\n",
        "        left_pad = (max_w - w) // 2\n",
        "        right_pad = max_w - w - left_pad\n",
        "    else:\n",
        "        left_pad = right_pad = 0\n",
        "\n",
        "    padding = [(top_pad, bottom_pad), (left_pad, right_pad), (0, 0)]\n",
        "    image = np.pad(image, padding, mode='reflect')\n",
        "    window = (slice(top_pad, h + top_pad),slice(left_pad, w + left_pad))\n",
        "    \n",
        "    return image, window\n",
        "  \n",
        "def label_to_masks(labels):\n",
        "    h, w = labels.shape\n",
        "    n_msk = labels.max()\n",
        "    masks = np.empty((h,w,n_msk),dtype=np.bool)\n",
        "    for i in range(n_msk):\n",
        "        masks[:,:,i] = labels==i+1\n",
        "    return masks\n",
        "  \n",
        "def masks_to_label(msk):\n",
        "    h, w, _ = msk.shape\n",
        "    labels = np.zeros((h, w), dtype=np.uint16)\n",
        "    for index in range(0, msk.shape[-1]):\n",
        "        labels[msk[:,:,index] > 0] = index + 1\n",
        "    return labels"
      ],
      "execution_count": 0,
      "outputs": []
    },
    {
      "metadata": {
        "id": "PNlLqzO0RDwy",
        "colab_type": "code",
        "colab": {
          "base_uri": "https://localhost:8080/",
          "height": 34
        },
        "outputId": "fbf9ce13-a961-4974-fe73-262cca22a552"
      },
      "cell_type": "code",
      "source": [
        "import tensorflow as tf\n",
        "import keras\n",
        "import keras.backend as K\n",
        "import keras.layers as KL\n",
        "import keras.models as KM\n",
        "import keras.utils as KU\n",
        "import keras.losses as KLO\n",
        "from keras.optimizers import Adam, SGD\n",
        "\n",
        "# Define IoU metric\n",
        "def mean_iou(y_true, y_pred):\n",
        "    prec = []\n",
        "    for t in np.arange(0.5, 1.0, 0.05):\n",
        "        y_pred_ = tf.to_int32(y_pred > t)\n",
        "        score, up_opt = tf.metrics.mean_iou(y_true, y_pred_, 2, y_true)\n",
        "        K.get_session().run(tf.local_variables_initializer())\n",
        "        with tf.control_dependencies([up_opt]):\n",
        "            score = tf.identity(score)\n",
        "        prec.append(score)\n",
        "    return K.mean(K.stack(prec), axis=0) #AGGIUNTO AXIS=0\n",
        "\n",
        "def dice_coef(y_true, y_pred):\n",
        "    smooth = 1.\n",
        "    y_true_f = K.flatten(y_true)\n",
        "    y_pred_f = K.flatten(y_pred)\n",
        "    intersection = K.sum(y_true_f * y_pred_f)\n",
        "    return (2. * intersection + smooth) / (K.sum(y_true_f) + K.sum(y_pred_f) + smooth)\n",
        "\n",
        "def bce_dice_loss(y_true, y_pred):\n",
        "    return 0.5 * KLO.binary_crossentropy(y_true, y_pred) - dice_coef(y_true, y_pred)\n",
        "\n",
        "def weighted_loss(y_true,y_pred, weights):\n",
        "    _epsilon = 10e-8\n",
        "    y_pred = tf.clip_by_value(y_pred, _epsilon, 1. - _epsilon)\n",
        "    \n",
        "    #loss_map = K.binary_crossentropy(y_true, y_pred, from_logits=False) #change if softmax is present or not in the net\n",
        "    #weighted_loss = loss_map*weights#[:,:,:,np.newaxis]\n",
        "    #loss=K.mean(weighted_loss)\n",
        "\n",
        "    return - tf.reduce_sum(y_true * weights *  tf.log(y_pred) +\n",
        "                          (1 - y_true)  *  tf.log(1 - y_pred),\n",
        "                          len(y_pred.get_shape()) - 1)\n",
        "\n",
        "def Unet(img_size, GPU_COUNT=1):\n",
        "    inputs = KL.Input((None, None, 3))\n",
        "    weights_tensor = KL.Input((None, None,1))\n",
        "    s = KL.Lambda(lambda x: x / 255.0)(inputs)\n",
        "\n",
        "    #TODO: make more general\n",
        "    c1 = KL.Conv2D(32, (3, 3), kernel_initializer='he_normal', padding='same')(s)\n",
        "    n1 = KL.BatchNormalization(axis=3)(c1)\n",
        "    a1 = KL.Activation(\"elu\")(n1)\n",
        "    c1 = KL.Dropout(0.2)(a1)\n",
        "    c1 = KL.Conv2D(32, (3, 3), kernel_initializer='he_normal', padding='same')(c1)\n",
        "    n1 = KL.BatchNormalization(axis=3)(c1)\n",
        "    a1 = KL.Activation(\"elu\")(n1)\n",
        "    p1 = KL.MaxPooling2D((2, 2))(a1)\n",
        "\n",
        "    c2 = KL.Conv2D(64, (3, 3), kernel_initializer='he_normal', padding='same')(p1)\n",
        "    n2 = KL.BatchNormalization(axis=3)(c2)\n",
        "    a2 = KL.Activation(\"elu\")(n2)\n",
        "    c2 = KL.Dropout(0.2)(a2)\n",
        "    c2 = KL.Conv2D(64, (3, 3), kernel_initializer='he_normal', padding='same')(c2)\n",
        "    n2 = KL.BatchNormalization(axis=3)(c2)\n",
        "    a2 = KL.Activation(\"elu\")(n2)\n",
        "    p2 = KL.MaxPooling2D((2, 2))(a2)\n",
        "\n",
        "    c3 = KL.Conv2D(128, (3, 3), kernel_initializer='he_normal', padding='same')(p2)\n",
        "    n3 = KL.BatchNormalization(axis=3)(c3)\n",
        "    a3 = KL.Activation(\"elu\")(n3)\n",
        "    c3 = KL.Dropout(0.3)(a3)\n",
        "    c3 = KL.Conv2D(128, (3, 3), kernel_initializer='he_normal', padding='same')(c3)\n",
        "    n3 = KL.BatchNormalization(axis=3)(c3)\n",
        "    a3 = KL.Activation(\"elu\")(n3)\n",
        "    p3 = KL.MaxPooling2D((2, 2))(a3)\n",
        "\n",
        "    c4 = KL.Conv2D(256, (3, 3), kernel_initializer='he_normal', padding='same')(p3)\n",
        "    n4 = KL.BatchNormalization(axis=3)(c4)\n",
        "    a4 = KL.Activation(\"elu\")(n4)\n",
        "    c4 = KL.Dropout(0.4)(a4)\n",
        "    c4 = KL.Conv2D(256, (3, 3), kernel_initializer='he_normal', padding='same')(c4)\n",
        "    n4 = KL.BatchNormalization(axis=3)(c4)\n",
        "    a4 = KL.Activation(\"elu\")(n4)\n",
        "    p4 = KL.MaxPooling2D(pool_size=(2, 2))(a4)\n",
        "\n",
        "    c5 = KL.Conv2D(512, (3, 3), kernel_initializer='he_normal', padding='same')(p4)\n",
        "    n5 = KL.BatchNormalization(axis=3)(c5)\n",
        "    a5 = KL.Activation(\"elu\")(n5)\n",
        "    c5 = KL.Dropout(0.4)(a5)\n",
        "    c5 = KL.Conv2D(512, (3, 3), kernel_initializer='he_normal', padding='same')(c5)\n",
        "    n5 = KL.BatchNormalization(axis=3)(c5)\n",
        "    a5 = KL.Activation(\"elu\")(n5)\n",
        "\n",
        "    u6 = KL.Conv2DTranspose(256, (2, 2), strides=(2, 2), padding='same')(a5)\n",
        "    u6 = KL.concatenate([u6, a4])\n",
        "    c6 = KL.Conv2D(256, (3, 3), kernel_initializer='he_normal', padding='same')(u6)\n",
        "    n6 = KL.BatchNormalization(axis=3)(c6)\n",
        "    a6 = KL.Activation(\"elu\")(n6)\n",
        "    c6 = KL.Dropout(0.4)(a6)\n",
        "    c6 = KL.Conv2D(256, (3, 3), kernel_initializer='he_normal', padding='same')(c6)\n",
        "    n6 = KL.BatchNormalization(axis=3)(c6)\n",
        "    a6 = KL.Activation(\"elu\")(n6)\n",
        "\n",
        "    u7 = KL.Conv2DTranspose(128, (2, 2), strides=(2, 2), padding='same')(a6)\n",
        "    u7 = KL.concatenate([u7, a3])\n",
        "    c7 = KL.Conv2D(128, (3, 3), kernel_initializer='he_normal', padding='same')(u7)\n",
        "    n7 = KL.BatchNormalization(axis=3)(c7)\n",
        "    a7 = KL.Activation(\"elu\")(n7)\n",
        "    c7 = KL.Dropout(0.4)(a7)\n",
        "    c7 = KL.Conv2D(128, (3, 3), kernel_initializer='he_normal', padding='same')(c7)\n",
        "    n7 = KL.BatchNormalization(axis=3)(c7)\n",
        "    a7 = KL.Activation(\"elu\")(n7)\n",
        "\n",
        "    u8 = KL.Conv2DTranspose(64, (2, 2), strides=(2, 2), padding='same')(a7)\n",
        "    u8 = KL.concatenate([u8, a2])\n",
        "    c8 = KL.Conv2D(64, (3, 3), kernel_initializer='he_normal', padding='same')(u8)\n",
        "    n8 = KL.BatchNormalization(axis=3)(c8)\n",
        "    a8 = KL.Activation(\"elu\")(n8)\n",
        "    c8 = KL.Dropout(0.2)(a8)\n",
        "    c8 = KL.Conv2D(64, (3, 3), kernel_initializer='he_normal', padding='same')(c8)\n",
        "    n8 = KL.BatchNormalization(axis=3)(c8)\n",
        "    a8 = KL.Activation(\"elu\")(n8)\n",
        "\n",
        "    u9 = KL.Conv2DTranspose(32, (2, 2), strides=(2, 2), padding='same')(a8)\n",
        "    u9 = KL.concatenate([u9, a1], axis=3)\n",
        "    c9 = KL.Conv2D(32, (3, 3), kernel_initializer='he_normal', padding='same')(u9)\n",
        "    n9 = KL.BatchNormalization(axis=3)(c9)\n",
        "    a9 = KL.Activation(\"elu\")(n9)\n",
        "    c9 = KL.Dropout(0.2)(a9)\n",
        "    c9 = KL.Conv2D(32, (3, 3), kernel_initializer='he_normal', padding='same')(c9)\n",
        "    n9 = KL.BatchNormalization(axis=3)(c9)\n",
        "    a9 = KL.Activation(\"elu\")(n9)\n",
        "\n",
        "    outputs = KL.Conv2D(1, (1, 1), activation='sigmoid')(a9)\n",
        "    \n",
        "    model = KM.Model(inputs=[inputs,weights_tensor], outputs=[outputs])\n",
        "    \n",
        "    weighted_crossentropy = wrapped_partial(weighted_loss, weights=weights_tensor)\n",
        "    \n",
        "    model.compile(optimizer=Adam(lr=0.001,clipvalue=5), loss=weighted_crossentropy)\n",
        "\n",
        "    return model"
      ],
      "execution_count": 5,
      "outputs": [
        {
          "output_type": "stream",
          "text": [
            "Using TensorFlow backend.\n"
          ],
          "name": "stderr"
        }
      ]
    },
    {
      "metadata": {
        "id": "NWW13t-KNB-A",
        "colab_type": "code",
        "colab": {
          "base_uri": "https://localhost:8080/",
          "height": 34
        },
        "outputId": "0b0677a6-e466-4bd4-835b-62ee8ed6cd0c"
      },
      "cell_type": "code",
      "source": [
        "import cv2\n",
        "import glob\n",
        "import skimage.io\n",
        "import numpy as np\n",
        "from tqdm import tqdm\n",
        "\n",
        "#Find paths and load images and labels(=compressed masks)\n",
        "img_paths = sorted(glob.glob(os.path.join(dataset_path,\"*.png\")))\n",
        "msk_paths = sorted(glob.glob(os.path.join(dataset_path,\"*.npy\")))\n",
        "\n",
        "img_list = []\n",
        "lab_list = []\n",
        "for i,image_path in tqdm(enumerate(img_paths), total=len(img_paths)):\n",
        "    img_list.append(cv2.imread(img_paths[i]))\n",
        "    lab_list.append(np.load(msk_paths[i]))"
      ],
      "execution_count": 6,
      "outputs": [
        {
          "output_type": "stream",
          "text": [
            "100%|██████████| 979/979 [03:26<00:00,  4.74it/s]\n"
          ],
          "name": "stderr"
        }
      ]
    },
    {
      "metadata": {
        "id": "_7iJoNa4NOA6",
        "colab_type": "code",
        "colab": {
          "base_uri": "https://localhost:8080/",
          "height": 34
        },
        "outputId": "9a96fa5c-dbef-4ee8-ff6b-440c98c95500"
      },
      "cell_type": "code",
      "source": [
        "from scipy.ndimage.morphology import binary_erosion\n",
        "from scipy.ndimage.morphology import distance_transform_edt\n",
        "from tqdm import tqdm\n",
        "  \n",
        "def masks_to_gt(msk):\n",
        "    h, w, _ = msk.shape\n",
        "    gt = np.zeros((h, w), dtype=np.bool)\n",
        "    for index in range(0, msk.shape[-1]):\n",
        "        gt[msk[:,:,index] > 0] = True\n",
        "    return gt[:,:,np.newaxis]\n",
        "\n",
        "def get_weights(masks_in, w0=10, sigma=5):\n",
        "    \"\"\"masks_in shape: (w,h,n_masks)\"\"\"\n",
        "    \n",
        "    masks = np.transpose(masks_in,axes=(2,0,1))\n",
        "    merged_masks = np.squeeze(masks_to_gt(masks_in))\n",
        "    \n",
        "    distances = np.array([distance_transform_edt(m == 0) for m in masks])\n",
        "    shortest_dist = np.sort(distances, axis=0)\n",
        "    \n",
        "    # distance to the border of the nearest cell\n",
        "    d1 = shortest_dist[0]\n",
        "    # distance to the border of the second nearest cell\n",
        "    d2 = shortest_dist[1] if len(shortest_dist) > 1 else np.zeros(d1.shape)\n",
        "\n",
        "    weights = w0 * np.exp(-(d1 + d2) ** 2 / (2 * sigma ** 2)).astype(np.float32)\n",
        "    weights = 1 + (merged_masks == 0) * weights\n",
        "    return weights[..., np.newaxis]\n",
        "\n",
        "gt_list = []\n",
        "weight_list = []\n",
        "for i,label in tqdm(enumerate(lab_list), total=len(lab_list)):\n",
        "    #Convert to masks\n",
        "    masks = label_to_masks(label)\n",
        "    \n",
        "    #Mask erosion as preprocessing\n",
        "    for j in range(masks.shape[-1]):\n",
        "        masks[:,:,j] = binary_erosion(masks[:,:,j].astype(np.uint8), border_value=1, iterations=1)\n",
        "    masks = masks.astype(np.bool)\n",
        "    \n",
        "    #Get ground truths\n",
        "    gt_list.append(masks_to_gt(masks))\n",
        "    \n",
        "    #Compute weights\n",
        "    weight_list.append(get_weights(masks))"
      ],
      "execution_count": 7,
      "outputs": [
        {
          "output_type": "stream",
          "text": [
            "100%|██████████| 979/979 [30:25<00:00,  1.86s/it]\n"
          ],
          "name": "stderr"
        }
      ]
    },
    {
      "metadata": {
        "id": "ZlcVEhk-N1zY",
        "colab_type": "code",
        "colab": {}
      },
      "cell_type": "code",
      "source": [
        "import imgaug\n",
        "import random\n",
        "from random import shuffle\n",
        "from sklearn.model_selection import train_test_split\n",
        "\n",
        "def random_crop(image, mask, weights, crop_size = 256):\n",
        "    h, w = image.shape[:2]\n",
        "    y = random.randint(0, (h - crop_size))\n",
        "    x = random.randint(0, (w - crop_size))\n",
        "    img_crop =   image[y:y + crop_size, x:x + crop_size]\n",
        "    msk_crop =    mask[y:y + crop_size, x:x + crop_size]\n",
        "    wgt_crop = weights[y:y + crop_size, x:x + crop_size]\n",
        "    return img_crop, msk_crop, wgt_crop\n",
        "\n",
        "def data_generator(img_list, msk_list, wgt_list, batch_size=2, crop_size=256, augmentation=None):\n",
        "    \n",
        "    batch_img = np.zeros((batch_size, crop_size, crop_size, 3))\n",
        "    batch_msk = np.zeros((batch_size, crop_size, crop_size, 1))\n",
        "    batch_wgt = np.zeros((batch_size, crop_size, crop_size, 1))\n",
        "    \n",
        "    image_index = -1\n",
        "    \n",
        "    while True:\n",
        "        for i in range(batch_size):\n",
        "            image_index = (image_index + 1) % len(img_list)\n",
        "            \n",
        "            batch_img[i], batch_msk[i], batch_wgt[i] = random_crop(img_list[image_index],\n",
        "                                                                   msk_list[image_index],\n",
        "                                                                   wgt_list[image_index])\n",
        "        \n",
        "        if augmentation:\n",
        "            aug_det = augmentation.to_deterministic()\n",
        "            batch_img = aug_det.augment_images(batch_img)\n",
        "            batch_msk = aug_det.augment_images(batch_msk)\n",
        "            batch_wgt = aug_det.augment_images(batch_wgt)\n",
        "\n",
        "        yield [batch_img, batch_wgt], batch_msk\n",
        "\n",
        "def val_data_generator(img_list, msk_list, wgt_list, batch_size=1, augmentation=None):\n",
        "    \n",
        "    image_index = -1\n",
        "  \n",
        "    while True:\n",
        "        image_index = (image_index + 1) % len(img_list)\n",
        "        \n",
        "        image,   _ = pad2n(img_list[image_index])\n",
        "        mask,    _ = pad2n(msk_list[image_index])\n",
        "        weight,  _ = pad2n(wgt_list[image_index])\n",
        "\n",
        "        yield [image[np.newaxis], weight[np.newaxis]], mask[np.newaxis]\n",
        "\n",
        "def shuffle_list(*ls):\n",
        "    l =list(zip(*ls))\n",
        "\n",
        "    shuffle(l)\n",
        "    return zip(*l)\n",
        "\n",
        "#Not used because stage2 images are too big to fit in GPU\n",
        "def predict_generator(test_list, batch_size=8):\n",
        "\n",
        "    image_index = -1\n",
        "    \n",
        "    while True:\n",
        "        image_index = (image_index + 1) % len(test_list)\n",
        "        \n",
        "        batch_img = np.zeros((batch_size,) + test_list[image_index].shape)\n",
        "        \n",
        "        batch_img[0] = test_list[image_index]\n",
        "        batch_img[1] = np.rot90(test_list[image_index], k=1)\n",
        "        batch_img[2] = np.rot90(test_list[image_index], k=2)\n",
        "        batch_img[3] = np.rot90(test_list[image_index], k=3)\n",
        "        batch_img[4] = np.fliplr(test_list[image_index])\n",
        "        batch_img[5] = np.flipud(test_list[image_index])\n",
        "        batch_img[6] = np.rot90(np.fliplr(test_list[image_index]), k=1)\n",
        "        batch_img[7] = np.rot90(np.flipud(test_list[image_index]), k=1)\n",
        "        \n",
        "        yield batch_img\n",
        " "
      ],
      "execution_count": 0,
      "outputs": []
    },
    {
      "metadata": {
        "id": "EoIjwzAVRNBS",
        "colab_type": "code",
        "colab": {}
      },
      "cell_type": "code",
      "source": [
        "batch_size = 16\n",
        "crop_size = 256\n",
        "test_split = 0.1\n",
        "test_size = int(len(img_list)*test_split)\n",
        "train_size = len(img_list) - test_size\n",
        "\n",
        "augmentation = imgaug.augmenters.SomeOf((0, 2), [\n",
        "        imgaug.augmenters.Fliplr(0.5),\n",
        "        imgaug.augmenters.Flipud(0.5),\n",
        "        imgaug.augmenters.OneOf([imgaug.augmenters.Affine(rotate=90),\n",
        "                                 imgaug.augmenters.Affine(rotate=180),\n",
        "                                 imgaug.augmenters.Affine(rotate=270)])\n",
        "        #imgaug.augmenters.Multiply((0.8, 1.5)),\n",
        "        #imgaug.augmenters.GaussianBlur(sigma=(0.0, 5.0))\n",
        "])\n",
        "\n",
        "\n",
        "#img_train, img_val, gt_train, gt_val = train_test_split(img_list, gt_list, test_size=0.1, random_state=7, shuffle=True)\n",
        "img_list, gt_list, weight_list = shuffle_list(img_list,gt_list,weight_list)\n",
        "\n",
        "weight_train = weight_list[:train_size]\n",
        "img_train    = img_list[:train_size]\n",
        "gt_train     = gt_list[:train_size]\n",
        "\n",
        "weight_val = weight_list[-test_size:]\n",
        "img_val    = img_list[-test_size:]\n",
        "gt_val     = gt_list[-test_size:]\n",
        "\n",
        "\n",
        "\n",
        "train_generator = data_generator(img_train,   gt_train, weight_train ,batch_size=batch_size, crop_size=crop_size, augmentation=augmentation)\n",
        "val_generator   = val_data_generator(img_val, gt_val, weight_val, batch_size=1)"
      ],
      "execution_count": 0,
      "outputs": []
    },
    {
      "metadata": {
        "id": "UvW3uuhHUqC4",
        "colab_type": "code",
        "colab": {
          "base_uri": "https://localhost:8080/",
          "height": 3454
        },
        "outputId": "7f02f7d8-76e7-47cd-d469-3db2bbb59150"
      },
      "cell_type": "code",
      "source": [
        "import datetime\n",
        "from keras.optimizers import Adam, SGD\n",
        "\n",
        "now = datetime.datetime.now()\n",
        "LOG_DIR = os.path.join(MODEL_DIR, \"{}{:%Y%m%dT%H%M}\".format(NAME.lower(), now))\n",
        "checkpoint_path = os.path.join(LOG_DIR, \"U_net_{epoch:04d}.h5\")\n",
        "\n",
        "#Model\n",
        "model = Unet(crop_size)\n",
        "#model.summary()\n",
        "\n",
        "#model.compile(optimizer=Adam(lr=0.001), loss=bce_dice_loss, metrics=[mean_iou,KLO.binary_crossentropy])\n",
        "#model.compile(optimizer=Adam(lr=0.001,clipvalue=5), loss=KLO.binary_crossentropy, metrics=[mean_iou,bce_dice_loss])\n",
        "\n",
        "# Callbacks\n",
        "callbacks = [keras.callbacks.TensorBoard(log_dir=LOG_DIR, histogram_freq=0, write_graph=True, write_images=False),\n",
        "             keras.callbacks.ModelCheckpoint(checkpoint_path, verbose=0, save_weights_only=True)\n",
        "]\n",
        "\n",
        "model.fit_generator(train_generator, steps_per_epoch=len(img_train)/batch_size, epochs=100,\n",
        "                    validation_data=val_generator, validation_steps=len(img_val), initial_epoch=0, callbacks=callbacks)"
      ],
      "execution_count": 10,
      "outputs": [
        {
          "output_type": "stream",
          "text": [
            "Epoch 1/100\n",
            "56/55 [==============================] - 72s 1s/step - loss: 0.4204 - val_loss: 2.5135\n",
            "Epoch 2/100\n",
            "56/55 [==============================] - 62s 1s/step - loss: 0.2598 - val_loss: 2.8843\n",
            "Epoch 3/100\n",
            "56/55 [==============================] - 62s 1s/step - loss: 0.1852 - val_loss: 0.5968\n",
            "Epoch 4/100\n",
            "56/55 [==============================] - 62s 1s/step - loss: 0.1546 - val_loss: 0.2166\n",
            "Epoch 5/100\n",
            "56/55 [==============================] - 62s 1s/step - loss: 0.1441 - val_loss: 1.1053\n",
            "Epoch 6/100\n",
            "37/55 [===================>..........] - ETA: 16s - loss: 0.1384"
          ],
          "name": "stdout"
        },
        {
          "output_type": "stream",
          "text": [
            "56/55 [==============================] - 62s 1s/step - loss: 0.1474 - val_loss: 0.4636\n",
            "Epoch 7/100\n",
            "56/55 [==============================] - 62s 1s/step - loss: 0.1539 - val_loss: 0.4133\n",
            "Epoch 8/100\n",
            "56/55 [==============================] - 62s 1s/step - loss: 0.1312 - val_loss: 0.1930\n",
            "Epoch 9/100\n",
            "56/55 [==============================] - 62s 1s/step - loss: 0.1198 - val_loss: 0.1793\n",
            "Epoch 10/100\n",
            "56/55 [==============================] - 62s 1s/step - loss: 0.1163 - val_loss: 0.1692\n",
            "Epoch 11/100\n",
            "48/55 [=========================>....] - ETA: 6s - loss: 0.1157"
          ],
          "name": "stdout"
        },
        {
          "output_type": "stream",
          "text": [
            "56/55 [==============================] - 62s 1s/step - loss: 0.1140 - val_loss: 0.3020\n",
            "Epoch 12/100\n",
            "56/55 [==============================] - 62s 1s/step - loss: 0.1117 - val_loss: 0.1350\n",
            "Epoch 13/100\n",
            "56/55 [==============================] - 62s 1s/step - loss: 0.1116 - val_loss: 0.2026\n",
            "Epoch 14/100\n",
            "56/55 [==============================] - 62s 1s/step - loss: 0.1048 - val_loss: 0.2147\n",
            "Epoch 15/100\n",
            "56/55 [==============================] - 62s 1s/step - loss: 0.1053 - val_loss: 0.1033\n",
            "Epoch 16/100\n",
            "48/55 [=========================>....] - ETA: 6s - loss: 0.0990"
          ],
          "name": "stdout"
        },
        {
          "output_type": "stream",
          "text": [
            "56/55 [==============================] - 62s 1s/step - loss: 0.0998 - val_loss: 0.1148\n",
            "Epoch 17/100\n",
            "56/55 [==============================] - 62s 1s/step - loss: 0.0984 - val_loss: 0.0951\n",
            "Epoch 18/100\n",
            "56/55 [==============================] - 62s 1s/step - loss: 0.0998 - val_loss: 0.0948\n",
            "Epoch 19/100\n",
            "56/55 [==============================] - 62s 1s/step - loss: 0.0951 - val_loss: 0.0901\n",
            "Epoch 20/100\n",
            "56/55 [==============================] - 62s 1s/step - loss: 0.0960 - val_loss: 0.0881\n",
            "Epoch 21/100\n",
            "48/55 [=========================>....] - ETA: 6s - loss: 0.0903"
          ],
          "name": "stdout"
        },
        {
          "output_type": "stream",
          "text": [
            "56/55 [==============================] - 62s 1s/step - loss: 0.0904 - val_loss: 0.1243\n",
            "Epoch 22/100\n",
            "56/55 [==============================] - 62s 1s/step - loss: 0.0886 - val_loss: 0.1177\n",
            "Epoch 23/100\n",
            "56/55 [==============================] - 62s 1s/step - loss: 0.0884 - val_loss: 0.0850\n",
            "Epoch 24/100\n",
            "56/55 [==============================] - 62s 1s/step - loss: 0.0887 - val_loss: 0.0893\n",
            "Epoch 25/100\n",
            "56/55 [==============================] - 62s 1s/step - loss: 0.0887 - val_loss: 0.0909\n",
            "Epoch 26/100\n",
            "48/55 [=========================>....] - ETA: 6s - loss: 0.0912"
          ],
          "name": "stdout"
        },
        {
          "output_type": "stream",
          "text": [
            "56/55 [==============================] - 62s 1s/step - loss: 0.0922 - val_loss: 0.0890\n",
            "Epoch 27/100\n",
            "56/55 [==============================] - 62s 1s/step - loss: 0.0914 - val_loss: 0.0712\n",
            "Epoch 28/100\n",
            "56/55 [==============================] - 62s 1s/step - loss: 0.0823 - val_loss: 0.0751\n",
            "Epoch 29/100\n",
            "56/55 [==============================] - 62s 1s/step - loss: 0.0825 - val_loss: 0.0794\n",
            "Epoch 30/100\n",
            "56/55 [==============================] - 62s 1s/step - loss: 0.0831 - val_loss: 0.0836\n",
            "Epoch 31/100\n",
            "48/55 [=========================>....] - ETA: 6s - loss: 0.0826"
          ],
          "name": "stdout"
        },
        {
          "output_type": "stream",
          "text": [
            "56/55 [==============================] - 62s 1s/step - loss: 0.0829 - val_loss: 0.0688\n",
            "Epoch 32/100\n",
            "56/55 [==============================] - 63s 1s/step - loss: 0.0806 - val_loss: 0.0686\n",
            "Epoch 33/100\n",
            "56/55 [==============================] - 62s 1s/step - loss: 0.0814 - val_loss: 0.0703\n",
            "Epoch 34/100\n",
            "56/55 [==============================] - 62s 1s/step - loss: 0.0800 - val_loss: 0.0675\n",
            "Epoch 35/100\n",
            "56/55 [==============================] - 62s 1s/step - loss: 0.0816 - val_loss: 0.0870\n",
            "Epoch 36/100\n",
            "48/55 [=========================>....] - ETA: 6s - loss: 0.0827"
          ],
          "name": "stdout"
        },
        {
          "output_type": "stream",
          "text": [
            "56/55 [==============================] - 62s 1s/step - loss: 0.0815 - val_loss: 0.0710\n",
            "Epoch 37/100\n",
            "56/55 [==============================] - 62s 1s/step - loss: 0.0761 - val_loss: 0.0661\n",
            "Epoch 38/100\n",
            "56/55 [==============================] - 62s 1s/step - loss: 0.0804 - val_loss: 0.0688\n",
            "Epoch 39/100\n",
            "56/55 [==============================] - 62s 1s/step - loss: 0.0759 - val_loss: 0.0647\n",
            "Epoch 40/100\n",
            "56/55 [==============================] - 62s 1s/step - loss: 0.0759 - val_loss: 0.0624\n",
            "Epoch 41/100\n",
            "48/55 [=========================>....] - ETA: 6s - loss: 0.0768"
          ],
          "name": "stdout"
        },
        {
          "output_type": "stream",
          "text": [
            "56/55 [==============================] - 62s 1s/step - loss: 0.0771 - val_loss: 0.0658\n",
            "Epoch 42/100\n",
            "56/55 [==============================] - 62s 1s/step - loss: 0.0778 - val_loss: 0.0681\n",
            "Epoch 43/100\n",
            "56/55 [==============================] - 62s 1s/step - loss: 0.0732 - val_loss: 0.0654\n",
            "Epoch 44/100\n",
            "56/55 [==============================] - 62s 1s/step - loss: 0.0743 - val_loss: 0.0660\n",
            "Epoch 45/100\n",
            "56/55 [==============================] - 62s 1s/step - loss: 0.0736 - val_loss: 0.0631\n",
            "Epoch 46/100\n",
            "48/55 [=========================>....] - ETA: 6s - loss: 0.0734"
          ],
          "name": "stdout"
        },
        {
          "output_type": "stream",
          "text": [
            "56/55 [==============================] - 62s 1s/step - loss: 0.0726 - val_loss: 0.0654\n",
            "Epoch 47/100\n",
            "56/55 [==============================] - 62s 1s/step - loss: 0.0763 - val_loss: 0.0621\n",
            "Epoch 48/100\n",
            "56/55 [==============================] - 62s 1s/step - loss: 0.0721 - val_loss: 0.0675\n",
            "Epoch 49/100\n",
            "56/55 [==============================] - 62s 1s/step - loss: 0.0730 - val_loss: 0.0714\n",
            "Epoch 50/100\n",
            "56/55 [==============================] - 62s 1s/step - loss: 0.0737 - val_loss: 0.0722\n",
            "Epoch 51/100\n",
            "48/55 [=========================>....] - ETA: 6s - loss: 0.0722"
          ],
          "name": "stdout"
        },
        {
          "output_type": "stream",
          "text": [
            "56/55 [==============================] - 62s 1s/step - loss: 0.0703 - val_loss: 0.0630\n",
            "Epoch 52/100\n",
            "56/55 [==============================] - 62s 1s/step - loss: 0.0701 - val_loss: 0.0604\n",
            "Epoch 53/100\n",
            "56/55 [==============================] - 62s 1s/step - loss: 0.0699 - val_loss: 0.0658\n",
            "Epoch 54/100\n",
            "56/55 [==============================] - 62s 1s/step - loss: 0.0714 - val_loss: 0.0772\n",
            "Epoch 55/100\n",
            "56/55 [==============================] - 62s 1s/step - loss: 0.0705 - val_loss: 0.0605\n",
            "Epoch 56/100\n",
            "48/55 [=========================>....] - ETA: 6s - loss: 0.0726"
          ],
          "name": "stdout"
        },
        {
          "output_type": "stream",
          "text": [
            "56/55 [==============================] - 62s 1s/step - loss: 0.0699 - val_loss: 0.0607\n",
            "Epoch 57/100\n",
            "56/55 [==============================] - 62s 1s/step - loss: 0.0700 - val_loss: 0.0653\n",
            "Epoch 58/100\n",
            "56/55 [==============================] - 62s 1s/step - loss: 0.0750 - val_loss: 0.0669\n",
            "Epoch 59/100\n",
            "56/55 [==============================] - 62s 1s/step - loss: 0.0724 - val_loss: 0.0596\n",
            "Epoch 60/100\n",
            "56/55 [==============================] - 62s 1s/step - loss: 0.0691 - val_loss: 0.0641\n",
            "Epoch 61/100\n",
            "48/55 [=========================>....] - ETA: 6s - loss: 0.0676"
          ],
          "name": "stdout"
        },
        {
          "output_type": "stream",
          "text": [
            "56/55 [==============================] - 62s 1s/step - loss: 0.0681 - val_loss: 0.0604\n",
            "Epoch 62/100\n",
            "56/55 [==============================] - 62s 1s/step - loss: 0.0685 - val_loss: 0.0657\n",
            "Epoch 63/100\n",
            "56/55 [==============================] - 62s 1s/step - loss: 0.0708 - val_loss: 0.0609\n",
            "Epoch 64/100\n",
            "56/55 [==============================] - 62s 1s/step - loss: 0.0676 - val_loss: 0.0590\n",
            "Epoch 65/100\n",
            "56/55 [==============================] - 62s 1s/step - loss: 0.0672 - val_loss: 0.0597\n",
            "Epoch 66/100\n",
            "48/55 [=========================>....] - ETA: 6s - loss: 0.0639"
          ],
          "name": "stdout"
        },
        {
          "output_type": "stream",
          "text": [
            "56/55 [==============================] - 62s 1s/step - loss: 0.0668 - val_loss: 0.0570\n",
            "Epoch 67/100\n",
            "56/55 [==============================] - 62s 1s/step - loss: 0.0649 - val_loss: 0.0577\n",
            "Epoch 68/100\n",
            "56/55 [==============================] - 62s 1s/step - loss: 0.0680 - val_loss: 0.0579\n",
            "Epoch 69/100\n",
            "56/55 [==============================] - 62s 1s/step - loss: 0.0672 - val_loss: 0.0928\n",
            "Epoch 70/100\n",
            "56/55 [==============================] - 62s 1s/step - loss: 0.0692 - val_loss: 0.0609\n",
            "Epoch 71/100\n",
            "48/55 [=========================>....] - ETA: 6s - loss: 0.0684"
          ],
          "name": "stdout"
        },
        {
          "output_type": "stream",
          "text": [
            "56/55 [==============================] - 62s 1s/step - loss: 0.0694 - val_loss: 0.0815\n",
            "Epoch 72/100\n",
            "56/55 [==============================] - 62s 1s/step - loss: 0.0703 - val_loss: 0.0657\n",
            "Epoch 73/100\n",
            "56/55 [==============================] - 62s 1s/step - loss: 0.0666 - val_loss: 0.0673\n",
            "Epoch 74/100\n",
            "56/55 [==============================] - 62s 1s/step - loss: 0.0688 - val_loss: 0.0627\n",
            "Epoch 75/100\n",
            "56/55 [==============================] - 62s 1s/step - loss: 0.0677 - val_loss: 0.0577\n",
            "Epoch 76/100\n",
            "48/55 [=========================>....] - ETA: 6s - loss: 0.0658"
          ],
          "name": "stdout"
        },
        {
          "output_type": "stream",
          "text": [
            "56/55 [==============================] - 62s 1s/step - loss: 0.0654 - val_loss: 0.0595\n",
            "Epoch 77/100\n",
            "56/55 [==============================] - 62s 1s/step - loss: 0.0663 - val_loss: 0.0831\n",
            "Epoch 78/100\n",
            "56/55 [==============================] - 62s 1s/step - loss: 0.0658 - val_loss: 0.0562\n",
            "Epoch 79/100\n",
            "56/55 [==============================] - 62s 1s/step - loss: 0.0640 - val_loss: 0.0568\n",
            "Epoch 80/100\n",
            "56/55 [==============================] - 62s 1s/step - loss: 0.0667 - val_loss: 0.0563\n",
            "Epoch 81/100\n",
            "48/55 [=========================>....] - ETA: 6s - loss: 0.0634"
          ],
          "name": "stdout"
        },
        {
          "output_type": "stream",
          "text": [
            "56/55 [==============================] - 62s 1s/step - loss: 0.0649 - val_loss: 0.0566\n",
            "Epoch 82/100\n",
            "56/55 [==============================] - 62s 1s/step - loss: 0.0629 - val_loss: 0.0623\n",
            "Epoch 83/100\n",
            "56/55 [==============================] - 62s 1s/step - loss: 0.0641 - val_loss: 0.0615\n",
            "Epoch 84/100\n",
            "56/55 [==============================] - 62s 1s/step - loss: 0.0645 - val_loss: 0.0576\n",
            "Epoch 85/100\n",
            "56/55 [==============================] - 62s 1s/step - loss: 0.0641 - val_loss: 0.0594\n",
            "Epoch 86/100\n",
            "48/55 [=========================>....] - ETA: 6s - loss: 0.0629"
          ],
          "name": "stdout"
        },
        {
          "output_type": "stream",
          "text": [
            "56/55 [==============================] - 62s 1s/step - loss: 0.0633 - val_loss: 0.0580\n",
            "Epoch 87/100\n",
            "56/55 [==============================] - 62s 1s/step - loss: 0.0635 - val_loss: 0.0604\n",
            "Epoch 88/100\n",
            "56/55 [==============================] - 61s 1s/step - loss: 0.0636 - val_loss: 0.0602\n",
            "Epoch 89/100\n",
            "56/55 [==============================] - 62s 1s/step - loss: 0.0636 - val_loss: 0.0598\n",
            "Epoch 90/100\n",
            "56/55 [==============================] - 62s 1s/step - loss: 0.0623 - val_loss: 0.0594\n",
            "Epoch 91/100\n",
            "48/55 [=========================>....] - ETA: 6s - loss: 0.0639"
          ],
          "name": "stdout"
        },
        {
          "output_type": "stream",
          "text": [
            "56/55 [==============================] - 62s 1s/step - loss: 0.0641 - val_loss: 0.0586\n",
            "Epoch 92/100\n",
            "56/55 [==============================] - 62s 1s/step - loss: 0.0631 - val_loss: 0.0569\n",
            "Epoch 93/100\n",
            "56/55 [==============================] - 62s 1s/step - loss: 0.0626 - val_loss: 0.0573\n",
            "Epoch 94/100\n",
            "56/55 [==============================] - 62s 1s/step - loss: 0.0654 - val_loss: 0.0634\n",
            "Epoch 95/100\n",
            "56/55 [==============================] - 62s 1s/step - loss: 0.0634 - val_loss: 0.0573\n",
            "Epoch 96/100\n",
            "48/55 [=========================>....] - ETA: 6s - loss: 0.0631"
          ],
          "name": "stdout"
        },
        {
          "output_type": "stream",
          "text": [
            "56/55 [==============================] - 62s 1s/step - loss: 0.0627 - val_loss: 0.0610\n",
            "Epoch 97/100\n",
            "56/55 [==============================] - 62s 1s/step - loss: 0.0649 - val_loss: 0.0550\n",
            "Epoch 98/100\n",
            "56/55 [==============================] - 62s 1s/step - loss: 0.0632 - val_loss: 0.0540\n",
            "Epoch 99/100\n",
            "56/55 [==============================] - 62s 1s/step - loss: 0.0624 - val_loss: 0.0537\n",
            "Epoch 100/100\n",
            "56/55 [==============================] - 62s 1s/step - loss: 0.0623 - val_loss: 0.0533\n"
          ],
          "name": "stdout"
        },
        {
          "output_type": "execute_result",
          "data": {
            "text/plain": [
              "<keras.callbacks.History at 0x7f5c27cfe9e8>"
            ]
          },
          "metadata": {
            "tags": []
          },
          "execution_count": 10
        }
      ]
    },
    {
      "metadata": {
        "id": "EdiA8p5PTbB6",
        "colab_type": "code",
        "colab": {
          "base_uri": "https://localhost:8080/",
          "height": 749
        },
        "outputId": "078a0476-c37b-42f0-e865-c1924712b85b"
      },
      "cell_type": "code",
      "source": [
        "model.fit_generator(train_generator, steps_per_epoch=len(img_train)/batch_size, epochs=50,\n",
        "                    validation_data=val_generator, validation_steps=len(img_val)/batch_size, initial_epoch=30, callbacks=callbacks)"
      ],
      "execution_count": 13,
      "outputs": [
        {
          "output_type": "stream",
          "text": [
            "Epoch 31/50\n",
            "46/45 [==============================] - 42s 916ms/step - loss: 0.0493 - val_loss: 0.0115\n",
            "Epoch 32/50\n",
            "46/45 [==============================] - 42s 915ms/step - loss: 0.0491 - val_loss: 0.0558\n",
            "Epoch 33/50\n",
            "46/45 [==============================] - 42s 914ms/step - loss: 0.0472 - val_loss: 0.0422\n",
            "Epoch 34/50\n",
            "46/45 [==============================] - 42s 912ms/step - loss: 0.0477 - val_loss: 0.0311\n",
            "Epoch 35/50\n",
            "46/45 [==============================] - 42s 915ms/step - loss: 0.0467 - val_loss: 0.0487\n",
            "Epoch 36/50\n",
            "46/45 [==============================] - 42s 916ms/step - loss: 0.0493 - val_loss: 0.0442\n",
            "Epoch 37/50\n",
            " 9/45 [====>.........................] - ETA: 33s - loss: 0.0411"
          ],
          "name": "stdout"
        },
        {
          "output_type": "stream",
          "text": [
            "46/45 [==============================] - 42s 916ms/step - loss: 0.0461 - val_loss: 0.0419\n",
            "Epoch 38/50\n",
            "46/45 [==============================] - 42s 910ms/step - loss: 0.0472 - val_loss: 0.0385\n",
            "Epoch 39/50\n",
            "46/45 [==============================] - 42s 912ms/step - loss: 0.0459 - val_loss: 0.0175\n",
            "Epoch 40/50\n",
            "46/45 [==============================] - 42s 910ms/step - loss: 0.0480 - val_loss: 0.0363\n",
            "Epoch 41/50\n",
            "46/45 [==============================] - 42s 911ms/step - loss: 0.0476 - val_loss: 0.0346\n",
            "Epoch 42/50\n",
            "46/45 [==============================] - 42s 904ms/step - loss: 0.0485 - val_loss: 0.0228\n",
            "Epoch 43/50\n",
            "15/45 [========>.....................] - ETA: 27s - loss: 0.0422"
          ],
          "name": "stdout"
        },
        {
          "output_type": "stream",
          "text": [
            "46/45 [==============================] - 42s 914ms/step - loss: 0.0468 - val_loss: 0.0349\n",
            "Epoch 44/50\n",
            "46/45 [==============================] - 42s 915ms/step - loss: 0.0442 - val_loss: 0.0672\n",
            "Epoch 45/50\n",
            "46/45 [==============================] - 42s 909ms/step - loss: 0.0467 - val_loss: 0.0417\n",
            "Epoch 46/50\n",
            "46/45 [==============================] - 42s 914ms/step - loss: 0.0485 - val_loss: 0.0438\n",
            "Epoch 47/50\n",
            "46/45 [==============================] - 42s 909ms/step - loss: 0.0841 - val_loss: 1.2091\n",
            "Epoch 48/50\n",
            "46/45 [==============================] - 42s 916ms/step - loss: 0.0679 - val_loss: 0.1589\n",
            "Epoch 49/50\n",
            "15/45 [========>.....................] - ETA: 27s - loss: 0.0582"
          ],
          "name": "stdout"
        },
        {
          "output_type": "stream",
          "text": [
            "46/45 [==============================] - 42s 915ms/step - loss: 0.0531 - val_loss: 0.0418\n",
            "Epoch 50/50\n",
            "46/45 [==============================] - 42s 913ms/step - loss: 0.0496 - val_loss: 0.0315\n"
          ],
          "name": "stdout"
        },
        {
          "output_type": "execute_result",
          "data": {
            "text/plain": [
              "<keras.callbacks.History at 0x7f468f0e0518>"
            ]
          },
          "metadata": {
            "tags": []
          },
          "execution_count": 13
        }
      ]
    },
    {
      "metadata": {
        "id": "FLI-YIU1Dv1e",
        "colab_type": "code",
        "colab": {
          "base_uri": "https://localhost:8080/",
          "height": 71
        },
        "outputId": "6a4607b0-dc83-44f2-87d8-5dce404adef8"
      },
      "cell_type": "code",
      "source": [
        "import cv2\n",
        "import pandas as pd\n",
        "import numpy as np\n",
        "from tqdm import tqdm\n",
        "  \n",
        "def rleToMask(rleString,height,width):\n",
        "    rows,cols = height,width\n",
        "    rleNumbers = [int(numstring) for numstring in rleString.split(' ')]\n",
        "    rlePairs = np.array(rleNumbers).reshape(-1,2)\n",
        "    img = np.zeros(rows*cols,dtype=np.uint8)\n",
        "    for index,length in rlePairs:\n",
        "        index -= 1\n",
        "        img[index:index+length] = 255\n",
        "    img = img.reshape(cols,rows)\n",
        "    img = img.T\n",
        "    return img\n",
        "\n",
        "TEST_DIR = \"../DSB2018/stage1_test/\"\n",
        "\n",
        "test_ids = next(os.walk(TEST_DIR))[1]\n",
        "\n",
        "print(test_ids[:3])\n",
        "\n",
        "images_path = TEST_DIR + \"{}/images/{}.png\"\n",
        "\n",
        "test_df = pd.read_csv('stage1_solution.csv')\n",
        "\n",
        "test_list = []\n",
        "test_gt = []\n",
        "for i,id_ in tqdm(enumerate(test_ids), total=len(test_ids)):\n",
        "    \n",
        "    image_path = images_path.format(id_,id_)\n",
        "    image = cv2.imread(image_path)\n",
        "    \n",
        "    df_id = test_df.loc[test_df['ImageId'] == id_]#['EncodedPixels']\n",
        "    \n",
        "    masks = np.zeros(image.shape[:2]+(len(df_id),), dtype=np.uint8)\n",
        "    for j in range(len(df_id)):\n",
        "        rle = df_id.iloc[j]\n",
        "        masks[:,:,j] = rleToMask(rle['EncodedPixels'], rle['Height'], rle['Width'])\n",
        "    masks = masks.astype(np.bool)\n",
        "    \n",
        "    test_list.append(image)\n",
        "    test_gt.append(masks)\n",
        "\n",
        "    \n",
        "#for i,test_image in tqdm(enumerate(test_list), total=len(test_list)):\n",
        "#    if not (test_image[:,:,0]==test_image[:,:,1]).all(): #not gray img\n",
        "#            temp = 255 - (cv2.cvtColor(test_image, cv2.COLOR_BGR2GRAY)) #convert to gray 1 channel + invert\n",
        "#            test_list[i] = cv2.cvtColor(temp,cv2.COLOR_GRAY2BGR) #grayscale 3 channels"
      ],
      "execution_count": 11,
      "outputs": [
        {
          "output_type": "stream",
          "text": [
            "['1ef68e93964c2d9230100c1347c328f6385a7bc027879dc3d4c055e6fe80cb3c', '912a679e4b9b1d1a75170254fd675b8c24b664d80ad7ea7e460241a23535a406', 'df40099c6306ca1f47fcc8a62e2fa39486d4e223177afdc51b2ad189691802d8']\n"
          ],
          "name": "stdout"
        },
        {
          "output_type": "stream",
          "text": [
            "100%|██████████| 65/65 [01:42<00:00,  1.58s/it]\n"
          ],
          "name": "stderr"
        }
      ]
    },
    {
      "metadata": {
        "id": "GI45lUcaEQJ2",
        "colab_type": "code",
        "colab": {
          "base_uri": "https://localhost:8080/",
          "height": 208
        },
        "outputId": "88d48af5-650d-411e-f2d4-6f39f0003e7f"
      },
      "cell_type": "code",
      "source": [
        "shapes = [img.shape for img in test_list]\n",
        "a,b=np.unique(shapes, axis=0, return_counts=True)\n",
        "list(zip(a,b))"
      ],
      "execution_count": 0,
      "outputs": [
        {
          "output_type": "execute_result",
          "data": {
            "text/plain": [
              "[(array([256, 256,   3]), 24),\n",
              " (array([260, 347,   3]), 4),\n",
              " (array([390, 239,   3]), 1),\n",
              " (array([512, 640,   3]), 8),\n",
              " (array([512, 680,   3]), 8),\n",
              " (array([519, 161,   3]), 2),\n",
              " (array([519, 162,   3]), 2),\n",
              " (array([519, 253,   3]), 4),\n",
              " (array([520, 348,   3]), 4),\n",
              " (array([520, 696,   3]), 4),\n",
              " (array([524, 348,   3]), 4)]"
            ]
          },
          "metadata": {
            "tags": []
          },
          "execution_count": 7
        }
      ]
    },
    {
      "metadata": {
        "id": "dg_lDXKNET-m",
        "colab_type": "code",
        "colab": {}
      },
      "cell_type": "code",
      "source": [
        "from skimage.morphology import label\n",
        "from scipy.ndimage.morphology import binary_dilation\n",
        "\n",
        "def tta_predict(image, model, cutoff):\n",
        "    \n",
        "    tta_n=8\n",
        "    voting_threshold = 5\n",
        "    \n",
        "    batch_tta = []\n",
        " \n",
        "    #Do augmentations\n",
        "    batch_tta.append(image)\n",
        "    batch_tta.append(np.rot90(image, k=1))\n",
        "    batch_tta.append(np.rot90(image, k=2))\n",
        "    batch_tta.append(np.rot90(image, k=3))\n",
        "    batch_tta.append(np.fliplr(image))\n",
        "    batch_tta.append(np.flipud(image))\n",
        "    batch_tta.append(np.rot90(np.fliplr(image), k=1))\n",
        "    batch_tta.append(np.rot90(np.flipud(image), k=1))\n",
        "\n",
        "    #In case image is too big for memory\n",
        "    res_predict = []\n",
        "    for tta_img in batch_tta:\n",
        "        tta_weight = np.ones(tta_img.shape[:2]+(1,),dtype=np.float32)\n",
        "        res_predict.append(np.squeeze(model.predict([tta_img[np.newaxis], tta_weight[np.newaxis]], verbose=0))>cutoff)\n",
        "    #print(res_predict[0].shape, res_predict[0].dtype, res_predict[0].max(), res_predict[0].min())\n",
        "    res_predict = [res_pred.astype(np.bool) for res_pred in res_predict]\n",
        "    res_predict = [res_pred.astype(np.uint8) for res_pred in res_predict]\n",
        "    \n",
        "    #Undo augmentations\n",
        "    res_predict[0] = res_predict[0]\n",
        "    res_predict[1] = np.rot90(res_predict[1], k=-1)\n",
        "    res_predict[2] = np.rot90(res_predict[2], k=-2)\n",
        "    res_predict[3] = np.rot90(res_predict[3], k=-3)\n",
        "    res_predict[4] = np.fliplr(res_predict[4])\n",
        "    res_predict[5] = np.flipud(res_predict[5])\n",
        "    res_predict[6] = np.rot90(np.fliplr(res_predict[6]), k=1)\n",
        "    res_predict[7] = np.rot90(np.flipud(res_predict[7]), k=1)\n",
        "    \n",
        "    res_predict = np.array(res_predict, dtype=np.uint8)\n",
        "    #Voting\n",
        "    tta_sum = np.sum(res_predict,axis=0)\n",
        "    tta_sum = tta_sum>voting_threshold\n",
        "    \n",
        "    return tta_sum\n",
        "\n",
        "def get_predictions(test_list, model, cutoff=0.5, tta=True, pad=16, dilation=True):\n",
        "    \n",
        "    test_predictions = []\n",
        "    for i,image_test in tqdm(enumerate(test_list), total=len(test_list)):\n",
        "        image = image_test\n",
        "        \n",
        "        #Padding64 to avoid max pool errors in unet\n",
        "        if pad:\n",
        "            image, window = pad2n(image, pad)\n",
        "        \n",
        "        if tta:\n",
        "            raw_pred = tta_predict(image, model, cutoff)\n",
        "        else:\n",
        "            weight = np.ones(image.shape[:2]+(1,),dtype=np.float32)\n",
        "            \n",
        "            image  = image[np.newaxis]\n",
        "            weight = weight[np.newaxis]\n",
        "\n",
        "            #Predict\n",
        "            raw_pred = model.predict([image, weight], verbose=0)\n",
        "\n",
        "            #Squeeze before remove padding \n",
        "            raw_pred = np.squeeze(raw_pred)\n",
        "        \n",
        "        raw_pred = raw_pred[window]\n",
        "        \n",
        "        \n",
        "        #Label and thresholding\n",
        "        pred = label(raw_pred > cutoff)\n",
        "        \n",
        "        #Mask conversion\n",
        "        masks = label_to_masks(pred)\n",
        "        \n",
        "        #Mask dilation as post processing\n",
        "        if dilation:\n",
        "            for j in range(masks.shape[-1]):\n",
        "                masks[:,:,j] = binary_dilation(masks[:,:,j].astype(np.uint8), iterations=2)\n",
        "        masks = masks.astype(np.bool)\n",
        "\n",
        "        test_predictions.append(masks)\n",
        "        \n",
        "    return test_predictions\n",
        "\n",
        "def find_last(NAME, model_dir):\n",
        "    \"\"\"Finds the last checkpoint file of the last trained model in the\n",
        "    model directory.\n",
        "    Returns:\n",
        "        log_dir: The directory where events and weights are saved\n",
        "        checkpoint_path: the path to the last checkpoint file\n",
        "    \"\"\"\n",
        "    # Get directory names. Each directory corresponds to a model\n",
        "    dir_names = next(os.walk(model_dir))[1]\n",
        "    key = NAME.lower()\n",
        "    dir_names = filter(lambda f: f.startswith(key), dir_names)\n",
        "    dir_names = sorted(dir_names)\n",
        "    if not dir_names:\n",
        "        return None, None\n",
        "    # Pick last directory\n",
        "    dir_name = os.path.join(model_dir, dir_names[-1])\n",
        "    # Find the last checkpoint\n",
        "    checkpoints = next(os.walk(dir_name))[2]\n",
        "    checkpoints = filter(lambda f: f.startswith(\"U_net\"), checkpoints)\n",
        "    checkpoints = sorted(checkpoints)\n",
        "    if not checkpoints:\n",
        "        return dir_name, None\n",
        "    checkpoint = os.path.join(dir_name, checkpoints[-1])\n",
        "    return dir_name, checkpoint"
      ],
      "execution_count": 0,
      "outputs": []
    },
    {
      "metadata": {
        "id": "UWz-A2LzOblO",
        "colab_type": "code",
        "colab": {
          "base_uri": "https://localhost:8080/",
          "height": 34
        },
        "outputId": "753d4ad5-58c9-429c-9095-992c70f934d4"
      },
      "cell_type": "code",
      "source": [
        "#Model\n",
        "model = Unet(0)\n",
        "\n",
        "Unet_path = find_last(NAME, MODEL_DIR)[1]\n",
        "print(Unet_path)\n",
        "\n",
        "model.load_weights(Unet_path)\n",
        "#model.load_weights('/content/drive/kaggle/Unet_dsb2018/logs/bowl20180425T2203/U_net_0047.h5')\n"
      ],
      "execution_count": 13,
      "outputs": [
        {
          "output_type": "stream",
          "text": [
            "/content/drive/kaggle/Unet_dsb2018/logs/bowl20180428T1254/U_net_0100.h5\n"
          ],
          "name": "stdout"
        }
      ]
    },
    {
      "metadata": {
        "id": "kj9HYNGiEYTA",
        "colab_type": "code",
        "colab": {
          "base_uri": "https://localhost:8080/",
          "height": 34
        },
        "outputId": "1d713b15-ec84-4bd3-cd64-ed7fd6d1ec9e"
      },
      "cell_type": "code",
      "source": [
        "#Evaluation\n",
        "test_predictions = get_predictions(test_list, model,tta=True, pad=64)"
      ],
      "execution_count": 14,
      "outputs": [
        {
          "output_type": "stream",
          "text": [
            "100%|██████████| 65/65 [01:20<00:00,  1.24s/it]\n"
          ],
          "name": "stderr"
        }
      ]
    },
    {
      "metadata": {
        "id": "2iz_1tUsc81e",
        "colab_type": "code",
        "colab": {}
      },
      "cell_type": "code",
      "source": [
        "#Rewriting the mIOU function to account for correct number of ground truth mask\n",
        "def iou_metric(y_true_in, y_pred_in, print_table=False):\n",
        "    labels = masks_to_label(y_true_in)\n",
        "    y_pred = masks_to_label(y_pred_in)\n",
        "    \n",
        "    true_objects = len(np.unique(labels))\n",
        "    pred_objects = len(np.unique(y_pred))\n",
        "\n",
        "    intersection = np.histogram2d(labels.flatten(), y_pred.flatten(), bins=(true_objects, pred_objects))[0]\n",
        "\n",
        "    # Compute areas (needed for finding the union between all objects)\n",
        "    area_true = np.histogram(labels, bins = true_objects)[0]\n",
        "    area_pred = np.histogram(y_pred, bins = pred_objects)[0]\n",
        "    area_true = np.expand_dims(area_true, -1)\n",
        "    area_pred = np.expand_dims(area_pred, 0)\n",
        "\n",
        "    # Compute union\n",
        "    union = area_true + area_pred - intersection\n",
        "\n",
        "    # Exclude background from the analysis\n",
        "    intersection = intersection[1:,1:]\n",
        "    union = union[1:,1:]\n",
        "    union[union == 0] = 1e-9\n",
        "\n",
        "    # Compute the intersection over union\n",
        "    iou = intersection / union\n",
        "\n",
        "    # Precision helper function\n",
        "    def precision_at(threshold, iou):\n",
        "        matches = iou > threshold\n",
        "        true_positives = np.sum(matches, axis=1) == 1   # Correct objects\n",
        "        false_positives = np.sum(matches, axis=0) == 0  # Missed objects\n",
        "        false_negatives = np.sum(matches, axis=1) == 0  # Extra objects\n",
        "        tp, fp, fn = np.sum(true_positives), np.sum(false_positives), np.sum(false_negatives)\n",
        "        return tp, fp, fn\n",
        "\n",
        "    # Loop over IoU thresholds\n",
        "    prec = []\n",
        "    if print_table:\n",
        "        print(\"Thresh\\tTP\\tFP\\tFN\\tPrec.\")\n",
        "    for t in np.arange(0.5, 1.0, 0.05):\n",
        "        tp, fp, fn = precision_at(t, iou)\n",
        "        if (tp + fp + fn) > 0:\n",
        "            p = tp / (tp + fp + fn)\n",
        "        else:\n",
        "            p = 0\n",
        "        if print_table:\n",
        "            print(\"{:1.3f}\\t{}\\t{}\\t{}\\t{:1.3f}\".format(t, tp, fp, fn, p))\n",
        "        prec.append(p)\n",
        "    \n",
        "    if print_table:\n",
        "        print(\"AP\\t-\\t-\\t-\\t{:1.3f}\".format(np.mean(prec)))\n",
        "    return np.mean(prec)\n",
        "\n",
        "def iou_metric_batch(y_true_in, y_pred_in):\n",
        "    batch_size = len(y_true_in)\n",
        "    metric = []\n",
        "    for batch in range(batch_size):\n",
        "        value = iou_metric(y_true_in[batch], y_pred_in[batch])\n",
        "        metric.append(value)\n",
        "#     return np.array(np.mean(metric), dtype=np.float32)\n",
        "    return metric\n"
      ],
      "execution_count": 0,
      "outputs": []
    },
    {
      "metadata": {
        "id": "dAxNHpqmdAfk",
        "colab_type": "code",
        "colab": {
          "base_uri": "https://localhost:8080/",
          "height": 34
        },
        "outputId": "bba29c97-8ffa-4036-ff33-16e3e1b077bd"
      },
      "cell_type": "code",
      "source": [
        "mIOU = np.array(iou_metric_batch(test_gt, test_predictions))\n",
        "print('The mean IOU is {}'.format(np.mean(mIOU)))"
      ],
      "execution_count": 16,
      "outputs": [
        {
          "output_type": "stream",
          "text": [
            "The mean IOU is 0.3390342799840646\n"
          ],
          "name": "stdout"
        }
      ]
    },
    {
      "metadata": {
        "id": "_8LSmqqPhNS6",
        "colab_type": "code",
        "colab": {
          "base_uri": "https://localhost:8080/",
          "height": 283
        },
        "outputId": "55e9255c-8fa5-41d0-a6d5-339c1e6efe9c"
      },
      "cell_type": "code",
      "source": [
        "import matplotlib.pyplot as plt\n",
        "image = test_list[10]\n",
        "\n",
        "res_tta = tta_predict(image, model,0.5)\n",
        "print(res_tta.shape, res_tta.dtype, res_tta.max(), res_tta.min())\n",
        "simage = image[np.newaxis]\n",
        "#Predict\n",
        "raw_pred = model.predict(simage, verbose=0) \n",
        "raw_pred = np.squeeze(raw_pred)\n",
        "\n",
        "fig = plt.figure(figsize=(12,12))\n",
        "plt.subplot(131)\n",
        "plt.imshow(image)\n",
        "plt.subplot(132)\n",
        "plt.imshow(res_tta)\n",
        "plt.subplot(133)\n",
        "plt.imshow(raw_pred)\n",
        "plt.show()"
      ],
      "execution_count": 0,
      "outputs": [
        {
          "output_type": "stream",
          "text": [
            "(256, 256) bool True False\n",
            "(256, 256) bool True False\n"
          ],
          "name": "stdout"
        },
        {
          "output_type": "display_data",
          "data": {
            "image/png": "[encoded data removed]",
            "text/plain": [
              "<matplotlib.figure.Figure at 0x7f9c8eb7d7f0>"
            ]
          },
          "metadata": {
            "tags": []
          }
        }
      ]
    }
  ]
}